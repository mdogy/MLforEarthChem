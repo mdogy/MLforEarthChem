{
  "nbformat": 4,
  "nbformat_minor": 0,
  "metadata": {
    "accelerator": "TPU",
    "colab": {
      "name": "Copy of petbd_final_trial.ipynb",
      "provenance": [],
      "collapsed_sections": [],
      "machine_shape": "hm",
      "include_colab_link": true
    },
    "kernelspec": {
      "display_name": "Python 3",
      "language": "python",
      "name": "python3"
    },
    "language_info": {
      "codemirror_mode": {
        "name": "ipython",
        "version": 3
      },
      "file_extension": ".py",
      "mimetype": "text/x-python",
      "name": "python",
      "nbconvert_exporter": "python",
      "pygments_lexer": "ipython3",
      "version": "3.8.3"
    }
  },
  "cells": [
    {
      "cell_type": "markdown",
      "metadata": {
        "id": "view-in-github",
        "colab_type": "text"
      },
      "source": [
        "<a href=\"https://colab.research.google.com/github/mdogy/MLforEarthChem/blob/master/Copy_of_petbd_final_trial.ipynb\" target=\"_parent\"><img src=\"https://colab.research.google.com/assets/colab-badge.svg\" alt=\"Open In Colab\"/></a>"
      ]
    },
    {
      "cell_type": "code",
      "metadata": {
        "id": "WnhZ25QK5nk8"
      },
      "source": [
        "\n",
        "import numpy as np\n",
        "import pandas as pd\n",
        "import requests as reqs\n",
        "import matplotlib.pyplot as plt\n",
        "%matplotlib inline\n",
        "import json\n",
        "import os\n",
        "import re\n",
        "from pandas.io.json import json_normalize  \n",
        "import ast\n",
        "from google.colab import drive"
      ],
      "execution_count": null,
      "outputs": []
    },
    {
      "cell_type": "code",
      "metadata": {
        "id": "Qgm63LRZJa_u"
      },
      "source": [
        ""
      ],
      "execution_count": null,
      "outputs": []
    },
    {
      "cell_type": "code",
      "metadata": {
        "colab": {
          "base_uri": "https://localhost:8080/"
        },
        "id": "Bx2exy8PEKSG",
        "outputId": "a1ef32fb-ecb4-4a36-dd52-95d6e9300c1a"
      },
      "source": [
        "\n",
        "drive.mount('/content/drive')"
      ],
      "execution_count": null,
      "outputs": [
        {
          "output_type": "stream",
          "text": [
            "Drive already mounted at /content/drive; to attempt to forcibly remount, call drive.mount(\"/content/drive\", force_remount=True).\n"
          ],
          "name": "stdout"
        }
      ]
    },
    {
      "cell_type": "code",
      "metadata": {
        "id": "1tbFDo-M5nk9"
      },
      "source": [
        "petdb_path = r\"/content/drive/MyDrive/PetDB\"\n",
        "#print(os.listdir(petdb_path))\n",
        "\n",
        "#for petdb in os.listdir(petdb_path):\n",
        "    #print(petdb)"
      ],
      "execution_count": null,
      "outputs": []
    },
    {
      "cell_type": "code",
      "metadata": {
        "colab": {
          "base_uri": "https://localhost:8080/"
        },
        "id": "F2vxwJ-I5nk9",
        "outputId": "54e5e172-2c1e-4f18-b637-c552271ff23f"
      },
      "source": [
        "files = []\n",
        "pet_path = r'/content/drive/MyDrive/PetDB'\n",
        "for i in os.listdir(pet_path):\n",
        "    if i.endswith('.json'):\n",
        "        full_path = '%s/%s' % (pet_path, i)\n",
        "        jsonStr = open(full_path, 'r', encoding='utf-8').read()\n",
        "        jsonStr = jsonStr.replace(\"'\",'\"')\n",
        "        jsonStr = jsonStr.replace('None','\"None\"')\n",
        "        try:\n",
        "            jsonData = json.loads(jsonStr)\n",
        "            files.append(jsonData)\n",
        "        except Exception as e:\n",
        "            print(e)\n",
        "            continue"
      ],
      "execution_count": null,
      "outputs": [
        {
          "output_type": "stream",
          "text": [
            "Expecting ',' delimiter: line 1 column 294 (char 293)\n"
          ],
          "name": "stdout"
        }
      ]
    },
    {
      "cell_type": "code",
      "metadata": {
        "colab": {
          "base_uri": "https://localhost:8080/"
        },
        "id": "tFF_g0oc5nk_",
        "outputId": "ec30adb8-9bba-4923-9cc6-a5ff335e182b"
      },
      "source": [
        "\n",
        "df1= pd.DataFrame.from_dict(json_normalize(files[0]['data']), orient='columns')\n",
        "i = 1\n",
        "#while i < len(files):\n",
        "while i < 350:\n",
        "    df2 = pd.DataFrame.from_dict(json_normalize(files[i]['data']), orient='columns')\n",
        "    df1 = df1.append(df2)\n",
        "    i = i + 1\n",
        "pd.set_option(\"display.max_columns\", 29)\n",
        "#df1"
      ],
      "execution_count": null,
      "outputs": [
        {
          "output_type": "stream",
          "text": [
            "/usr/local/lib/python3.6/dist-packages/ipykernel_launcher.py:2: FutureWarning: pandas.io.json.json_normalize is deprecated, use pandas.json_normalize instead\n",
            "  \n",
            "/usr/local/lib/python3.6/dist-packages/ipykernel_launcher.py:6: FutureWarning: pandas.io.json.json_normalize is deprecated, use pandas.json_normalize instead\n",
            "  \n"
          ],
          "name": "stderr"
        }
      ]
    },
    {
      "cell_type": "code",
      "metadata": {
        "id": "E3n2e_Eq5nlA"
      },
      "source": [
        "\n",
        "columns = ['specimen_num','citation_num', 'citation_code','specimen_code','igsn','archive_institution','specimen_material','taxon','taxon_rock_type', 'taxon_rock_class','rock_class_detail','rock_class_details','specimen_names','specimen_name','specimen_comments','specimen_comment','alteration','alterations','rock_textures','rock_texture','geological_ages','geological_ages__prefix','geological_ages__age','geological_ages__min','geological_ages__max','points_latitude','points_longitude','points_text','station_num', 'station_code','lat_label', 'long_label','points','centerLat','centerLong', 'elevation_min','elevation_max','location_precisions','geographic_location','tectonic_settings','expedition_num','expedition_code','sampling_technique_code','sampling_technique_name','analyzed_samples']\n",
        "new_df = pd.DataFrame(data = None, index=None, columns = columns)\n",
        "for index, row in df1.iterrows():\n",
        "    citation_num_list = []\n",
        "    citation_code_list = []\n",
        "    specimen_num = row['specimen_num']\n",
        "    specimen_code = row['specimen_code']\n",
        "    igsn = row['igsn']\n",
        "    archive_institution = row['archive_institution']\n",
        "    specimen_material = row['specimen_material']\n",
        "    taxon = row['taxon'] \n",
        "    rock_class_details = row['rock_class_details']\n",
        "    from math import isnan\n",
        "    check1 = type(rock_class_details)==list and len(rock_class_details)==0\n",
        "    check2 = type(rock_class_details)==float and isnan(rock_class_details)\n",
        "    if check1 or check2:\n",
        "      rock_class_details = None\n",
        "\n",
        "    \n",
        "    specimen_names = row['specimen_names'] \n",
        "\n",
        "    specimen_comments = row['specimen_comments']\n",
        "    check1 = type(specimen_comments)==list and len(specimen_comments)==0\n",
        "    check2 = type(specimen_comments)==float and isnan(specimen_comments)\n",
        "    if check1 or check2:\n",
        "      specimen_comments = None \n",
        "    alterations = row['alterations']\n",
        "    check1 = type(alterations)==list and len(alterations)==0\n",
        "    check2 = type(alterations)==float and isnan(alterations)\n",
        "    if check1 or check2:\n",
        "      alterations = None \n",
        "    \n",
        "    rock_textures = row['rock_textures'] \n",
        "    geological_ages = row['geological_ages'] \n",
        "    station_num = row['station_num']\n",
        "    station_code = row['station_code']\n",
        "    lat_label = row['lat_label']\n",
        "    long_label = row['long_label']\n",
        "    points = row['points'] \n",
        "    latitude = ''\n",
        "    longitude = ''\n",
        "\n",
        "    text = ''\n",
        "\n",
        "    check1 = type(points)==list and len(points) > 0\n",
        "    if check1:\n",
        "    #if len(points)> 0:\n",
        "      latitude = points[0]['latitude']\n",
        "      longitude = points[0]['longitude']\n",
        "    \n",
        "    check1 = type(points)==list\n",
        "    if check1:\n",
        "      text = points[0]['text']\n",
        "    centerLat = row['centerLat']\n",
        "    centerLong = row['centerLong']\n",
        "    elevation_min = row['elevation_min']\n",
        "    elevation_max = row['elevation_max']\n",
        "    location_precisions = row['location_precisions']\n",
        "    geographic_location = row['geographic_location']\n",
        "    tectonic_settings = row['tectonic_settings']\n",
        "    expedition_num = row['expedition_num']\n",
        "    expedition_code = row['expedition_code']\n",
        "    sampling_technique_code = row['sampling_technique_code']\n",
        "    sampling_technique_name = row['sampling_technique_name']\n",
        "    analyzed_samples = row['analyzed_samples']\n",
        "    taxon_rock_type = \"None\"\n",
        "    taxon_rock_class = \"None\"\n",
        "    check1 = type(taxon)==list and len(taxon) > 0\n",
        "    if check1:\n",
        "\t    taxon_rock_type = taxon[0]['rock_type']\n",
        "\t    taxon_rock_class = taxon[0]['rock_class']\n",
        "    \n",
        "\n",
        "    geological_prefix = 'None'\n",
        "    geological_ages__age = 'None'\n",
        "    geological_ages__min = 'None'\n",
        "    geological_ages__max = 'None'\n",
        "\n",
        "    check1 = type(geological_ages)==list and len(geological_ages) > 0\n",
        "    if check1:\n",
        "        geological_prefix = geological_ages[0]['prefix']\n",
        "        geological_ages__age = geological_ages[0]['age']\n",
        "        geological_ages__min = geological_ages[0]['age_min']\n",
        "        geological_ages__max = geological_ages[0]['age_max']\n",
        "\n",
        "    \n",
        "    rock_texture = 'None'\n",
        "    if type(rock_textures)==list:\n",
        "      for item in rock_textures:\n",
        "        rock_texture = item['rock_texture']\n",
        "    \n",
        "    rock_class_detail = None\n",
        "    if rock_class_details != None:\n",
        "      item1 = rock_class_details[0]\n",
        "      if item1 != None:\n",
        "  \t    rock_class_detail = item1['rock_class_detail']\n",
        "    \n",
        "    #rock_class_detail = 'None'\n",
        "    #if rock_class_details != \"None\":\n",
        "        #rock_class_detail = rock_class_details[0]['rock_class_detail']\n",
        "    #check1 = type(alterations)==list and len(alterations)>0\n",
        "    #check2 = type(alterations)==float and isnan(alterations)\n",
        "    #if check1:\n",
        "      #alterations = None \n",
        "    \n",
        "    alteration = None\n",
        "    if alterations != None:\n",
        "        alteration = alterations[0]['alteration']\n",
        "    \n",
        "   \n",
        "    specimen_comment = None\n",
        "    if specimen_comments != None:\n",
        "        specimen_comment = specimen_comments[0]['comment']\n",
        "    \n",
        "       \n",
        "    \n",
        "    specimen_names_list = [] \n",
        "    if type(specimen_names) == list:\n",
        "      for item in specimen_names:\n",
        "          specimen_name = item['specimen_name']\n",
        "          specimen_names_list.append(specimen_name)\n",
        "\n",
        "    if type(taxon)== list:\n",
        "      for item in taxon:\n",
        "        for source in item['source']:\n",
        "            citation_num = source['citation_num']\n",
        "            citation_code = source['citation_code']\n",
        "            citation_num_list.append(citation_num)\n",
        "            citation_code_list.append(citation_code)\n",
        "    \n",
        "    #print(specimen_names_list)\n",
        "    \n",
        "    i = 0\n",
        "    while i < len(citation_num_list): #\n",
        "        new_row = [] \n",
        "        citation_num = citation_num_list[i]\n",
        "        citation_code = citation_code_list[i]\n",
        "        \n",
        "        #print('citation_num', citation_num)\n",
        "        #print('citation_code', citation_code)\n",
        "        #print(i)\n",
        "        \n",
        "        specimen_name = \"\"\n",
        "        if i < len(specimen_names_list):\n",
        "            specimen_name = specimen_names_list[i]\n",
        "        #print(specimen_name)\n",
        "        \n",
        "        new_row.append(specimen_num)   \n",
        "        new_row.append(citation_num) \n",
        "        new_row.append(citation_code) \n",
        "        new_row.append(specimen_code)\n",
        "        new_row.append(igsn)\n",
        "        new_row.append(archive_institution)\n",
        "        new_row.append(specimen_material)\n",
        "        new_row.append(taxon)\n",
        "        new_row.append(taxon_rock_type)\n",
        "        new_row.append(taxon_rock_class)\n",
        "        new_row.append(rock_class_detail)\n",
        "        new_row.append(rock_class_details)\n",
        "        new_row.append(specimen_names)\n",
        "        new_row.append(specimen_name)\n",
        "        new_row.append(specimen_comments)\n",
        "        new_row.append(specimen_comment)\n",
        "        new_row.append(alteration)\n",
        "        new_row.append(alterations)\n",
        "        new_row.append(rock_textures)\n",
        "        new_row.append(rock_texture)\n",
        "        new_row.append(geological_ages)\n",
        "        new_row.append(geological_prefix)\n",
        "        new_row.append( geological_ages__age)\n",
        "        new_row.append( geological_ages__min)\n",
        "        new_row.append(geological_ages__max)\n",
        "        new_row.append(latitude)\n",
        "        new_row.append(longitude)\n",
        "        new_row.append(text)\n",
        "        new_row.append(station_num)\n",
        "        new_row.append(station_code)\n",
        "        new_row.append(lat_label)\n",
        "        new_row.append(long_label)\n",
        "        new_row.append(points)\n",
        "        new_row.append(centerLat)\n",
        "        new_row.append(centerLong)\n",
        "        new_row.append(elevation_min)\n",
        "        new_row.append(elevation_max)\n",
        "        new_row.append(location_precisions)\n",
        "        new_row.append(geographic_location)\n",
        "        new_row.append(tectonic_settings)\n",
        "        new_row.append(expedition_num)\n",
        "        new_row.append(expedition_code)\n",
        "        new_row.append(sampling_technique_code)\n",
        "        new_row.append(sampling_technique_name)\n",
        "        new_row.append(analyzed_samples)\n",
        "        \n",
        "        \n",
        "        a_series = pd.Series(new_row, index=new_df.columns) # \n",
        "        new_df = new_df.append(a_series, ignore_index=True) \n",
        "        i += 1       \n",
        "\n",
        "        pd.set_option(\"display.max_columns\", None)\n",
        "pd.set_option(\"display.max_colwidth\", None)\n",
        "#pd.set_option('display.max_rows', None)\n",
        "new_df.drop('taxon', axis = 1, inplace = True)\n",
        "new_df.drop('specimen_names', axis = 1, inplace = True)\n",
        "new_df.drop('rock_textures', axis = 1, inplace = True)\n",
        "new_df.drop('geological_ages', axis = 1, inplace = True)\n",
        "new_df.drop('points', axis = 1, inplace = True)\n",
        "new_df.drop('rock_class_details', axis = 1, inplace = True)\n",
        "new_df.drop('alterations', axis = 1, inplace = True)\n",
        "new_df.drop('specimen_comments', axis = 1, inplace = True)\n",
        "\n",
        "new_df['geographic_location'] = new_df['geographic_location'].apply(lambda x: ', '.join(map(str, x))) # convert list to strings\n",
        "new_df['tectonic_settings'] = new_df['tectonic_settings'].apply(lambda x: ', '.join(map(str, x)))\n",
        "new_df['location_precisions'] = new_df['location_precisions'].apply(lambda x: ', '.join(map(str, x)))\n",
        "new_df['analyzed_samples'] = new_df['analyzed_samples'].apply(lambda x: ', '.join(map(str, x)))\n",
        "#new_df['specimen_name'] = new_df['specimen_name'].apply(lambda x: ', '.join(map(str, x)))\n",
        "\n",
        "new_df = new_df.replace('', 'None')\n",
        "new_df = new_df.replace('N/A', 'None')\n",
        "new_df = new_df.rename(columns = {'alteration' : 'alterations', 'rock_class_detail' : 'rock_class_details', 'specimen_comment' : 'specimen_comments'})\n",
        "pd.set_option('display.max_rows', None)\n",
        "#new_df.head()\n"
      ],
      "execution_count": null,
      "outputs": []
    },
    {
      "cell_type": "code",
      "metadata": {
        "id": "IUIk3MkN5nlA"
      },
      "source": [
        "new_df = new_df.rename(columns = {'alteration' : 'alterations', 'rock_class_detail' : 'rock_class_details'})\n",
        "#new_df"
      ],
      "execution_count": null,
      "outputs": []
    },
    {
      "cell_type": "code",
      "metadata": {
        "id": "9Yyl8xXk5nlA"
      },
      "source": [
        "new_df_final = new_df.drop(columns = ['alterations', 'analyzed_samples', 'archive_institution', 'citation_code', 'geological_ages__prefix', 'geological_ages__age', 'geological_ages__min', 'geological_ages__max','igsn','lat_label','long_label','location_precisions', 'rock_texture', 'specimen_comments'])\n",
        "#new_df_final"
      ],
      "execution_count": null,
      "outputs": []
    },
    {
      "cell_type": "code",
      "metadata": {
        "id": "6YvNy7vt5nlA"
      },
      "source": [
        "\n",
        "new_df_final1 = new_df_final.drop(columns = ['sampling_technique_code', 'sampling_technique_name', 'specimen_material', 'centerLat', 'centerLong', 'points_text'])\n",
        "#new_df_final1\n"
      ],
      "execution_count": null,
      "outputs": []
    },
    {
      "cell_type": "code",
      "metadata": {
        "id": "lpsj90eB5nlA"
      },
      "source": [
        "#%%timeit\n",
        "\n",
        "def mycompare_specimen_num(row1val, row2val):\n",
        "  return row1val==row2val\n",
        "def mycompare_specimen_code(row1val, row2val):\n",
        "  return row1val==row2val\n",
        "def mycompare_taxon_rock_type(row1val, row2val):\n",
        "  return row1val==row2val\n",
        "def mycompare_taxon_rock_class(row1val, row2val):\n",
        "  return row1val==row2val\n",
        "def mycompare_rock_class_details(row1val, row2val):\n",
        "  return row1val==row2val\n",
        "def mycompare_specimen_name(row1val, row2val):\n",
        "  return row1val==row2val\n",
        "def mycompare_points_latitude(row1val, row2val):\n",
        "  return row1val==row2val\n",
        "def mycompare_points_longitude(row1val, row2val):\n",
        "  return row1val==row2val\n",
        "def mycompare_station_num(row1val, row2val):\n",
        "  return row1val==row2val\n",
        "def mycompare_station_code(row1val, row2val):\n",
        "  return row1val==row2val\n",
        "def mycompare_elevation_min(row1val, row2val):\n",
        "  return row1val==row2val\n",
        "def mycompare_elevation_max(row1val, row2val):\n",
        "  return row1val==row2val\n",
        "def mycompare_geographic_location(row1val, row2val):\n",
        "  return row1val==row2val\n",
        "def mycompare_tectonic_settings(row1val, row2val):\n",
        "  return row1val==row2val\n",
        "def mycompare_expedition_num(row1val, row2val):\n",
        "  return row1val==row2val\n",
        "def mycompare_expedition_code(row1val, row2val):\n",
        "  return row1val==row2val\n",
        "\n",
        "def mycompare (row1, row2, column_name):\n",
        "  #return row1[column_name] == row2[column_name]\n",
        "  if column_name==\"specimen_num\":\n",
        "      return mycompare_specimen_num( row1[column_name], row2[column_name] )\n",
        "  elif column_name==\"specimen_code\":\n",
        "      return mycompare_specimen_code( row1[column_name], row2[column_name] )\n",
        "  elif column_name==\"taxon_rock_type\":\n",
        "      return mycompare_taxon_rock_type( row1[column_name], row2[column_name] )\n",
        "  elif column_name=='taxon_rock_class':\n",
        "      return mycompare_taxon_rock_class( row1[column_name], row2[column_name] )\n",
        "  elif column_name=='rock_class_details': \n",
        "      return mycompare_rock_class_details( row1[column_name], row2[column_name] )\n",
        "  elif column_name=='specimen_name':\n",
        "      return mycompare_specimen_name( row1[column_name], row2[column_name] )\n",
        "  elif column_name=='points_latitude':\n",
        "      return mycompare_points_latitude( row1[column_name], row2[column_name] )\n",
        "  elif column_name=='points_longitude':\n",
        "      return mycompare_points_longitude( row1[column_name], row2[column_name] )\n",
        "  elif column_name=='station_num':\n",
        "      return mycompare_station_num( row1[column_name], row2[column_name] )\n",
        "  elif column_name=='station_code':\n",
        "      return mycompare_station_code( row1[column_name], row2[column_name] )\n",
        "  elif column_name=='elevation_min':\n",
        "      return mycompare_elevation_min( row1[column_name], row2[column_name] )\n",
        "  elif column_name=='elevation_max':\n",
        "      return mycompare_elevation_max( row1[column_name], row2[column_name] )\n",
        "  elif column_name=='geographic_location': \n",
        "      return mycompare_geographic_location( row1[column_name], row2[column_name] )\n",
        "  elif column_name=='tectonic_settings':\n",
        "      return mycompare_tectonic_settings( row1[column_name], row2[column_name] )\n",
        "  elif column_name=='expedition_num': \n",
        "      return mycompare_expedition_num( row1[column_name], row2[column_name] )\n",
        "  elif column_name=='expedition_code':\n",
        "      return mycompare_expedition_code( row1[column_name], row2[column_name] )\n",
        "  else:\n",
        "      return False\n",
        "      \n",
        "#mycompare(new_df_final1.loc[0], new_df_final1.loc[1], 'specimen_num')\n",
        "#print(len(new_df_final1))"
      ],
      "execution_count": null,
      "outputs": []
    },
    {
      "cell_type": "code",
      "metadata": {
        "id": "rr2iYsb55nlA"
      },
      "source": [
        "# def getsimilarities (df, column_name):\n",
        "#     i = 0\n",
        "#     results = []\n",
        "#     while i < len(df) - 1:\n",
        "#         j = i + 1\n",
        "#         row1 = df.loc[i]\n",
        "#         my_results = []\n",
        "#         while j < len(df):\n",
        "#             row2 = df.loc[j]\n",
        "#             result = mycompare(row1, row2, column_name)\n",
        "#             package = [i,j,result]\n",
        "#             my_results.append(package)\n",
        "            \n",
        "#             j += 1\n",
        "#         i += 1\n",
        "#         results.append(my_results)\n",
        "#     return results\n",
        "            \n",
        "            "
      ],
      "execution_count": null,
      "outputs": []
    },
    {
      "cell_type": "code",
      "metadata": {
        "id": "Pwb5g23a5nlB"
      },
      "source": [
        "#columns = ['citation_num', 'specimen_code', 'taxon_rock_type', 'taxon_rock_class','rock_class_details','specimen_name','points_latitude','points_longitude','station_num', 'station_code','elevation_min','elevation_max','geographic_location','tectonic_settings','expedition_num','expedition_code']\n",
        "def count_similar_columns(row1, row2):\n",
        "    columns = ['citation_num','taxon_rock_type', 'taxon_rock_class','rock_class_details','specimen_name','points_latitude','points_longitude','elevation_min','elevation_max','geographic_location','tectonic_settings','expedition_num']\n",
        "    count = 0\n",
        "    for column in columns:\n",
        "      result = mycompare(row1, row2, column)\n",
        "      if result:\n",
        "        count+=1\n",
        "    return count\n",
        "\n",
        "def compare_two_rows(row1, row2):\n",
        "    rv = False\n",
        "    row1_specimen_num = row1['specimen_num'] \n",
        "    row2_specimen_num = row2['specimen_num']\n",
        "    if row1_specimen_num != row2_specimen_num:\n",
        "      return False\n",
        "    \n",
        "# count the number of similar attributes between these two rows\n",
        "    \n",
        "    threshold = 0.50\n",
        "    count = count_similar_columns(row1, row2)\n",
        "    if float( count/len(columns)) >= threshold:\n",
        "      rv = True\n",
        "    return rv\n",
        "\n",
        "\n",
        "def get_similarities_2(df):\n",
        "  i = 0\n",
        "  results = []\n",
        "  while i < len(df)-1:\n",
        "    row1 = df.loc[i]\n",
        "    j = i\n",
        "    while j < len(df):\n",
        "      row2 = df.loc[j]\n",
        "      result = compare_two_rows(row1, row2)\n",
        "      result_list = [ i, j, result ]\n",
        "      if i != j:\n",
        "         results.append(result_list)\n",
        "      j+=1\n",
        "    i+=1\n",
        "  return results\n",
        "\n",
        "\n",
        "columns = ['specimen_num', 'citation_num', 'specimen_code', 'taxon_rock_type', 'taxon_rock_class','rock_class_details','specimen_name','points_latitude','points_longitude','station_num', 'station_code','elevation_min','elevation_max','geographic_location','tectonic_settings','expedition_num','expedition_code']\n",
        "columns2 = ['row1','row2','result']\n",
        "\n",
        "similarities_list = get_similarities_2( new_df_final1 )\n",
        "\n",
        "similar_df = pd.DataFrame(data = None, index=None, columns = columns2)\n",
        "\n",
        "for sublist in similarities_list:\n",
        "  aseries = pd.Series(sublist, index=similar_df.columns)\n",
        "  similar_df = similar_df.append(aseries, ignore_index=True)\n",
        "  \n",
        "#similar_df\n",
        "\n"
      ],
      "execution_count": null,
      "outputs": []
    },
    {
      "cell_type": "code",
      "metadata": {
        "colab": {
          "base_uri": "https://localhost:8080/"
        },
        "id": "MUQYoAIq5nlB",
        "outputId": "1595753e-1f87-490a-9740-daebbb3c88df"
      },
      "source": [
        "%timeit similar_df"
      ],
      "execution_count": null,
      "outputs": [
        {
          "output_type": "stream",
          "text": [
            "100000000 loops, best of 3: 18.5 ns per loop\n"
          ],
          "name": "stdout"
        }
      ]
    },
    {
      "cell_type": "code",
      "metadata": {
        "id": "9urhyJz35nlB"
      },
      "source": [
        "\n",
        "columns = ['specimen_num', 'citation_num', 'taxon_rock_type', 'taxon_rock_class','rock_class_details','specimen_name','points_latitude','points_longitude','elevation_min','elevation_max','geographic_location','tectonic_settings','expedition_num']\n",
        "double_columns = []\n",
        "\n",
        "j = 0\n",
        "while j < 2:\n",
        "    i = 0\n",
        "    while i < len(columns):\n",
        "        double_columns.append(columns[i]) \n",
        "        i += 1\n",
        "    j += 1    \n",
        "double_columns.append(\"results\")\n",
        "doubledf = pd.DataFrame(data = None, index=None, columns = double_columns)\n"
      ],
      "execution_count": null,
      "outputs": []
    },
    {
      "cell_type": "code",
      "metadata": {
        "id": "U6TzODEw5nlB"
      },
      "source": [
        ""
      ],
      "execution_count": null,
      "outputs": []
    },
    {
      "cell_type": "code",
      "metadata": {
        "id": "cZmHLJrU5nlB"
      },
      "source": [
        "\n",
        "\n",
        "for index,row in similar_df.iterrows():\n",
        "  \n",
        "  # given the values of row1 and row2\n",
        "  row1index = row['row1']\n",
        "  row2index = row['row2']\n",
        "  val = row['result']\n",
        "  \n",
        "  # get the row in new_final_df corresponding to each index\n",
        "  row1 = new_df_final1.iloc[row1index]\n",
        "  row2 = new_df_final1.iloc[row2index]\n",
        "  \n",
        "  # construct a list of values for each row\n",
        "  row_list = []\n",
        "  for key in columns:\n",
        "      row_list.append( row1[key] )\n",
        "  for key in columns:\n",
        "      row_list.append( row2[key])\n",
        "  row_list.append( val )\n",
        "    \n",
        "  # insert row_list into the new dataframe\n",
        "  aSeries = pd.Series(row_list, index=doubledf.columns)\n",
        "  doubledf = doubledf.append( aSeries, ignore_index=True )\n",
        "\n",
        "#doubledf.head()\n"
      ],
      "execution_count": null,
      "outputs": []
    },
    {
      "cell_type": "markdown",
      "metadata": {
        "id": "rQR_Yko45nlB"
      },
      "source": [
        "\n",
        "\n",
        "I converted the similar_df into a \"double_df\" which represents each row compared to each other row of our initial dataframe (new_df_final1) in a single row.\n",
        "The similar_df was constructed as a high-level visual of each row comparison and result.\n",
        "The double_df is an expanded-version of similar_df with all of the columns aggregated.\n",
        "Each row of new_df_final1 is compared with each other row (unique comparisons, no duplicates).\n",
        "\n"
      ]
    },
    {
      "cell_type": "code",
      "metadata": {
        "id": "R5QnwSTq5nlB",
        "colab": {
          "base_uri": "https://localhost:8080/",
          "height": 394
        },
        "outputId": "a75daaf7-caf6-4de1-d810-b36acf4076f1"
      },
      "source": [
        "#doubledf.shape\n",
        "doubledf.drop('specimen_num',axis=1,inplace=True)\n",
        "doubledf.columns = ['citation_num_0','taxon_rock_type_0', 'taxon_rock_class_0', 'rock_class_details_0', 'specimen_name_0', 'points_latitude_0', 'points_longitude_0', 'elevation_min_0', 'elevation_max_0', 'geographic_location_0','tectonic_settings_0', 'expedition_num_0', 'citation_num_1', 'taxon_rock_type_1','taxon_rock_class_1', 'rock_class_details_1','specimen_name_1','points_latitude_1', 'points_longitude_1', 'elevation_min_1', 'elevation_max_1', 'geographic_location_1','tectonic_settings_1', 'expedition_num_1','results']\n",
        "\n",
        "doubledf.head()"
      ],
      "execution_count": null,
      "outputs": [
        {
          "output_type": "execute_result",
          "data": {
            "text/html": [
              "<div>\n",
              "<style scoped>\n",
              "    .dataframe tbody tr th:only-of-type {\n",
              "        vertical-align: middle;\n",
              "    }\n",
              "\n",
              "    .dataframe tbody tr th {\n",
              "        vertical-align: top;\n",
              "    }\n",
              "\n",
              "    .dataframe thead th {\n",
              "        text-align: right;\n",
              "    }\n",
              "</style>\n",
              "<table border=\"1\" class=\"dataframe\">\n",
              "  <thead>\n",
              "    <tr style=\"text-align: right;\">\n",
              "      <th></th>\n",
              "      <th>citation_num_0</th>\n",
              "      <th>taxon_rock_type_0</th>\n",
              "      <th>taxon_rock_class_0</th>\n",
              "      <th>rock_class_details_0</th>\n",
              "      <th>specimen_name_0</th>\n",
              "      <th>points_latitude_0</th>\n",
              "      <th>points_longitude_0</th>\n",
              "      <th>elevation_min_0</th>\n",
              "      <th>elevation_max_0</th>\n",
              "      <th>geographic_location_0</th>\n",
              "      <th>tectonic_settings_0</th>\n",
              "      <th>expedition_num_0</th>\n",
              "      <th>citation_num_1</th>\n",
              "      <th>taxon_rock_type_1</th>\n",
              "      <th>taxon_rock_class_1</th>\n",
              "      <th>rock_class_details_1</th>\n",
              "      <th>specimen_name_1</th>\n",
              "      <th>points_latitude_1</th>\n",
              "      <th>points_longitude_1</th>\n",
              "      <th>elevation_min_1</th>\n",
              "      <th>elevation_max_1</th>\n",
              "      <th>geographic_location_1</th>\n",
              "      <th>tectonic_settings_1</th>\n",
              "      <th>expedition_num_1</th>\n",
              "      <th>results</th>\n",
              "    </tr>\n",
              "  </thead>\n",
              "  <tbody>\n",
              "    <tr>\n",
              "      <th>0</th>\n",
              "      <td>1086</td>\n",
              "      <td>igneous:volcanic:mafic</td>\n",
              "      <td>BASALT</td>\n",
              "      <td>None</td>\n",
              "      <td>VG10102</td>\n",
              "      <td>31.145</td>\n",
              "      <td>-41.205</td>\n",
              "      <td>-3180</td>\n",
              "      <td>-3220</td>\n",
              "      <td>OCEAN|ATLANTIC, SPREADING_CENTER|MID-ATLANTIC RIDGE</td>\n",
              "      <td>FRACTURE_ZONE</td>\n",
              "      <td>2</td>\n",
              "      <td>1086</td>\n",
              "      <td>igneous:volcanic:mafic</td>\n",
              "      <td>BASALT</td>\n",
              "      <td>None</td>\n",
              "      <td>VG10103</td>\n",
              "      <td>31.129</td>\n",
              "      <td>-41.296</td>\n",
              "      <td>-3279</td>\n",
              "      <td>-3400</td>\n",
              "      <td>SPREADING_CENTER|MID-ATLANTIC RIDGE, OCEAN|ATLANTIC</td>\n",
              "      <td>FRACTURE_ZONE</td>\n",
              "      <td>2</td>\n",
              "      <td>False</td>\n",
              "    </tr>\n",
              "    <tr>\n",
              "      <th>1</th>\n",
              "      <td>1086</td>\n",
              "      <td>igneous:volcanic:mafic</td>\n",
              "      <td>BASALT</td>\n",
              "      <td>None</td>\n",
              "      <td>VG10102</td>\n",
              "      <td>31.145</td>\n",
              "      <td>-41.205</td>\n",
              "      <td>-3180</td>\n",
              "      <td>-3220</td>\n",
              "      <td>OCEAN|ATLANTIC, SPREADING_CENTER|MID-ATLANTIC RIDGE</td>\n",
              "      <td>FRACTURE_ZONE</td>\n",
              "      <td>2</td>\n",
              "      <td>1086</td>\n",
              "      <td>igneous:volcanic:mafic</td>\n",
              "      <td>BASALT</td>\n",
              "      <td>None</td>\n",
              "      <td>VG10104</td>\n",
              "      <td>31.129</td>\n",
              "      <td>-41.296</td>\n",
              "      <td>-3279</td>\n",
              "      <td>-3400</td>\n",
              "      <td>SPREADING_CENTER|MID-ATLANTIC RIDGE, OCEAN|ATLANTIC</td>\n",
              "      <td>FRACTURE_ZONE</td>\n",
              "      <td>2</td>\n",
              "      <td>False</td>\n",
              "    </tr>\n",
              "    <tr>\n",
              "      <th>2</th>\n",
              "      <td>1086</td>\n",
              "      <td>igneous:volcanic:mafic</td>\n",
              "      <td>BASALT</td>\n",
              "      <td>None</td>\n",
              "      <td>VG10102</td>\n",
              "      <td>31.145</td>\n",
              "      <td>-41.205</td>\n",
              "      <td>-3180</td>\n",
              "      <td>-3220</td>\n",
              "      <td>OCEAN|ATLANTIC, SPREADING_CENTER|MID-ATLANTIC RIDGE</td>\n",
              "      <td>FRACTURE_ZONE</td>\n",
              "      <td>2</td>\n",
              "      <td>1086</td>\n",
              "      <td>igneous:volcanic:mafic</td>\n",
              "      <td>BASALT</td>\n",
              "      <td>None</td>\n",
              "      <td>VG10105</td>\n",
              "      <td>31.129</td>\n",
              "      <td>-41.296</td>\n",
              "      <td>-3279</td>\n",
              "      <td>-3400</td>\n",
              "      <td>SPREADING_CENTER|MID-ATLANTIC RIDGE, OCEAN|ATLANTIC</td>\n",
              "      <td>FRACTURE_ZONE</td>\n",
              "      <td>2</td>\n",
              "      <td>False</td>\n",
              "    </tr>\n",
              "    <tr>\n",
              "      <th>3</th>\n",
              "      <td>1086</td>\n",
              "      <td>igneous:volcanic:mafic</td>\n",
              "      <td>BASALT</td>\n",
              "      <td>None</td>\n",
              "      <td>VG10102</td>\n",
              "      <td>31.145</td>\n",
              "      <td>-41.205</td>\n",
              "      <td>-3180</td>\n",
              "      <td>-3220</td>\n",
              "      <td>OCEAN|ATLANTIC, SPREADING_CENTER|MID-ATLANTIC RIDGE</td>\n",
              "      <td>FRACTURE_ZONE</td>\n",
              "      <td>2</td>\n",
              "      <td>1086</td>\n",
              "      <td>igneous:volcanic:mafic</td>\n",
              "      <td>BASALT</td>\n",
              "      <td>None</td>\n",
              "      <td>VG10106</td>\n",
              "      <td>30.392</td>\n",
              "      <td>-41.618</td>\n",
              "      <td>-2990</td>\n",
              "      <td>-3250</td>\n",
              "      <td>OCEAN|ATLANTIC, SPREADING_CENTER|MID-ATLANTIC RIDGE</td>\n",
              "      <td>SPREADING_CENTER</td>\n",
              "      <td>2</td>\n",
              "      <td>False</td>\n",
              "    </tr>\n",
              "    <tr>\n",
              "      <th>4</th>\n",
              "      <td>1086</td>\n",
              "      <td>igneous:volcanic:mafic</td>\n",
              "      <td>BASALT</td>\n",
              "      <td>None</td>\n",
              "      <td>VG10102</td>\n",
              "      <td>31.145</td>\n",
              "      <td>-41.205</td>\n",
              "      <td>-3180</td>\n",
              "      <td>-3220</td>\n",
              "      <td>OCEAN|ATLANTIC, SPREADING_CENTER|MID-ATLANTIC RIDGE</td>\n",
              "      <td>FRACTURE_ZONE</td>\n",
              "      <td>2</td>\n",
              "      <td>1086</td>\n",
              "      <td>igneous:volcanic:mafic</td>\n",
              "      <td>BASALT</td>\n",
              "      <td>None</td>\n",
              "      <td>VG10107</td>\n",
              "      <td>30.392</td>\n",
              "      <td>-41.618</td>\n",
              "      <td>-2990</td>\n",
              "      <td>-3250</td>\n",
              "      <td>OCEAN|ATLANTIC, SPREADING_CENTER|MID-ATLANTIC RIDGE</td>\n",
              "      <td>SPREADING_CENTER</td>\n",
              "      <td>2</td>\n",
              "      <td>False</td>\n",
              "    </tr>\n",
              "  </tbody>\n",
              "</table>\n",
              "</div>"
            ],
            "text/plain": [
              "  citation_num_0       taxon_rock_type_0 taxon_rock_class_0  \\\n",
              "0           1086  igneous:volcanic:mafic             BASALT   \n",
              "1           1086  igneous:volcanic:mafic             BASALT   \n",
              "2           1086  igneous:volcanic:mafic             BASALT   \n",
              "3           1086  igneous:volcanic:mafic             BASALT   \n",
              "4           1086  igneous:volcanic:mafic             BASALT   \n",
              "\n",
              "  rock_class_details_0 specimen_name_0  points_latitude_0  points_longitude_0  \\\n",
              "0                 None         VG10102             31.145             -41.205   \n",
              "1                 None         VG10102             31.145             -41.205   \n",
              "2                 None         VG10102             31.145             -41.205   \n",
              "3                 None         VG10102             31.145             -41.205   \n",
              "4                 None         VG10102             31.145             -41.205   \n",
              "\n",
              "  elevation_min_0 elevation_max_0  \\\n",
              "0           -3180           -3220   \n",
              "1           -3180           -3220   \n",
              "2           -3180           -3220   \n",
              "3           -3180           -3220   \n",
              "4           -3180           -3220   \n",
              "\n",
              "                                 geographic_location_0 tectonic_settings_0  \\\n",
              "0  OCEAN|ATLANTIC, SPREADING_CENTER|MID-ATLANTIC RIDGE       FRACTURE_ZONE   \n",
              "1  OCEAN|ATLANTIC, SPREADING_CENTER|MID-ATLANTIC RIDGE       FRACTURE_ZONE   \n",
              "2  OCEAN|ATLANTIC, SPREADING_CENTER|MID-ATLANTIC RIDGE       FRACTURE_ZONE   \n",
              "3  OCEAN|ATLANTIC, SPREADING_CENTER|MID-ATLANTIC RIDGE       FRACTURE_ZONE   \n",
              "4  OCEAN|ATLANTIC, SPREADING_CENTER|MID-ATLANTIC RIDGE       FRACTURE_ZONE   \n",
              "\n",
              "  expedition_num_0 citation_num_1       taxon_rock_type_1 taxon_rock_class_1  \\\n",
              "0                2           1086  igneous:volcanic:mafic             BASALT   \n",
              "1                2           1086  igneous:volcanic:mafic             BASALT   \n",
              "2                2           1086  igneous:volcanic:mafic             BASALT   \n",
              "3                2           1086  igneous:volcanic:mafic             BASALT   \n",
              "4                2           1086  igneous:volcanic:mafic             BASALT   \n",
              "\n",
              "  rock_class_details_1 specimen_name_1  points_latitude_1  points_longitude_1  \\\n",
              "0                 None         VG10103             31.129             -41.296   \n",
              "1                 None         VG10104             31.129             -41.296   \n",
              "2                 None         VG10105             31.129             -41.296   \n",
              "3                 None         VG10106             30.392             -41.618   \n",
              "4                 None         VG10107             30.392             -41.618   \n",
              "\n",
              "  elevation_min_1 elevation_max_1  \\\n",
              "0           -3279           -3400   \n",
              "1           -3279           -3400   \n",
              "2           -3279           -3400   \n",
              "3           -2990           -3250   \n",
              "4           -2990           -3250   \n",
              "\n",
              "                                 geographic_location_1 tectonic_settings_1  \\\n",
              "0  SPREADING_CENTER|MID-ATLANTIC RIDGE, OCEAN|ATLANTIC       FRACTURE_ZONE   \n",
              "1  SPREADING_CENTER|MID-ATLANTIC RIDGE, OCEAN|ATLANTIC       FRACTURE_ZONE   \n",
              "2  SPREADING_CENTER|MID-ATLANTIC RIDGE, OCEAN|ATLANTIC       FRACTURE_ZONE   \n",
              "3  OCEAN|ATLANTIC, SPREADING_CENTER|MID-ATLANTIC RIDGE    SPREADING_CENTER   \n",
              "4  OCEAN|ATLANTIC, SPREADING_CENTER|MID-ATLANTIC RIDGE    SPREADING_CENTER   \n",
              "\n",
              "  expedition_num_1 results  \n",
              "0                2   False  \n",
              "1                2   False  \n",
              "2                2   False  \n",
              "3                2   False  \n",
              "4                2   False  "
            ]
          },
          "metadata": {
            "tags": []
          },
          "execution_count": 16
        }
      ]
    },
    {
      "cell_type": "code",
      "metadata": {
        "id": "DGz57bE55nlB",
        "colab": {
          "base_uri": "https://localhost:8080/"
        },
        "outputId": "61411627-35ce-403e-e428-6972acd4c271"
      },
      "source": [
        "uni1 = doubledf['results'].value_counts()\n",
        "uni1"
      ],
      "execution_count": null,
      "outputs": [
        {
          "output_type": "execute_result",
          "data": {
            "text/plain": [
              "False    132634\n",
              "True        236\n",
              "Name: results, dtype: int64"
            ]
          },
          "metadata": {
            "tags": []
          },
          "execution_count": 17
        }
      ]
    },
    {
      "cell_type": "code",
      "metadata": {
        "id": "a7bNJzOe5nlB",
        "scrolled": false
      },
      "source": [
        "\n",
        "doubledf1 = pd.get_dummies(doubledf)\n",
        "#doubledf1"
      ],
      "execution_count": null,
      "outputs": []
    },
    {
      "cell_type": "code",
      "metadata": {
        "id": "4Ub92h7m5nlB",
        "colab": {
          "base_uri": "https://localhost:8080/"
        },
        "outputId": "bfe26660-9042-472d-dda1-49d9b8b3848b"
      },
      "source": [
        "from sklearn.utils import resample\n",
        "# Separate majority and minority classes\n",
        "df_majority = doubledf1[doubledf1.results_True==0]\n",
        "df_minority = doubledf1[doubledf1.results_True==1]\n",
        " \n",
        "# Downsample majority class\n",
        "df_majority_downsampled = resample(df_majority, \n",
        "                                 replace=False,    # sample without replacement\n",
        "                                 n_samples=len(df_minority), # to match minority class\n",
        "                                 random_state=123) # reproducible results\n",
        " \n",
        "# Combine minority class with downsampled majority class\n",
        "df_downsampled = pd.concat([df_majority_downsampled, df_minority])\n",
        " \n",
        "# Display new class counts\n",
        "df_downsampled.results_True.value_counts()"
      ],
      "execution_count": null,
      "outputs": [
        {
          "output_type": "execute_result",
          "data": {
            "text/plain": [
              "1    236\n",
              "0    236\n",
              "Name: results_True, dtype: int64"
            ]
          },
          "metadata": {
            "tags": []
          },
          "execution_count": 19
        }
      ]
    },
    {
      "cell_type": "code",
      "metadata": {
        "id": "nGJgY3V15nlB"
      },
      "source": [
        "#petDB_final = under_sample_indices.values\n",
        "\n",
        "petDB_final = df_downsampled.values\n",
        "X = petDB_final[:,:-2]\n",
        "Y = petDB_final[:,-1]\n"
      ],
      "execution_count": null,
      "outputs": []
    },
    {
      "cell_type": "code",
      "metadata": {
        "id": "qo__wJP_5nlB"
      },
      "source": [
        "from sklearn.linear_model import LinearRegression\n",
        "from sklearn.metrics import mean_absolute_error\n",
        "from sklearn.metrics import accuracy_score\n",
        "from sklearn.model_selection import cross_val_score, GridSearchCV, train_test_split\n",
        "from sklearn.linear_model import LogisticRegressionCV\n",
        "from sklearn.metrics import f1_score, make_scorer\n",
        "from sklearn import svm\n"
      ],
      "execution_count": null,
      "outputs": []
    },
    {
      "cell_type": "code",
      "metadata": {
        "id": "koBJd73U5nlB",
        "colab": {
          "base_uri": "https://localhost:8080/"
        },
        "outputId": "34b43e80-24ac-4439-f881-1ef4e999059b"
      },
      "source": [
        "X_train, X_test, Y_train, Y_test = train_test_split(X, Y , test_size=0.3, random_state=0, stratify = Y)\n",
        "\n",
        "X_train.shape, Y_train.shape, X_test.shape, Y_test.shape\n"
      ],
      "execution_count": null,
      "outputs": [
        {
          "output_type": "execute_result",
          "data": {
            "text/plain": [
              "((330, 1829), (330,), (142, 1829), (142,))"
            ]
          },
          "metadata": {
            "tags": []
          },
          "execution_count": 22
        }
      ]
    },
    {
      "cell_type": "code",
      "metadata": {
        "id": "0gHrtWvr5nlB",
        "colab": {
          "base_uri": "https://localhost:8080/"
        },
        "outputId": "cf27a519-0c7a-4994-e5bd-24ca7cff9f60"
      },
      "source": [
        "from sklearn.neighbors import KNeighborsClassifier\n",
        "from sklearn.metrics import classification_report\n",
        "\n",
        "knn = KNeighborsClassifier()\n",
        "knn.fit(X_train, Y_train)\n",
        "knn_pred = knn.predict(X_test)\n",
        "knn_accuracy = accuracy_score(Y_test, knn_pred)\n",
        "#score_knn = knn.score(X_test,Y_test)\n",
        "#print('The accuracy of the KNN Model is %0.3f)' % score_knn)\n",
        "print('The accuracy_score for KNN model is %0.3f\\n' % knn_accuracy)\n",
        "print(classification_report(Y_test, knn_pred))\n"
      ],
      "execution_count": null,
      "outputs": [
        {
          "output_type": "stream",
          "text": [
            "The accuracy_score for KNN model is 0.873\n",
            "\n",
            "              precision    recall  f1-score   support\n",
            "\n",
            "         0.0       0.86      0.89      0.88        71\n",
            "         1.0       0.88      0.86      0.87        71\n",
            "\n",
            "    accuracy                           0.87       142\n",
            "   macro avg       0.87      0.87      0.87       142\n",
            "weighted avg       0.87      0.87      0.87       142\n",
            "\n"
          ],
          "name": "stdout"
        }
      ]
    },
    {
      "cell_type": "code",
      "metadata": {
        "id": "4JKU5XpJ5nlB",
        "colab": {
          "base_uri": "https://localhost:8080/"
        },
        "outputId": "b1099188-a8ba-409a-c3e6-4a056981bd08"
      },
      "source": [
        "# cross_validation method\n",
        "scores_knn = cross_val_score(knn, X_train, Y_train, cv=5)\n",
        "mean_knn = scores_knn.mean()\n",
        "print('The Cross_validation_score for KNN model is %0.3f' % mean_knn)"
      ],
      "execution_count": null,
      "outputs": [
        {
          "output_type": "stream",
          "text": [
            "The Cross_validation_score for KNN model is 0.861\n"
          ],
          "name": "stdout"
        }
      ]
    },
    {
      "cell_type": "code",
      "metadata": {
        "id": "H4tz8lGv5nlB",
        "colab": {
          "base_uri": "https://localhost:8080/",
          "height": 359
        },
        "outputId": "bdae8b1d-a6d5-4a9c-ae4e-facea0ba9af0"
      },
      "source": [
        "from sklearn.metrics import plot_confusion_matrix\n",
        "\n",
        "matrix_knn = plot_confusion_matrix(knn, X_test, Y_test, cmap=plt.cm.Blues)\n",
        "matrix_knn.ax_.set_title('Confusion Matrix', color='blue')\n",
        "plt.xlabel('predicted Label', color ='blue')\n",
        "plt.ylabel('true label', color ='blue')\n",
        "plt.gcf().axes[0].tick_params(colors='blue')\n",
        "plt.gcf().axes[1].tick_params(colors='blue')\n",
        "plt.gcf().set_size_inches(6,6)\n",
        "plt.show()"
      ],
      "execution_count": null,
      "outputs": [
        {
          "output_type": "display_data",
          "data": {
            "image/png": "[encoded data removed]",
            "text/plain": [
              "<Figure size 432x432 with 2 Axes>"
            ]
          },
          "metadata": {
            "tags": [],
            "needs_background": "light"
          }
        }
      ]
    },
    {
      "cell_type": "code",
      "metadata": {
        "id": "0of81NjX5nlB",
        "scrolled": true,
        "colab": {
          "base_uri": "https://localhost:8080/"
        },
        "outputId": "ed64c029-9091-4d22-f5d4-7c9796e842c6"
      },
      "source": [
        "from sklearn.linear_model import LogisticRegression\n",
        "\n",
        "log_reg = LogisticRegression()\n",
        "log_reg.fit(X_train, Y_train)\n",
        "log_pred = log_reg.predict(X_test)\n",
        "log_accuracy = accuracy_score(Y_test, log_pred)\n",
        "print('The accuracy_score of the Logistic Regression model is %0.3f\\n' % log_accuracy)\n",
        "print(classification_report(Y_test, log_pred))"
      ],
      "execution_count": null,
      "outputs": [
        {
          "output_type": "stream",
          "text": [
            "The accuracy_score of the Logistic Regression model is 0.859\n",
            "\n",
            "              precision    recall  f1-score   support\n",
            "\n",
            "         0.0       0.89      0.82      0.85        71\n",
            "         1.0       0.83      0.90      0.86        71\n",
            "\n",
            "    accuracy                           0.86       142\n",
            "   macro avg       0.86      0.86      0.86       142\n",
            "weighted avg       0.86      0.86      0.86       142\n",
            "\n"
          ],
          "name": "stdout"
        },
        {
          "output_type": "stream",
          "text": [
            "/usr/local/lib/python3.6/dist-packages/sklearn/linear_model/_logistic.py:940: ConvergenceWarning: lbfgs failed to converge (status=1):\n",
            "STOP: TOTAL NO. of ITERATIONS REACHED LIMIT.\n",
            "\n",
            "Increase the number of iterations (max_iter) or scale the data as shown in:\n",
            "    https://scikit-learn.org/stable/modules/preprocessing.html\n",
            "Please also refer to the documentation for alternative solver options:\n",
            "    https://scikit-learn.org/stable/modules/linear_model.html#logistic-regression\n",
            "  extra_warning_msg=_LOGISTIC_SOLVER_CONVERGENCE_MSG)\n"
          ],
          "name": "stderr"
        }
      ]
    },
    {
      "cell_type": "code",
      "metadata": {
        "id": "laYLLX4C5nlB",
        "colab": {
          "base_uri": "https://localhost:8080/"
        },
        "outputId": "4cfb35a3-27c8-4d33-f347-9a8ed3ae8590"
      },
      "source": [
        "print(np.unique(log_pred))"
      ],
      "execution_count": null,
      "outputs": [
        {
          "output_type": "stream",
          "text": [
            "[0. 1.]\n"
          ],
          "name": "stdout"
        }
      ]
    },
    {
      "cell_type": "code",
      "metadata": {
        "id": "ZTF4qOegWo_2",
        "colab": {
          "base_uri": "https://localhost:8080/"
        },
        "outputId": "844cabb8-2dc3-47cb-bb4c-27b542fed62b"
      },
      "source": [
        "log_reg.coef_[0]"
      ],
      "execution_count": null,
      "outputs": [
        {
          "output_type": "execute_result",
          "data": {
            "text/plain": [
              "array([-0.05791681,  0.00217768,  0.0344553 , ...,  0.        ,\n",
              "       -0.01252208, -0.01597229])"
            ]
          },
          "metadata": {
            "tags": []
          },
          "execution_count": 28
        }
      ]
    },
    {
      "cell_type": "code",
      "metadata": {
        "id": "8fuULmN0Wp5b",
        "colab": {
          "base_uri": "https://localhost:8080/",
          "height": 235
        },
        "outputId": "514afe75-2851-4d10-948f-c231c6ac7712"
      },
      "source": [
        "columns_1 = df_downsampled.iloc[:, :-2].columns\n",
        "df_log= pd.DataFrame({'feature_names': columns_1, 'Importances': log_reg.coef_[0]})\n",
        "df_log_sort = df_log.sort_values(by = 'Importances',ascending = False )\n",
        "df_log_sort1 = df_log_sort.iloc[0:6, :]\n",
        "df_log_sort1"
      ],
      "execution_count": null,
      "outputs": [
        {
          "output_type": "execute_result",
          "data": {
            "text/html": [
              "<div>\n",
              "<style scoped>\n",
              "    .dataframe tbody tr th:only-of-type {\n",
              "        vertical-align: middle;\n",
              "    }\n",
              "\n",
              "    .dataframe tbody tr th {\n",
              "        vertical-align: top;\n",
              "    }\n",
              "\n",
              "    .dataframe thead th {\n",
              "        text-align: right;\n",
              "    }\n",
              "</style>\n",
              "<table border=\"1\" class=\"dataframe\">\n",
              "  <thead>\n",
              "    <tr style=\"text-align: right;\">\n",
              "      <th></th>\n",
              "      <th>feature_names</th>\n",
              "      <th>Importances</th>\n",
              "    </tr>\n",
              "  </thead>\n",
              "  <tbody>\n",
              "    <tr>\n",
              "      <th>896</th>\n",
              "      <td>expedition_num_0_1131</td>\n",
              "      <td>1.682871</td>\n",
              "    </tr>\n",
              "    <tr>\n",
              "      <th>1417</th>\n",
              "      <td>specimen_name_1_None</td>\n",
              "      <td>1.385401</td>\n",
              "    </tr>\n",
              "    <tr>\n",
              "      <th>812</th>\n",
              "      <td>geographic_location_0_OCEAN|PACIFIC, SPREADING_CENTER|GALAPAGOS</td>\n",
              "      <td>1.005284</td>\n",
              "    </tr>\n",
              "    <tr>\n",
              "      <th>19</th>\n",
              "      <td>citation_num_0_1242</td>\n",
              "      <td>0.924862</td>\n",
              "    </tr>\n",
              "    <tr>\n",
              "      <th>1739</th>\n",
              "      <td>geographic_location_1_SPREADING_CENTER|MID-ATLANTIC RIDGE, OCEAN|ATLANTIC</td>\n",
              "      <td>0.852656</td>\n",
              "    </tr>\n",
              "    <tr>\n",
              "      <th>92</th>\n",
              "      <td>citation_num_0_790</td>\n",
              "      <td>0.845249</td>\n",
              "    </tr>\n",
              "  </tbody>\n",
              "</table>\n",
              "</div>"
            ],
            "text/plain": [
              "                                                                  feature_names  \\\n",
              "896                                                       expedition_num_0_1131   \n",
              "1417                                                       specimen_name_1_None   \n",
              "812             geographic_location_0_OCEAN|PACIFIC, SPREADING_CENTER|GALAPAGOS   \n",
              "19                                                          citation_num_0_1242   \n",
              "1739  geographic_location_1_SPREADING_CENTER|MID-ATLANTIC RIDGE, OCEAN|ATLANTIC   \n",
              "92                                                           citation_num_0_790   \n",
              "\n",
              "      Importances  \n",
              "896      1.682871  \n",
              "1417     1.385401  \n",
              "812      1.005284  \n",
              "19       0.924862  \n",
              "1739     0.852656  \n",
              "92       0.845249  "
            ]
          },
          "metadata": {
            "tags": []
          },
          "execution_count": 29
        }
      ]
    },
    {
      "cell_type": "code",
      "metadata": {
        "id": "r3v5LyRBWqp_",
        "colab": {
          "base_uri": "https://localhost:8080/",
          "height": 375
        },
        "outputId": "447f71d2-6b28-49dc-aa8e-00be26f99c98"
      },
      "source": [
        "plt.bar(df_log_sort1['feature_names'], df_log_sort1['Importances'])\n",
        "plt.ylabel('Percentage', color ='blue', size = 16)\n",
        "plt.gcf().set_size_inches(14,6)\n",
        "plt.show()"
      ],
      "execution_count": null,
      "outputs": [
        {
          "output_type": "display_data",
          "data": {
            "image/png": "[encoded data removed]",
            "text/plain": [
              "<Figure size 1008x432 with 1 Axes>"
            ]
          },
          "metadata": {
            "tags": [],
            "needs_background": "light"
          }
        }
      ]
    },
    {
      "cell_type": "code",
      "metadata": {
        "id": "cAEkvoE25nlB",
        "colab": {
          "base_uri": "https://localhost:8080/"
        },
        "outputId": "5f3e0814-a74d-4459-8380-4533d9113fb0"
      },
      "source": [
        "#cross_validation method\n",
        "\n",
        "scores_logreg = cross_val_score(log_reg, X_train, Y_train, cv=5)\n",
        "mean_logreg = scores_logreg.mean()\n",
        "print('The Cross_validation score is %0.3f'% mean_logreg)"
      ],
      "execution_count": null,
      "outputs": [
        {
          "output_type": "stream",
          "text": [
            "/usr/local/lib/python3.6/dist-packages/sklearn/linear_model/_logistic.py:940: ConvergenceWarning: lbfgs failed to converge (status=1):\n",
            "STOP: TOTAL NO. of ITERATIONS REACHED LIMIT.\n",
            "\n",
            "Increase the number of iterations (max_iter) or scale the data as shown in:\n",
            "    https://scikit-learn.org/stable/modules/preprocessing.html\n",
            "Please also refer to the documentation for alternative solver options:\n",
            "    https://scikit-learn.org/stable/modules/linear_model.html#logistic-regression\n",
            "  extra_warning_msg=_LOGISTIC_SOLVER_CONVERGENCE_MSG)\n",
            "/usr/local/lib/python3.6/dist-packages/sklearn/linear_model/_logistic.py:940: ConvergenceWarning: lbfgs failed to converge (status=1):\n",
            "STOP: TOTAL NO. of ITERATIONS REACHED LIMIT.\n",
            "\n",
            "Increase the number of iterations (max_iter) or scale the data as shown in:\n",
            "    https://scikit-learn.org/stable/modules/preprocessing.html\n",
            "Please also refer to the documentation for alternative solver options:\n",
            "    https://scikit-learn.org/stable/modules/linear_model.html#logistic-regression\n",
            "  extra_warning_msg=_LOGISTIC_SOLVER_CONVERGENCE_MSG)\n",
            "/usr/local/lib/python3.6/dist-packages/sklearn/linear_model/_logistic.py:940: ConvergenceWarning: lbfgs failed to converge (status=1):\n",
            "STOP: TOTAL NO. of ITERATIONS REACHED LIMIT.\n",
            "\n",
            "Increase the number of iterations (max_iter) or scale the data as shown in:\n",
            "    https://scikit-learn.org/stable/modules/preprocessing.html\n",
            "Please also refer to the documentation for alternative solver options:\n",
            "    https://scikit-learn.org/stable/modules/linear_model.html#logistic-regression\n",
            "  extra_warning_msg=_LOGISTIC_SOLVER_CONVERGENCE_MSG)\n"
          ],
          "name": "stderr"
        },
        {
          "output_type": "stream",
          "text": [
            "The Cross_validation score is 0.839\n"
          ],
          "name": "stdout"
        },
        {
          "output_type": "stream",
          "text": [
            "/usr/local/lib/python3.6/dist-packages/sklearn/linear_model/_logistic.py:940: ConvergenceWarning: lbfgs failed to converge (status=1):\n",
            "STOP: TOTAL NO. of ITERATIONS REACHED LIMIT.\n",
            "\n",
            "Increase the number of iterations (max_iter) or scale the data as shown in:\n",
            "    https://scikit-learn.org/stable/modules/preprocessing.html\n",
            "Please also refer to the documentation for alternative solver options:\n",
            "    https://scikit-learn.org/stable/modules/linear_model.html#logistic-regression\n",
            "  extra_warning_msg=_LOGISTIC_SOLVER_CONVERGENCE_MSG)\n",
            "/usr/local/lib/python3.6/dist-packages/sklearn/linear_model/_logistic.py:940: ConvergenceWarning: lbfgs failed to converge (status=1):\n",
            "STOP: TOTAL NO. of ITERATIONS REACHED LIMIT.\n",
            "\n",
            "Increase the number of iterations (max_iter) or scale the data as shown in:\n",
            "    https://scikit-learn.org/stable/modules/preprocessing.html\n",
            "Please also refer to the documentation for alternative solver options:\n",
            "    https://scikit-learn.org/stable/modules/linear_model.html#logistic-regression\n",
            "  extra_warning_msg=_LOGISTIC_SOLVER_CONVERGENCE_MSG)\n"
          ],
          "name": "stderr"
        }
      ]
    },
    {
      "cell_type": "code",
      "metadata": {
        "id": "rkNCzG4J5nlB",
        "colab": {
          "base_uri": "https://localhost:8080/",
          "height": 359
        },
        "outputId": "88bc9bb7-2b80-4575-ca0b-e804d1b018dc"
      },
      "source": [
        "from sklearn.metrics import plot_confusion_matrix\n",
        "matrix_logreg = plot_confusion_matrix(log_reg, X_test, Y_test, cmap=plt.cm.Blues)\n",
        "matrix_logreg.ax_.set_title('Confusion Matrix', color='blue')\n",
        "plt.xlabel('predicted Label', color ='blue')\n",
        "plt.ylabel('true label', color ='blue')\n",
        "plt.gcf().axes[0].tick_params(colors='blue')\n",
        "plt.gcf().axes[1].tick_params(colors='blue')\n",
        "plt.gcf().set_size_inches(6,6)\n",
        "plt.show()"
      ],
      "execution_count": null,
      "outputs": [
        {
          "output_type": "display_data",
          "data": {
            "image/png": "[encoded data removed]",
            "text/plain": [
              "<Figure size 432x432 with 2 Axes>"
            ]
          },
          "metadata": {
            "tags": [],
            "needs_background": "light"
          }
        }
      ]
    },
    {
      "cell_type": "code",
      "metadata": {
        "id": "cEcgBbKq5nlB",
        "colab": {
          "base_uri": "https://localhost:8080/"
        },
        "outputId": "689f52b0-79c2-4b29-dc6e-88eabb32dc9a"
      },
      "source": [
        "from sklearn.tree import DecisionTreeClassifier\n",
        "\n",
        "DTC = DecisionTreeClassifier()\n",
        "DTC.fit(X_train, Y_train)\n",
        "DTC_pred = DTC.predict(X_test)\n",
        "#score_DTC = DTC.score(X_test, Y_test)\n",
        "#print('The accuracy of the DTC Model is',score_DTC)\n",
        "DTC_accuracy = accuracy_score(Y_test, DTC_pred)\n",
        "#print('The accuracy_score for the Decision Tree model is %0.3f\\n' % DTC_accuracy)\n",
        "print(classification_report(Y_test, DTC_pred))"
      ],
      "execution_count": null,
      "outputs": [
        {
          "output_type": "stream",
          "text": [
            "              precision    recall  f1-score   support\n",
            "\n",
            "         0.0       0.82      0.86      0.84        71\n",
            "         1.0       0.85      0.82      0.83        71\n",
            "\n",
            "    accuracy                           0.84       142\n",
            "   macro avg       0.84      0.84      0.84       142\n",
            "weighted avg       0.84      0.84      0.84       142\n",
            "\n"
          ],
          "name": "stdout"
        }
      ]
    },
    {
      "cell_type": "code",
      "metadata": {
        "id": "GA7nUkWr5nlB",
        "colab": {
          "base_uri": "https://localhost:8080/"
        },
        "outputId": "6b5c9d48-8948-4a9b-de25-424d94bbfba5"
      },
      "source": [
        "#cross_validation method\n",
        "scores_DTC = cross_val_score(DTC, X_train, Y_train, cv=5)\n",
        "mean_DTC = scores_DTC.mean()\n",
        "print('The cross_validation_score for the Decision tree model is %0.3f' % mean_DTC)\n"
      ],
      "execution_count": null,
      "outputs": [
        {
          "output_type": "stream",
          "text": [
            "The cross_validation_score for the Decision tree model is 0.830\n"
          ],
          "name": "stdout"
        }
      ]
    },
    {
      "cell_type": "code",
      "metadata": {
        "id": "RdYsFrYD5nlB",
        "colab": {
          "base_uri": "https://localhost:8080/"
        },
        "outputId": "a0bf8074-50a1-4235-b3b3-1a949df214c1"
      },
      "source": [
        "from sklearn.svm import SVC\n",
        "\n",
        "svc = SVC()\n",
        "svc.fit(X_train, Y_train)\n",
        "svc_pred = svc.predict(X_test)\n",
        "#score_svc = svc.score(X_test, Y_test)\n",
        "#print('The accuracy of the SVC Model is %0.3f)' % score_svc)\n",
        "svc_accuracy = accuracy_score(Y_test, svc_pred)\n",
        "print('The accuracy_score of the SVC model is %0.3f\\n' % svc_accuracy )\n",
        "print(classification_report(Y_test, svc_pred))"
      ],
      "execution_count": null,
      "outputs": [
        {
          "output_type": "stream",
          "text": [
            "The accuracy_score of the SVC model is 0.697\n",
            "\n",
            "              precision    recall  f1-score   support\n",
            "\n",
            "         0.0       0.87      0.46      0.61        71\n",
            "         1.0       0.63      0.93      0.75        71\n",
            "\n",
            "    accuracy                           0.70       142\n",
            "   macro avg       0.75      0.70      0.68       142\n",
            "weighted avg       0.75      0.70      0.68       142\n",
            "\n"
          ],
          "name": "stdout"
        }
      ]
    },
    {
      "cell_type": "code",
      "metadata": {
        "id": "zdjd0L_kfhqS",
        "colab": {
          "base_uri": "https://localhost:8080/",
          "height": 363
        },
        "outputId": "918a5620-e18e-4cd8-ee9f-49e0d5d39fda"
      },
      "source": [
        "matrix_DTC = plot_confusion_matrix(DTC, X_test, Y_test, cmap=plt.cm.Blues)\n",
        "matrix_DTC.ax_.set_title('Confusion Matrix', color='blue')\n",
        "plt.xlabel('predicted Label', color ='blue')\n",
        "plt.ylabel('true label', color ='blue')\n",
        "plt.gcf().axes[0].tick_params(colors='blue')\n",
        "plt.gcf().axes[1].tick_params(colors='blue')\n",
        "plt.gcf().set_size_inches(6,6)\n",
        "plt.show()"
      ],
      "execution_count": null,
      "outputs": [
        {
          "output_type": "display_data",
          "data": {
            "image/png": "[encoded data removed]",
            "text/plain": [
              "<Figure size 432x432 with 2 Axes>"
            ]
          },
          "metadata": {
            "tags": [],
            "needs_background": "light"
          }
        }
      ]
    },
    {
      "cell_type": "code",
      "metadata": {
        "id": "lOBRqK4T5nlC",
        "colab": {
          "base_uri": "https://localhost:8080/"
        },
        "outputId": "0b6fe3d4-832e-46af-b50b-1cd83bf1fab8"
      },
      "source": [
        "#cross_validation method\n",
        "\n",
        "scores_svc = cross_val_score(svc, X_train, Y_train, cv=5)\n",
        "mean_svc = scores_svc.mean()\n",
        "print('The Cross_validation_score for the SVC model is %0.3f' % mean_svc)"
      ],
      "execution_count": null,
      "outputs": [
        {
          "output_type": "stream",
          "text": [
            "The Cross_validation_score for the SVC model is 0.703\n"
          ],
          "name": "stdout"
        }
      ]
    },
    {
      "cell_type": "code",
      "metadata": {
        "id": "6hE6BvEg5nlC",
        "colab": {
          "base_uri": "https://localhost:8080/"
        },
        "outputId": "7cad2198-b0e7-4cc3-d82c-17c273af9f68"
      },
      "source": [
        "from sklearn.ensemble import RandomForestRegressor\n",
        "\n",
        "rfr = RandomForestRegressor()\n",
        "rfr.fit(X_train, Y_train)\n",
        "rfr_pred = rfr.predict(X_test)\n",
        "score_rfr = rfr.score(X_test, Y_test)\n",
        "print('The accuracy of the Random Forest model is %0.3f' % score_rfr)\n",
        "#print('The accuracy_score of the Random Forest model is %0.3f' % accuracy_score(Y_test, rfr_pred))"
      ],
      "execution_count": null,
      "outputs": [
        {
          "output_type": "stream",
          "text": [
            "The accuracy of the Random Forest model is 0.629\n"
          ],
          "name": "stdout"
        }
      ]
    },
    {
      "cell_type": "code",
      "metadata": {
        "id": "df8b4PNL5nlC",
        "colab": {
          "base_uri": "https://localhost:8080/"
        },
        "outputId": "8815d318-0de4-44e7-82a1-0a37ef2c718d"
      },
      "source": [
        "scores_rfr = cross_val_score(rfr, X_train, Y_train, cv=5)\n",
        "mean_rfr = scores_rfr.mean()\n",
        "print('The Cross_validation_score is %0.3f' % mean_rfr)"
      ],
      "execution_count": null,
      "outputs": [
        {
          "output_type": "stream",
          "text": [
            "The Cross_validation_score is 0.603\n"
          ],
          "name": "stdout"
        }
      ]
    },
    {
      "cell_type": "code",
      "metadata": {
        "id": "4yvMFIrH5nlC",
        "colab": {
          "base_uri": "https://localhost:8080/"
        },
        "outputId": "cf118860-5c2d-480d-fd25-95fbe45e7613"
      },
      "source": [
        "from sklearn.naive_bayes import GaussianNB\n",
        "\n",
        "gnb = GaussianNB()\n",
        "gnb.fit(X_train, Y_train)\n",
        "gnb_pred = gnb.predict(X_test)\n",
        "gnb_accuracy = accuracy_score(Y_test, gnb_pred)\n",
        "#score_gnb = gnb.score(X_test, Y_test)\n",
        "#print('The accuracy of the GNB Model is %0.3f)' % score_gnb)\n",
        "#print('The accuracy_score of the Naive Bayes model is %0.3f\\n' % gnb_accuracy)\n",
        "print(classification_report(Y_test, gnb_pred))"
      ],
      "execution_count": null,
      "outputs": [
        {
          "output_type": "stream",
          "text": [
            "              precision    recall  f1-score   support\n",
            "\n",
            "         0.0       0.72      0.68      0.70        71\n",
            "         1.0       0.69      0.73      0.71        71\n",
            "\n",
            "    accuracy                           0.70       142\n",
            "   macro avg       0.70      0.70      0.70       142\n",
            "weighted avg       0.70      0.70      0.70       142\n",
            "\n"
          ],
          "name": "stdout"
        }
      ]
    },
    {
      "cell_type": "code",
      "metadata": {
        "id": "Pw5FgJyW5nlC",
        "colab": {
          "base_uri": "https://localhost:8080/"
        },
        "outputId": "a486384a-9acd-4353-e38a-7d4ad40d4ad8"
      },
      "source": [
        "scores_gnb = cross_val_score(gnb, X_train, Y_train, cv=5)\n",
        "mean_gnb = scores_gnb.mean()\n",
        "print('The Cross_validation_score for the Guassian Naive Bayes is %0.3f' % mean_gnb)"
      ],
      "execution_count": null,
      "outputs": [
        {
          "output_type": "stream",
          "text": [
            "The Cross_validation_score for the Guassian Naive Bayes is 0.733\n"
          ],
          "name": "stdout"
        }
      ]
    },
    {
      "cell_type": "code",
      "metadata": {
        "id": "_MOGIozS5nlC",
        "colab": {
          "base_uri": "https://localhost:8080/",
          "height": 359
        },
        "outputId": "e02edc2c-dc3a-4ea0-e41e-135e8fff119a"
      },
      "source": [
        "matrix_knn = plot_confusion_matrix(gnb, X_test, Y_test, cmap=plt.cm.Blues)\n",
        "matrix_knn.ax_.set_title('Confusion Matrix', color='blue')\n",
        "plt.xlabel('predicted Label', color ='blue')\n",
        "plt.ylabel('true label', color ='blue')\n",
        "plt.gcf().axes[0].tick_params(colors='blue')\n",
        "plt.gcf().axes[1].tick_params(colors='blue')\n",
        "plt.gcf().set_size_inches(6,6)\n",
        "plt.show()"
      ],
      "execution_count": null,
      "outputs": [
        {
          "output_type": "display_data",
          "data": {
            "image/png": "[encoded data removed]",
            "text/plain": [
              "<Figure size 432x432 with 2 Axes>"
            ]
          },
          "metadata": {
            "tags": [],
            "needs_background": "light"
          }
        }
      ]
    },
    {
      "cell_type": "code",
      "metadata": {
        "id": "fQ6FoAa65nlC",
        "colab": {
          "base_uri": "https://localhost:8080/"
        },
        "outputId": "0d88142a-fb7e-4612-f2c8-31281efec6d6"
      },
      "source": [
        "print('%0.3f' % log_accuracy, '%0.3f' % knn_accuracy, '%0.3f' % DTC_accuracy, '%0.3f' % svc_accuracy, '%0.3f' % score_rfr, '%0.3f' % gnb_accuracy)"
      ],
      "execution_count": null,
      "outputs": [
        {
          "output_type": "stream",
          "text": [
            "0.859 0.873 0.838 0.697 0.629 0.704\n"
          ],
          "name": "stdout"
        }
      ]
    },
    {
      "cell_type": "code",
      "metadata": {
        "id": "Ttiw_EXI5nlC",
        "colab": {
          "base_uri": "https://localhost:8080/"
        },
        "outputId": "6f5bb8ee-8dd6-4803-f89f-dfdcb85bf325"
      },
      "source": [
        "print('%0.3f' % mean_logreg, '%0.3f' % mean_knn, '%0.3f' % mean_DTC, '%0.3f' % mean_svc, '%0.3f' % mean_rfr, '%0.3f' % mean_gnb)"
      ],
      "execution_count": null,
      "outputs": [
        {
          "output_type": "stream",
          "text": [
            "0.839 0.861 0.830 0.703 0.603 0.733\n"
          ],
          "name": "stdout"
        }
      ]
    },
    {
      "cell_type": "code",
      "metadata": {
        "id": "5O12Jvv85nlC"
      },
      "source": [
        "#prediction probabilities(predict_proba)\n",
        "\n",
        "r_probs = [0 for _ in range(len(Y_test))] # 0 - worse case scenario\n",
        "log_reg_probs = log_reg.predict_proba(X_test)\n",
        "knn_probs = knn.predict_proba(X_test)\n",
        "DTC_probs = DTC.predict_proba(X_test)\n",
        "gnb_probs =gnb.predict_proba(X_test)\n"
      ],
      "execution_count": null,
      "outputs": []
    },
    {
      "cell_type": "code",
      "metadata": {
        "id": "-sVHwj075nlC"
      },
      "source": [
        "#probabilities for positive outcomes\n",
        "log_reg_probs = log_reg_probs[:, 1]\n",
        "knn_probs = knn_probs[:,1]\n",
        "DTC_probs = DTC_probs[:,1]\n",
        "gnb_probs = gnb_probs[:,1]"
      ],
      "execution_count": null,
      "outputs": []
    },
    {
      "cell_type": "code",
      "metadata": {
        "id": "mdqk1GVW5nlC"
      },
      "source": [
        "#computing AUROC (area under the roc curve) and ROC values\n",
        "from sklearn.metrics import roc_curve, roc_auc_score\n",
        "\n",
        "r_auc = roc_auc_score(Y_test, r_probs)\n",
        "log_reg_auc = roc_auc_score(Y_test, log_reg_probs)\n",
        "knn_auc = roc_auc_score(Y_test, knn_probs)\n",
        "DTC_auc = roc_auc_score(Y_test, DTC_probs)\n",
        "gnb_auc = roc_auc_score(Y_test, gnb_probs)"
      ],
      "execution_count": null,
      "outputs": []
    },
    {
      "cell_type": "code",
      "metadata": {
        "id": "L5OMT1zE5nlC",
        "colab": {
          "base_uri": "https://localhost:8080/"
        },
        "outputId": "5dfa9adf-fd21-494f-96e7-ca8b13ffa5c8"
      },
      "source": [
        "#print AUROC (area under the roc curve) score for all the models\n",
        "\n",
        "\n",
        "print('random (chance) Prediction: AUROC = %.3f' %(r_auc)) #worst case scenario\n",
        "print('LogisticRegression:AUROC = %.3f' %(log_reg_auc))\n",
        "print('KNN :AUROC = %.3f' %(knn_auc))\n",
        "print('DecisionTree :AUROC = %.3f' %(DTC_auc))\n",
        "print('Naive Bayes :AUROC = %.3f' %(gnb_auc))"
      ],
      "execution_count": null,
      "outputs": [
        {
          "output_type": "stream",
          "text": [
            "random (chance) Prediction: AUROC = 0.500\n",
            "LogisticRegression:AUROC = 0.942\n",
            "KNN :AUROC = 0.942\n",
            "DecisionTree :AUROC = 0.838\n",
            "Naive Bayes :AUROC = 0.704\n"
          ],
          "name": "stdout"
        }
      ]
    },
    {
      "cell_type": "code",
      "metadata": {
        "id": "8d9qg6JS5nlC"
      },
      "source": [
        "#calculate ROC curve (fpr-false positive rate, tpr-true positive rate) for all the models\n",
        "\n",
        "r_fpr, r_tpr, _ = roc_curve(Y_test, r_probs)\n",
        "log_reg_fpr, log_reg_tpr, _ = roc_curve(Y_test, log_reg_probs)\n",
        "knn_fpr, knn_tpr, _ = roc_curve(Y_test, knn_probs)\n",
        "DTC_fpr, DTC_tpr, _ = roc_curve(Y_test, DTC_probs)\n",
        "gnb_fpr, gnb_tpr, _ = roc_curve(Y_test, gnb_probs)\n"
      ],
      "execution_count": null,
      "outputs": []
    },
    {
      "cell_type": "code",
      "metadata": {
        "id": "xKzBAwwV5nlC",
        "colab": {
          "base_uri": "https://localhost:8080/",
          "height": 410
        },
        "outputId": "37b50fe5-5bfb-41de-eea3-280a906d75d2"
      },
      "source": [
        "#plot roc curve\n",
        "\n",
        "plt.plot(r_fpr, r_tpr, linestyle='--', label ='Random prediction (AUROC = %0.2f)' % r_auc)\n",
        "plt.plot(log_reg_fpr, log_reg_tpr, marker ='.', label ='logistic Regression prediction (AUROC = %0.2f)' % log_reg_auc)\n",
        "plt.plot(knn_fpr, knn_tpr, marker='.', label ='KNN prediction (AUROC = %0.2f)' % knn_auc)\n",
        "plt.plot(DTC_fpr, DTC_tpr, marker='.', label ='Decision Tree prediction (AUROC = %0.2f)' % DTC_auc)\n",
        "plt.plot(gnb_fpr, gnb_tpr, marker='.', label ='Naive Bayes prediction (AUROC = %0.2f)' % gnb_auc)\n",
        "\n",
        "plt.title('ROC PLOT', fontsize = 16, color = 'blue')\n",
        "plt.xlabel('false positive rate', fontsize = 14, color = 'blue')\n",
        "plt.ylabel('true positive rate', fontsize = 14, color = 'blue')\n",
        "plt.legend(fontsize = 12)\n",
        "plt.gcf().set_size_inches(10,6)\n",
        "plt.show()\n",
        "\n",
        "\n"
      ],
      "execution_count": null,
      "outputs": [
        {
          "output_type": "display_data",
          "data": {
            "image/png": "[encoded data removed]",
            "text/plain": [
              "<Figure size 720x432 with 1 Axes>"
            ]
          },
          "metadata": {
            "tags": [],
            "needs_background": "light"
          }
        }
      ]
    },
    {
      "cell_type": "code",
      "metadata": {
        "id": "bZFb5Ilq5nlC"
      },
      "source": [
        ""
      ],
      "execution_count": null,
      "outputs": []
    },
    {
      "cell_type": "code",
      "metadata": {
        "id": "4I8oBmgh5nlC"
      },
      "source": [
        "\n"
      ],
      "execution_count": null,
      "outputs": []
    },
    {
      "cell_type": "code",
      "metadata": {
        "id": "mHicAiE45nlC"
      },
      "source": [
        ""
      ],
      "execution_count": null,
      "outputs": []
    },
    {
      "cell_type": "code",
      "metadata": {
        "id": "cldSphj45nlC"
      },
      "source": [
        ""
      ],
      "execution_count": null,
      "outputs": []
    },
    {
      "cell_type": "code",
      "metadata": {
        "id": "H_fD8FMA5nlC"
      },
      "source": [
        ""
      ],
      "execution_count": null,
      "outputs": []
    },
    {
      "cell_type": "code",
      "metadata": {
        "id": "KBSEjopN5nlC"
      },
      "source": [
        ""
      ],
      "execution_count": null,
      "outputs": []
    },
    {
      "cell_type": "code",
      "metadata": {
        "id": "IKk5GhKa5nlC"
      },
      "source": [
        ""
      ],
      "execution_count": null,
      "outputs": []
    },
    {
      "cell_type": "code",
      "metadata": {
        "id": "FhMgvzuQ5nlC"
      },
      "source": [
        ""
      ],
      "execution_count": null,
      "outputs": []
    },
    {
      "cell_type": "code",
      "metadata": {
        "id": "AP3fpnT75nlC"
      },
      "source": [
        ""
      ],
      "execution_count": null,
      "outputs": []
    },
    {
      "cell_type": "code",
      "metadata": {
        "id": "XMlXiJvs5nlC"
      },
      "source": [
        ""
      ],
      "execution_count": null,
      "outputs": []
    },
    {
      "cell_type": "code",
      "metadata": {
        "id": "EPloaVUC5nlC"
      },
      "source": [
        ""
      ],
      "execution_count": null,
      "outputs": []
    }
  ]
}