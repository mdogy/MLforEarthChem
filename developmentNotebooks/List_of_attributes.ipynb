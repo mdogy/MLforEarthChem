{
 "cells": [
  {
   "cell_type": "code",
   "execution_count": 1,
   "metadata": {},
   "outputs": [],
   "source": [
    "import numpy as np\n",
    "import pandas as pd\n",
    "import requests as reqs\n",
    "import matplotlib.pyplot as plt\n",
    "%matplotlib inline\n",
    "import json\n",
    "from pandas.io.json import json_normalize  "
   ]
  },
  {
   "cell_type": "code",
   "execution_count": 2,
   "metadata": {},
   "outputs": [
    {
     "data": {
      "text/plain": [
       "43"
      ]
     },
     "execution_count": 2,
     "metadata": {},
     "output_type": "execute_result"
    }
   ],
   "source": [
    "header_names_26840 = ['specimen_num', 'specimen_code', 'igsn', 'archive_institution', 'specimen_material', 'taxon__rock_type',\n",
    "                      'taxon__rock_class','taxon___source__citation_num','taxon___source__citation_code', 'rock_class_details', \n",
    "                      'specimen_names__specimen_name','specimen_names___source__citation_num', \n",
    "                      'specimen_names___source__citation_code','specimen_comments', 'alterations','rocktextures__rock_texture',\n",
    "                      'rocktextures___source__citation_num', 'rock_textures___source__citation_code','geological_ages__prefix',\n",
    "                      'geological_ages__age', 'geological_ages__age_min','geological_ages__age_max', \n",
    "                      'geological_ages___source__citation_num','geological_ages___source__citation_code','station_num', \n",
    "                      'station_code','lat_label', 'long_label','points__latitude', 'points__longitude','points__text', \n",
    "                      'center_lat', 'center_long', 'elevation_min','elevation_max', 'location_precisions','geographic_location',\n",
    "                      'tectonic_settings', 'expedition_num', 'expedition_code','sampling_technique_code', 'sampling_technique_name',\n",
    "                      'analyzed_samples'\n",
    "                     ]\n",
    "\n",
    "len(header_names_26840)"
   ]
  },
  {
   "cell_type": "code",
   "execution_count": 3,
   "metadata": {},
   "outputs": [
    {
     "data": {
      "text/plain": [
       "41"
      ]
     },
     "execution_count": 3,
     "metadata": {},
     "output_type": "execute_result"
    }
   ],
   "source": [
    "header_names_26639 = ['specimen_num', 'specimen_code', 'igsn', 'archive_institution', 'specimen_material', 'taxon__rock_type',\n",
    "                      'taxon__rock_class', 'taxon___source__citation_num', 'taxon___source__citation_code', 'rock_class_details',\n",
    "                      'specimen_names__specimen_name', 'specimen_names___source__citation_num', \n",
    "                      'specimen_names___source__citation_code','specimen_comments', 'alterations', 'rock_textures', \n",
    "                      'geological_ages__prefix', 'geological_ages__age', 'geological_ages__age_min', 'geological_ages__age_max',\n",
    "                      'geological_ages___source__citation_num','geological_ages___source__citation_code', 'station_num', \n",
    "                      'station_code', 'lat_label','long_label', 'points__latitude','points__longitude', 'points__text', 'center_lat', \n",
    "                      'center_long', 'elevation_min', 'elevation_max','location_precisions', 'geographic_location', \n",
    "                      'tectonic_settings','expedition_num','expedition_code','sampling_technique_code', 'sampling_technique_name',\n",
    "                      'analyzed_samples']\n",
    "\n",
    "len(header_names_26639)"
   ]
  },
  {
   "cell_type": "markdown",
   "metadata": {},
   "source": [
    "Two specimen numbers (26639, 26840) examples lists containing all possible features."
   ]
  },
  {
   "cell_type": "code",
   "execution_count": 4,
   "metadata": {},
   "outputs": [
    {
     "data": {
      "text/plain": [
       "40"
      ]
     },
     "execution_count": 4,
     "metadata": {},
     "output_type": "execute_result"
    }
   ],
   "source": [
    "header_names_26777 = ['specimen_num','specimen_code', 'igsn','archive_institution','specimen_material','taxon__rock_type',\n",
    "                     'taxon__rock_class','taxon___source__citation_num','taxon___source__citation_code','rock_class_details',\n",
    "                     'specimen_names__specimen_name','specimen_names___source__citation_num',\n",
    "                     'specimen_names___source__citation_code', 'specimen_comments','alterations','rock_textures',\n",
    "                     'geological_ages__age', 'geological_ages__age_min', 'geological_ages__age_max', \n",
    "                     'geological_ages___source__citation_num','geological_ages___source__citation_code', 'station_num',\n",
    "                     'station_code', 'lat_label', 'long_label', 'points__latitude', 'points__longitude', 'points__text',\n",
    "                     'center_lat', 'center_long', 'elevation_min', 'elevation_max','location_precisions','geographic_location',\n",
    "                     'tectonic_settings','expedition_num','expedition_code','sampling_technique_code','sampling_technique_name',\n",
    "                      'analyzed_samples'\n",
    "                     ]\n",
    "\n",
    "len(header_names_26777)"
   ]
  },
  {
   "cell_type": "code",
   "execution_count": 5,
   "metadata": {},
   "outputs": [
    {
     "data": {
      "text/plain": [
       "40"
      ]
     },
     "execution_count": 5,
     "metadata": {},
     "output_type": "execute_result"
    }
   ],
   "source": [
    "header_names_33513 = ['specimen_num','specimen_code', 'igsn','archive_institution','specimen_material','taxon__rock_type',\n",
    "                     'taxon__rock_class','taxon___source__citation_num','taxon___source__citation_code','rock_class_details',\n",
    "                     'rock_class_details__rock_class_detail','rock_class_details___source__citation_num',\n",
    "                     'rock_class_details___source__citation_code','specimen_names__specimen_name',\n",
    "                     'specimen_names___source__citation_num','specimen_names___source__citation_code','specimen_comments',\n",
    "                     'alterations','rock_textures__rock_texture','rock_textures___source__citation_num',\n",
    "                     'rock_textures___source__citation_code', 'station_num','station_code', 'lat_label','long_label', \n",
    "                     'points__latitude', 'points__longitude', 'points__text','center_lat', 'center_long', 'elevation_min', \n",
    "                     'elevation_max','location_precisions','geographic location','tectonic_settings','expedition_num', \n",
    "                     'expedition_code','sampling_technique_code','sampling_technique_name','analyzed_samples'\n",
    "                     ]\n",
    "\n",
    "len(header_names_33513)"
   ]
  },
  {
   "cell_type": "code",
   "execution_count": 6,
   "metadata": {},
   "outputs": [
    {
     "data": {
      "text/plain": [
       "40"
      ]
     },
     "execution_count": 6,
     "metadata": {},
     "output_type": "execute_result"
    }
   ],
   "source": [
    "header_names_26830 = ['specimen_num','specimen_code', 'igsn','archive_institution','specimen_material','taxon__rock_type',\n",
    "                      'taxon__rock_class','taxon___source__citation_num','taxon___source__citation_code','rock_class_details',\n",
    "                      'specimen_names__specimen_name','specimen_names___source__citation_num',\n",
    "                      'specimen_names___source__citation_code','specimen_comments','alterations','rock_textures__rock_texture',\n",
    "                      'rock_textures___source__citation_num','rock_textures___source__citation_code','geological_ages__age', \n",
    "                      'geological_ages__age_min', 'geological_ages__age_max', 'geological_ages___source__citation_num',\n",
    "                      'geological_ages___source__citation_code','station_num','station_code', 'lat_label','long_label', \n",
    "                      'points__latitude', 'points__longitude', 'points__text','center_lat', 'center_long', 'elevation_min', \n",
    "                      'elevation_max','location_precisions','geographic location','tectonic_settings','expedition_num', \n",
    "                      'expedition_code','sampling_technique_code','sampling_technique_name','analyzed_samples'\n",
    "                     ]\n",
    "\n",
    "len(header_names_33513)"
   ]
  },
  {
   "cell_type": "code",
   "execution_count": 7,
   "metadata": {},
   "outputs": [
    {
     "data": {
      "text/plain": [
       "42"
      ]
     },
     "execution_count": 7,
     "metadata": {},
     "output_type": "execute_result"
    }
   ],
   "source": [
    "header_names_26822 = ['specimen_num','specimen_code', 'igsn','archive_institution','specimen_material','taxon__rock_type',\n",
    "                      'taxon__rock_class','taxon___source__citation_num','taxon___source__citation_code','rock_class_details',\n",
    "                      'specimen_names__specimen_name','specimen_names___source__citation_num',\n",
    "                      'specimen_names___source__citation_code','specimen_comments','alterations','rock_textures__rock_texture',\n",
    "                      'rock_textures___source__citation_num','rock_textures___source__citation_code','geological_ages__age', \n",
    "                      'geological_ages__age_min', 'geological_ages__age_max', 'geological_ages___source__citation_num',\n",
    "                      'geological_ages___source__citation_code','station_num','station_code', 'lat_label','long_label', \n",
    "                      'points__latitude', 'points__longitude', 'points__text','center_lat', 'center_long', 'elevation_min', \n",
    "                      'elevation_max','location_precisions','geographic location','tectonic_settings','expedition_num', \n",
    "                      'expedition_code','sampling_technique_code','sampling_technique_name','analyzed_samples'\n",
    "                     ]\n",
    "\n",
    "len(header_names_26822)"
   ]
  },
  {
   "cell_type": "code",
   "execution_count": 8,
   "metadata": {},
   "outputs": [
    {
     "data": {
      "text/plain": [
       "42"
      ]
     },
     "execution_count": 8,
     "metadata": {},
     "output_type": "execute_result"
    }
   ],
   "source": [
    "header_names_26815 = ['specimen_num','specimen_code', 'igsn','archive_institution','specimen_material','taxon__rock_type',\n",
    "                      'taxon__rock_class','taxon___source__citation_num','taxon___source__citation_code','rock_class_details',\n",
    "                      'specimen_names__specimen_name','specimen_names___source__citation_num',\n",
    "                      'specimen_names___source__citation_code','specimen_comments','alterations','rock_textures__rock_texture',\n",
    "                      'rock_textures___source__citation_num','rock_textures___source__citation_code','geological_ages__age', \n",
    "                      'geological_ages__age_min', 'geological_ages__age_max', 'geological_ages___source__citation_num',\n",
    "                      'geological_ages___source__citation_code','station_num','station_code', 'lat_label','long_label', \n",
    "                      'points__latitude', 'points__longitude', 'points__text','center_lat', 'center_long', 'elevation_min', \n",
    "                      'elevation_max','location_precisions','geographic location','tectonic_settings','expedition_num', \n",
    "                      'expedition_code','sampling_technique_code','sampling_technique_name','analyzed_samples'\n",
    "                     ]\n",
    "len(header_names_26815)"
   ]
  },
  {
   "cell_type": "code",
   "execution_count": 9,
   "metadata": {},
   "outputs": [
    {
     "data": {
      "text/plain": [
       "40"
      ]
     },
     "execution_count": 9,
     "metadata": {},
     "output_type": "execute_result"
    }
   ],
   "source": [
    "header_names_26673 = ['specimen_num','specimen_code', 'igsn','archive_institution','specimen_material','taxon__rock_type',\n",
    "                      'taxon__rock_class','taxon___source__citation_num','taxon___source__citation_code','rock_class_details',\n",
    "                      'specimen_names__specimen_name','specimen_names___source__citation_num',\n",
    "                      'specimen_names___source__citation_code','specimen_comments','alterations','rock_textures',\n",
    "                      'geological_ages__age', 'geological_ages__age_min', 'geological_ages__age_max', \n",
    "                      'geological_ages___source__citation_num','geological_ages___source__citation_code','station_num',\n",
    "                      'station_code', 'lat_label','long_label', 'points__latitude', 'points__longitude', 'points__text',\n",
    "                      'center_lat', 'center_long','elevation_min', 'elevation_max','location_precisions','geographic location',\n",
    "                      'tectonic_settings','expedition_num','expedition_code','sampling_technique_code','sampling_technique_name',\n",
    "                      'analyzed_samples'\n",
    "                     ]\n",
    "len(header_names_26673)"
   ]
  },
  {
   "cell_type": "code",
   "execution_count": 10,
   "metadata": {},
   "outputs": [
    {
     "data": {
      "text/plain": [
       "36"
      ]
     },
     "execution_count": 10,
     "metadata": {},
     "output_type": "execute_result"
    }
   ],
   "source": [
    "header_names_33331 = ['specimen_num','specimen_code', 'igsn','archive_institution','specimen_material','taxon__rock_type',\n",
    "                      'taxon__rock_class','taxon___source__citation_num','taxon___source__citation_code','rock_class_details',\n",
    "                      'specimen_names__specimen_name','specimen_names___source__citation_num',\n",
    "                      'specimen_names___source__citation_code','specimen_comments','alterations','rock_textures',\n",
    "                      'geological_ages','station_num','station_code', 'lat_label','long_label', 'points__latitude', \n",
    "                      'points__longitude', 'points__text','center_lat', 'center_long','elevation_min', 'elevation_max',\n",
    "                      'location_precisions','geographic location','tectonic_settings','expedition_num', \n",
    "                      'expedition_code','sampling_technique_code','sampling_technique_name','analyzed_samples'\n",
    "                     ]\n",
    "len(header_names_33331)"
   ]
  },
  {
   "cell_type": "code",
   "execution_count": 11,
   "metadata": {},
   "outputs": [
    {
     "data": {
      "text/plain": [
       "40"
      ]
     },
     "execution_count": 11,
     "metadata": {},
     "output_type": "execute_result"
    }
   ],
   "source": [
    "header_names_33615 = ['specimen_num','specimen_code', 'igsn','archive_institution','specimen_material','taxon__rock_type',\n",
    "                      'taxon__rock_class','taxon___source__citation_num','taxon___source__citation_code','rock_class_details',\n",
    "                      'specimen_names__specimen_name','specimen_names___source__citation_num',\n",
    "                      'specimen_names___source__citation_code','specimen_comments','alterations','rock_textures',\n",
    "                      'geological_ages__age', 'geological_ages__age_min', 'geological_ages__age_max', \n",
    "                      'geological_ages___source__citation_num','geological_ages___source__citation_code','station_num',\n",
    "                      'station_code', 'lat_label','long_label', 'points__latitude', 'points__longitude', 'points__text',\n",
    "                      'center_lat', 'center_long','elevation_min', 'elevation_max','location_precisions','geographic location',\n",
    "                      'tectonic_settings','expedition_num', 'expedition_code','sampling_technique_code',\n",
    "                      'sampling_technique_name','analyzed_samples'\n",
    "                     ]\n",
    "len(header_names_33615)"
   ]
  },
  {
   "cell_type": "code",
   "execution_count": 12,
   "metadata": {},
   "outputs": [
    {
     "name": "stdout",
     "output_type": "stream",
     "text": [
      "['specimen_num', 'specimen_code', 'igsn', 'archive_institution', 'specimen_material', 'taxon__rock_type', 'taxon__rock_class', 'taxon___source__citation_num', 'taxon___source__citation_code', 'rock_class_details', 'specimen_names__specimen_name', 'specimen_names___source__citation_num', 'specimen_names___source__citation_code', 'specimen_comments', 'alterations', 'rocktextures__rock_texture', 'rocktextures___source__citation_num', 'rock_textures___source__citation_code', 'geological_ages__prefix', 'geological_ages__age', 'geological_ages__age_min', 'geological_ages__age_max', 'geological_ages___source__citation_num', 'geological_ages___source__citation_code', 'station_num', 'station_code', 'lat_label', 'long_label', 'points__latitude', 'points__longitude', 'points__text', 'center_lat', 'center_long', 'elevation_min', 'elevation_max', 'location_precisions', 'geographic_location', 'tectonic_settings', 'expedition_num', 'expedition_code', 'sampling_technique_code', 'sampling_technique_name', 'analyzed_samples', 'specimen_num', 'specimen_code', 'igsn', 'archive_institution', 'specimen_material', 'taxon__rock_type', 'taxon__rock_class', 'taxon___source__citation_num', 'taxon___source__citation_code', 'rock_class_details', 'specimen_names__specimen_name', 'specimen_names___source__citation_num', 'specimen_names___source__citation_code', 'specimen_comments', 'alterations', 'rock_textures', 'geological_ages__prefix', 'geological_ages__age', 'geological_ages__age_min', 'geological_ages__age_max', 'geological_ages___source__citation_num', 'geological_ages___source__citation_code', 'station_num', 'station_code', 'lat_label', 'long_label', 'points__latitude', 'points__longitude', 'points__text', 'center_lat', 'center_long', 'elevation_min', 'elevation_max', 'location_precisions', 'geographic_location', 'tectonic_settings', 'expedition_num', 'expedition_code', 'sampling_technique_code', 'sampling_technique_name', 'analyzed_samples', 'specimen_num', 'specimen_code', 'igsn', 'archive_institution', 'specimen_material', 'taxon__rock_type', 'taxon__rock_class', 'taxon___source__citation_num', 'taxon___source__citation_code', 'rock_class_details', 'specimen_names__specimen_name', 'specimen_names___source__citation_num', 'specimen_names___source__citation_code', 'specimen_comments', 'alterations', 'rock_textures', 'geological_ages__age', 'geological_ages__age_min', 'geological_ages__age_max', 'geological_ages___source__citation_num', 'geological_ages___source__citation_code', 'station_num', 'station_code', 'lat_label', 'long_label', 'points__latitude', 'points__longitude', 'points__text', 'center_lat', 'center_long', 'elevation_min', 'elevation_max', 'location_precisions', 'geographic_location', 'tectonic_settings', 'expedition_num', 'expedition_code', 'sampling_technique_code', 'sampling_technique_name', 'analyzed_samples', 'specimen_num', 'specimen_code', 'igsn', 'archive_institution', 'specimen_material', 'taxon__rock_type', 'taxon__rock_class', 'taxon___source__citation_num', 'taxon___source__citation_code', 'rock_class_details', 'rock_class_details__rock_class_detail', 'rock_class_details___source__citation_num', 'rock_class_details___source__citation_code', 'specimen_names__specimen_name', 'specimen_names___source__citation_num', 'specimen_names___source__citation_code', 'specimen_comments', 'alterations', 'rock_textures__rock_texture', 'rock_textures___source__citation_num', 'rock_textures___source__citation_code', 'station_num', 'station_code', 'lat_label', 'long_label', 'points__latitude', 'points__longitude', 'points__text', 'center_lat', 'center_long', 'elevation_min', 'elevation_max', 'location_precisions', 'geographic location', 'tectonic_settings', 'expedition_num', 'expedition_code', 'sampling_technique_code', 'sampling_technique_name', 'analyzed_samples', 'specimen_num', 'specimen_code', 'igsn', 'archive_institution', 'specimen_material', 'taxon__rock_type', 'taxon__rock_class', 'taxon___source__citation_num', 'taxon___source__citation_code', 'rock_class_details', 'specimen_names__specimen_name', 'specimen_names___source__citation_num', 'specimen_names___source__citation_code', 'specimen_comments', 'alterations', 'rock_textures__rock_texture', 'rock_textures___source__citation_num', 'rock_textures___source__citation_code', 'geological_ages__age', 'geological_ages__age_min', 'geological_ages__age_max', 'geological_ages___source__citation_num', 'geological_ages___source__citation_code', 'station_num', 'station_code', 'lat_label', 'long_label', 'points__latitude', 'points__longitude', 'points__text', 'center_lat', 'center_long', 'elevation_min', 'elevation_max', 'location_precisions', 'geographic location', 'tectonic_settings', 'expedition_num', 'expedition_code', 'sampling_technique_code', 'sampling_technique_name', 'analyzed_samples', 'specimen_num', 'specimen_code', 'igsn', 'archive_institution', 'specimen_material', 'taxon__rock_type', 'taxon__rock_class', 'taxon___source__citation_num', 'taxon___source__citation_code', 'rock_class_details', 'specimen_names__specimen_name', 'specimen_names___source__citation_num', 'specimen_names___source__citation_code', 'specimen_comments', 'alterations', 'rock_textures__rock_texture', 'rock_textures___source__citation_num', 'rock_textures___source__citation_code', 'geological_ages__age', 'geological_ages__age_min', 'geological_ages__age_max', 'geological_ages___source__citation_num', 'geological_ages___source__citation_code', 'station_num', 'station_code', 'lat_label', 'long_label', 'points__latitude', 'points__longitude', 'points__text', 'center_lat', 'center_long', 'elevation_min', 'elevation_max', 'location_precisions', 'geographic location', 'tectonic_settings', 'expedition_num', 'expedition_code', 'sampling_technique_code', 'sampling_technique_name', 'analyzed_samples', 'specimen_num', 'specimen_code', 'igsn', 'archive_institution', 'specimen_material', 'taxon__rock_type', 'taxon__rock_class', 'taxon___source__citation_num', 'taxon___source__citation_code', 'rock_class_details', 'specimen_names__specimen_name', 'specimen_names___source__citation_num', 'specimen_names___source__citation_code', 'specimen_comments', 'alterations', 'rock_textures__rock_texture', 'rock_textures___source__citation_num', 'rock_textures___source__citation_code', 'geological_ages__age', 'geological_ages__age_min', 'geological_ages__age_max', 'geological_ages___source__citation_num', 'geological_ages___source__citation_code', 'station_num', 'station_code', 'lat_label', 'long_label', 'points__latitude', 'points__longitude', 'points__text', 'center_lat', 'center_long', 'elevation_min', 'elevation_max', 'location_precisions', 'geographic location', 'tectonic_settings', 'expedition_num', 'expedition_code', 'sampling_technique_code', 'sampling_technique_name', 'analyzed_samples', 'specimen_num', 'specimen_code', 'igsn', 'archive_institution', 'specimen_material', 'taxon__rock_type', 'taxon__rock_class', 'taxon___source__citation_num', 'taxon___source__citation_code', 'rock_class_details', 'specimen_names__specimen_name', 'specimen_names___source__citation_num', 'specimen_names___source__citation_code', 'specimen_comments', 'alterations', 'rock_textures', 'geological_ages__age', 'geological_ages__age_min', 'geological_ages__age_max', 'geological_ages___source__citation_num', 'geological_ages___source__citation_code', 'station_num', 'station_code', 'lat_label', 'long_label', 'points__latitude', 'points__longitude', 'points__text', 'center_lat', 'center_long', 'elevation_min', 'elevation_max', 'location_precisions', 'geographic location', 'tectonic_settings', 'expedition_num', 'expedition_code', 'sampling_technique_code', 'sampling_technique_name', 'analyzed_samples', 'specimen_num', 'specimen_code', 'igsn', 'archive_institution', 'specimen_material', 'taxon__rock_type', 'taxon__rock_class', 'taxon___source__citation_num', 'taxon___source__citation_code', 'rock_class_details', 'specimen_names__specimen_name', 'specimen_names___source__citation_num', 'specimen_names___source__citation_code', 'specimen_comments', 'alterations', 'rock_textures', 'geological_ages', 'station_num', 'station_code', 'lat_label', 'long_label', 'points__latitude', 'points__longitude', 'points__text', 'center_lat', 'center_long', 'elevation_min', 'elevation_max', 'location_precisions', 'geographic location', 'tectonic_settings', 'expedition_num', 'expedition_code', 'sampling_technique_code', 'sampling_technique_name', 'analyzed_samples', 'specimen_num', 'specimen_code', 'igsn', 'archive_institution', 'specimen_material', 'taxon__rock_type', 'taxon__rock_class', 'taxon___source__citation_num', 'taxon___source__citation_code', 'rock_class_details', 'specimen_names__specimen_name', 'specimen_names___source__citation_num', 'specimen_names___source__citation_code', 'specimen_comments', 'alterations', 'rock_textures', 'geological_ages__age', 'geological_ages__age_min', 'geological_ages__age_max', 'geological_ages___source__citation_num', 'geological_ages___source__citation_code', 'station_num', 'station_code', 'lat_label', 'long_label', 'points__latitude', 'points__longitude', 'points__text', 'center_lat', 'center_long', 'elevation_min', 'elevation_max', 'location_precisions', 'geographic location', 'tectonic_settings', 'expedition_num', 'expedition_code', 'sampling_technique_code', 'sampling_technique_name', 'analyzed_samples']\n"
     ]
    }
   ],
   "source": [
    "all_header_names = header_names_26840 + header_names_26639 + header_names_26777 + header_names_33513 + header_names_26830 + header_names_26822 + header_names_26815 + header_names_26673 + header_names_33331 + header_names_33615\n",
    "\n",
    "print(all_header_names)"
   ]
  },
  {
   "cell_type": "code",
   "execution_count": 13,
   "metadata": {},
   "outputs": [
    {
     "name": "stdout",
     "output_type": "stream",
     "text": [
      "['specimen_num', 'specimen_code', 'igsn', 'archive_institution', 'specimen_material', 'taxon__rock_type', 'taxon__rock_class', 'taxon___source__citation_num', 'taxon___source__citation_code', 'rock_class_details', 'specimen_names__specimen_name', 'specimen_names___source__citation_num', 'specimen_names___source__citation_code', 'specimen_comments', 'alterations', 'rocktextures__rock_texture', 'rocktextures___source__citation_num', 'rock_textures___source__citation_code', 'geological_ages__prefix', 'geological_ages__age', 'geological_ages__age_min', 'geological_ages__age_max', 'geological_ages___source__citation_num', 'geological_ages___source__citation_code', 'station_num', 'station_code', 'lat_label', 'long_label', 'points__latitude', 'points__longitude', 'points__text', 'center_lat', 'center_long', 'elevation_min', 'elevation_max', 'location_precisions', 'geographic_location', 'tectonic_settings', 'expedition_num', 'expedition_code', 'sampling_technique_code', 'sampling_technique_name', 'analyzed_samples', 'rock_textures', 'rock_class_details__rock_class_detail', 'rock_class_details___source__citation_num', 'rock_class_details___source__citation_code', 'rock_textures__rock_texture', 'rock_textures___source__citation_num', 'geographic location', 'geological_ages']\n"
     ]
    },
    {
     "data": {
      "text/plain": [
       "51"
      ]
     },
     "execution_count": 13,
     "metadata": {},
     "output_type": "execute_result"
    }
   ],
   "source": [
    "unique_list=[]\n",
    "for all in all_header_names:\n",
    "    if all not in unique_list:\n",
    "        unique_list.append(all)\n",
    "print(unique_list)\n",
    "len(unique_list)"
   ]
  },
  {
   "cell_type": "code",
   "execution_count": 14,
   "metadata": {},
   "outputs": [
    {
     "name": "stdout",
     "output_type": "stream",
     "text": [
      "['taxon__rock_type', 'rock_class_details___source__citation_num', 'geological_ages___source__citation_num', 'sampling_technique_name', 'geological_ages__age_max', 'points__longitude', 'center_long', 'rock_class_details___source__citation_code', 'taxon___source__citation_num', 'alterations', 'rock_textures___source__citation_num', 'rock_textures', 'geographic_location', 'elevation_max', 'expedition_code', 'points__latitude', 'igsn', 'specimen_names___source__citation_num', 'rock_textures___source__citation_code', 'long_label', 'archive_institution', 'geological_ages__age_min', 'elevation_min', 'taxon___source__citation_code', 'taxon__rock_class', 'center_lat', 'lat_label', 'location_precisions', 'specimen_names__specimen_name', 'geological_ages___source__citation_code', 'sampling_technique_code', 'rocktextures__rock_texture', 'geographic location', 'tectonic_settings', 'specimen_code', 'geological_ages', 'rock_class_details__rock_class_detail', 'geological_ages__prefix', 'rock_textures__rock_texture', 'geological_ages__age', 'rock_class_details', 'specimen_comments', 'specimen_names___source__citation_code', 'points__text', 'expedition_num', 'specimen_material', 'specimen_num', 'analyzed_samples', 'rocktextures___source__citation_num', 'station_num', 'station_code']\n"
     ]
    },
    {
     "data": {
      "text/plain": [
       "51"
      ]
     },
     "execution_count": 14,
     "metadata": {},
     "output_type": "execute_result"
    }
   ],
   "source": [
    "# This also makes the numbers unique\n",
    "\n",
    "no_duplicates_header = list(set(all_header_names))\n",
    "print(no_duplicates_header)\n",
    "len(no_duplicates_header)"
   ]
  },
  {
   "cell_type": "code",
   "execution_count": 15,
   "metadata": {},
   "outputs": [
    {
     "data": {
      "text/plain": [
       "['alterations',\n",
       " 'analyzed_samples',\n",
       " 'archive_institution',\n",
       " 'center_lat',\n",
       " 'center_long',\n",
       " 'elevation_max',\n",
       " 'elevation_min',\n",
       " 'expedition_code',\n",
       " 'expedition_num',\n",
       " 'geographic location',\n",
       " 'geographic_location',\n",
       " 'geological_ages',\n",
       " 'geological_ages___source__citation_code',\n",
       " 'geological_ages___source__citation_num',\n",
       " 'geological_ages__age',\n",
       " 'geological_ages__age_max',\n",
       " 'geological_ages__age_min',\n",
       " 'geological_ages__prefix',\n",
       " 'igsn',\n",
       " 'lat_label',\n",
       " 'location_precisions',\n",
       " 'long_label',\n",
       " 'points__latitude',\n",
       " 'points__longitude',\n",
       " 'points__text',\n",
       " 'rock_class_details',\n",
       " 'rock_class_details___source__citation_code',\n",
       " 'rock_class_details___source__citation_num',\n",
       " 'rock_class_details__rock_class_detail',\n",
       " 'rock_textures',\n",
       " 'rock_textures___source__citation_code',\n",
       " 'rock_textures___source__citation_num',\n",
       " 'rock_textures__rock_texture',\n",
       " 'rocktextures___source__citation_num',\n",
       " 'rocktextures__rock_texture',\n",
       " 'sampling_technique_code',\n",
       " 'sampling_technique_name',\n",
       " 'specimen_code',\n",
       " 'specimen_comments',\n",
       " 'specimen_material',\n",
       " 'specimen_names___source__citation_code',\n",
       " 'specimen_names___source__citation_num',\n",
       " 'specimen_names__specimen_name',\n",
       " 'specimen_num',\n",
       " 'station_code',\n",
       " 'station_num',\n",
       " 'taxon___source__citation_code',\n",
       " 'taxon___source__citation_num',\n",
       " 'taxon__rock_class',\n",
       " 'taxon__rock_type',\n",
       " 'tectonic_settings']"
      ]
     },
     "execution_count": 15,
     "metadata": {},
     "output_type": "execute_result"
    }
   ],
   "source": [
    "unique_list.sort()\n",
    "unique_list\n",
    "\n"
   ]
  },
  {
   "cell_type": "code",
   "execution_count": 16,
   "metadata": {},
   "outputs": [
    {
     "data": {
      "text/plain": [
       "51"
      ]
     },
     "execution_count": 16,
     "metadata": {},
     "output_type": "execute_result"
    }
   ],
   "source": [
    "len(unique_list)"
   ]
  },
  {
   "cell_type": "markdown",
   "metadata": {},
   "source": [
    "10 samples were chosen, and a list of expanded column headings were created from the tree of dictionaries visible in these json \n",
    "files. "
   ]
  }
 ],
 "metadata": {
  "kernelspec": {
   "display_name": "Python 3",
   "language": "python",
   "name": "python3"
  },
  "language_info": {
   "codemirror_mode": {
    "name": "ipython",
    "version": 3
   },
   "file_extension": ".py",
   "mimetype": "text/x-python",
   "name": "python",
   "nbconvert_exporter": "python",
   "pygments_lexer": "ipython3",
   "version": "3.7.6"
  }
 },
 "nbformat": 4,
 "nbformat_minor": 4
}
