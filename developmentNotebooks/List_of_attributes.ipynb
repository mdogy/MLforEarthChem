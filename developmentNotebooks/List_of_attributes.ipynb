{
 "cells": [
  {
   "cell_type": "code",
   "execution_count": 1,
   "metadata": {},
   "outputs": [],
   "source": [
    "import numpy as np\n",
    "import pandas as pd\n",
    "import requests as reqs\n",
    "import matplotlib.pyplot as plt\n",
    "%matplotlib inline\n",
    "import json\n",
    "from pandas.io.json import json_normalize  "
   ]
  },
  {
   "cell_type": "code",
   "execution_count": 16,
   "metadata": {},
   "outputs": [
    {
     "data": {
      "text/plain": [
       "43"
      ]
     },
     "execution_count": 16,
     "metadata": {},
     "output_type": "execute_result"
    }
   ],
   "source": [
    "header_names_26840 = ['specimen_num', 'specimen_code', 'isgn', 'archive_institution', 'specimen_material', 'taxon__rock_type',\n",
    "                      'taxon__rock_class','taxon___source__citation_num','taxon___source__citation_code', 'rock_class_details', \n",
    "                      'specimen_names__specimen_name','specimen_names___source__citation_num', 'Specimen_names___source__citation_code',\n",
    "                      'specimen_comments', 'alterations','rocktextures__rock_texture', 'rocktextures___source__citation_num', \n",
    "                      'rocktextures___source__citation_code','geological_ages__prefix', 'geological_ages__age', 'geological_ages__age_min', \n",
    "                      'geologicalages__age_max', 'geological_ages___source__citation_num','geological_ages___source__citation_code',\n",
    "                      'station_num', 'station_code','lat_label', 'long_label','points__latitude', 'points__longitude','points__text', \n",
    "                      'centerlat', 'centerlong', 'elevation_min','elevation_max', 'location_precisions','geographic_location',\n",
    "                      'tectonic_settings', 'expedition_num', 'expedition_code','sampling_technique_code', 'sampling_technique_name',\n",
    "                      'analyzed_samples'\n",
    "                     ]\n",
    "\n",
    "\n",
    "\n",
    "len(header_names_26840)\n"
   ]
  },
  {
   "cell_type": "code",
   "execution_count": 15,
   "metadata": {},
   "outputs": [
    {
     "data": {
      "text/plain": [
       "41"
      ]
     },
     "execution_count": 15,
     "metadata": {},
     "output_type": "execute_result"
    }
   ],
   "source": [
    "header_names_26639 = ['specimen_num', 'specimen_code', 'igsn', 'archive_institution', 'specimen_material', 'taxon__rock_type',\n",
    "                      'taxon__rock_class', 'taxon___source__citation_num', 'taxon___source__citation_code', 'rock_class_details',\n",
    "                      'specimen_names__specimen_name', 'specimen_names___source__citation_num', \n",
    "                      'specimens_names___source__citation_code','specimen_comments', 'alterations', 'rock_textures', \n",
    "                      'geological_ages__prefix', 'geological_ages__age', 'geological_ages__age_min', 'geological_ages__age_max',\n",
    "                      'geological_ages___source__citation_num','geological_ages___source__citation_code', 'station_num', \n",
    "                      'station_code', 'lat_label','long_label', 'points__latitude','points__longitude', 'points__text', 'centerLat', \n",
    "                      'centerlong', 'elevation_min', 'elevation_max','location_precisions', 'geographic_location', \n",
    "                      'tectonic_settings','expedition_num','expedition_code','sampling_technique_code', 'sampling_technique_name',\n",
    "                      'analyzed_samples']\n",
    "\n",
    "len(header_names_26639)"
   ]
  },
  {
   "cell_type": "code",
   "execution_count": null,
   "metadata": {},
   "outputs": [],
   "source": []
  }
 ],
 "metadata": {
  "kernelspec": {
   "display_name": "Python 3",
   "language": "python",
   "name": "python3"
  },
  "language_info": {
   "codemirror_mode": {
    "name": "ipython",
    "version": 3
   },
   "file_extension": ".py",
   "mimetype": "text/x-python",
   "name": "python",
   "nbconvert_exporter": "python",
   "pygments_lexer": "ipython3",
   "version": "3.7.6"
  }
 },
 "nbformat": 4,
 "nbformat_minor": 4
}
