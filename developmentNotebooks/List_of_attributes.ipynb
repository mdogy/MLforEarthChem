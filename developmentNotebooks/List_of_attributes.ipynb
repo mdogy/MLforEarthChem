{
 "cells": [
  {
   "cell_type": "code",
   "execution_count": 1,
   "metadata": {},
   "outputs": [],
   "source": [
    "import numpy as np\n",
    "import pandas as pd\n",
    "import requests as reqs\n",
    "import matplotlib.pyplot as plt\n",
    "%matplotlib inline\n",
    "import json\n",
    "from pandas.io.json import json_normalize  "
   ]
  },
  {
   "cell_type": "code",
   "execution_count": 2,
   "metadata": {},
   "outputs": [
    {
     "data": {
      "text/plain": [
       "43"
      ]
     },
     "execution_count": 2,
     "metadata": {},
     "output_type": "execute_result"
    }
   ],
   "source": [
    "header_names_26840 = ['specimen_num', 'specimen_code', 'isgn', 'archive_institution', 'specimen_material', 'taxon__rock_type',\n",
    "                      'taxon__rock_class','taxon___source__citation_num','taxon___source__citation_code', 'rock_class_details', \n",
    "                      'specimen_names__specimen_name','specimen_names___source__citation_num', \n",
    "                      'Specimen_names___source__citation_code','specimen_comments', 'alterations','rocktextures__rock_texture',\n",
    "                      'rocktextures___source__citation_num', 'rocktextures___source__citation_code','geological_ages__prefix',\n",
    "                      'geological_ages__age', 'geological_ages__age_min','geologicalages__age_max', \n",
    "                      'geological_ages___source__citation_num','geological_ages___source__citation_code','station_num', \n",
    "                      'station_code','lat_label', 'long_label','points__latitude', 'points__longitude','points__text', \n",
    "                      'center_lat', 'center_long', 'elevation_min','elevation_max', 'location_precisions','geographic_location',\n",
    "                      'tectonic_settings', 'expedition_num', 'expedition_code','sampling_technique_code', 'sampling_technique_name',\n",
    "                      'analyzed_samples'\n",
    "                     ]\n",
    "\n",
    "len(header_names_26840)"
   ]
  },
  {
   "cell_type": "code",
   "execution_count": 3,
   "metadata": {},
   "outputs": [
    {
     "data": {
      "text/plain": [
       "41"
      ]
     },
     "execution_count": 3,
     "metadata": {},
     "output_type": "execute_result"
    }
   ],
   "source": [
    "header_names_26639 = ['specimen_num', 'specimen_code', 'igsn', 'archive_institution', 'specimen_material', 'taxon__rock_type',\n",
    "                      'taxon__rock_class', 'taxon___source__citation_num', 'taxon___source__citation_code', 'rock_class_details',\n",
    "                      'specimen_names__specimen_name', 'specimen_names___source__citation_num', \n",
    "                      'specimens_names___source__citation_code','specimen_comments', 'alterations', 'rock_textures', \n",
    "                      'geological_ages__prefix', 'geological_ages__age', 'geological_ages__age_min', 'geological_ages__age_max',\n",
    "                      'geological_ages___source__citation_num','geological_ages___source__citation_code', 'station_num', \n",
    "                      'station_code', 'lat_label','long_label', 'points__latitude','points__longitude', 'points__text', 'center_lat', \n",
    "                      'center_long', 'elevation_min', 'elevation_max','location_precisions', 'geographic_location', \n",
    "                      'tectonic_settings','expedition_num','expedition_code','sampling_technique_code', 'sampling_technique_name',\n",
    "                      'analyzed_samples']\n",
    "\n",
    "len(header_names_26639)"
   ]
  },
  {
   "cell_type": "markdown",
   "metadata": {},
   "source": [
    "Two specimen numbers (26639, 26840) examples lists containing all possible features."
   ]
  },
  {
   "cell_type": "code",
   "execution_count": 4,
   "metadata": {},
   "outputs": [
    {
     "data": {
      "text/plain": [
       "39"
      ]
     },
     "execution_count": 4,
     "metadata": {},
     "output_type": "execute_result"
    }
   ],
   "source": [
    "header_names_26777 = ['specimen_num','specimen_code', 'igsn','archive_institution','specimen_material','taxon__rock_type',\n",
    "                     'taxon__rock_class','taxon___source__citation_num','taxon___source__citation_code','rock_class_details',\n",
    "                     'specimen_names__specimen_name','specimen_names___source__citation_num',\n",
    "                     'specimen_names___source__citation_code', 'specimen_comments','alterations','rock_textures',\n",
    "                     'geological_ages__age', 'geological_ages__age_min', 'geological_ages__age_max', \n",
    "                     'geological_ages___source__citation_num','geological_ages___source__citation_code', 'station_num',\n",
    "                     'station_code', 'lat_label', 'long_label', 'points__latitude', 'points__longitude', 'points__text',\n",
    "                     'center_lat', 'center_long', 'elevation_min', 'elevation_max','location_precisions','geographic location'\n",
    "                     'tectonic_settings','expedition_num','expedition_code','sampling_technique_code','sampling_technique_name',\n",
    "                      'analyzed_samples'\n",
    "                     ]\n",
    "\n",
    "len(header_names_26777)"
   ]
  },
  {
   "cell_type": "code",
   "execution_count": 5,
   "metadata": {},
   "outputs": [
    {
     "data": {
      "text/plain": [
       "40"
      ]
     },
     "execution_count": 5,
     "metadata": {},
     "output_type": "execute_result"
    }
   ],
   "source": [
    "header_names_33513 = ['specimen_num','specimen_code', 'igsn','archive_institution','specimen_material','taxon__rock_type',\n",
    "                     'taxon__rock_class','taxon___source__citation_num','taxon___source__citation_code','rock_class_details',\n",
    "                     'rock_class_details__rock_class_detail','rock_class_details___source__citation_num',\n",
    "                     'rock_class_details___source__citation_code','specimen_names__specimen_name',\n",
    "                     'specimen_names___source__citation_num','specimen_names___source__citation_code','specimen_comments',\n",
    "                     'alterations','rock_textures__rock_texture','rock_textures___source__citation_num',\n",
    "                     'rock_textures___source__citation_code', 'station_num','station_code', 'lat_label','long_label', \n",
    "                     'points__latitude', 'points__longitude', 'points__text','center_lat', 'center_long', 'elevation_min', \n",
    "                      'elevation_max','location_precisions','geographic location','tectonic_settings','expedition_num', \n",
    "                      'expedition_code','sampling_technique_code','sampling_technique_name','analyzed_samples'\n",
    "                     ]\n",
    "\n",
    "len(header_names_33513)"
   ]
  },
  {
   "cell_type": "code",
   "execution_count": 7,
   "metadata": {},
   "outputs": [
    {
     "data": {
      "text/plain": [
       "40"
      ]
     },
     "execution_count": 7,
     "metadata": {},
     "output_type": "execute_result"
    }
   ],
   "source": [
    "header_names_26830 = ['specimen_num','specimen_code', 'igsn','archive_institution','specimen_material','taxon__rock_type',\n",
    "                      'taxon__rock_class','taxon___source__citation_num','taxon___source__citation_code','rock_class_details',\n",
    "                      'specimen_names__specimen_name','specimen_names___source__citation_num',\n",
    "                      'specimen_names___source__citation_code','specimen_comments','alterations','rock_textures__rock_texture',\n",
    "                      'rock_textures___source__citation_num','rock_textures___source__citation_code','geological_ages__age', \n",
    "                      'geological_ages__age_min', 'geological_ages__age_max', 'geological_ages___source__citation_num',\n",
    "                      'geological_ages___source__citation_code','station_num','station_code', 'lat_label','long_label', \n",
    "                      'points__latitude', 'points__longitude', 'points__text','center_lat', 'center_long', 'elevation_min', \n",
    "                      'elevation_max','location_precisions','geographic location','tectonic_settings','expedition_num', \n",
    "                      'expedition_code','sampling_technique_code','sampling_technique_name','analyzed_samples'\n",
    "                     ]\n",
    "\n",
    "len(header_names_33513)"
   ]
  },
  {
   "cell_type": "code",
   "execution_count": 10,
   "metadata": {},
   "outputs": [
    {
     "data": {
      "text/plain": [
       "42"
      ]
     },
     "execution_count": 10,
     "metadata": {},
     "output_type": "execute_result"
    }
   ],
   "source": [
    "header_names_26822 = ['specimen_num','specimen_code', 'igsn','archive_institution','specimen_material','taxon__rock_type',\n",
    "                      'taxon__rock_class','taxon___source__citation_num','taxon___source__citation_code','rock_class_details',\n",
    "                      'specimen_names__specimen_name','specimen_names___source__citation_num',\n",
    "                      'specimen_names___source__citation_code','specimen_comments','alterations','rock_textures__rock_texture',\n",
    "                      'rock_textures___source__citation_num','rock_textures___source__citation_code','geological_ages__age', \n",
    "                      'geological_ages__age_min', 'geological_ages__age_max', 'geological_ages___source__citation_num',\n",
    "                      'geological_ages___source__citation_code','station_num','station_code', 'lat_label','long_label', \n",
    "                      'points__latitude', 'points__longitude', 'points__text','center_lat', 'center_long', 'elevation_min', \n",
    "                      'elevation_max','location_precisions','geographic location','tectonic_settings','expedition_num', \n",
    "                      'expedition_code','sampling_technique_code','sampling_technique_name','analyzed_samples'\n",
    "                     ]\n",
    "\n",
    "len(header_names_26822)"
   ]
  },
  {
   "cell_type": "code",
   "execution_count": 12,
   "metadata": {},
   "outputs": [
    {
     "data": {
      "text/plain": [
       "42"
      ]
     },
     "execution_count": 12,
     "metadata": {},
     "output_type": "execute_result"
    }
   ],
   "source": [
    "header_names_26815 = ['specimen_num','specimen_code', 'igsn','archive_institution','specimen_material','taxon__rock_type',\n",
    "                      'taxon__rock_class','taxon___source__citation_num','taxon___source__citation_code','rock_class_details',\n",
    "                      'specimen_names__specimen_name','specimen_names___source__citation_num',\n",
    "                      'specimen_names___source__citation_code','specimen_comments','alterations','rock_textures__rock_texture',\n",
    "                      'rock_textures___source__citation_num','rock_textures___source__citation_code','geological_ages__age', \n",
    "                      'geological_ages__age_min', 'geological_ages__age_max', 'geological_ages___source__citation_num',\n",
    "                      'geological_ages___source__citation_code','station_num','station_code', 'lat_label','long_label', \n",
    "                      'points__latitude', 'points__longitude', 'points__text','center_lat', 'center_long', 'elevation_min', \n",
    "                      'elevation_max','location_precisions','geographic location','tectonic_settings','expedition_num', \n",
    "                      'expedition_code','sampling_technique_code','sampling_technique_name','analyzed_samples'\n",
    "                     ]\n",
    "len(header_names_26815)"
   ]
  },
  {
   "cell_type": "code",
   "execution_count": 14,
   "metadata": {},
   "outputs": [
    {
     "data": {
      "text/plain": [
       "40"
      ]
     },
     "execution_count": 14,
     "metadata": {},
     "output_type": "execute_result"
    }
   ],
   "source": [
    "header_names_26673 = ['specimen_num','specimen_code', 'igsn','archive_institution','specimen_material','taxon__rock_type',\n",
    "                      'taxon__rock_class','taxon___source__citation_num','taxon___source__citation_code','rock_class_details',\n",
    "                      'specimen_names__specimen_name','specimen_names___source__citation_num',\n",
    "                      'specimen_names___source__citation_code','specimen_comments','alterations','rock_textures',\n",
    "                      'geological_ages__age', 'geological_ages__age_min', 'geological_ages__age_max', \n",
    "                      'geological_ages___source__citation_num','geological_ages___source__citation_code','station_num',\n",
    "                      'station_code', 'lat_label','long_label', 'points__latitude', 'points__longitude', 'points__text',\n",
    "                      'center_lat', 'center_long','elevation_min', 'elevation_max','location_precisions','geographic location',\n",
    "                      'tectonic_settings','expedition_num','expedition_code','sampling_technique_code','sampling_technique_name',\n",
    "                      'analyzed_samples'\n",
    "                     ]\n",
    "len(header_names_26673)"
   ]
  },
  {
   "cell_type": "code",
   "execution_count": 15,
   "metadata": {},
   "outputs": [
    {
     "data": {
      "text/plain": [
       "36"
      ]
     },
     "execution_count": 15,
     "metadata": {},
     "output_type": "execute_result"
    }
   ],
   "source": [
    "header_names_33331 = ['specimen_num','specimen_code', 'igsn','archive_institution','specimen_material','taxon__rock_type',\n",
    "                      'taxon__rock_class','taxon___source__citation_num','taxon___source__citation_code','rock_class_details',\n",
    "                      'specimen_names__specimen_name','specimen_names___source__citation_num',\n",
    "                      'specimen_names___source__citation_code','specimen_comments','alterations','rock_textures',\n",
    "                      'geological_ages','station_num','station_code', 'lat_label','long_label', 'points__latitude', \n",
    "                      'points__longitude', 'points__text','center_lat', 'center_long','elevation_min', 'elevation_max',\n",
    "                      'location_precisions','geographic location','tectonic_settings','expedition_num', \n",
    "                      'expedition_code','sampling_technique_code','sampling_technique_name','analyzed_samples'\n",
    "                     ]\n",
    "len(header_names_33331)"
   ]
  },
  {
   "cell_type": "code",
   "execution_count": 16,
   "metadata": {},
   "outputs": [
    {
     "data": {
      "text/plain": [
       "40"
      ]
     },
     "execution_count": 16,
     "metadata": {},
     "output_type": "execute_result"
    }
   ],
   "source": [
    "header_names_33615 = ['specimen_num','specimen_code', 'igsn','archive_institution','specimen_material','taxon__rock_type',\n",
    "                      'taxon__rock_class','taxon___source__citation_num','taxon___source__citation_code','rock_class_details',\n",
    "                      'specimen_names__specimen_name','specimen_names___source__citation_num',\n",
    "                      'specimen_names___source__citation_code','specimen_comments','alterations','rock_textures',\n",
    "                      'geological_ages__age', 'geological_ages__age_min', 'geological_ages__age_max', \n",
    "                      'geological_ages___source__citation_num','geological_ages___source__citation_code','station_num',\n",
    "                      'station_code', 'lat_label','long_label', 'points__latitude', 'points__longitude', 'points__text',\n",
    "                      'center_lat', 'center_long','elevation_min', 'elevation_max','location_precisions','geographic location',\n",
    "                      'tectonic_settings','expedition_num', 'expedition_code','sampling_technique_code',\n",
    "                      'sampling_technique_name','analyzed_samples'\n",
    "                     ]\n",
    "len(header_names_33615)"
   ]
  },
  {
   "cell_type": "code",
   "execution_count": null,
   "metadata": {},
   "outputs": [],
   "source": []
  }
 ],
 "metadata": {
  "kernelspec": {
   "display_name": "Python 3",
   "language": "python",
   "name": "python3"
  },
  "language_info": {
   "codemirror_mode": {
    "name": "ipython",
    "version": 3
   },
   "file_extension": ".py",
   "mimetype": "text/x-python",
   "name": "python",
   "nbconvert_exporter": "python",
   "pygments_lexer": "ipython3",
   "version": "3.7.6"
  }
 },
 "nbformat": 4,
 "nbformat_minor": 4
}
