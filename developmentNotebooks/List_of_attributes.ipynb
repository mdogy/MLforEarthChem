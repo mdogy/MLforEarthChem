{
 "cells": [
  {
   "cell_type": "code",
   "execution_count": 1,
   "metadata": {},
   "outputs": [],
   "source": [
    "import numpy as np\n",
    "import pandas as pd\n",
    "import requests as reqs\n",
    "import matplotlib.pyplot as plt\n",
    "%matplotlib inline\n",
    "import json\n",
    "from pandas.io.json import json_normalize  "
   ]
  },
  {
   "cell_type": "code",
   "execution_count": 2,
   "metadata": {},
   "outputs": [
    {
     "data": {
      "text/plain": [
       "43"
      ]
     },
     "execution_count": 2,
     "metadata": {},
     "output_type": "execute_result"
    }
   ],
   "source": [
    "header_names_26840 = ['specimen_num', 'specimen_code', 'igsn', 'archive_institution', 'specimen_material', 'taxon__rock_type',\n",
    "                      'taxon__rock_class','taxon___source__citation_num','taxon___source__citation_code', 'rock_class_details', \n",
    "                      'specimen_names__specimen_name','specimen_names___source__citation_num', \n",
    "                      'specimen_names___source__citation_code','specimen_comments', 'alterations','rock_textures__rock_texture',\n",
    "                      'rock_textures___source__citation_num', 'rock_textures___source__citation_code','geological_ages__prefix',\n",
    "                      'geological_ages__age', 'geological_ages__age_min','geological_ages__age_max', \n",
    "                      'geological_ages___source__citation_num','geological_ages___source__citation_code','station_num', \n",
    "                      'station_code','lat_label', 'long_label','points__latitude', 'points__longitude','points__text', \n",
    "                      'center_lat', 'center_long', 'elevation_min','elevation_max', 'location_precisions','geographic_location',\n",
    "                      'tectonic_settings', 'expedition_num', 'expedition_code','sampling_technique_code', 'sampling_technique_name',\n",
    "                      'analyzed_samples'\n",
    "                     ]\n",
    "\n",
    "len(header_names_26840)"
   ]
  },
  {
   "cell_type": "code",
   "execution_count": 3,
   "metadata": {},
   "outputs": [
    {
     "data": {
      "text/plain": [
       "41"
      ]
     },
     "execution_count": 3,
     "metadata": {},
     "output_type": "execute_result"
    }
   ],
   "source": [
    "header_names_26639 = ['specimen_num', 'specimen_code', 'igsn', 'archive_institution', 'specimen_material', 'taxon__rock_type',\n",
    "                      'taxon__rock_class', 'taxon___source__citation_num', 'taxon___source__citation_code', 'rock_class_details',\n",
    "                      'specimen_names__specimen_name', 'specimen_names___source__citation_num', \n",
    "                      'specimen_names___source__citation_code','specimen_comments', 'alterations', 'rock_textures', \n",
    "                      'geological_ages__prefix', 'geological_ages__age', 'geological_ages__age_min', 'geological_ages__age_max',\n",
    "                      'geological_ages___source__citation_num','geological_ages___source__citation_code', 'station_num', \n",
    "                      'station_code', 'lat_label','long_label', 'points__latitude','points__longitude', 'points__text', 'center_lat', \n",
    "                      'center_long', 'elevation_min', 'elevation_max','location_precisions', 'geographic_location', \n",
    "                      'tectonic_settings','expedition_num','expedition_code','sampling_technique_code', 'sampling_technique_name',\n",
    "                      'analyzed_samples']\n",
    "\n",
    "len(header_names_26639)"
   ]
  },
  {
   "cell_type": "markdown",
   "metadata": {},
   "source": [
    "Two specimen numbers (26639, 26840) examples lists containing all possible features."
   ]
  },
  {
   "cell_type": "code",
   "execution_count": 4,
   "metadata": {},
   "outputs": [
    {
     "data": {
      "text/plain": [
       "40"
      ]
     },
     "execution_count": 4,
     "metadata": {},
     "output_type": "execute_result"
    }
   ],
   "source": [
    "header_names_26777 = ['specimen_num','specimen_code', 'igsn','archive_institution','specimen_material','taxon__rock_type',\n",
    "                     'taxon__rock_class','taxon___source__citation_num','taxon___source__citation_code','rock_class_details',\n",
    "                     'specimen_names__specimen_name','specimen_names___source__citation_num',\n",
    "                     'specimen_names___source__citation_code', 'specimen_comments','alterations','rock_textures',\n",
    "                     'geological_ages__age', 'geological_ages__age_min', 'geological_ages__age_max', \n",
    "                     'geological_ages___source__citation_num','geological_ages___source__citation_code', 'station_num',\n",
    "                     'station_code', 'lat_label', 'long_label', 'points__latitude', 'points__longitude', 'points__text',\n",
    "                     'center_lat', 'center_long', 'elevation_min', 'elevation_max','location_precisions','geographic_location',\n",
    "                     'tectonic_settings','expedition_num','expedition_code','sampling_technique_code','sampling_technique_name',\n",
    "                      'analyzed_samples'\n",
    "                     ]\n",
    "\n",
    "len(header_names_26777)"
   ]
  },
  {
   "cell_type": "code",
   "execution_count": 5,
   "metadata": {},
   "outputs": [
    {
     "data": {
      "text/plain": [
       "40"
      ]
     },
     "execution_count": 5,
     "metadata": {},
     "output_type": "execute_result"
    }
   ],
   "source": [
    "header_names_33513 = ['specimen_num','specimen_code', 'igsn','archive_institution','specimen_material','taxon__rock_type',\n",
    "                     'taxon__rock_class','taxon___source__citation_num','taxon___source__citation_code','rock_class_details',\n",
    "                     'rock_class_details__rock_class_detail','rock_class_details___source__citation_num',\n",
    "                     'rock_class_details___source__citation_code','specimen_names__specimen_name',\n",
    "                     'specimen_names___source__citation_num','specimen_names___source__citation_code','specimen_comments',\n",
    "                     'alterations','rock_textures__rock_texture','rock_textures___source__citation_num',\n",
    "                     'rock_textures___source__citation_code', 'station_num','station_code', 'lat_label','long_label', \n",
    "                     'points__latitude', 'points__longitude', 'points__text','center_lat', 'center_long', 'elevation_min', \n",
    "                     'elevation_max','location_precisions','geographic_location','tectonic_settings','expedition_num', \n",
    "                     'expedition_code','sampling_technique_code','sampling_technique_name','analyzed_samples'\n",
    "                     ]\n",
    "\n",
    "len(header_names_33513)"
   ]
  },
  {
   "cell_type": "code",
   "execution_count": 6,
   "metadata": {},
   "outputs": [
    {
     "data": {
      "text/plain": [
       "40"
      ]
     },
     "execution_count": 6,
     "metadata": {},
     "output_type": "execute_result"
    }
   ],
   "source": [
    "header_names_26830 = ['specimen_num','specimen_code', 'igsn','archive_institution','specimen_material','taxon__rock_type',\n",
    "                      'taxon__rock_class','taxon___source__citation_num','taxon___source__citation_code','rock_class_details',\n",
    "                      'specimen_names__specimen_name','specimen_names___source__citation_num',\n",
    "                      'specimen_names___source__citation_code','specimen_comments','alterations','rock_textures__rock_texture',\n",
    "                      'rock_textures___source__citation_num','rock_textures___source__citation_code','geological_ages__age', \n",
    "                      'geological_ages__age_min', 'geological_ages__age_max', 'geological_ages___source__citation_num',\n",
    "                      'geological_ages___source__citation_code','station_num','station_code', 'lat_label','long_label', \n",
    "                      'points__latitude', 'points__longitude', 'points__text','center_lat', 'center_long', 'elevation_min', \n",
    "                      'elevation_max','location_precisions','geographic_location','tectonic_settings','expedition_num', \n",
    "                      'expedition_code','sampling_technique_code','sampling_technique_name','analyzed_samples'\n",
    "                     ]\n",
    "\n",
    "len(header_names_33513)"
   ]
  },
  {
   "cell_type": "code",
   "execution_count": 7,
   "metadata": {},
   "outputs": [
    {
     "data": {
      "text/plain": [
       "42"
      ]
     },
     "execution_count": 7,
     "metadata": {},
     "output_type": "execute_result"
    }
   ],
   "source": [
    "header_names_26822 = ['specimen_num','specimen_code', 'igsn','archive_institution','specimen_material','taxon__rock_type',\n",
    "                      'taxon__rock_class','taxon___source__citation_num','taxon___source__citation_code','rock_class_details',\n",
    "                      'specimen_names__specimen_name','specimen_names___source__citation_num',\n",
    "                      'specimen_names___source__citation_code','specimen_comments','alterations','rock_textures__rock_texture',\n",
    "                      'rock_textures___source__citation_num','rock_textures___source__citation_code','geological_ages__age', \n",
    "                      'geological_ages__age_min', 'geological_ages__age_max', 'geological_ages___source__citation_num',\n",
    "                      'geological_ages___source__citation_code','station_num','station_code', 'lat_label','long_label', \n",
    "                      'points__latitude', 'points__longitude', 'points__text','center_lat', 'center_long', 'elevation_min', \n",
    "                      'elevation_max','location_precisions','geographic_location','tectonic_settings','expedition_num', \n",
    "                      'expedition_code','sampling_technique_code','sampling_technique_name','analyzed_samples'\n",
    "                     ]\n",
    "\n",
    "len(header_names_26822)"
   ]
  },
  {
   "cell_type": "code",
   "execution_count": 8,
   "metadata": {},
   "outputs": [
    {
     "data": {
      "text/plain": [
       "42"
      ]
     },
     "execution_count": 8,
     "metadata": {},
     "output_type": "execute_result"
    }
   ],
   "source": [
    "header_names_26815 = ['specimen_num','specimen_code', 'igsn','archive_institution','specimen_material','taxon__rock_type',\n",
    "                      'taxon__rock_class','taxon___source__citation_num','taxon___source__citation_code','rock_class_details',\n",
    "                      'specimen_names__specimen_name','specimen_names___source__citation_num',\n",
    "                      'specimen_names___source__citation_code','specimen_comments','alterations','rock_textures__rock_texture',\n",
    "                      'rock_textures___source__citation_num','rock_textures___source__citation_code','geological_ages__age', \n",
    "                      'geological_ages__age_min', 'geological_ages__age_max', 'geological_ages___source__citation_num',\n",
    "                      'geological_ages___source__citation_code','station_num','station_code', 'lat_label','long_label', \n",
    "                      'points__latitude', 'points__longitude', 'points__text','center_lat', 'center_long', 'elevation_min', \n",
    "                      'elevation_max','location_precisions','geographic_location','tectonic_settings','expedition_num', \n",
    "                      'expedition_code','sampling_technique_code','sampling_technique_name','analyzed_samples'\n",
    "                     ]\n",
    "len(header_names_26815)"
   ]
  },
  {
   "cell_type": "code",
   "execution_count": 9,
   "metadata": {},
   "outputs": [
    {
     "data": {
      "text/plain": [
       "40"
      ]
     },
     "execution_count": 9,
     "metadata": {},
     "output_type": "execute_result"
    }
   ],
   "source": [
    "header_names_26673 = ['specimen_num','specimen_code', 'igsn','archive_institution','specimen_material','taxon__rock_type',\n",
    "                      'taxon__rock_class','taxon___source__citation_num','taxon___source__citation_code','rock_class_details',\n",
    "                      'specimen_names__specimen_name','specimen_names___source__citation_num',\n",
    "                      'specimen_names___source__citation_code','specimen_comments','alterations','rock_textures',\n",
    "                      'geological_ages__age', 'geological_ages__age_min', 'geological_ages__age_max', \n",
    "                      'geological_ages___source__citation_num','geological_ages___source__citation_code','station_num',\n",
    "                      'station_code', 'lat_label','long_label', 'points__latitude', 'points__longitude', 'points__text',\n",
    "                      'center_lat', 'center_long','elevation_min', 'elevation_max','location_precisions','geographic_location',\n",
    "                      'tectonic_settings','expedition_num','expedition_code','sampling_technique_code','sampling_technique_name',\n",
    "                      'analyzed_samples'\n",
    "                     ]\n",
    "len(header_names_26673)"
   ]
  },
  {
   "cell_type": "code",
   "execution_count": 10,
   "metadata": {},
   "outputs": [
    {
     "data": {
      "text/plain": [
       "36"
      ]
     },
     "execution_count": 10,
     "metadata": {},
     "output_type": "execute_result"
    }
   ],
   "source": [
    "header_names_33331 = ['specimen_num','specimen_code', 'igsn','archive_institution','specimen_material','taxon__rock_type',\n",
    "                      'taxon__rock_class','taxon___source__citation_num','taxon___source__citation_code','rock_class_details',\n",
    "                      'specimen_names__specimen_name','specimen_names___source__citation_num',\n",
    "                      'specimen_names___source__citation_code','specimen_comments','alterations','rock_textures',\n",
    "                      'geological_ages','station_num','station_code', 'lat_label','long_label', 'points__latitude', \n",
    "                      'points__longitude', 'points__text','center_lat', 'center_long','elevation_min', 'elevation_max',\n",
    "                      'location_precisions','geographic_location','tectonic_settings','expedition_num', \n",
    "                      'expedition_code','sampling_technique_code','sampling_technique_name','analyzed_samples'\n",
    "                     ]\n",
    "len(header_names_33331)"
   ]
  },
  {
   "cell_type": "code",
   "execution_count": 11,
   "metadata": {},
   "outputs": [
    {
     "data": {
      "text/plain": [
       "40"
      ]
     },
     "execution_count": 11,
     "metadata": {},
     "output_type": "execute_result"
    }
   ],
   "source": [
    "header_names_33615 = ['specimen_num','specimen_code', 'igsn','archive_institution','specimen_material','taxon__rock_type',\n",
    "                      'taxon__rock_class','taxon___source__citation_num','taxon___source__citation_code','rock_class_details',\n",
    "                      'specimen_names__specimen_name','specimen_names___source__citation_num',\n",
    "                      'specimen_names___source__citation_code','specimen_comments','alterations','rock_textures',\n",
    "                      'geological_ages__age', 'geological_ages__age_min', 'geological_ages__age_max', \n",
    "                      'geological_ages___source__citation_num','geological_ages___source__citation_code','station_num',\n",
    "                      'station_code', 'lat_label','long_label', 'points__latitude', 'points__longitude', 'points__text',\n",
    "                      'center_lat', 'center_long','elevation_min', 'elevation_max','location_precisions','geographic_location',\n",
    "                      'tectonic_settings','expedition_num', 'expedition_code','sampling_technique_code',\n",
    "                      'sampling_technique_name','analyzed_samples'\n",
    "                     ]\n",
    "len(header_names_33615)"
   ]
  },
  {
   "cell_type": "code",
   "execution_count": 12,
   "metadata": {},
   "outputs": [
    {
     "data": {
      "text/plain": [
       "41"
      ]
     },
     "execution_count": 12,
     "metadata": {},
     "output_type": "execute_result"
    }
   ],
   "source": [
    "header_names_26644 = ['specimen_num','specimen_code', 'igsn','archive_institution','specimen_material','taxon__rock_type',\n",
    "                      'taxon__rock_class','taxon___source__citation_num','taxon___source__citation_code','rock_class_details',\n",
    "                      'specimen_names__specimen_name','specimen_names___source__citation_num',\n",
    "                      'specimen_names___source__citation_code','specimen_comments','alterations','rock_textures',\n",
    "                      'geological_ages__prefix','geological_ages__age', 'geological_ages__age_min', 'geological_ages__age_max', \n",
    "                      'geological_ages___source__citation_num','geological_ages___source__citation_code','station_num','station_code', \n",
    "                      'lat_label','long_label', 'points__latitude', 'points__longitude', 'points__text','center_lat', 'center_long',\n",
    "                      'elevation_min', 'elevation_max','location_precisions','geographic_location','tectonic_settings','expedition_num', \n",
    "                      'expedition_code','sampling_technique_code','sampling_technique_name','analyzed_samples'\n",
    "                     ]\n",
    "len(header_names_26644)"
   ]
  },
  {
   "cell_type": "code",
   "execution_count": 13,
   "metadata": {},
   "outputs": [
    {
     "data": {
      "text/plain": [
       "41"
      ]
     },
     "execution_count": 13,
     "metadata": {},
     "output_type": "execute_result"
    }
   ],
   "source": [
    "header_names_26677 = ['specimen_num','specimen_code', 'igsn','archive_institution','specimen_material','taxon__rock_type',\n",
    "                      'taxon__rock_class','taxon___source__citation_num','taxon___source__citation_code','rock_class_details',\n",
    "                      'specimen_names__specimen_name','specimen_names___source__citation_num',\n",
    "                      'specimen_names___source__citation_code','specimen_comments','alterations','rock_textures',\n",
    "                      'geological_ages__prefix','geological_ages__age', 'geological_ages__age_min', 'geological_ages__age_max', \n",
    "                      'geological_ages___source__citation_num','geological_ages___source__citation_code','station_num','station_code', \n",
    "                      'lat_label','long_label', 'points__latitude', 'points__longitude', 'points__text','center_lat', 'center_long',\n",
    "                      'elevation_min', 'elevation_max','location_precisions','geographic_location','tectonic_settings','expedition_num', \n",
    "                      'expedition_code','sampling_technique_code','sampling_technique_name','analyzed_samples'\n",
    "                     ]\n",
    "len(header_names_26677)"
   ]
  },
  {
   "cell_type": "code",
   "execution_count": 14,
   "metadata": {},
   "outputs": [
    {
     "data": {
      "text/plain": [
       "41"
      ]
     },
     "execution_count": 14,
     "metadata": {},
     "output_type": "execute_result"
    }
   ],
   "source": [
    "header_names_60000 = ['specimen_num','specimen_code', 'igsn','archive_institution','specimen_material','taxon__rock_type',\n",
    "                      'taxon__rock_class','taxon___source__citation_num','taxon___source__citation_code','rock_class_details',\n",
    "                      'specimen_names__specimen_name','specimen_names___source__citation_num',\n",
    "                      'specimen_names___source__citation_code','specimen_comments','alterations','rock_textures',\n",
    "                      'geological_ages__prefix','geological_ages__age', 'geological_ages__age_min', 'geological_ages__age_max', \n",
    "                      'geological_ages___source__citation_num','geological_ages___source__citation_code','station_num','station_code', \n",
    "                      'lat_label','long_label', 'points__latitude', 'points__longitude', 'points__text','center_lat', 'center_long',\n",
    "                      'elevation_min', 'elevation_max','location_precisions','geographic_location','tectonic_settings','expedition_num', \n",
    "                      'expedition_code','sampling_technique_code','sampling_technique_name','analyzed_samples'\n",
    "                     ]\n",
    "len(header_names_60000)"
   ]
  },
  {
   "cell_type": "code",
   "execution_count": 15,
   "metadata": {},
   "outputs": [
    {
     "data": {
      "text/plain": [
       "43"
      ]
     },
     "execution_count": 15,
     "metadata": {},
     "output_type": "execute_result"
    }
   ],
   "source": [
    "header_names_59860 = ['specimen_num','specimen_code', 'igsn','archive_institution','specimen_material','taxon__rock_type',\n",
    "                      'taxon__rock_class','taxon___source__citation_num','taxon___source__citation_code','rock_class_details',\n",
    "                      'specimen_names__specimen_name','specimen_names___source__citation_num',\n",
    "                      'specimen_names___source__citation_code','specimen_comments','alterations__alteration',\n",
    "                      'alterations___source__citation_num', 'alterations___source__citation_code','rock_textures',\n",
    "                      'geological_ages__prefix','geological_ages__age', 'geological_ages__age_min', 'geological_ages__age_max', \n",
    "                      'geological_ages___source__citation_num','geological_ages___source__citation_code','station_num','station_code', \n",
    "                      'lat_label','long_label', 'points__latitude', 'points__longitude', 'points__text','center_lat', 'center_long',\n",
    "                      'elevation_min', 'elevation_max','location_precisions','geographic_location','tectonic_settings','expedition_num', \n",
    "                      'expedition_code','sampling_technique_code','sampling_technique_name','analyzed_samples'\n",
    "                     ]\n",
    "len(header_names_59860)"
   ]
  },
  {
   "cell_type": "code",
   "execution_count": 16,
   "metadata": {},
   "outputs": [
    {
     "data": {
      "text/plain": [
       "38"
      ]
     },
     "execution_count": 16,
     "metadata": {},
     "output_type": "execute_result"
    }
   ],
   "source": [
    "header_names_54000 = ['specimen_num','specimen_code', 'igsn','archive_institution','specimen_material','taxon__rock_type',\n",
    "                      'taxon__rock_class','taxon___source__citation_num','taxon___source__citation_code','rock_class_details',\n",
    "                      'specimen_names__specimen_name','specimen_names___source__citation_num',\n",
    "                      'specimen_names___source__citation_code','specimen_comments__comment',\n",
    "                      'specimen_comments___source__citation_num', 'specimen_comments___source__citation_code','alterations',\n",
    "                      'rock_textures','geological_ages','station_num','station_code', 'lat_label','long_label', 'points__latitude', \n",
    "                      'points__longitude', 'points__text','center_lat', 'center_long','elevation_min', 'elevation_max',\n",
    "                      'location_precisions','geographic_location','tectonic_settings','expedition_num', \n",
    "                      'expedition_code','sampling_technique_code','sampling_technique_name','analyzed_samples'\n",
    "                     ]\n",
    "len(header_names_54000)"
   ]
  },
  {
   "cell_type": "code",
   "execution_count": 17,
   "metadata": {},
   "outputs": [
    {
     "data": {
      "text/plain": [
       "38"
      ]
     },
     "execution_count": 17,
     "metadata": {},
     "output_type": "execute_result"
    }
   ],
   "source": [
    "header_names_50000 = ['specimen_num','specimen_code', 'igsn','archive_institution','specimen_material','taxon__rock_type',\n",
    "                      'taxon__rock_class','taxon___source__citation_num','taxon___source__citation_code','rock_class_details',\n",
    "                      'specimen_names__specimen_name','specimen_names___source__citation_num',\n",
    "                      'specimen_names___source__citation_code','specimen_comments','alterations','rock_textures__rock_texture',\n",
    "                      'rock_textures___source__citation_num','rock_textures___source__citation_code','geological_ages',\n",
    "                      'station_num','station_code', 'lat_label','long_label', 'points__latitude', 'points__longitude', \n",
    "                      'points__text','center_lat', 'center_long','elevation_min', 'elevation_max','location_precisions',\n",
    "                      'geographic_location','tectonic_settings','expedition_num', \n",
    "                      'expedition_code','sampling_technique_code','sampling_technique_name','analyzed_samples'\n",
    "                     ]\n",
    "len(header_names_50000)"
   ]
  },
  {
   "cell_type": "code",
   "execution_count": 18,
   "metadata": {},
   "outputs": [
    {
     "data": {
      "text/plain": [
       "40"
      ]
     },
     "execution_count": 18,
     "metadata": {},
     "output_type": "execute_result"
    }
   ],
   "source": [
    "header_names_53710 = ['specimen_num','specimen_code', 'igsn','archive_institution','specimen_material','taxon__rock_type',\n",
    "                      'taxon__rock_class','taxon___source__citation_num','taxon___source__citation_code','rock_class_details',\n",
    "                      'specimen_names__specimen_name','specimen_names___source__citation_num',\n",
    "                      'specimen_names___source__citation_code','specimen_comments','alterations__alteration',\n",
    "                      'alterations___source__citation_num','alterations___source__citation_code',\n",
    "                      'rock_textures__rock_texture',\n",
    "                      'rock_textures___source__citation_num','rock_textures___source__citation_code','geological_ages',\n",
    "                      'station_num','station_code', 'lat_label','long_label', 'points__latitude', 'points__longitude', \n",
    "                      'points__text','center_lat', 'center_long','elevation_min', 'elevation_max','location_precisions',\n",
    "                      'geographic_location','tectonic_settings','expedition_num', \n",
    "                      'expedition_code','sampling_technique_code','sampling_technique_name','analyzed_samples'\n",
    "                     ]\n",
    "len(header_names_53710)"
   ]
  },
  {
   "cell_type": "code",
   "execution_count": 19,
   "metadata": {},
   "outputs": [
    {
     "data": {
      "text/plain": [
       "40"
      ]
     },
     "execution_count": 19,
     "metadata": {},
     "output_type": "execute_result"
    }
   ],
   "source": [
    "header_names_45558 = ['specimen_num','specimen_code', 'igsn','archive_institution','specimen_material','taxon__rock_type',\n",
    "                      'taxon__rock_class','taxon___source__citation_num','taxon___source__citation_code','rock_class_details',\n",
    "                      'specimen_names__specimen_name','specimen_names___source__citation_num',\n",
    "                      'specimen_names___source__citation_code','specimen_comments','alterations__alteration',\n",
    "                      'alterations___source__citation_num','alterations___source__citation_code','rock_textures__rock_texture',\n",
    "                      'rock_textures___source__citation_num','rock_textures___source__citation_code','geological_ages',\n",
    "                      'station_num','station_code', 'lat_label','long_label', 'points__latitude', 'points__longitude', \n",
    "                      'points__text','center_lat', 'center_long','elevation_min', 'elevation_max','location_precisions',\n",
    "                      'geographic_location','tectonic_settings','expedition_num', \n",
    "                      'expedition_code','sampling_technique_code','sampling_technique_name','analyzed_samples'\n",
    "                     ]\n",
    "len(header_names_45558)"
   ]
  },
  {
   "cell_type": "code",
   "execution_count": 20,
   "metadata": {},
   "outputs": [
    {
     "data": {
      "text/plain": [
       "36"
      ]
     },
     "execution_count": 20,
     "metadata": {},
     "output_type": "execute_result"
    }
   ],
   "source": [
    "header_names_54541 = ['specimen_num','specimen_code', 'igsn','archive_institution','specimen_material','taxon__rock_type',\n",
    "                      'taxon__rock_class','taxon___source__citation_num','taxon___source__citation_code','rock_class_details',\n",
    "                      'specimen_names__specimen_name','specimen_names___source__citation_num',\n",
    "                      'specimen_names___source__citation_code','specimen_comments','alterations',\n",
    "                      'rock_textures','geological_ages',\n",
    "                      'station_num','station_code', 'lat_label','long_label', 'points__latitude', 'points__longitude', \n",
    "                      'points__text','center_lat', 'center_long','elevation_min', 'elevation_max','location_precisions',\n",
    "                      'geographic_location','tectonic_settings','expedition_num', \n",
    "                      'expedition_code','sampling_technique_code','sampling_technique_name','analyzed_samples'\n",
    "                     ]\n",
    "len(header_names_54541)"
   ]
  },
  {
   "cell_type": "code",
   "execution_count": 21,
   "metadata": {},
   "outputs": [
    {
     "data": {
      "text/plain": [
       "36"
      ]
     },
     "execution_count": 21,
     "metadata": {},
     "output_type": "execute_result"
    }
   ],
   "source": [
    "header_names_56541 = ['specimen_num','specimen_code', 'igsn','archive_institution','specimen_material','taxon__rock_type',\n",
    "                      'taxon__rock_class','taxon___source__citation_num','taxon___source__citation_code','rock_class_details',\n",
    "                      'specimen_names__specimen_name','specimen_names___source__citation_num',\n",
    "                      'specimen_names___source__citation_code','specimen_comments','alterations',\n",
    "                      'rock_textures','geological_ages',\n",
    "                      'station_num','station_code', 'lat_label','long_label', 'points__latitude', 'points__longitude', \n",
    "                      'points__text','center_lat', 'center_long','elevation_min', 'elevation_max','location_precisions',\n",
    "                      'geographic_location','tectonic_settings','expedition_num', \n",
    "                      'expedition_code','sampling_technique_code','sampling_technique_name','analyzed_samples'\n",
    "                     ]\n",
    "len(header_names_56541)"
   ]
  },
  {
   "cell_type": "code",
   "execution_count": 22,
   "metadata": {},
   "outputs": [
    {
     "data": {
      "text/plain": [
       "36"
      ]
     },
     "execution_count": 22,
     "metadata": {},
     "output_type": "execute_result"
    }
   ],
   "source": [
    "header_names_52689 = ['specimen_num','specimen_code', 'igsn','archive_institution','specimen_material','taxon__rock_type',\n",
    "                      'taxon__rock_class','taxon___source__citation_num','taxon___source__citation_code','rock_class_details',\n",
    "                      'specimen_names__specimen_name','specimen_names___source__citation_num',\n",
    "                      'specimen_names___source__citation_code','specimen_comments','alterations',\n",
    "                      'rock_textures','geological_ages',\n",
    "                      'station_num','station_code', 'lat_label','long_label', 'points__latitude', 'points__longitude', \n",
    "                      'points__text','center_lat', 'center_long','elevation_min', 'elevation_max','location_precisions',\n",
    "                      'geographic_location','tectonic_settings','expedition_num', \n",
    "                      'expedition_code','sampling_technique_code','sampling_technique_name','analyzed_samples'\n",
    "                     ]\n",
    "len(header_names_52689)"
   ]
  },
  {
   "cell_type": "code",
   "execution_count": 23,
   "metadata": {},
   "outputs": [
    {
     "data": {
      "text/plain": [
       "41"
      ]
     },
     "execution_count": 23,
     "metadata": {},
     "output_type": "execute_result"
    }
   ],
   "source": [
    "header_names_33333 = ['specimen_num','specimen_code', 'igsn','archive_institution','specimen_material','taxon__rock_type',\n",
    "                      'taxon__rock_class','taxon___source__citation_num','taxon___source__citation_code','rock_class_details',\n",
    "                      'rock_class_details__rock_class_detail', 'rock_class_details___source__citation_num',\n",
    "                      'rock_class_details___source__citation_code','specimen_names__specimen_name',\n",
    "                      'specimen_names___source__citation_num','specimen_names___source__citation_code',\n",
    "                      'specimen_comments__comment', 'specimen_comments___source__citation_num',\n",
    "                      'specimen_comments___source__citation_code','alterations','rock_textures','geological_ages',\n",
    "                      'station_num','station_code', 'lat_label','long_label', 'points__latitude', 'points__longitude', \n",
    "                      'points__text','center_lat', 'center_long','elevation_min', 'elevation_max','location_precisions',\n",
    "                      'geographic_location','tectonic_settings','expedition_num', \n",
    "                      'expedition_code','sampling_technique_code','sampling_technique_name','analyzed_samples'\n",
    "                     ]\n",
    "len(header_names_33333)"
   ]
  },
  {
   "cell_type": "code",
   "execution_count": 24,
   "metadata": {},
   "outputs": [
    {
     "data": {
      "text/plain": [
       "36"
      ]
     },
     "execution_count": 24,
     "metadata": {},
     "output_type": "execute_result"
    }
   ],
   "source": [
    "header_names_34689 = ['specimen_num','specimen_code', 'igsn','archive_institution','specimen_material','taxon__rock_type',\n",
    "                      'taxon__rock_class','taxon___source__citation_num','taxon___source__citation_code','rock_class_details',\n",
    "                      'specimen_names__specimen_name','specimen_names___source__citation_num',\n",
    "                      'specimen_names___source__citation_code','specimen_comments','alterations','rock_textures',\n",
    "                      'geological_ages','station_num','station_code', 'lat_label','long_label', 'points__latitude', \n",
    "                      'points__longitude', 'points__text','center_lat', 'center_long','elevation_min', 'elevation_max',\n",
    "                      'location_precisions','geographic_location','tectonic_settings','expedition_num', \n",
    "                      'expedition_code','sampling_technique_code','sampling_technique_name','analyzed_samples'\n",
    "                     ]\n",
    "len(header_names_34689)"
   ]
  },
  {
   "cell_type": "code",
   "execution_count": 25,
   "metadata": {},
   "outputs": [
    {
     "data": {
      "text/plain": [
       "39"
      ]
     },
     "execution_count": 25,
     "metadata": {},
     "output_type": "execute_result"
    }
   ],
   "source": [
    "header_names_40000 = ['specimen_num','specimen_code', 'igsn','archive_institution','specimen_material','taxon__rock_type',\n",
    "                      'taxon__rock_class','taxon___source__citation_num','taxon___source__citation_code','rock_class_details',\n",
    "                      'specimen_names__specimen_name','specimen_names___source__citation_num',\n",
    "                      'specimen_names___source__citation_code','specimen_comments','alterations','rock_textures',\n",
    "                      'rock_textures__rock_texture', 'rock_textures___source__citation_num',\n",
    "                      'rock_textures___source__citation_code','geological_ages','station_num','station_code', \n",
    "                      'lat_label','long_label', 'points__latitude', 'points__longitude', 'points__text','center_lat', \n",
    "                      'center_long','elevation_min', 'elevation_max','location_precisions','geographic_location',\n",
    "                      'tectonic_settings','expedition_num', 'expedition_code','sampling_technique_code',\n",
    "                      'sampling_technique_name','analyzed_samples'\n",
    "                     ]\n",
    "len(header_names_40000)"
   ]
  },
  {
   "cell_type": "code",
   "execution_count": 26,
   "metadata": {},
   "outputs": [
    {
     "data": {
      "text/plain": [
       "41"
      ]
     },
     "execution_count": 26,
     "metadata": {},
     "output_type": "execute_result"
    }
   ],
   "source": [
    "header_names_51669 = ['specimen_num','specimen_code', 'igsn','archive_institution','specimen_material','taxon__rock_type',\n",
    "                      'taxon__rock_class','taxon___source__citation_num','taxon___source__citation_code','rock_class_details',\n",
    "                      'specimen_names__specimen_name','specimen_names___source__citation_num',\n",
    "                      'specimen_names___source__citation_code','specimen_comments','alterations','rock_textures',\n",
    "                      'geological_ages__prefix','geological_ages__age', 'geological_ages__age_min', \n",
    "                      'geological_ages__age_max', 'geological_ages___source__citation_num',\n",
    "                      'geological_ages___source__citation_code','station_num', 'station_code','lat_label','long_label', \n",
    "                      'points__latitude', 'points__longitude','points__text','center_lat', 'center_long','elevation_min', \n",
    "                      'elevation_max','location_precisions','geographic_location','tectonic_settings','expedition_num', \n",
    "                      'expedition_code','sampling_technique_code','sampling_technique_name','analyzed_samples'\n",
    "                     ]\n",
    "len(header_names_51669)"
   ]
  },
  {
   "cell_type": "code",
   "execution_count": 27,
   "metadata": {},
   "outputs": [
    {
     "data": {
      "text/plain": [
       "43"
      ]
     },
     "execution_count": 27,
     "metadata": {},
     "output_type": "execute_result"
    }
   ],
   "source": [
    "header_names_42622 = ['specimen_num','specimen_code', 'igsn','archive_institution','specimen_material','taxon__rock_type',\n",
    "                      'taxon__rock_class','taxon___source__citation_num','taxon___source__citation_code','rock_class_details',\n",
    "                      'specimen_names__specimen_name','specimen_names___source__citation_num',\n",
    "                      'specimen_names___source__citation_code','specimen_comments__comment',\n",
    "                      'specimen_comments___source__citation_num','specimen_comments___source__citation_code',\n",
    "                      'alterations','rock_textures','geological_ages__prefix','geological_ages__age', 'geological_ages__age_min', \n",
    "                      'geological_ages__age_max', 'geological_ages___source__citation_num',\n",
    "                      'geological_ages___source__citation_code','station_num','station_code', 'lat_label','long_label', \n",
    "                      'points__latitude', 'points__longitude','points__text','center_lat', 'center_long','elevation_min', \n",
    "                      'elevation_max','location_precisions','geographic_location','tectonic_settings','expedition_num', \n",
    "                      'expedition_code','sampling_technique_code','sampling_technique_name','analyzed_samples'\n",
    "                     ]\n",
    "len(header_names_42622)"
   ]
  },
  {
   "cell_type": "code",
   "execution_count": 28,
   "metadata": {},
   "outputs": [
    {
     "data": {
      "text/plain": [
       "38"
      ]
     },
     "execution_count": 28,
     "metadata": {},
     "output_type": "execute_result"
    }
   ],
   "source": [
    "header_names_48567 = ['specimen_num','specimen_code', 'igsn','archive_institution','specimen_material','taxon__rock_type',\n",
    "                      'taxon__rock_class','taxon___source__citation_num','taxon___source__citation_code','rock_class_details',\n",
    "                      'specimen_names__specimen_name','specimen_names___source__citation_num',\n",
    "                      'specimen_names___source__citation_code','specimen_comments__comment',\n",
    "                      'specimen_comments___source__citation_num','specimen_comments___source__citation_code','alterations',\n",
    "                      'rock_textures','geological_ages','station_num', 'station_code','lat_label','long_label', \n",
    "                      'points__latitude', 'points__longitude','points__text','center_lat', 'center_long','elevation_min', \n",
    "                      'elevation_max','location_precisions','geographic_location','tectonic_settings','expedition_num', \n",
    "                      'expedition_code','sampling_technique_code','sampling_technique_name','analyzed_samples'\n",
    "                     ]\n",
    "len(header_names_48567)"
   ]
  },
  {
   "cell_type": "code",
   "execution_count": 29,
   "metadata": {},
   "outputs": [
    {
     "data": {
      "text/plain": [
       "40"
      ]
     },
     "execution_count": 29,
     "metadata": {},
     "output_type": "execute_result"
    }
   ],
   "source": [
    "header_names_53669 = ['specimen_num','specimen_code', 'igsn','archive_institution','specimen_material','taxon__rock_type',\n",
    "                      'taxon__rock_class','taxon___source__citation_num','taxon___source__citation_code','rock_class_details',\n",
    "                      'specimen_names__specimen_name','specimen_names___source__citation_num',\n",
    "                      'specimen_names___source__citation_code','specimen_comments','alterations__alteration',\n",
    "                      'alterations___source__citation_num','alterations___source__citation_code','rock_textures__rock_texture',\n",
    "                      'rock_textures___source__citation_num','rock_textures___source__citation_code',\n",
    "                      'geological_ages','station_num', 'station_code','lat_label','long_label', \n",
    "                      'points__latitude', 'points__longitude','points__text','center_lat', 'center_long','elevation_min', \n",
    "                      'elevation_max','location_precisions','geographic_location','tectonic_settings','expedition_num', \n",
    "                      'expedition_code','sampling_technique_code','sampling_technique_name','analyzed_samples'\n",
    "                     ]\n",
    "len(header_names_53669)"
   ]
  },
  {
   "cell_type": "code",
   "execution_count": 30,
   "metadata": {},
   "outputs": [
    {
     "data": {
      "text/plain": [
       "38"
      ]
     },
     "execution_count": 30,
     "metadata": {},
     "output_type": "execute_result"
    }
   ],
   "source": [
    "header_names_59750 = ['specimen_num','specimen_code', 'igsn','archive_institution','specimen_material','taxon__rock_type',\n",
    "                      'taxon__rock_class','taxon___source__citation_num','taxon___source__citation_code','rock_class_details',\n",
    "                      'specimen_names__specimen_name','specimen_names___source__citation_num',\n",
    "                      'specimen_names___source__citation_code','specimen_comments__comment',\n",
    "                      'specimen_comments___source__citation_num', 'specimen_comments___source__citation_code',\n",
    "                      'alterations','rock_textures','geological_ages','station_num', 'station_code','lat_label','long_label', \n",
    "                      'points__latitude', 'points__longitude','points__text','center_lat', 'center_long','elevation_min', \n",
    "                      'elevation_max','location_precisions','geographic_location','tectonic_settings','expedition_num', \n",
    "                      'expedition_code','sampling_technique_code','sampling_technique_name','analyzed_samples'\n",
    "                     ]\n",
    "len(header_names_59750)"
   ]
  },
  {
   "cell_type": "code",
   "execution_count": 31,
   "metadata": {},
   "outputs": [
    {
     "data": {
      "text/plain": [
       "41"
      ]
     },
     "execution_count": 31,
     "metadata": {},
     "output_type": "execute_result"
    }
   ],
   "source": [
    "header_names_60000 = ['specimen_num','specimen_code', 'igsn','archive_institution','specimen_material','taxon__rock_type',\n",
    "                      'taxon__rock_class','taxon___source__citation_num','taxon___source__citation_code','rock_class_details',\n",
    "                      'specimen_names__specimen_name','specimen_names___source__citation_num',\n",
    "                      'specimen_names___source__citation_code','specimen_comments','alterations','rock_textures',\n",
    "                      'geological_ages__prefix','geological_ages__age', 'geological_ages__age_min', \n",
    "                      'geological_ages__age_max', 'geological_ages___source__citation_num',\n",
    "                      'geological_ages___source__citation_code','station_num', 'station_code','lat_label','long_label', \n",
    "                      'points__latitude', 'points__longitude','points__text','center_lat', 'center_long','elevation_min', \n",
    "                      'elevation_max','location_precisions','geographic_location','tectonic_settings','expedition_num', \n",
    "                      'expedition_code','sampling_technique_code','sampling_technique_name','analyzed_samples'\n",
    "                     ]\n",
    "len(header_names_60000)"
   ]
  },
  {
   "cell_type": "code",
   "execution_count": 32,
   "metadata": {},
   "outputs": [
    {
     "name": "stdout",
     "output_type": "stream",
     "text": [
      "['specimen_num', 'specimen_code', 'igsn', 'archive_institution', 'specimen_material', 'taxon__rock_type', 'taxon__rock_class', 'taxon___source__citation_num', 'taxon___source__citation_code', 'rock_class_details', 'specimen_names__specimen_name', 'specimen_names___source__citation_num', 'specimen_names___source__citation_code', 'specimen_comments', 'alterations', 'rock_textures', 'geological_ages__prefix', 'geological_ages__age', 'geological_ages__age_min', 'geological_ages__age_max', 'geological_ages___source__citation_num', 'geological_ages___source__citation_code', 'station_num', 'station_code', 'lat_label', 'long_label', 'points__latitude', 'points__longitude', 'points__text', 'center_lat', 'center_long', 'elevation_min', 'elevation_max', 'location_precisions', 'geographic_location', 'tectonic_settings', 'expedition_num', 'expedition_code', 'sampling_technique_code', 'sampling_technique_name', 'analyzed_samples', 'specimen_num', 'specimen_code', 'igsn', 'archive_institution', 'specimen_material', 'taxon__rock_type', 'taxon__rock_class', 'taxon___source__citation_num', 'taxon___source__citation_code', 'rock_class_details', 'specimen_names__specimen_name', 'specimen_names___source__citation_num', 'specimen_names___source__citation_code', 'specimen_comments__comment', 'specimen_comments___source__citation_num', 'specimen_comments___source__citation_code', 'alterations', 'rock_textures', 'geological_ages', 'station_num', 'station_code', 'lat_label', 'long_label', 'points__latitude', 'points__longitude', 'points__text', 'center_lat', 'center_long', 'elevation_min', 'elevation_max', 'location_precisions', 'geographic_location', 'tectonic_settings', 'expedition_num', 'expedition_code', 'sampling_technique_code', 'sampling_technique_name', 'analyzed_samples', 'specimen_num', 'specimen_code', 'igsn', 'archive_institution', 'specimen_material', 'taxon__rock_type', 'taxon__rock_class', 'taxon___source__citation_num', 'taxon___source__citation_code', 'rock_class_details', 'specimen_names__specimen_name', 'specimen_names___source__citation_num', 'specimen_names___source__citation_code', 'specimen_comments', 'alterations__alteration', 'alterations___source__citation_num', 'alterations___source__citation_code', 'rock_textures__rock_texture', 'rock_textures___source__citation_num', 'rock_textures___source__citation_code', 'geological_ages', 'station_num', 'station_code', 'lat_label', 'long_label', 'points__latitude', 'points__longitude', 'points__text', 'center_lat', 'center_long', 'elevation_min', 'elevation_max', 'location_precisions', 'geographic_location', 'tectonic_settings', 'expedition_num', 'expedition_code', 'sampling_technique_code', 'sampling_technique_name', 'analyzed_samples', 'specimen_num', 'specimen_code', 'igsn', 'archive_institution', 'specimen_material', 'taxon__rock_type', 'taxon__rock_class', 'taxon___source__citation_num', 'taxon___source__citation_code', 'rock_class_details', 'specimen_names__specimen_name', 'specimen_names___source__citation_num', 'specimen_names___source__citation_code', 'specimen_comments', 'alterations', 'rock_textures', 'geological_ages__prefix', 'geological_ages__age', 'geological_ages__age_min', 'geological_ages__age_max', 'geological_ages___source__citation_num', 'geological_ages___source__citation_code', 'station_num', 'station_code', 'lat_label', 'long_label', 'points__latitude', 'points__longitude', 'points__text', 'center_lat', 'center_long', 'elevation_min', 'elevation_max', 'location_precisions', 'geographic_location', 'tectonic_settings', 'expedition_num', 'expedition_code', 'sampling_technique_code', 'sampling_technique_name', 'analyzed_samples', 'specimen_num', 'specimen_code', 'igsn', 'archive_institution', 'specimen_material', 'taxon__rock_type', 'taxon__rock_class', 'taxon___source__citation_num', 'taxon___source__citation_code', 'rock_class_details', 'specimen_names__specimen_name', 'specimen_names___source__citation_num', 'specimen_names___source__citation_code', 'specimen_comments__comment', 'specimen_comments___source__citation_num', 'specimen_comments___source__citation_code', 'alterations', 'rock_textures', 'geological_ages', 'station_num', 'station_code', 'lat_label', 'long_label', 'points__latitude', 'points__longitude', 'points__text', 'center_lat', 'center_long', 'elevation_min', 'elevation_max', 'location_precisions', 'geographic_location', 'tectonic_settings', 'expedition_num', 'expedition_code', 'sampling_technique_code', 'sampling_technique_name', 'analyzed_samples', 'specimen_num', 'specimen_code', 'igsn', 'archive_institution', 'specimen_material', 'taxon__rock_type', 'taxon__rock_class', 'taxon___source__citation_num', 'taxon___source__citation_code', 'rock_class_details', 'specimen_names__specimen_name', 'specimen_names___source__citation_num', 'specimen_names___source__citation_code', 'specimen_comments', 'alterations', 'rock_textures__rock_texture', 'rock_textures___source__citation_num', 'rock_textures___source__citation_code', 'geological_ages__prefix', 'geological_ages__age', 'geological_ages__age_min', 'geological_ages__age_max', 'geological_ages___source__citation_num', 'geological_ages___source__citation_code', 'station_num', 'station_code', 'lat_label', 'long_label', 'points__latitude', 'points__longitude', 'points__text', 'center_lat', 'center_long', 'elevation_min', 'elevation_max', 'location_precisions', 'geographic_location', 'tectonic_settings', 'expedition_num', 'expedition_code', 'sampling_technique_code', 'sampling_technique_name', 'analyzed_samples', 'specimen_num', 'specimen_code', 'igsn', 'archive_institution', 'specimen_material', 'taxon__rock_type', 'taxon__rock_class', 'taxon___source__citation_num', 'taxon___source__citation_code', 'rock_class_details', 'specimen_names__specimen_name', 'specimen_names___source__citation_num', 'specimen_names___source__citation_code', 'specimen_comments__comment', 'specimen_comments___source__citation_num', 'specimen_comments___source__citation_code', 'alterations', 'rock_textures', 'geological_ages__prefix', 'geological_ages__age', 'geological_ages__age_min', 'geological_ages__age_max', 'geological_ages___source__citation_num', 'geological_ages___source__citation_code', 'station_num', 'station_code', 'lat_label', 'long_label', 'points__latitude', 'points__longitude', 'points__text', 'center_lat', 'center_long', 'elevation_min', 'elevation_max', 'location_precisions', 'geographic_location', 'tectonic_settings', 'expedition_num', 'expedition_code', 'sampling_technique_code', 'sampling_technique_name', 'analyzed_samples', 'specimen_num', 'specimen_code', 'igsn', 'archive_institution', 'specimen_material', 'taxon__rock_type', 'taxon__rock_class', 'taxon___source__citation_num', 'taxon___source__citation_code', 'rock_class_details', 'specimen_names__specimen_name', 'specimen_names___source__citation_num', 'specimen_names___source__citation_code', 'specimen_comments', 'alterations', 'rock_textures', 'rock_textures__rock_texture', 'rock_textures___source__citation_num', 'rock_textures___source__citation_code', 'geological_ages', 'station_num', 'station_code', 'lat_label', 'long_label', 'points__latitude', 'points__longitude', 'points__text', 'center_lat', 'center_long', 'elevation_min', 'elevation_max', 'location_precisions', 'geographic_location', 'tectonic_settings', 'expedition_num', 'expedition_code', 'sampling_technique_code', 'sampling_technique_name', 'analyzed_samples', 'specimen_num', 'specimen_code', 'igsn', 'archive_institution', 'specimen_material', 'taxon__rock_type', 'taxon__rock_class', 'taxon___source__citation_num', 'taxon___source__citation_code', 'rock_class_details', 'specimen_names__specimen_name', 'specimen_names___source__citation_num', 'specimen_names___source__citation_code', 'specimen_comments', 'alterations', 'rock_textures', 'geological_ages__prefix', 'geological_ages__age', 'geological_ages__age_min', 'geological_ages__age_max', 'geological_ages___source__citation_num', 'geological_ages___source__citation_code', 'station_num', 'station_code', 'lat_label', 'long_label', 'points__latitude', 'points__longitude', 'points__text', 'center_lat', 'center_long', 'elevation_min', 'elevation_max', 'location_precisions', 'geographic_location', 'tectonic_settings', 'expedition_num', 'expedition_code', 'sampling_technique_code', 'sampling_technique_name', 'analyzed_samples', 'specimen_num', 'specimen_code', 'igsn', 'archive_institution', 'specimen_material', 'taxon__rock_type', 'taxon__rock_class', 'taxon___source__citation_num', 'taxon___source__citation_code', 'rock_class_details', 'specimen_names__specimen_name', 'specimen_names___source__citation_num', 'specimen_names___source__citation_code', 'specimen_comments', 'alterations', 'rock_textures', 'geological_ages__age', 'geological_ages__age_min', 'geological_ages__age_max', 'geological_ages___source__citation_num', 'geological_ages___source__citation_code', 'station_num', 'station_code', 'lat_label', 'long_label', 'points__latitude', 'points__longitude', 'points__text', 'center_lat', 'center_long', 'elevation_min', 'elevation_max', 'location_precisions', 'geographic_location', 'tectonic_settings', 'expedition_num', 'expedition_code', 'sampling_technique_code', 'sampling_technique_name', 'analyzed_samples', 'specimen_num', 'specimen_code', 'igsn', 'archive_institution', 'specimen_material', 'taxon__rock_type', 'taxon__rock_class', 'taxon___source__citation_num', 'taxon___source__citation_code', 'rock_class_details', 'rock_class_details__rock_class_detail', 'rock_class_details___source__citation_num', 'rock_class_details___source__citation_code', 'specimen_names__specimen_name', 'specimen_names___source__citation_num', 'specimen_names___source__citation_code', 'specimen_comments', 'alterations', 'rock_textures__rock_texture', 'rock_textures___source__citation_num', 'rock_textures___source__citation_code', 'station_num', 'station_code', 'lat_label', 'long_label', 'points__latitude', 'points__longitude', 'points__text', 'center_lat', 'center_long', 'elevation_min', 'elevation_max', 'location_precisions', 'geographic_location', 'tectonic_settings', 'expedition_num', 'expedition_code', 'sampling_technique_code', 'sampling_technique_name', 'analyzed_samples', 'specimen_num', 'specimen_code', 'igsn', 'archive_institution', 'specimen_material', 'taxon__rock_type', 'taxon__rock_class', 'taxon___source__citation_num', 'taxon___source__citation_code', 'rock_class_details', 'specimen_names__specimen_name', 'specimen_names___source__citation_num', 'specimen_names___source__citation_code', 'specimen_comments', 'alterations', 'rock_textures__rock_texture', 'rock_textures___source__citation_num', 'rock_textures___source__citation_code', 'geological_ages__age', 'geological_ages__age_min', 'geological_ages__age_max', 'geological_ages___source__citation_num', 'geological_ages___source__citation_code', 'station_num', 'station_code', 'lat_label', 'long_label', 'points__latitude', 'points__longitude', 'points__text', 'center_lat', 'center_long', 'elevation_min', 'elevation_max', 'location_precisions', 'geographic_location', 'tectonic_settings', 'expedition_num', 'expedition_code', 'sampling_technique_code', 'sampling_technique_name', 'analyzed_samples', 'specimen_num', 'specimen_code', 'igsn', 'archive_institution', 'specimen_material', 'taxon__rock_type', 'taxon__rock_class', 'taxon___source__citation_num', 'taxon___source__citation_code', 'rock_class_details', 'specimen_names__specimen_name', 'specimen_names___source__citation_num', 'specimen_names___source__citation_code', 'specimen_comments', 'alterations', 'rock_textures__rock_texture', 'rock_textures___source__citation_num', 'rock_textures___source__citation_code', 'geological_ages__age', 'geological_ages__age_min', 'geological_ages__age_max', 'geological_ages___source__citation_num', 'geological_ages___source__citation_code', 'station_num', 'station_code', 'lat_label', 'long_label', 'points__latitude', 'points__longitude', 'points__text', 'center_lat', 'center_long', 'elevation_min', 'elevation_max', 'location_precisions', 'geographic_location', 'tectonic_settings', 'expedition_num', 'expedition_code', 'sampling_technique_code', 'sampling_technique_name', 'analyzed_samples', 'specimen_num', 'specimen_code', 'igsn', 'archive_institution', 'specimen_material', 'taxon__rock_type', 'taxon__rock_class', 'taxon___source__citation_num', 'taxon___source__citation_code', 'rock_class_details', 'specimen_names__specimen_name', 'specimen_names___source__citation_num', 'specimen_names___source__citation_code', 'specimen_comments', 'alterations', 'rock_textures__rock_texture', 'rock_textures___source__citation_num', 'rock_textures___source__citation_code', 'geological_ages__age', 'geological_ages__age_min', 'geological_ages__age_max', 'geological_ages___source__citation_num', 'geological_ages___source__citation_code', 'station_num', 'station_code', 'lat_label', 'long_label', 'points__latitude', 'points__longitude', 'points__text', 'center_lat', 'center_long', 'elevation_min', 'elevation_max', 'location_precisions', 'geographic_location', 'tectonic_settings', 'expedition_num', 'expedition_code', 'sampling_technique_code', 'sampling_technique_name', 'analyzed_samples', 'specimen_num', 'specimen_code', 'igsn', 'archive_institution', 'specimen_material', 'taxon__rock_type', 'taxon__rock_class', 'taxon___source__citation_num', 'taxon___source__citation_code', 'rock_class_details', 'specimen_names__specimen_name', 'specimen_names___source__citation_num', 'specimen_names___source__citation_code', 'specimen_comments', 'alterations', 'rock_textures', 'geological_ages', 'station_num', 'station_code', 'lat_label', 'long_label', 'points__latitude', 'points__longitude', 'points__text', 'center_lat', 'center_long', 'elevation_min', 'elevation_max', 'location_precisions', 'geographic_location', 'tectonic_settings', 'expedition_num', 'expedition_code', 'sampling_technique_code', 'sampling_technique_name', 'analyzed_samples', 'specimen_num', 'specimen_code', 'igsn', 'archive_institution', 'specimen_material', 'taxon__rock_type', 'taxon__rock_class', 'taxon___source__citation_num', 'taxon___source__citation_code', 'rock_class_details', 'specimen_names__specimen_name', 'specimen_names___source__citation_num', 'specimen_names___source__citation_code', 'specimen_comments', 'alterations', 'rock_textures', 'geological_ages__age', 'geological_ages__age_min', 'geological_ages__age_max', 'geological_ages___source__citation_num', 'geological_ages___source__citation_code', 'station_num', 'station_code', 'lat_label', 'long_label', 'points__latitude', 'points__longitude', 'points__text', 'center_lat', 'center_long', 'elevation_min', 'elevation_max', 'location_precisions', 'geographic_location', 'tectonic_settings', 'expedition_num', 'expedition_code', 'sampling_technique_code', 'sampling_technique_name', 'analyzed_samples', 'specimen_num', 'specimen_code', 'igsn', 'archive_institution', 'specimen_material', 'taxon__rock_type', 'taxon__rock_class', 'taxon___source__citation_num', 'taxon___source__citation_code', 'rock_class_details', 'specimen_names__specimen_name', 'specimen_names___source__citation_num', 'specimen_names___source__citation_code', 'specimen_comments', 'alterations', 'rock_textures', 'geological_ages', 'station_num', 'station_code', 'lat_label', 'long_label', 'points__latitude', 'points__longitude', 'points__text', 'center_lat', 'center_long', 'elevation_min', 'elevation_max', 'location_precisions', 'geographic_location', 'tectonic_settings', 'expedition_num', 'expedition_code', 'sampling_technique_code', 'sampling_technique_name', 'analyzed_samples', 'specimen_num', 'specimen_code', 'igsn', 'archive_institution', 'specimen_material', 'taxon__rock_type', 'taxon__rock_class', 'taxon___source__citation_num', 'taxon___source__citation_code', 'rock_class_details', 'specimen_names__specimen_name', 'specimen_names___source__citation_num', 'specimen_names___source__citation_code', 'specimen_comments', 'alterations', 'rock_textures', 'geological_ages__age', 'geological_ages__age_min', 'geological_ages__age_max', 'geological_ages___source__citation_num', 'geological_ages___source__citation_code', 'station_num', 'station_code', 'lat_label', 'long_label', 'points__latitude', 'points__longitude', 'points__text', 'center_lat', 'center_long', 'elevation_min', 'elevation_max', 'location_precisions', 'geographic_location', 'tectonic_settings', 'expedition_num', 'expedition_code', 'sampling_technique_code', 'sampling_technique_name', 'analyzed_samples', 'specimen_num', 'specimen_code', 'igsn', 'archive_institution', 'specimen_material', 'taxon__rock_type', 'taxon__rock_class', 'taxon___source__citation_num', 'taxon___source__citation_code', 'rock_class_details', 'specimen_names__specimen_name', 'specimen_names___source__citation_num', 'specimen_names___source__citation_code', 'specimen_comments', 'alterations', 'rock_textures', 'geological_ages__prefix', 'geological_ages__age', 'geological_ages__age_min', 'geological_ages__age_max', 'geological_ages___source__citation_num', 'geological_ages___source__citation_code', 'station_num', 'station_code', 'lat_label', 'long_label', 'points__latitude', 'points__longitude', 'points__text', 'center_lat', 'center_long', 'elevation_min', 'elevation_max', 'location_precisions', 'geographic_location', 'tectonic_settings', 'expedition_num', 'expedition_code', 'sampling_technique_code', 'sampling_technique_name', 'analyzed_samples', 'specimen_num', 'specimen_code', 'igsn', 'archive_institution', 'specimen_material', 'taxon__rock_type', 'taxon__rock_class', 'taxon___source__citation_num', 'taxon___source__citation_code', 'rock_class_details', 'specimen_names__specimen_name', 'specimen_names___source__citation_num', 'specimen_names___source__citation_code', 'specimen_comments', 'alterations', 'rock_textures', 'geological_ages__prefix', 'geological_ages__age', 'geological_ages__age_min', 'geological_ages__age_max', 'geological_ages___source__citation_num', 'geological_ages___source__citation_code', 'station_num', 'station_code', 'lat_label', 'long_label', 'points__latitude', 'points__longitude', 'points__text', 'center_lat', 'center_long', 'elevation_min', 'elevation_max', 'location_precisions', 'geographic_location', 'tectonic_settings', 'expedition_num', 'expedition_code', 'sampling_technique_code', 'sampling_technique_name', 'analyzed_samples', 'specimen_num', 'specimen_code', 'igsn', 'archive_institution', 'specimen_material', 'taxon__rock_type', 'taxon__rock_class', 'taxon___source__citation_num', 'taxon___source__citation_code', 'rock_class_details', 'specimen_names__specimen_name', 'specimen_names___source__citation_num', 'specimen_names___source__citation_code', 'specimen_comments', 'alterations', 'rock_textures', 'geological_ages__prefix', 'geological_ages__age', 'geological_ages__age_min', 'geological_ages__age_max', 'geological_ages___source__citation_num', 'geological_ages___source__citation_code', 'station_num', 'station_code', 'lat_label', 'long_label', 'points__latitude', 'points__longitude', 'points__text', 'center_lat', 'center_long', 'elevation_min', 'elevation_max', 'location_precisions', 'geographic_location', 'tectonic_settings', 'expedition_num', 'expedition_code', 'sampling_technique_code', 'sampling_technique_name', 'analyzed_samples', 'specimen_num', 'specimen_code', 'igsn', 'archive_institution', 'specimen_material', 'taxon__rock_type', 'taxon__rock_class', 'taxon___source__citation_num', 'taxon___source__citation_code', 'rock_class_details', 'specimen_names__specimen_name', 'specimen_names___source__citation_num', 'specimen_names___source__citation_code', 'specimen_comments', 'alterations__alteration', 'alterations___source__citation_num', 'alterations___source__citation_code', 'rock_textures', 'geological_ages__prefix', 'geological_ages__age', 'geological_ages__age_min', 'geological_ages__age_max', 'geological_ages___source__citation_num', 'geological_ages___source__citation_code', 'station_num', 'station_code', 'lat_label', 'long_label', 'points__latitude', 'points__longitude', 'points__text', 'center_lat', 'center_long', 'elevation_min', 'elevation_max', 'location_precisions', 'geographic_location', 'tectonic_settings', 'expedition_num', 'expedition_code', 'sampling_technique_code', 'sampling_technique_name', 'analyzed_samples', 'specimen_num', 'specimen_code', 'igsn', 'archive_institution', 'specimen_material', 'taxon__rock_type', 'taxon__rock_class', 'taxon___source__citation_num', 'taxon___source__citation_code', 'rock_class_details', 'specimen_names__specimen_name', 'specimen_names___source__citation_num', 'specimen_names___source__citation_code', 'specimen_comments__comment', 'specimen_comments___source__citation_num', 'specimen_comments___source__citation_code', 'alterations', 'rock_textures', 'geological_ages', 'station_num', 'station_code', 'lat_label', 'long_label', 'points__latitude', 'points__longitude', 'points__text', 'center_lat', 'center_long', 'elevation_min', 'elevation_max', 'location_precisions', 'geographic_location', 'tectonic_settings', 'expedition_num', 'expedition_code', 'sampling_technique_code', 'sampling_technique_name', 'analyzed_samples', 'specimen_num', 'specimen_code', 'igsn', 'archive_institution', 'specimen_material', 'taxon__rock_type', 'taxon__rock_class', 'taxon___source__citation_num', 'taxon___source__citation_code', 'rock_class_details', 'specimen_names__specimen_name', 'specimen_names___source__citation_num', 'specimen_names___source__citation_code', 'specimen_comments', 'alterations', 'rock_textures__rock_texture', 'rock_textures___source__citation_num', 'rock_textures___source__citation_code', 'geological_ages', 'station_num', 'station_code', 'lat_label', 'long_label', 'points__latitude', 'points__longitude', 'points__text', 'center_lat', 'center_long', 'elevation_min', 'elevation_max', 'location_precisions', 'geographic_location', 'tectonic_settings', 'expedition_num', 'expedition_code', 'sampling_technique_code', 'sampling_technique_name', 'analyzed_samples', 'specimen_num', 'specimen_code', 'igsn', 'archive_institution', 'specimen_material', 'taxon__rock_type', 'taxon__rock_class', 'taxon___source__citation_num', 'taxon___source__citation_code', 'rock_class_details', 'specimen_names__specimen_name', 'specimen_names___source__citation_num', 'specimen_names___source__citation_code', 'specimen_comments', 'alterations__alteration', 'alterations___source__citation_num', 'alterations___source__citation_code', 'rock_textures__rock_texture', 'rock_textures___source__citation_num', 'rock_textures___source__citation_code', 'geological_ages', 'station_num', 'station_code', 'lat_label', 'long_label', 'points__latitude', 'points__longitude', 'points__text', 'center_lat', 'center_long', 'elevation_min', 'elevation_max', 'location_precisions', 'geographic_location', 'tectonic_settings', 'expedition_num', 'expedition_code', 'sampling_technique_code', 'sampling_technique_name', 'analyzed_samples', 'specimen_num', 'specimen_code', 'igsn', 'archive_institution', 'specimen_material', 'taxon__rock_type', 'taxon__rock_class', 'taxon___source__citation_num', 'taxon___source__citation_code', 'rock_class_details', 'specimen_names__specimen_name', 'specimen_names___source__citation_num', 'specimen_names___source__citation_code', 'specimen_comments', 'alterations__alteration', 'alterations___source__citation_num', 'alterations___source__citation_code', 'rock_textures__rock_texture', 'rock_textures___source__citation_num', 'rock_textures___source__citation_code', 'geological_ages', 'station_num', 'station_code', 'lat_label', 'long_label', 'points__latitude', 'points__longitude', 'points__text', 'center_lat', 'center_long', 'elevation_min', 'elevation_max', 'location_precisions', 'geographic_location', 'tectonic_settings', 'expedition_num', 'expedition_code', 'sampling_technique_code', 'sampling_technique_name', 'analyzed_samples', 'specimen_num', 'specimen_code', 'igsn', 'archive_institution', 'specimen_material', 'taxon__rock_type', 'taxon__rock_class', 'taxon___source__citation_num', 'taxon___source__citation_code', 'rock_class_details', 'specimen_names__specimen_name', 'specimen_names___source__citation_num', 'specimen_names___source__citation_code', 'specimen_comments', 'alterations', 'rock_textures', 'geological_ages', 'station_num', 'station_code', 'lat_label', 'long_label', 'points__latitude', 'points__longitude', 'points__text', 'center_lat', 'center_long', 'elevation_min', 'elevation_max', 'location_precisions', 'geographic_location', 'tectonic_settings', 'expedition_num', 'expedition_code', 'sampling_technique_code', 'sampling_technique_name', 'analyzed_samples', 'specimen_num', 'specimen_code', 'igsn', 'archive_institution', 'specimen_material', 'taxon__rock_type', 'taxon__rock_class', 'taxon___source__citation_num', 'taxon___source__citation_code', 'rock_class_details', 'specimen_names__specimen_name', 'specimen_names___source__citation_num', 'specimen_names___source__citation_code', 'specimen_comments', 'alterations', 'rock_textures', 'geological_ages', 'station_num', 'station_code', 'lat_label', 'long_label', 'points__latitude', 'points__longitude', 'points__text', 'center_lat', 'center_long', 'elevation_min', 'elevation_max', 'location_precisions', 'geographic_location', 'tectonic_settings', 'expedition_num', 'expedition_code', 'sampling_technique_code', 'sampling_technique_name', 'analyzed_samples', 'specimen_num', 'specimen_code', 'igsn', 'archive_institution', 'specimen_material', 'taxon__rock_type', 'taxon__rock_class', 'taxon___source__citation_num', 'taxon___source__citation_code', 'rock_class_details', 'specimen_names__specimen_name', 'specimen_names___source__citation_num', 'specimen_names___source__citation_code', 'specimen_comments', 'alterations', 'rock_textures', 'geological_ages', 'station_num', 'station_code', 'lat_label', 'long_label', 'points__latitude', 'points__longitude', 'points__text', 'center_lat', 'center_long', 'elevation_min', 'elevation_max', 'location_precisions', 'geographic_location', 'tectonic_settings', 'expedition_num', 'expedition_code', 'sampling_technique_code', 'sampling_technique_name', 'analyzed_samples', 'specimen_num', 'specimen_code', 'igsn', 'archive_institution', 'specimen_material', 'taxon__rock_type', 'taxon__rock_class', 'taxon___source__citation_num', 'taxon___source__citation_code', 'rock_class_details', 'rock_class_details__rock_class_detail', 'rock_class_details___source__citation_num', 'rock_class_details___source__citation_code', 'specimen_names__specimen_name', 'specimen_names___source__citation_num', 'specimen_names___source__citation_code', 'specimen_comments__comment', 'specimen_comments___source__citation_num', 'specimen_comments___source__citation_code', 'alterations', 'rock_textures', 'geological_ages', 'station_num', 'station_code', 'lat_label', 'long_label', 'points__latitude', 'points__longitude', 'points__text', 'center_lat', 'center_long', 'elevation_min', 'elevation_max', 'location_precisions', 'geographic_location', 'tectonic_settings', 'expedition_num', 'expedition_code', 'sampling_technique_code', 'sampling_technique_name', 'analyzed_samples']\n"
     ]
    }
   ],
   "source": [
    "#concatenating all of the lists\n",
    "\n",
    "all_header_names = header_names_60000 + header_names_59750 + header_names_53669 + header_names_51669 + header_names_48567 + header_names_26840 + header_names_42622 + header_names_40000 + header_names_26639 + header_names_26777 + header_names_33513 + header_names_26830 + header_names_26822 + header_names_26815 + header_names_34689 + header_names_26673 + header_names_33331 + header_names_33615 + header_names_26644 + header_names_26677 + header_names_60000 + header_names_59860 + header_names_54000 + header_names_50000 + header_names_53710 + header_names_45558 + header_names_54541 + header_names_56541 + header_names_52689 + header_names_33333\n",
    "\n",
    "print(all_header_names)"
   ]
  },
  {
   "cell_type": "code",
   "execution_count": 33,
   "metadata": {},
   "outputs": [
    {
     "name": "stdout",
     "output_type": "stream",
     "text": [
      "['specimen_num', 'specimen_code', 'igsn', 'archive_institution', 'specimen_material', 'taxon__rock_type', 'taxon__rock_class', 'taxon___source__citation_num', 'taxon___source__citation_code', 'rock_class_details', 'specimen_names__specimen_name', 'specimen_names___source__citation_num', 'specimen_names___source__citation_code', 'specimen_comments', 'alterations', 'rock_textures', 'geological_ages__prefix', 'geological_ages__age', 'geological_ages__age_min', 'geological_ages__age_max', 'geological_ages___source__citation_num', 'geological_ages___source__citation_code', 'station_num', 'station_code', 'lat_label', 'long_label', 'points__latitude', 'points__longitude', 'points__text', 'center_lat', 'center_long', 'elevation_min', 'elevation_max', 'location_precisions', 'geographic_location', 'tectonic_settings', 'expedition_num', 'expedition_code', 'sampling_technique_code', 'sampling_technique_name', 'analyzed_samples', 'specimen_comments__comment', 'specimen_comments___source__citation_num', 'specimen_comments___source__citation_code', 'geological_ages', 'alterations__alteration', 'alterations___source__citation_num', 'alterations___source__citation_code', 'rock_textures__rock_texture', 'rock_textures___source__citation_num', 'rock_textures___source__citation_code', 'rock_class_details__rock_class_detail', 'rock_class_details___source__citation_num', 'rock_class_details___source__citation_code']\n"
     ]
    },
    {
     "data": {
      "text/plain": [
       "54"
      ]
     },
     "execution_count": 33,
     "metadata": {},
     "output_type": "execute_result"
    }
   ],
   "source": [
    "#looping through all of the lists and removing duplicates\n",
    "unique_list=[]\n",
    "for all in all_header_names:\n",
    "    if all not in unique_list:\n",
    "        unique_list.append(all)\n",
    "print(unique_list)\n",
    "len(unique_list)"
   ]
  },
  {
   "cell_type": "code",
   "execution_count": 34,
   "metadata": {},
   "outputs": [
    {
     "name": "stdout",
     "output_type": "stream",
     "text": [
      "['specimen_comments__comment', 'alterations___source__citation_num', 'rock_textures___source__citation_num', 'specimen_names___source__citation_num', 'specimen_code', 'lat_label', 'tectonic_settings', 'rock_class_details___source__citation_code', 'specimen_names___source__citation_code', 'station_num', 'taxon__rock_class', 'expedition_num', 'taxon___source__citation_code', 'long_label', 'expedition_code', 'elevation_min', 'center_lat', 'center_long', 'geological_ages___source__citation_num', 'points__latitude', 'alterations___source__citation_code', 'geological_ages', 'specimen_comments', 'rock_class_details', 'sampling_technique_name', 'specimen_comments___source__citation_num', 'sampling_technique_code', 'taxon__rock_type', 'taxon___source__citation_num', 'analyzed_samples', 'archive_institution', 'geological_ages__age_max', 'rock_class_details___source__citation_num', 'specimen_num', 'geological_ages___source__citation_code', 'geographic_location', 'specimen_comments___source__citation_code', 'rock_textures__rock_texture', 'geological_ages__age', 'rock_textures', 'rock_textures___source__citation_code', 'rock_class_details__rock_class_detail', 'specimen_material', 'specimen_names__specimen_name', 'points__longitude', 'location_precisions', 'igsn', 'geological_ages__prefix', 'geological_ages__age_min', 'elevation_max', 'alterations', 'alterations__alteration', 'points__text', 'station_code']\n"
     ]
    },
    {
     "data": {
      "text/plain": [
       "54"
      ]
     },
     "execution_count": 34,
     "metadata": {},
     "output_type": "execute_result"
    }
   ],
   "source": [
    "# This also shows all the unique list of labels \n",
    "\n",
    "no_duplicates_header = list(set(all_header_names))\n",
    "print(no_duplicates_header)\n",
    "len(no_duplicates_header)"
   ]
  },
  {
   "cell_type": "code",
   "execution_count": 35,
   "metadata": {},
   "outputs": [
    {
     "data": {
      "text/plain": [
       "['alterations',\n",
       " 'alterations___source__citation_code',\n",
       " 'alterations___source__citation_num',\n",
       " 'alterations__alteration',\n",
       " 'analyzed_samples',\n",
       " 'archive_institution',\n",
       " 'center_lat',\n",
       " 'center_long',\n",
       " 'elevation_max',\n",
       " 'elevation_min',\n",
       " 'expedition_code',\n",
       " 'expedition_num',\n",
       " 'geographic_location',\n",
       " 'geological_ages',\n",
       " 'geological_ages___source__citation_code',\n",
       " 'geological_ages___source__citation_num',\n",
       " 'geological_ages__age',\n",
       " 'geological_ages__age_max',\n",
       " 'geological_ages__age_min',\n",
       " 'geological_ages__prefix',\n",
       " 'igsn',\n",
       " 'lat_label',\n",
       " 'location_precisions',\n",
       " 'long_label',\n",
       " 'points__latitude',\n",
       " 'points__longitude',\n",
       " 'points__text',\n",
       " 'rock_class_details',\n",
       " 'rock_class_details___source__citation_code',\n",
       " 'rock_class_details___source__citation_num',\n",
       " 'rock_class_details__rock_class_detail',\n",
       " 'rock_textures',\n",
       " 'rock_textures___source__citation_code',\n",
       " 'rock_textures___source__citation_num',\n",
       " 'rock_textures__rock_texture',\n",
       " 'sampling_technique_code',\n",
       " 'sampling_technique_name',\n",
       " 'specimen_code',\n",
       " 'specimen_comments',\n",
       " 'specimen_comments___source__citation_code',\n",
       " 'specimen_comments___source__citation_num',\n",
       " 'specimen_comments__comment',\n",
       " 'specimen_material',\n",
       " 'specimen_names___source__citation_code',\n",
       " 'specimen_names___source__citation_num',\n",
       " 'specimen_names__specimen_name',\n",
       " 'specimen_num',\n",
       " 'station_code',\n",
       " 'station_num',\n",
       " 'taxon___source__citation_code',\n",
       " 'taxon___source__citation_num',\n",
       " 'taxon__rock_class',\n",
       " 'taxon__rock_type',\n",
       " 'tectonic_settings']"
      ]
     },
     "execution_count": 35,
     "metadata": {},
     "output_type": "execute_result"
    }
   ],
   "source": [
    "#list is sorted so that we can identify duplicates or errors quickly\n",
    "\n",
    "unique_list.sort()\n",
    "unique_list\n"
   ]
  },
  {
   "cell_type": "code",
   "execution_count": 36,
   "metadata": {},
   "outputs": [
    {
     "data": {
      "text/plain": [
       "54"
      ]
     },
     "execution_count": 36,
     "metadata": {},
     "output_type": "execute_result"
    }
   ],
   "source": [
    "len(unique_list)"
   ]
  },
  {
   "cell_type": "markdown",
   "metadata": {},
   "source": [
    "30 samples were chosen, and a list of column headings were created from the tree of dictionaries visible in the json \n",
    "files. "
   ]
  }
 ],
 "metadata": {
  "kernelspec": {
   "display_name": "Python 3",
   "language": "python",
   "name": "python3"
  },
  "language_info": {
   "codemirror_mode": {
    "name": "ipython",
    "version": 3
   },
   "file_extension": ".py",
   "mimetype": "text/x-python",
   "name": "python",
   "nbconvert_exporter": "python",
   "pygments_lexer": "ipython3",
   "version": "3.8.3"
  }
 },
 "nbformat": 4,
 "nbformat_minor": 4
}
