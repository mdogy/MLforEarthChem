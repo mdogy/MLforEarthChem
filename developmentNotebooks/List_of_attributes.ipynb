{
 "cells": [
  {
   "cell_type": "code",
   "execution_count": 1,
   "metadata": {},
   "outputs": [],
   "source": [
    "import numpy as np\n",
    "import pandas as pd\n",
    "import requests as reqs\n",
    "import matplotlib.pyplot as plt\n",
    "%matplotlib inline\n",
    "import json\n",
    "from pandas.io.json import json_normalize  "
   ]
  },
  {
   "cell_type": "code",
   "execution_count": 12,
   "metadata": {},
   "outputs": [
    {
     "data": {
      "text/plain": [
       "43"
      ]
     },
     "execution_count": 12,
     "metadata": {},
     "output_type": "execute_result"
    }
   ],
   "source": [
    "header_names_26840 = ['specimen_num', 'specimen_code', 'isgn', 'archive_institution', 'specimen_material', 'taxon__rock_type','taxon__rock_class',\n",
    "                      'taxon___source__citation_num','taxon___source__citation_code', 'rock_class_details', 'specimen_names__specimen_name', \n",
    "                      'specimen_names___source__citation_num', 'Specimen_names___source__citation_code','specimen_comments', 'alterations',\n",
    "                      'rocktextures__rock_texture', 'rocktextures___source__citation_num', 'rocktextures___source__citation_code',\n",
    "                      'geological_ages__prefix', 'geological_ages__age', 'geological_ages__age_min', 'geologicalages__age_max', \n",
    "                      'geological_ages___source__citation_num','geological_ages___source__citation_code','station_num', 'station_code',\n",
    "                      'lat_label', 'long_label','points__latitude', 'points__longitude','points__text', 'centerlat', 'centerlong', 'elevation_min',\n",
    "                      'elevation_max', 'location_precisions','geographic_location','tectonic_settings', 'expedition_num', 'expedition_code',\n",
    "                      'sampling_technique_code', 'sampling_technique_name','analyzed_samples'\n",
    "                    ]\n",
    "\n",
    "\n",
    "\n",
    "len(header_names_26840)\n"
   ]
  },
  {
   "cell_type": "code",
   "execution_count": 13,
   "metadata": {},
   "outputs": [
    {
     "data": {
      "text/plain": [
       "41"
      ]
     },
     "execution_count": 13,
     "metadata": {},
     "output_type": "execute_result"
    }
   ],
   "source": [
    "header_names_26639 = ['specimen_num', 'specimen_code', 'igsn', 'archive_institution', 'specimen_material', 'taxon__rock_type',\n",
    "                      'taxon__rock_class', 'taxon___source__citation_num', 'taxon___source__citation_code', 'rock_class_details',\n",
    "                      'specimen_names__specimen_name', 'specimen_names___source__citation_num', 'specimens_names___source__citation_code',\n",
    "                      'specimen_comments', 'alterations', 'rock_textures', 'geological_ages__prefix', 'geological_ages__age', \n",
    "                      'geological_ages__age_min', 'geological_ages__age_max','geological_ages___source__citation_num', \n",
    "                      'geological_ages___source__citation_code', 'station_num', 'station_code', 'lat_label','long_label', 'points__latitude',\n",
    "                      'points__longitude', 'points__text', 'centerLat', 'centerlong', 'elevation_min', 'elevation_max',\n",
    "                      'location_precisions', 'geographic_location', 'tectonic_settings','expedition_num','expedition_code','sampling_technique_code', \n",
    "                      'sampling_technique_name', 'analyzed_samples']\n",
    "\n",
    "len(header_names_26639)"
   ]
  },
  {
   "cell_type": "code",
   "execution_count": null,
   "metadata": {},
   "outputs": [],
   "source": []
  }
 ],
 "metadata": {
  "kernelspec": {
   "display_name": "Python 3",
   "language": "python",
   "name": "python3"
  },
  "language_info": {
   "codemirror_mode": {
    "name": "ipython",
    "version": 3
   },
   "file_extension": ".py",
   "mimetype": "text/x-python",
   "name": "python",
   "nbconvert_exporter": "python",
   "pygments_lexer": "ipython3",
   "version": "3.7.6"
  }
 },
 "nbformat": 4,
 "nbformat_minor": 4
}
