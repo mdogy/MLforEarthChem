{
 "cells": [
  {
   "cell_type": "markdown",
   "metadata": {},
   "source": [
    "In this notebook we explore downloading the petdb database in wide form.\n",
    "\n",
    "A sample retrieval from the petdb from the API endpoint is here:\n",
    "\n",
    "https://ecapi.earthchem.org/specimen/33513"
   ]
  },
  {
   "cell_type": "code",
   "execution_count": 3,
   "metadata": {},
   "outputs": [],
   "source": [
    "# Imports: usual suspects\n",
    "import pandas as pd\n",
    "import numpy as np\n",
    "import requests as reqs\n",
    "from matplotlib import pyplot as plt"
   ]
  },
  {
   "cell_type": "code",
   "execution_count": 2,
   "metadata": {},
   "outputs": [],
   "source": [
    "# Constants\n",
    "petdb_url = 'https://ecapi.earthchem.org/specimen'\n",
    "example_sample = '33513'"
   ]
  },
  {
   "cell_type": "code",
   "execution_count": 5,
   "metadata": {},
   "outputs": [
    {
     "name": "stderr",
     "output_type": "stream",
     "text": [
      "/opt/conda/lib/python3.7/site-packages/urllib3/connectionpool.py:986: InsecureRequestWarning: Unverified HTTPS request is being made to host 'ecapi.earthchem.org'. Adding certificate verification is strongly advised. See: https://urllib3.readthedocs.io/en/latest/advanced-usage.html#ssl-warnings\n",
      "  InsecureRequestWarning,\n"
     ]
    }
   ],
   "source": [
    "rq = reqs.get(petdb_url+'/'+example_sample,verify=False)"
   ]
  },
  {
   "cell_type": "code",
   "execution_count": 9,
   "metadata": {},
   "outputs": [
    {
     "name": "stdout",
     "output_type": "stream",
     "text": [
      "{'count': 1, 'data': {'specimen_num': 33513, 'specimen_code': 'ARGAMPH-001', 'igsn': 'N/A', 'archive_institution': None, 'specimen_material': 'ROCK', 'taxon': [{'rock_type': 'igneous:volcanic:mafic', 'rock_class': 'BASALT', 'source': [{'citation_num': '215', 'citation_code': 'ENGEL,1964'}, {'citation_num': '126', 'citation_code': 'ENGEL,1965'}, {'citation_num': '350', 'citation_code': 'HART,1969'}, {'citation_num': '371', 'citation_code': 'HART,1971'}, {'citation_num': '348', 'citation_code': 'HEDGE,1970'}, {'citation_num': '185', 'citation_code': 'KAY,1970'}, {'citation_num': '388', 'citation_code': 'MACDOUGALL,1986'}, {'citation_num': '385', 'citation_code': 'PINEAU,1976'}, {'citation_num': '157', 'citation_code': 'PINEAU,1983'}]}, {'rock_type': 'igneous:volcanic:mafic', 'rock_class': 'THOLEIITE', 'source': [{'citation_num': '346', 'citation_code': 'SUBBARAO,1972'}, {'citation_num': '201', 'citation_code': 'SUN,1980'}, {'citation_num': '748', 'citation_code': 'TATSUMOTO,1966'}]}], 'rock_class_details': [{'rock_class_detail': 'HIGH-AL THOLEIITE', 'source': [{'citation_num': '385', 'citation_code': 'PINEAU, 1976'}]}], 'specimen_names': [{'specimen_name': 'AMPH1D', 'source': [{'citation_num': '385', 'citation_code': 'PINEAU, 1976'}]}, {'specimen_name': 'AMPH-1D', 'source': [{'citation_num': '157', 'citation_code': 'PINEAU, 1983'}]}, {'specimen_name': 'AMPH 1-PDIP', 'source': [{'citation_num': '371', 'citation_code': 'HART, 1971'}]}, {'specimen_name': 'AMPH D1', 'source': [{'citation_num': '185', 'citation_code': 'KAY, 1970'}]}, {'specimen_name': 'AMPH-D1', 'source': [{'citation_num': '388', 'citation_code': 'MACDOUGALL, 1986'}]}, {'specimen_name': 'AMPH D-1', 'source': [{'citation_num': '201', 'citation_code': 'SUN, 1980'}]}, {'specimen_name': 'AMPH PD1-P', 'source': [{'citation_num': '350', 'citation_code': 'HART, 1969'}]}, {'specimen_name': 'D1', 'source': [{'citation_num': '215', 'citation_code': 'ENGEL, 1964'}]}, {'specimen_name': 'PD-1', 'source': [{'citation_num': '348', 'citation_code': 'HEDGE, 1970'}]}, {'specimen_name': 'PD1', 'source': [{'citation_num': '748', 'citation_code': 'TATSUMOTO, 1966'}]}, {'specimen_name': 'PV D-1', 'source': [{'citation_num': '126', 'citation_code': 'ENGEL, 1965'}]}, {'specimen_name': 'S-9', 'source': [{'citation_num': '346', 'citation_code': 'SUBBARAO, 1972'}]}], 'specimen_comments': [], 'alterations': [{'alteration': 'FRESH', 'source': [{'citation_num': '388', 'citation_code': 'MACDOUGALL, 1986'}, {'citation_num': '350', 'citation_code': 'HART, 1969'}]}], 'rock_textures': [{'rock_texture': 'FINE-GRAINED PORPHYRITIC BASALT; CA. 30% PLAG PC (AN80)', 'source': [{'citation_num': '201', 'citation_code': 'SUN, 1980'}]}, {'rock_texture': 'FINE-GRAINED, PORPHYRITIC; CA. 30% PLAG PC (AN80)', 'source': [{'citation_num': '185', 'citation_code': 'KAY, 1970'}]}, {'rock_texture': 'GLASSY BASALT WITH CA. 25% PLAG PC UP TO 0.7CM', 'source': [{'citation_num': '350', 'citation_code': 'HART, 1969'}]}, {'rock_texture': 'PORPHYRITIC WITH GLASSY TO MICROCRYSTALLINE GM', 'source': [{'citation_num': '215', 'citation_code': 'ENGEL, 1964'}]}], 'geological_ages': [], 'station_num': 2537, 'station_code': 'ARGAMPH-001', 'lat_label': '7.83°S', 'long_label': '108.13°W', 'points': [{'latitude': -7.83, 'longitude': -108.13, 'text': '7.83°S/108.13°W'}], 'centerLat': -7.83, 'centerLong': -108.13, 'elevation_min': -2952, 'elevation_max': -2952, 'location_precisions': ['0.01'], 'geographic_location': ['SPREADING_CENTER|EAST PACIFIC RISE', 'OCEAN|PACIFIC'], 'tectonic_settings': ['SPREADING_CENTER'], 'expedition_num': 321, 'expedition_code': 'ARGAMPH', 'sampling_technique_code': None, 'sampling_technique_name': None, 'analyzed_samples': ['ARGAMPH-001-27579', 'ARGAMPH-001-27773', 'ARGAMPH-001-29056', 'ARGAMPH-001-29057', 'ARGAMPH-001-29100', 'ARGAMPH-001-32604', 'ARGAMPH-001-32605', 'ARGAMPH-001-32941', 'ARGAMPH-001-32942', 'ARGAMPH-001-42816', 'ARGAMPH-001-42817', 'ARGAMPH-001-42845', 'ARGAMPH-001-42864', 'ARGAMPH-001-630956', 'ARGAMPH-001-63749', 'ARGAMPH-001-63750', 'ARGAMPH-001-63751', 'ARGAMPH-001-63752', 'ARGAMPH-001-65797', 'ARGAMPH-001-67732', 'ARGAMPH-001-69456', 'ARGAMPH-001-69457', 'ARGAMPH-001-83542', 'ARGAMPH-001-95110']}}\n"
     ]
    }
   ],
   "source": [
    "response_data = rq.json()\n",
    "print(response_data)"
   ]
  },
  {
   "cell_type": "code",
   "execution_count": 11,
   "metadata": {},
   "outputs": [
    {
     "data": {
      "text/plain": [
       "dict_keys(['count', 'data'])"
      ]
     },
     "execution_count": 11,
     "metadata": {},
     "output_type": "execute_result"
    }
   ],
   "source": [
    "# Each row is going to be a citation + the specimin_num\n",
    "# so first we have to get every citation here out\n",
    "response_data.keys()"
   ]
  },
  {
   "cell_type": "code",
   "execution_count": 12,
   "metadata": {},
   "outputs": [
    {
     "data": {
      "text/plain": [
       "dict_keys(['specimen_num', 'specimen_code', 'igsn', 'archive_institution', 'specimen_material', 'taxon', 'rock_class_details', 'specimen_names', 'specimen_comments', 'alterations', 'rock_textures', 'geological_ages', 'station_num', 'station_code', 'lat_label', 'long_label', 'points', 'centerLat', 'centerLong', 'elevation_min', 'elevation_max', 'location_precisions', 'geographic_location', 'tectonic_settings', 'expedition_num', 'expedition_code', 'sampling_technique_code', 'sampling_technique_name', 'analyzed_samples'])"
      ]
     },
     "execution_count": 12,
     "metadata": {},
     "output_type": "execute_result"
    }
   ],
   "source": [
    "response_data['data'].keys()"
   ]
  },
  {
   "cell_type": "code",
   "execution_count": 14,
   "metadata": {},
   "outputs": [
    {
     "name": "stdout",
     "output_type": "stream",
     "text": [
      "specimen_num\n",
      "33513\n",
      "specimen_code\n",
      "ARGAMPH-001\n",
      "igsn\n",
      "N/A\n",
      "archive_institution\n",
      "None\n",
      "specimen_material\n",
      "ROCK\n",
      "taxon\n",
      "[{'rock_type': 'igneous:volcanic:mafic', 'rock_class': 'BASALT', 'source': [{'citation_num': '215', 'citation_code': 'ENGEL,1964'}, {'citation_num': '126', 'citation_code': 'ENGEL,1965'}, {'citation_num': '350', 'citation_code': 'HART,1969'}, {'citation_num': '371', 'citation_code': 'HART,1971'}, {'citation_num': '348', 'citation_code': 'HEDGE,1970'}, {'citation_num': '185', 'citation_code': 'KAY,1970'}, {'citation_num': '388', 'citation_code': 'MACDOUGALL,1986'}, {'citation_num': '385', 'citation_code': 'PINEAU,1976'}, {'citation_num': '157', 'citation_code': 'PINEAU,1983'}]}, {'rock_type': 'igneous:volcanic:mafic', 'rock_class': 'THOLEIITE', 'source': [{'citation_num': '346', 'citation_code': 'SUBBARAO,1972'}, {'citation_num': '201', 'citation_code': 'SUN,1980'}, {'citation_num': '748', 'citation_code': 'TATSUMOTO,1966'}]}]\n",
      "rock_class_details\n",
      "[{'rock_class_detail': 'HIGH-AL THOLEIITE', 'source': [{'citation_num': '385', 'citation_code': 'PINEAU, 1976'}]}]\n",
      "specimen_names\n",
      "[{'specimen_name': 'AMPH1D', 'source': [{'citation_num': '385', 'citation_code': 'PINEAU, 1976'}]}, {'specimen_name': 'AMPH-1D', 'source': [{'citation_num': '157', 'citation_code': 'PINEAU, 1983'}]}, {'specimen_name': 'AMPH 1-PDIP', 'source': [{'citation_num': '371', 'citation_code': 'HART, 1971'}]}, {'specimen_name': 'AMPH D1', 'source': [{'citation_num': '185', 'citation_code': 'KAY, 1970'}]}, {'specimen_name': 'AMPH-D1', 'source': [{'citation_num': '388', 'citation_code': 'MACDOUGALL, 1986'}]}, {'specimen_name': 'AMPH D-1', 'source': [{'citation_num': '201', 'citation_code': 'SUN, 1980'}]}, {'specimen_name': 'AMPH PD1-P', 'source': [{'citation_num': '350', 'citation_code': 'HART, 1969'}]}, {'specimen_name': 'D1', 'source': [{'citation_num': '215', 'citation_code': 'ENGEL, 1964'}]}, {'specimen_name': 'PD-1', 'source': [{'citation_num': '348', 'citation_code': 'HEDGE, 1970'}]}, {'specimen_name': 'PD1', 'source': [{'citation_num': '748', 'citation_code': 'TATSUMOTO, 1966'}]}, {'specimen_name': 'PV D-1', 'source': [{'citation_num': '126', 'citation_code': 'ENGEL, 1965'}]}, {'specimen_name': 'S-9', 'source': [{'citation_num': '346', 'citation_code': 'SUBBARAO, 1972'}]}]\n",
      "specimen_comments\n",
      "[]\n",
      "alterations\n",
      "[{'alteration': 'FRESH', 'source': [{'citation_num': '388', 'citation_code': 'MACDOUGALL, 1986'}, {'citation_num': '350', 'citation_code': 'HART, 1969'}]}]\n",
      "rock_textures\n",
      "[{'rock_texture': 'FINE-GRAINED PORPHYRITIC BASALT; CA. 30% PLAG PC (AN80)', 'source': [{'citation_num': '201', 'citation_code': 'SUN, 1980'}]}, {'rock_texture': 'FINE-GRAINED, PORPHYRITIC; CA. 30% PLAG PC (AN80)', 'source': [{'citation_num': '185', 'citation_code': 'KAY, 1970'}]}, {'rock_texture': 'GLASSY BASALT WITH CA. 25% PLAG PC UP TO 0.7CM', 'source': [{'citation_num': '350', 'citation_code': 'HART, 1969'}]}, {'rock_texture': 'PORPHYRITIC WITH GLASSY TO MICROCRYSTALLINE GM', 'source': [{'citation_num': '215', 'citation_code': 'ENGEL, 1964'}]}]\n",
      "geological_ages\n",
      "[]\n",
      "station_num\n",
      "2537\n",
      "station_code\n",
      "ARGAMPH-001\n",
      "lat_label\n",
      "7.83°S\n",
      "long_label\n",
      "108.13°W\n",
      "points\n",
      "[{'latitude': -7.83, 'longitude': -108.13, 'text': '7.83°S/108.13°W'}]\n",
      "centerLat\n",
      "-7.83\n",
      "centerLong\n",
      "-108.13\n",
      "elevation_min\n",
      "-2952\n",
      "elevation_max\n",
      "-2952\n",
      "location_precisions\n",
      "['0.01']\n",
      "geographic_location\n",
      "['SPREADING_CENTER|EAST PACIFIC RISE', 'OCEAN|PACIFIC']\n",
      "tectonic_settings\n",
      "['SPREADING_CENTER']\n",
      "expedition_num\n",
      "321\n",
      "expedition_code\n",
      "ARGAMPH\n",
      "sampling_technique_code\n",
      "None\n",
      "sampling_technique_name\n",
      "None\n",
      "analyzed_samples\n",
      "['ARGAMPH-001-27579', 'ARGAMPH-001-27773', 'ARGAMPH-001-29056', 'ARGAMPH-001-29057', 'ARGAMPH-001-29100', 'ARGAMPH-001-32604', 'ARGAMPH-001-32605', 'ARGAMPH-001-32941', 'ARGAMPH-001-32942', 'ARGAMPH-001-42816', 'ARGAMPH-001-42817', 'ARGAMPH-001-42845', 'ARGAMPH-001-42864', 'ARGAMPH-001-630956', 'ARGAMPH-001-63749', 'ARGAMPH-001-63750', 'ARGAMPH-001-63751', 'ARGAMPH-001-63752', 'ARGAMPH-001-65797', 'ARGAMPH-001-67732', 'ARGAMPH-001-69456', 'ARGAMPH-001-69457', 'ARGAMPH-001-83542', 'ARGAMPH-001-95110']\n"
     ]
    }
   ],
   "source": [
    "# just checking\n",
    "for key, value in response_data['data'].items():\n",
    "    print(key)\n",
    "    print(value)"
   ]
  },
  {
   "cell_type": "markdown",
   "metadata": {},
   "source": [
    "Looks like taxon is a list. We need to go through each element on the list and get out the sources."
   ]
  },
  {
   "cell_type": "code",
   "execution_count": 16,
   "metadata": {},
   "outputs": [
    {
     "name": "stdout",
     "output_type": "stream",
     "text": [
      "[{'citation_num': '215', 'citation_code': 'ENGEL,1964'}, {'citation_num': '126', 'citation_code': 'ENGEL,1965'}, {'citation_num': '350', 'citation_code': 'HART,1969'}, {'citation_num': '371', 'citation_code': 'HART,1971'}, {'citation_num': '348', 'citation_code': 'HEDGE,1970'}, {'citation_num': '185', 'citation_code': 'KAY,1970'}, {'citation_num': '388', 'citation_code': 'MACDOUGALL,1986'}, {'citation_num': '385', 'citation_code': 'PINEAU,1976'}, {'citation_num': '157', 'citation_code': 'PINEAU,1983'}]\n",
      "[{'citation_num': '346', 'citation_code': 'SUBBARAO,1972'}, {'citation_num': '201', 'citation_code': 'SUN,1980'}, {'citation_num': '748', 'citation_code': 'TATSUMOTO,1966'}]\n"
     ]
    }
   ],
   "source": [
    "for entry in response_data['data']['taxon']: \n",
    "    print(entry['source'])"
   ]
  },
  {
   "cell_type": "code",
   "execution_count": 18,
   "metadata": {},
   "outputs": [
    {
     "name": "stdout",
     "output_type": "stream",
     "text": [
      "{'citation_num': '215', 'citation_code': 'ENGEL,1964'}\n",
      "{'citation_num': '126', 'citation_code': 'ENGEL,1965'}\n",
      "{'citation_num': '350', 'citation_code': 'HART,1969'}\n",
      "{'citation_num': '371', 'citation_code': 'HART,1971'}\n",
      "{'citation_num': '348', 'citation_code': 'HEDGE,1970'}\n",
      "{'citation_num': '185', 'citation_code': 'KAY,1970'}\n",
      "{'citation_num': '388', 'citation_code': 'MACDOUGALL,1986'}\n",
      "{'citation_num': '385', 'citation_code': 'PINEAU,1976'}\n",
      "{'citation_num': '157', 'citation_code': 'PINEAU,1983'}\n",
      "{'citation_num': '346', 'citation_code': 'SUBBARAO,1972'}\n",
      "{'citation_num': '201', 'citation_code': 'SUN,1980'}\n",
      "{'citation_num': '748', 'citation_code': 'TATSUMOTO,1966'}\n"
     ]
    }
   ],
   "source": [
    "for entry in response_data['data']['taxon']: \n",
    "    for item in entry['source']:\n",
    "        print(item)"
   ]
  },
  {
   "cell_type": "code",
   "execution_count": 19,
   "metadata": {},
   "outputs": [
    {
     "name": "stdout",
     "output_type": "stream",
     "text": [
      "215\n",
      "126\n",
      "350\n",
      "371\n",
      "348\n",
      "185\n",
      "388\n",
      "385\n",
      "157\n",
      "346\n",
      "201\n",
      "748\n"
     ]
    }
   ],
   "source": [
    "taxon_citation_numbers = []\n",
    "for entry in response_data['data']['taxon']: \n",
    "    for item in entry['source']:\n",
    "        print(item['citation_num'])"
   ]
  },
  {
   "cell_type": "code",
   "execution_count": 21,
   "metadata": {},
   "outputs": [
    {
     "name": "stdout",
     "output_type": "stream",
     "text": [
      "['201', '215', '346', '371', '348', '385', '748', '185', '350', '388', '126', '157']\n"
     ]
    }
   ],
   "source": [
    "taxon_citation_numbers = []\n",
    "for entry in response_data['data']['taxon']: \n",
    "    for item in entry['source']:\n",
    "        taxon_citation_numbers.append(item['citation_num'])\n",
    "# This makes the numbers unique\n",
    "taxon_citation_numbers = list(set(taxon_citation_numbers))\n",
    "print(taxon_citation_numbers)"
   ]
  },
  {
   "cell_type": "markdown",
   "metadata": {},
   "source": [
    "We need to do this for all the attributes in response['data'] not just 'taxon'. So first we walk through all the attributes and get the citation numbers in every one, and merge them. In this CASE we are only looking at one specimen. So we will at LEAST get one pandas row for each of these citations which will all have the same specimen number. \n",
    "\n",
    "We have to run back through the attributes so that for a given row, we have attributes for \"taxon_rock_type\", \"taxon_rock_class\", \"taxon_rock_class_details\" and whatever that combination of specimen and \"citation_num\".\n",
    "\n",
    "So lets be clear: there should **never** be two rows which have the same specimen_id AND same \"citation_num\". It is also true that for every specimen_id, if a \"citation_num\" appears in that reponse_data anywhere, there MUST be a row that has the specimen_id and the citation_num.\n",
    "\n",
    "Each row only has one column called specimin_id and that column has a single number ALWAYS (never null).\n",
    "\n",
    "Each row only has one column called \"citation_num\" and that column only has a single number ALWAYS (never null)\n",
    "\n",
    "Every single attribute in the data returned fro petdb appears as some column, if the data has a value"
   ]
  }
 ],
 "metadata": {
  "kernelspec": {
   "display_name": "Python 3",
   "language": "python",
   "name": "python3"
  },
  "language_info": {
   "codemirror_mode": {
    "name": "ipython",
    "version": 3
   },
   "file_extension": ".py",
   "mimetype": "text/x-python",
   "name": "python",
   "nbconvert_exporter": "python",
   "pygments_lexer": "ipython3",
   "version": "3.7.6"
  }
 },
 "nbformat": 4,
 "nbformat_minor": 4
}
