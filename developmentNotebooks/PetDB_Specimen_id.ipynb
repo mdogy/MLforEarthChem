{
 "cells": [
  {
   "cell_type": "code",
   "execution_count": 1,
   "metadata": {},
   "outputs": [],
   "source": [
    "import numpy as np\n",
    "import pandas as pd\n",
    "import requests as reqs\n",
    "import matplotlib.pyplot as plt\n",
    "%matplotlib inline\n"
   ]
  },
  {
   "cell_type": "code",
   "execution_count": 2,
   "metadata": {},
   "outputs": [],
   "source": [
    "Specimen_URL = r\"C:\\Users\\natasha\\Downloads\\specimen_summary_marine_only (2).csv\"\n",
    "petdb_url = 'https://ecapi.earthchem.org/specimen'\n",
    "example_sample = '26640'\n"
   ]
  },
  {
   "cell_type": "code",
   "execution_count": 3,
   "metadata": {},
   "outputs": [],
   "source": [
    "Specimen_id = pd.read_csv(Specimen_URL, low_memory=False)"
   ]
  },
  {
   "cell_type": "code",
   "execution_count": 4,
   "metadata": {},
   "outputs": [
    {
     "data": {
      "text/plain": [
       "0    26639.0\n",
       "1    26640.0\n",
       "2    26641.0\n",
       "3    26642.0\n",
       "4    26643.0\n",
       "Name: specimen_num, dtype: float64"
      ]
     },
     "execution_count": 4,
     "metadata": {},
     "output_type": "execute_result"
    }
   ],
   "source": [
    "Specimen_id['specimen_num'].head()"
   ]
  },
  {
   "cell_type": "code",
   "execution_count": 5,
   "metadata": {},
   "outputs": [
    {
     "name": "stderr",
     "output_type": "stream",
     "text": [
      "C:\\Users\\natasha\\anaconda3\\lib\\site-packages\\urllib3\\connectionpool.py:1004: InsecureRequestWarning: Unverified HTTPS request is being made to host 'ecapi.earthchem.org'. Adding certificate verification is strongly advised. See: https://urllib3.readthedocs.io/en/latest/advanced-usage.html#ssl-warnings\n",
      "  InsecureRequestWarning,\n"
     ]
    }
   ],
   "source": [
    "rq = reqs.get(petdb_url+'/'+example_sample,verify=False)"
   ]
  },
  {
   "cell_type": "code",
   "execution_count": 6,
   "metadata": {},
   "outputs": [
    {
     "name": "stdout",
     "output_type": "stream",
     "text": [
      "{'count': 1, 'data': {'specimen_num': 26640, 'specimen_code': 'ABP0002-019-002', 'igsn': 'URI900886', 'archive_institution': None, 'specimen_material': 'ROCK', 'taxon': [{'rock_type': 'igneous:volcanic:mafic', 'rock_class': 'BASALT', 'source': [{'citation_num': '2129', 'citation_code': 'KELLEY,2013'}, {'citation_num': '1086', 'citation_code': 'MELSON,2003'}]}], 'rock_class_details': [], 'specimen_names': [{'specimen_name': '2p D19-2', 'source': [{'citation_num': '2129', 'citation_code': 'KELLEY, 2013'}]}, {'specimen_name': 'VG8463', 'source': [{'citation_num': '1086', 'citation_code': 'MELSON, 2003'}]}], 'specimen_comments': [], 'alterations': [], 'rock_textures': [], 'geological_ages': [{'prefix': '', 'age': '', 'age_min': '', 'age_max': '1', 'source': [{'citation_num': '1086', 'citation_code': 'MELSON, 2003'}]}], 'station_num': 6585, 'station_code': 'ABP0002-019', 'lat_label': '14.17°S', 'long_label': '13.94°W', 'points': [{'latitude': -14.17, 'longitude': -13.94, 'text': '14.17°S/13.94°W'}], 'centerLat': -14.17, 'centerLong': -13.94, 'elevation_min': -2940, 'elevation_max': -3620, 'location_precisions': ['0.01'], 'geographic_location': ['OCEAN|ATLANTIC', 'SPREADING_CENTER|MID-ATLANTIC RIDGE'], 'tectonic_settings': ['SPREADING_CENTER'], 'expedition_num': 789, 'expedition_code': 'ABP0002', 'sampling_technique_code': None, 'sampling_technique_name': None, 'analyzed_samples': ['ABP0002-019-002-117896', 'ABP0002-019-002-863412', 'ABP0002-019-002-863791']}}\n"
     ]
    }
   ],
   "source": [
    "response_data = rq.json()\n",
    "print(response_data)"
   ]
  },
  {
   "cell_type": "code",
   "execution_count": 8,
   "metadata": {},
   "outputs": [
    {
     "data": {
      "text/plain": [
       "dict_keys(['count', 'data'])"
      ]
     },
     "execution_count": 8,
     "metadata": {},
     "output_type": "execute_result"
    }
   ],
   "source": [
    "response_data.keys()"
   ]
  },
  {
   "cell_type": "code",
   "execution_count": 12,
   "metadata": {},
   "outputs": [
    {
     "data": {
      "text/plain": [
       "dict_keys(['specimen_num', 'specimen_code', 'igsn', 'archive_institution', 'specimen_material', 'taxon', 'rock_class_details', 'specimen_names', 'specimen_comments', 'alterations', 'rock_textures', 'geological_ages', 'station_num', 'station_code', 'lat_label', 'long_label', 'points', 'centerLat', 'centerLong', 'elevation_min', 'elevation_max', 'location_precisions', 'geographic_location', 'tectonic_settings', 'expedition_num', 'expedition_code', 'sampling_technique_code', 'sampling_technique_name', 'analyzed_samples'])"
      ]
     },
     "execution_count": 12,
     "metadata": {},
     "output_type": "execute_result"
    }
   ],
   "source": [
    "response_data['data'].keys()"
   ]
  },
  {
   "cell_type": "code",
   "execution_count": 13,
   "metadata": {},
   "outputs": [
    {
     "name": "stdout",
     "output_type": "stream",
     "text": [
      "specimen_num 26640\n",
      "specimen_code ABP0002-019-002\n",
      "igsn URI900886\n",
      "archive_institution None\n",
      "specimen_material ROCK\n",
      "taxon [{'rock_type': 'igneous:volcanic:mafic', 'rock_class': 'BASALT', 'source': [{'citation_num': '2129', 'citation_code': 'KELLEY,2013'}, {'citation_num': '1086', 'citation_code': 'MELSON,2003'}]}]\n",
      "rock_class_details []\n",
      "specimen_names [{'specimen_name': '2p D19-2', 'source': [{'citation_num': '2129', 'citation_code': 'KELLEY, 2013'}]}, {'specimen_name': 'VG8463', 'source': [{'citation_num': '1086', 'citation_code': 'MELSON, 2003'}]}]\n",
      "specimen_comments []\n",
      "alterations []\n",
      "rock_textures []\n",
      "geological_ages [{'prefix': '', 'age': '', 'age_min': '', 'age_max': '1', 'source': [{'citation_num': '1086', 'citation_code': 'MELSON, 2003'}]}]\n",
      "station_num 6585\n",
      "station_code ABP0002-019\n",
      "lat_label 14.17°S\n",
      "long_label 13.94°W\n",
      "points [{'latitude': -14.17, 'longitude': -13.94, 'text': '14.17°S/13.94°W'}]\n",
      "centerLat -14.17\n",
      "centerLong -13.94\n",
      "elevation_min -2940\n",
      "elevation_max -3620\n",
      "location_precisions ['0.01']\n",
      "geographic_location ['OCEAN|ATLANTIC', 'SPREADING_CENTER|MID-ATLANTIC RIDGE']\n",
      "tectonic_settings ['SPREADING_CENTER']\n",
      "expedition_num 789\n",
      "expedition_code ABP0002\n",
      "sampling_technique_code None\n",
      "sampling_technique_name None\n",
      "analyzed_samples ['ABP0002-019-002-117896', 'ABP0002-019-002-863412', 'ABP0002-019-002-863791']\n"
     ]
    }
   ],
   "source": [
    "for key, value in response_data['data'].items():\n",
    "    print(key, value)"
   ]
  },
  {
   "cell_type": "code",
   "execution_count": 18,
   "metadata": {},
   "outputs": [
    {
     "name": "stdout",
     "output_type": "stream",
     "text": [
      "[{'citation_num': '2129', 'citation_code': 'KELLEY,2013'}, {'citation_num': '1086', 'citation_code': 'MELSON,2003'}]\n"
     ]
    }
   ],
   "source": [
    "for entry in response_data['data']['taxon']:\n",
    "    print(entry ['source'])\n",
    "\n"
   ]
  },
  {
   "cell_type": "code",
   "execution_count": 19,
   "metadata": {},
   "outputs": [
    {
     "name": "stdout",
     "output_type": "stream",
     "text": [
      "{'citation_num': '2129', 'citation_code': 'KELLEY,2013'}\n",
      "{'citation_num': '1086', 'citation_code': 'MELSON,2003'}\n"
     ]
    }
   ],
   "source": [
    "for entry in response_data['data']['taxon']:\n",
    "    for item in entry['source']:\n",
    "        print(item)\n"
   ]
  },
  {
   "cell_type": "code",
   "execution_count": 21,
   "metadata": {},
   "outputs": [
    {
     "name": "stdout",
     "output_type": "stream",
     "text": [
      "2129\n",
      "1086\n"
     ]
    }
   ],
   "source": [
    "for entry in response_data['data']['taxon']:\n",
    "    for item in entry['source']:\n",
    "        print(item['citation_num'])\n",
    "        "
   ]
  },
  {
   "cell_type": "code",
   "execution_count": 22,
   "metadata": {},
   "outputs": [
    {
     "name": "stdout",
     "output_type": "stream",
     "text": [
      "['1086', '2129']\n"
     ]
    }
   ],
   "source": [
    "taxon_citation_numbers = []\n",
    "for entry in response_data['data']['taxon']: \n",
    "    for item in entry['source']:\n",
    "        taxon_citation_numbers.append(item['citation_num'])\n",
    "taxon_citation_numbers = list(set(taxon_citation_numbers))\n",
    "print(taxon_citation_numbers)"
   ]
  },
  {
   "cell_type": "code",
   "execution_count": null,
   "metadata": {},
   "outputs": [],
   "source": []
  }
 ],
 "metadata": {
  "kernelspec": {
   "display_name": "Python 3",
   "language": "python",
   "name": "python3"
  },
  "language_info": {
   "codemirror_mode": {
    "name": "ipython",
    "version": 3
   },
   "file_extension": ".py",
   "mimetype": "text/x-python",
   "name": "python",
   "nbconvert_exporter": "python",
   "pygments_lexer": "ipython3",
   "version": "3.7.6"
  }
 },
 "nbformat": 4,
 "nbformat_minor": 4
}
