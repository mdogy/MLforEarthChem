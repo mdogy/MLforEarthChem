{
 "cells": [
  {
   "cell_type": "code",
   "execution_count": 1,
   "metadata": {},
   "outputs": [],
   "source": [
    "import numpy as np\n",
    "import pandas as pd\n",
    "import requests as reqs\n",
    "import matplotlib.pyplot as plt\n",
    "%matplotlib inline\n",
    "import json\n",
    "from pandas.io.json import json_normalize  \n"
   ]
  },
  {
   "cell_type": "code",
   "execution_count": 2,
   "metadata": {},
   "outputs": [],
   "source": [
    "Specimen_URL = r\"C:\\Users\\natasha\\Downloads\\specimen_summary_marine_only (2).csv\"\n",
    "petdb_url = 'https://ecapi.earthchem.org/specimen'\n",
    "example_sample = '26639'\n"
   ]
  },
  {
   "cell_type": "code",
   "execution_count": 3,
   "metadata": {},
   "outputs": [],
   "source": [
    "Specimen_id = pd.read_csv(Specimen_URL, low_memory=False)"
   ]
  },
  {
   "cell_type": "code",
   "execution_count": 4,
   "metadata": {},
   "outputs": [
    {
     "data": {
      "text/html": [
       "<div>\n",
       "<style scoped>\n",
       "    .dataframe tbody tr th:only-of-type {\n",
       "        vertical-align: middle;\n",
       "    }\n",
       "\n",
       "    .dataframe tbody tr th {\n",
       "        vertical-align: top;\n",
       "    }\n",
       "\n",
       "    .dataframe thead th {\n",
       "        text-align: right;\n",
       "    }\n",
       "</style>\n",
       "<table border=\"1\" class=\"dataframe\">\n",
       "  <thead>\n",
       "    <tr style=\"text-align: right;\">\n",
       "      <th></th>\n",
       "      <th>specimen_num</th>\n",
       "      <th>specimen_code</th>\n",
       "      <th>igsn</th>\n",
       "      <th>station_num</th>\n",
       "      <th>station_code</th>\n",
       "      <th>geometry_text</th>\n",
       "      <th>elevation_min</th>\n",
       "      <th>elevation_max</th>\n",
       "      <th>location_precisions</th>\n",
       "      <th>geographic_location</th>\n",
       "      <th>...</th>\n",
       "      <th>Unnamed: 388</th>\n",
       "      <th>Unnamed: 389</th>\n",
       "      <th>Unnamed: 390</th>\n",
       "      <th>Unnamed: 391</th>\n",
       "      <th>Unnamed: 392</th>\n",
       "      <th>Unnamed: 393</th>\n",
       "      <th>Unnamed: 394</th>\n",
       "      <th>Unnamed: 395</th>\n",
       "      <th>Unnamed: 396</th>\n",
       "      <th>Unnamed: 397</th>\n",
       "    </tr>\n",
       "  </thead>\n",
       "  <tbody>\n",
       "    <tr>\n",
       "      <th>0</th>\n",
       "      <td>26639.0</td>\n",
       "      <td>ABP0002-019-001</td>\n",
       "      <td>NaN</td>\n",
       "      <td>6585</td>\n",
       "      <td>ABP0002-019</td>\n",
       "      <td>POINT(-13.94 -14.17)</td>\n",
       "      <td>-2940</td>\n",
       "      <td>-3620</td>\n",
       "      <td>{0.01}</td>\n",
       "      <td>{SPREADING_CENTER|MID-ATLANTIC RIDGE,OCEAN|ATL...</td>\n",
       "      <td>...</td>\n",
       "      <td>NaN</td>\n",
       "      <td>NaN</td>\n",
       "      <td>NaN</td>\n",
       "      <td>NaN</td>\n",
       "      <td>NaN</td>\n",
       "      <td>NaN</td>\n",
       "      <td>NaN</td>\n",
       "      <td>NaN</td>\n",
       "      <td>NaN</td>\n",
       "      <td>NaN</td>\n",
       "    </tr>\n",
       "    <tr>\n",
       "      <th>1</th>\n",
       "      <td>26640.0</td>\n",
       "      <td>ABP0002-019-002</td>\n",
       "      <td>URI900886</td>\n",
       "      <td>6585</td>\n",
       "      <td>ABP0002-019</td>\n",
       "      <td>POINT(-13.94 -14.17)</td>\n",
       "      <td>-2940</td>\n",
       "      <td>-3620</td>\n",
       "      <td>{0.01}</td>\n",
       "      <td>{SPREADING_CENTER|MID-ATLANTIC RIDGE,OCEAN|ATL...</td>\n",
       "      <td>...</td>\n",
       "      <td>NaN</td>\n",
       "      <td>NaN</td>\n",
       "      <td>NaN</td>\n",
       "      <td>NaN</td>\n",
       "      <td>NaN</td>\n",
       "      <td>NaN</td>\n",
       "      <td>NaN</td>\n",
       "      <td>NaN</td>\n",
       "      <td>NaN</td>\n",
       "      <td>NaN</td>\n",
       "    </tr>\n",
       "    <tr>\n",
       "      <th>2</th>\n",
       "      <td>26641.0</td>\n",
       "      <td>ABP0002-021-001</td>\n",
       "      <td>NaN</td>\n",
       "      <td>6586</td>\n",
       "      <td>ABP0002-021</td>\n",
       "      <td>POINT(-23.26 -22.01)</td>\n",
       "      <td>-4770</td>\n",
       "      <td>-4900</td>\n",
       "      <td>{0.01}</td>\n",
       "      <td>{OCEAN|ATLANTIC,SPREADING_CENTER|MID-ATLANTIC ...</td>\n",
       "      <td>...</td>\n",
       "      <td>NaN</td>\n",
       "      <td>NaN</td>\n",
       "      <td>NaN</td>\n",
       "      <td>NaN</td>\n",
       "      <td>NaN</td>\n",
       "      <td>NaN</td>\n",
       "      <td>NaN</td>\n",
       "      <td>NaN</td>\n",
       "      <td>NaN</td>\n",
       "      <td>NaN</td>\n",
       "    </tr>\n",
       "    <tr>\n",
       "      <th>3</th>\n",
       "      <td>26642.0</td>\n",
       "      <td>ABP0002-021-010</td>\n",
       "      <td>NaN</td>\n",
       "      <td>6586</td>\n",
       "      <td>ABP0002-021</td>\n",
       "      <td>POINT(-23.26 -22.01)</td>\n",
       "      <td>-4770</td>\n",
       "      <td>-4900</td>\n",
       "      <td>{0.01}</td>\n",
       "      <td>{OCEAN|ATLANTIC,SPREADING_CENTER|MID-ATLANTIC ...</td>\n",
       "      <td>...</td>\n",
       "      <td>NaN</td>\n",
       "      <td>NaN</td>\n",
       "      <td>NaN</td>\n",
       "      <td>NaN</td>\n",
       "      <td>NaN</td>\n",
       "      <td>NaN</td>\n",
       "      <td>NaN</td>\n",
       "      <td>NaN</td>\n",
       "      <td>NaN</td>\n",
       "      <td>NaN</td>\n",
       "    </tr>\n",
       "    <tr>\n",
       "      <th>4</th>\n",
       "      <td>26643.0</td>\n",
       "      <td>ABP0002-021-012</td>\n",
       "      <td>NaN</td>\n",
       "      <td>6586</td>\n",
       "      <td>ABP0002-021</td>\n",
       "      <td>POINT(-23.26 -22.01)</td>\n",
       "      <td>-4770</td>\n",
       "      <td>-4900</td>\n",
       "      <td>{0.01}</td>\n",
       "      <td>{OCEAN|ATLANTIC,SPREADING_CENTER|MID-ATLANTIC ...</td>\n",
       "      <td>...</td>\n",
       "      <td>NaN</td>\n",
       "      <td>NaN</td>\n",
       "      <td>NaN</td>\n",
       "      <td>NaN</td>\n",
       "      <td>NaN</td>\n",
       "      <td>NaN</td>\n",
       "      <td>NaN</td>\n",
       "      <td>NaN</td>\n",
       "      <td>NaN</td>\n",
       "      <td>NaN</td>\n",
       "    </tr>\n",
       "  </tbody>\n",
       "</table>\n",
       "<p>5 rows × 398 columns</p>\n",
       "</div>"
      ],
      "text/plain": [
       "  specimen_num    specimen_code       igsn station_num station_code  \\\n",
       "0      26639.0  ABP0002-019-001        NaN        6585  ABP0002-019   \n",
       "1      26640.0  ABP0002-019-002  URI900886        6585  ABP0002-019   \n",
       "2      26641.0  ABP0002-021-001        NaN        6586  ABP0002-021   \n",
       "3      26642.0  ABP0002-021-010        NaN        6586  ABP0002-021   \n",
       "4      26643.0  ABP0002-021-012        NaN        6586  ABP0002-021   \n",
       "\n",
       "          geometry_text elevation_min elevation_max location_precisions  \\\n",
       "0  POINT(-13.94 -14.17)         -2940         -3620              {0.01}   \n",
       "1  POINT(-13.94 -14.17)         -2940         -3620              {0.01}   \n",
       "2  POINT(-23.26 -22.01)         -4770         -4900              {0.01}   \n",
       "3  POINT(-23.26 -22.01)         -4770         -4900              {0.01}   \n",
       "4  POINT(-23.26 -22.01)         -4770         -4900              {0.01}   \n",
       "\n",
       "                                 geographic_location  ... Unnamed: 388  \\\n",
       "0  {SPREADING_CENTER|MID-ATLANTIC RIDGE,OCEAN|ATL...  ...          NaN   \n",
       "1  {SPREADING_CENTER|MID-ATLANTIC RIDGE,OCEAN|ATL...  ...          NaN   \n",
       "2  {OCEAN|ATLANTIC,SPREADING_CENTER|MID-ATLANTIC ...  ...          NaN   \n",
       "3  {OCEAN|ATLANTIC,SPREADING_CENTER|MID-ATLANTIC ...  ...          NaN   \n",
       "4  {OCEAN|ATLANTIC,SPREADING_CENTER|MID-ATLANTIC ...  ...          NaN   \n",
       "\n",
       "  Unnamed: 389 Unnamed: 390 Unnamed: 391 Unnamed: 392 Unnamed: 393  \\\n",
       "0          NaN          NaN          NaN          NaN          NaN   \n",
       "1          NaN          NaN          NaN          NaN          NaN   \n",
       "2          NaN          NaN          NaN          NaN          NaN   \n",
       "3          NaN          NaN          NaN          NaN          NaN   \n",
       "4          NaN          NaN          NaN          NaN          NaN   \n",
       "\n",
       "  Unnamed: 394 Unnamed: 395 Unnamed: 396 Unnamed: 397  \n",
       "0          NaN          NaN          NaN          NaN  \n",
       "1          NaN          NaN          NaN          NaN  \n",
       "2          NaN          NaN          NaN          NaN  \n",
       "3          NaN          NaN          NaN          NaN  \n",
       "4          NaN          NaN          NaN          NaN  \n",
       "\n",
       "[5 rows x 398 columns]"
      ]
     },
     "execution_count": 4,
     "metadata": {},
     "output_type": "execute_result"
    }
   ],
   "source": [
    "Specimen_id['specimen_num'] = Specimen_id['specimen_num'].astype(str)\n",
    "Specimen_id.head()"
   ]
  },
  {
   "cell_type": "code",
   "execution_count": 5,
   "metadata": {},
   "outputs": [
    {
     "name": "stderr",
     "output_type": "stream",
     "text": [
      "C:\\Users\\natasha\\anaconda3\\lib\\site-packages\\urllib3\\connectionpool.py:1004: InsecureRequestWarning: Unverified HTTPS request is being made to host 'ecapi.earthchem.org'. Adding certificate verification is strongly advised. See: https://urllib3.readthedocs.io/en/latest/advanced-usage.html#ssl-warnings\n",
      "  InsecureRequestWarning,\n"
     ]
    }
   ],
   "source": [
    "rq = reqs.get(petdb_url+'/'+example_sample,verify=False)"
   ]
  },
  {
   "cell_type": "code",
   "execution_count": 6,
   "metadata": {},
   "outputs": [
    {
     "name": "stdout",
     "output_type": "stream",
     "text": [
      "{'count': 1, 'data': {'specimen_num': 26639, 'specimen_code': 'ABP0002-019-001', 'igsn': 'N/A', 'archive_institution': None, 'specimen_material': 'ROCK', 'taxon': [{'rock_type': 'igneous:volcanic:mafic', 'rock_class': 'BASALT', 'source': [{'citation_num': '1086', 'citation_code': 'MELSON,2003'}]}], 'rock_class_details': [], 'specimen_names': [{'specimen_name': 'VG8462', 'source': [{'citation_num': '1086', 'citation_code': 'MELSON, 2003'}]}], 'specimen_comments': [], 'alterations': [], 'rock_textures': [], 'geological_ages': [{'prefix': '', 'age': '', 'age_min': '', 'age_max': '1', 'source': [{'citation_num': '1086', 'citation_code': 'MELSON, 2003'}]}], 'station_num': 6585, 'station_code': 'ABP0002-019', 'lat_label': '14.17°S', 'long_label': '13.94°W', 'points': [{'latitude': -14.17, 'longitude': -13.94, 'text': '14.17°S/13.94°W'}], 'centerLat': -14.17, 'centerLong': -13.94, 'elevation_min': -2940, 'elevation_max': -3620, 'location_precisions': ['0.01'], 'geographic_location': ['OCEAN|ATLANTIC', 'SPREADING_CENTER|MID-ATLANTIC RIDGE'], 'tectonic_settings': ['SPREADING_CENTER'], 'expedition_num': 789, 'expedition_code': 'ABP0002', 'sampling_technique_code': None, 'sampling_technique_name': None, 'analyzed_samples': ['ABP0002-019-001-117895']}}\n"
     ]
    }
   ],
   "source": [
    "response_data = rq.json()\n",
    "print(response_data)"
   ]
  },
  {
   "cell_type": "code",
   "execution_count": 17,
   "metadata": {},
   "outputs": [
    {
     "name": "stdout",
     "output_type": "stream",
     "text": [
      "26639\n"
     ]
    }
   ],
   "source": [
    "#specimen_numbers = []\n",
    "print(response_data['data']['specimen_num'])\n"
   ]
  },
  {
   "cell_type": "code",
   "execution_count": 8,
   "metadata": {},
   "outputs": [
    {
     "name": "stdout",
     "output_type": "stream",
     "text": [
      "['1086']\n"
     ]
    }
   ],
   "source": [
    "taxon_citation_numbers = []\n",
    "for entry in response_data['data']['taxon']: \n",
    "    for item in entry['source']:\n",
    "        taxon_citation_numbers.append(item['citation_num'])\n",
    "# This makes the numbers unique\n",
    "taxon_citation_numbers = list(set(taxon_citation_numbers))\n",
    "print(taxon_citation_numbers)"
   ]
  },
  {
   "cell_type": "code",
   "execution_count": 9,
   "metadata": {},
   "outputs": [],
   "source": [
    "team = pd.DataFrame(list(zip(specimen_numbers, taxon_citation_numbers))) "
   ]
  },
  {
   "cell_type": "code",
   "execution_count": 47,
   "metadata": {},
   "outputs": [
    {
     "name": "stderr",
     "output_type": "stream",
     "text": [
      "C:\\Users\\natasha\\anaconda3\\lib\\site-packages\\ipykernel_launcher.py:1: FutureWarning: pandas.io.json.json_normalize is deprecated, use pandas.json_normalize instead\n",
      "  \"\"\"Entry point for launching an IPython kernel.\n"
     ]
    },
    {
     "data": {
      "text/html": [
       "<div>\n",
       "<style scoped>\n",
       "    .dataframe tbody tr th:only-of-type {\n",
       "        vertical-align: middle;\n",
       "    }\n",
       "\n",
       "    .dataframe tbody tr th {\n",
       "        vertical-align: top;\n",
       "    }\n",
       "\n",
       "    .dataframe thead th {\n",
       "        text-align: right;\n",
       "    }\n",
       "</style>\n",
       "<table border=\"1\" class=\"dataframe\">\n",
       "  <thead>\n",
       "    <tr style=\"text-align: right;\">\n",
       "      <th></th>\n",
       "      <th>rock_type</th>\n",
       "      <th>rock_class</th>\n",
       "      <th>source</th>\n",
       "    </tr>\n",
       "  </thead>\n",
       "  <tbody>\n",
       "    <tr>\n",
       "      <th>0</th>\n",
       "      <td>igneous:volcanic:mafic</td>\n",
       "      <td>BASALT</td>\n",
       "      <td>[{'citation_num': '1086', 'citation_code': 'ME...</td>\n",
       "    </tr>\n",
       "  </tbody>\n",
       "</table>\n",
       "</div>"
      ],
      "text/plain": [
       "                rock_type rock_class  \\\n",
       "0  igneous:volcanic:mafic     BASALT   \n",
       "\n",
       "                                              source  \n",
       "0  [{'citation_num': '1086', 'citation_code': 'ME...  "
      ]
     },
     "execution_count": 47,
     "metadata": {},
     "output_type": "execute_result"
    }
   ],
   "source": [
    "df = pd.DataFrame.from_dict(json_normalize(response_data['data']['taxon']), orient='columns')\n",
    "df"
   ]
  },
  {
   "cell_type": "code",
   "execution_count": 52,
   "metadata": {},
   "outputs": [
    {
     "name": "stderr",
     "output_type": "stream",
     "text": [
      "C:\\Users\\natasha\\anaconda3\\lib\\site-packages\\ipykernel_launcher.py:1: FutureWarning: pandas.io.json.json_normalize is deprecated, use pandas.json_normalize instead\n",
      "  \"\"\"Entry point for launching an IPython kernel.\n"
     ]
    },
    {
     "data": {
      "text/plain": [
       "0    26639\n",
       "Name: specimen_num, dtype: int64"
      ]
     },
     "execution_count": 52,
     "metadata": {},
     "output_type": "execute_result"
    }
   ],
   "source": [
    "df = pd.DataFrame.from_dict(json_normalize(response_data['data']), orient='columns')\n",
    "df_trial = df.iloc[:,0]\n",
    "df_trial"
   ]
  },
  {
   "cell_type": "code",
   "execution_count": 45,
   "metadata": {},
   "outputs": [
    {
     "name": "stderr",
     "output_type": "stream",
     "text": [
      "C:\\Users\\natasha\\anaconda3\\lib\\site-packages\\ipykernel_launcher.py:6: FutureWarning: pandas.io.json.json_normalize is deprecated, use pandas.json_normalize instead\n",
      "  \n"
     ]
    },
    {
     "data": {
      "text/plain": [
       "(0    26639\n",
       " Name: data.specimen_num, dtype: int64,\n",
       "                 rock_type rock_class  \\\n",
       " 0  igneous:volcanic:mafic     BASALT   \n",
       " \n",
       "                                               source  \n",
       " 0  [{'citation_num': '1086', 'citation_code': 'ME...  )"
      ]
     },
     "execution_count": 45,
     "metadata": {},
     "output_type": "execute_result"
    }
   ],
   "source": [
    "\n",
    "\n",
    "#df = pd.DataFrame.from_dict(json_normalize(response_data['data']['taxon']), orient='columns')\n",
    "df1 = pd.DataFrame.from_dict(json_normalize(response_data), orient='columns')\n",
    "df2 = df1.iloc[:, 1], df\n",
    "df2\n",
    "\n",
    "\n"
   ]
  },
  {
   "cell_type": "code",
   "execution_count": 54,
   "metadata": {},
   "outputs": [
    {
     "data": {
      "text/html": [
       "<div>\n",
       "<style scoped>\n",
       "    .dataframe tbody tr th:only-of-type {\n",
       "        vertical-align: middle;\n",
       "    }\n",
       "\n",
       "    .dataframe tbody tr th {\n",
       "        vertical-align: top;\n",
       "    }\n",
       "\n",
       "    .dataframe thead th {\n",
       "        text-align: right;\n",
       "    }\n",
       "</style>\n",
       "<table border=\"1\" class=\"dataframe\">\n",
       "  <thead>\n",
       "    <tr style=\"text-align: right;\">\n",
       "      <th></th>\n",
       "      <th>0</th>\n",
       "      <th>1</th>\n",
       "    </tr>\n",
       "  </thead>\n",
       "  <tbody>\n",
       "    <tr>\n",
       "      <th>0</th>\n",
       "      <td>26639</td>\n",
       "      <td>specimen_num</td>\n",
       "    </tr>\n",
       "  </tbody>\n",
       "</table>\n",
       "</div>"
      ],
      "text/plain": [
       "       0             1\n",
       "0  26639  specimen_num"
      ]
     },
     "execution_count": 54,
     "metadata": {},
     "output_type": "execute_result"
    }
   ],
   "source": [
    "team = pd.DataFrame(list(zip(df_trial, df))) \n",
    "team"
   ]
  },
  {
   "cell_type": "code",
   "execution_count": null,
   "metadata": {},
   "outputs": [],
   "source": []
  },
  {
   "cell_type": "code",
   "execution_count": null,
   "metadata": {},
   "outputs": [],
   "source": []
  }
 ],
 "metadata": {
  "kernelspec": {
   "display_name": "Python 3",
   "language": "python",
   "name": "python3"
  },
  "language_info": {
   "codemirror_mode": {
    "name": "ipython",
    "version": 3
   },
   "file_extension": ".py",
   "mimetype": "text/x-python",
   "name": "python",
   "nbconvert_exporter": "python",
   "pygments_lexer": "ipython3",
   "version": "3.7.6"
  }
 },
 "nbformat": 4,
 "nbformat_minor": 4
}
