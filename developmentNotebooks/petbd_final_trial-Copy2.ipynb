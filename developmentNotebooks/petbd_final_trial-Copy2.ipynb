{
 "cells": [
  {
   "cell_type": "code",
   "execution_count": 1,
   "metadata": {},
   "outputs": [],
   "source": [
    "\n",
    "import numpy as np\n",
    "import pandas as pd\n",
    "import requests as reqs\n",
    "import matplotlib.pyplot as plt\n",
    "%matplotlib inline\n",
    "import json\n",
    "import os\n",
    "import re\n",
    "from pandas.io.json import json_normalize  \n",
    "import ast"
   ]
  },
  {
   "cell_type": "code",
   "execution_count": 2,
   "metadata": {},
   "outputs": [],
   "source": [
    "petdb_path = r\"C:\\Users\\natasha\\Downloads\\PetDB\"\n",
    "#print(os.listdir(petdb_path))\n",
    "\n",
    "#for petdb in os.listdir(petdb_path):\n",
    "    #print(petdb)"
   ]
  },
  {
   "cell_type": "code",
   "execution_count": 3,
   "metadata": {},
   "outputs": [
    {
     "name": "stdout",
     "output_type": "stream",
     "text": [
      "Expecting ',' delimiter: line 1 column 294 (char 293)\n"
     ]
    }
   ],
   "source": [
    "files = []\n",
    "pet_path = r'C:\\Users\\natasha\\Downloads\\PetDB'\n",
    "for i in os.listdir(pet_path):\n",
    "    if i.endswith('.json'):\n",
    "        full_path = '%s/%s' % (pet_path, i)\n",
    "        jsonStr = open(full_path, 'r', encoding='utf-8').read()\n",
    "        jsonStr = jsonStr.replace(\"'\",'\"')\n",
    "        jsonStr = jsonStr.replace('None','\"None\"')\n",
    "        try:\n",
    "            jsonData = json.loads(jsonStr)\n",
    "            files.append(jsonData)\n",
    "        except Exception as e:\n",
    "            print(e)\n",
    "            continue"
   ]
  },
  {
   "cell_type": "code",
   "execution_count": 4,
   "metadata": {},
   "outputs": [
    {
     "name": "stderr",
     "output_type": "stream",
     "text": [
      "<ipython-input-4-f65d60cbbbf6>:1: FutureWarning: pandas.io.json.json_normalize is deprecated, use pandas.json_normalize instead\n",
      "  df1= pd.DataFrame.from_dict(json_normalize(files[0]['data']), orient='columns')\n",
      "<ipython-input-4-f65d60cbbbf6>:5: FutureWarning: pandas.io.json.json_normalize is deprecated, use pandas.json_normalize instead\n",
      "  df2 = pd.DataFrame.from_dict(json_normalize(files[i]['data']), orient='columns')\n"
     ]
    }
   ],
   "source": [
    "\n",
    "df1= pd.DataFrame.from_dict(json_normalize(files[0]['data']), orient='columns')\n",
    "i = 1\n",
    "#while i < len(files):\n",
    "while i < 100:\n",
    "    df2 = pd.DataFrame.from_dict(json_normalize(files[i]['data']), orient='columns')\n",
    "    df1 = df1.append(df2)\n",
    "    i = i + 1\n",
    "pd.set_option(\"display.max_columns\", 29)\n",
    "#df1"
   ]
  },
  {
   "cell_type": "code",
   "execution_count": 5,
   "metadata": {},
   "outputs": [],
   "source": [
    "\n",
    "columns = ['specimen_num','citation_num', 'citation_code','specimen_code','igsn','archive_institution','specimen_material','taxon','taxon_rock_type', 'taxon_rock_class','rock_class_detail','rock_class_details','specimen_names','specimen_name','specimen_comments','specimen_comment','alteration','alterations','rock_textures','rock_texture','geological_ages','geological_ages__prefix','geological_ages__age','geological_ages__min','geological_ages__max','points_latitude','points_longitude','points_text','station_num', 'station_code','lat_label', 'long_label','points','centerLat','centerLong', 'elevation_min','elevation_max','location_precisions','geographic_location','tectonic_settings','expedition_num','expedition_code','sampling_technique_code','sampling_technique_name','analyzed_samples']\n",
    "new_df = pd.DataFrame(data = None, index=None, columns = columns)\n",
    "for index, row in df1.iterrows():\n",
    "    citation_num_list = []\n",
    "    citation_code_list = []\n",
    "    specimen_num = row['specimen_num']\n",
    "    specimen_code = row['specimen_code']\n",
    "    igsn = row['igsn']\n",
    "    archive_institution = row['archive_institution']\n",
    "    specimen_material = row['specimen_material']\n",
    "    taxon = row['taxon'] \n",
    "    rock_class_details = row['rock_class_details']\n",
    "    if len(rock_class_details) == 0:\n",
    "        rock_class_details = 'None'\n",
    "    specimen_names = row['specimen_names']  \n",
    "    specimen_comments = row['specimen_comments']\n",
    "    if len(specimen_comments) == 0:\n",
    "        specimen_comments = 'None'\n",
    "    alterations = row['alterations']\n",
    "    if len(alterations) == 0:\n",
    "        alterations = 'None'\n",
    "    rock_textures = row['rock_textures'] \n",
    "    geological_ages = row['geological_ages'] \n",
    "    station_num = row['station_num']\n",
    "    station_code = row['station_code']\n",
    "    lat_label = row['lat_label']\n",
    "    long_label = row['long_label']\n",
    "    points = row['points'] \n",
    "    latitude = ''\n",
    "    longitude = ''\n",
    "    text = ''\n",
    "    if len(points)> 0:\n",
    "        latitude = points[0]['latitude']\n",
    "        longitude = points[0]['longitude']\n",
    "        text = points[0]['text']\n",
    "    centerLat = row['centerLat']\n",
    "    centerLong = row['centerLong']\n",
    "    elevation_min = row['elevation_min']\n",
    "    elevation_max = row['elevation_max']\n",
    "    location_precisions = row['location_precisions']\n",
    "    geographic_location = row['geographic_location']\n",
    "    tectonic_settings = row['tectonic_settings']\n",
    "    expedition_num = row['expedition_num']\n",
    "    expedition_code = row['expedition_code']\n",
    "    sampling_technique_code = row['sampling_technique_code']\n",
    "    sampling_technique_name = row['sampling_technique_name']\n",
    "    analyzed_samples = row['analyzed_samples']\n",
    "    taxon_rock_type = taxon[0]['rock_type']\n",
    "    taxon_rock_class = taxon[0]['rock_class']\n",
    "    \n",
    "    \n",
    "    geological_prefix = 'None'\n",
    "    geological_ages__age = 'None'\n",
    "    geological_ages__min = 'None'\n",
    "    geological_ages__max = 'None'\n",
    "\n",
    "    if len(geological_ages) > 0:\n",
    "        geological_prefix = geological_ages[0]['prefix']\n",
    "        geological_ages__age = geological_ages[0]['age']\n",
    "        geological_ages__min = geological_ages[0]['age_min']\n",
    "        geological_ages__max = geological_ages[0]['age_max']\n",
    "\n",
    "    \n",
    "    rock_texture = 'None'\n",
    "    for item in rock_textures:\n",
    "        rock_texture = item['rock_texture']\n",
    "    \n",
    "    rock_class_detail = 'None'\n",
    "    if rock_class_details != \"None\":\n",
    "        rock_class_detail = rock_class_details[0]['rock_class_detail']\n",
    "    \n",
    "    alteration = 'None'\n",
    "    if alterations != \"None\":\n",
    "        alteration = alterations[0]['alteration']\n",
    "    \n",
    "    \n",
    "    specimen_comment = 'None'\n",
    "    if specimen_comments != \"None\":\n",
    "        specimen_comment = specimen_comments[0]['comment']\n",
    "    \n",
    "       \n",
    "    \n",
    "    specimen_names_list = [] \n",
    "    \n",
    "    for item in specimen_names:\n",
    "        specimen_name = item['specimen_name']\n",
    "        specimen_names_list.append(specimen_name)\n",
    "\n",
    "    for item in taxon:\n",
    "        for source in item['source']:\n",
    "            citation_num = source['citation_num']\n",
    "            citation_code = source['citation_code']\n",
    "            citation_num_list.append(citation_num)\n",
    "            citation_code_list.append(citation_code)\n",
    "    \n",
    "    #print(specimen_names_list)\n",
    "    \n",
    "    i = 0\n",
    "    while i < len(citation_num_list): #\n",
    "        new_row = [] \n",
    "        citation_num = citation_num_list[i]\n",
    "        citation_code = citation_code_list[i]\n",
    "        \n",
    "        #print('citation_num', citation_num)\n",
    "        #print('citation_code', citation_code)\n",
    "        #print(i)\n",
    "        \n",
    "        specimen_name = \"\"\n",
    "        if i < len(specimen_names_list):\n",
    "            specimen_name = specimen_names_list[i]\n",
    "        #print(specimen_name)\n",
    "        \n",
    "        new_row.append(specimen_num)   \n",
    "        new_row.append(citation_num) \n",
    "        new_row.append(citation_code) \n",
    "        new_row.append(specimen_code)\n",
    "        new_row.append(igsn)\n",
    "        new_row.append(archive_institution)\n",
    "        new_row.append(specimen_material)\n",
    "        new_row.append(taxon)\n",
    "        new_row.append(taxon_rock_type)\n",
    "        new_row.append(taxon_rock_class)\n",
    "        new_row.append(rock_class_detail)\n",
    "        new_row.append(rock_class_details)\n",
    "        new_row.append(specimen_names)\n",
    "        new_row.append(specimen_name)\n",
    "        new_row.append(specimen_comments)\n",
    "        new_row.append(specimen_comment)\n",
    "        new_row.append(alteration)\n",
    "        new_row.append(alterations)\n",
    "        new_row.append(rock_textures)\n",
    "        new_row.append(rock_texture)\n",
    "        new_row.append(geological_ages)\n",
    "        new_row.append(geological_prefix)\n",
    "        new_row.append( geological_ages__age)\n",
    "        new_row.append( geological_ages__min)\n",
    "        new_row.append(geological_ages__max)\n",
    "        new_row.append(latitude)\n",
    "        new_row.append(longitude)\n",
    "        new_row.append(text)\n",
    "        new_row.append(station_num)\n",
    "        new_row.append(station_code)\n",
    "        new_row.append(lat_label)\n",
    "        new_row.append(long_label)\n",
    "        new_row.append(points)\n",
    "        new_row.append(centerLat)\n",
    "        new_row.append(centerLong)\n",
    "        new_row.append(elevation_min)\n",
    "        new_row.append(elevation_max)\n",
    "        new_row.append(location_precisions)\n",
    "        new_row.append(geographic_location)\n",
    "        new_row.append(tectonic_settings)\n",
    "        new_row.append(expedition_num)\n",
    "        new_row.append(expedition_code)\n",
    "        new_row.append(sampling_technique_code)\n",
    "        new_row.append(sampling_technique_name)\n",
    "        new_row.append(analyzed_samples)\n",
    "        \n",
    "        \n",
    "        a_series = pd.Series(new_row, index=new_df.columns) # \n",
    "        new_df = new_df.append(a_series, ignore_index=True) \n",
    "        i += 1       \n",
    "\n",
    "        pd.set_option(\"display.max_columns\", None)\n",
    "pd.set_option(\"display.max_colwidth\", None)\n",
    "#pd.set_option('display.max_rows', None)\n",
    "new_df.drop('taxon', axis = 1, inplace = True)\n",
    "new_df.drop('specimen_names', axis = 1, inplace = True)\n",
    "new_df.drop('rock_textures', axis = 1, inplace = True)\n",
    "new_df.drop('geological_ages', axis = 1, inplace = True)\n",
    "new_df.drop('points', axis = 1, inplace = True)\n",
    "new_df.drop('rock_class_details', axis = 1, inplace = True)\n",
    "new_df.drop('alterations', axis = 1, inplace = True)\n",
    "new_df.drop('specimen_comments', axis = 1, inplace = True)\n",
    "\n",
    "new_df['geographic_location'] = new_df['geographic_location'].apply(lambda x: ', '.join(map(str, x))) # convert list to strings\n",
    "new_df['tectonic_settings'] = new_df['tectonic_settings'].apply(lambda x: ', '.join(map(str, x)))\n",
    "new_df['location_precisions'] = new_df['location_precisions'].apply(lambda x: ', '.join(map(str, x)))\n",
    "new_df['analyzed_samples'] = new_df['analyzed_samples'].apply(lambda x: ', '.join(map(str, x)))\n",
    "#new_df['specimen_name'] = new_df['specimen_name'].apply(lambda x: ', '.join(map(str, x)))\n",
    "\n",
    "new_df = new_df.replace('', 'None')\n",
    "new_df = new_df.replace('N/A', 'None')\n",
    "new_df = new_df.rename(columns = {'alteration' : 'alterations', 'rock_class_detail' : 'rock_class_details', 'specimen_comment' : 'specimen_comments'})\n",
    "pd.set_option('display.max_rows', None)\n",
    "#new_df.head()\n"
   ]
  },
  {
   "cell_type": "code",
   "execution_count": 6,
   "metadata": {},
   "outputs": [],
   "source": [
    "new_df = new_df.rename(columns = {'alteration' : 'alterations', 'rock_class_detail' : 'rock_class_details'})\n",
    "#new_df"
   ]
  },
  {
   "cell_type": "code",
   "execution_count": 7,
   "metadata": {},
   "outputs": [],
   "source": [
    "new_df_final = new_df.drop(columns = ['alterations', 'analyzed_samples', 'archive_institution', 'citation_code', 'geological_ages__prefix', 'geological_ages__age', 'geological_ages__min', 'geological_ages__max','igsn','lat_label','long_label','location_precisions', 'rock_texture', 'specimen_comments'])\n",
    "#new_df_final"
   ]
  },
  {
   "cell_type": "code",
   "execution_count": 8,
   "metadata": {},
   "outputs": [],
   "source": [
    "\n",
    "new_df_final1 = new_df_final.drop(columns = ['sampling_technique_code', 'sampling_technique_name', 'specimen_material', 'centerLat', 'centerLong', 'points_text'])\n",
    "#new_df_final1\n"
   ]
  },
  {
   "cell_type": "code",
   "execution_count": 9,
   "metadata": {},
   "outputs": [],
   "source": [
    "#%%timeit\n",
    "\n",
    "def mycompare_specimen_num(row1val, row2val):\n",
    "  return row1val==row2val\n",
    "def mycompare_specimen_code(row1val, row2val):\n",
    "  return row1val==row2val\n",
    "def mycompare_taxon_rock_type(row1val, row2val):\n",
    "  return row1val==row2val\n",
    "def mycompare_taxon_rock_class(row1val, row2val):\n",
    "  return row1val==row2val\n",
    "def mycompare_rock_class_details(row1val, row2val):\n",
    "  return row1val==row2val\n",
    "def mycompare_specimen_name(row1val, row2val):\n",
    "  return row1val==row2val\n",
    "def mycompare_points_latitude(row1val, row2val):\n",
    "  return row1val==row2val\n",
    "def mycompare_points_longitude(row1val, row2val):\n",
    "  return row1val==row2val\n",
    "def mycompare_station_num(row1val, row2val):\n",
    "  return row1val==row2val\n",
    "def mycompare_station_code(row1val, row2val):\n",
    "  return row1val==row2val\n",
    "def mycompare_elevation_min(row1val, row2val):\n",
    "  return row1val==row2val\n",
    "def mycompare_elevation_max(row1val, row2val):\n",
    "  return row1val==row2val\n",
    "def mycompare_geographic_location(row1val, row2val):\n",
    "  return row1val==row2val\n",
    "def mycompare_tectonic_settings(row1val, row2val):\n",
    "  return row1val==row2val\n",
    "def mycompare_expedition_num(row1val, row2val):\n",
    "  return row1val==row2val\n",
    "def mycompare_expedition_code(row1val, row2val):\n",
    "  return row1val==row2val\n",
    "\n",
    "def mycompare (row1, row2, column_name):\n",
    "  #return row1[column_name] == row2[column_name]\n",
    "  if column_name==\"specimen_num\":\n",
    "      return mycompare_specimen_num( row1[column_name], row2[column_name] )\n",
    "  elif column_name==\"specimen_code\":\n",
    "      return mycompare_specimen_code( row1[column_name], row2[column_name] )\n",
    "  elif column_name==\"taxon_rock_type\":\n",
    "      return mycompare_taxon_rock_type( row1[column_name], row2[column_name] )\n",
    "  elif column_name=='taxon_rock_class':\n",
    "      return mycompare_taxon_rock_class( row1[column_name], row2[column_name] )\n",
    "  elif column_name=='rock_class_details': \n",
    "      return mycompare_rock_class_details( row1[column_name], row2[column_name] )\n",
    "  elif column_name=='specimen_name':\n",
    "      return mycompare_specimen_name( row1[column_name], row2[column_name] )\n",
    "  elif column_name=='points_latitude':\n",
    "      return mycompare_points_latitude( row1[column_name], row2[column_name] )\n",
    "  elif column_name=='points_longitude':\n",
    "      return mycompare_points_longitude( row1[column_name], row2[column_name] )\n",
    "  elif column_name=='station_num':\n",
    "      return mycompare_station_num( row1[column_name], row2[column_name] )\n",
    "  elif column_name=='station_code':\n",
    "      return mycompare_station_code( row1[column_name], row2[column_name] )\n",
    "  elif column_name=='elevation_min':\n",
    "      return mycompare_elevation_min( row1[column_name], row2[column_name] )\n",
    "  elif column_name=='elevation_max':\n",
    "      return mycompare_elevation_max( row1[column_name], row2[column_name] )\n",
    "  elif column_name=='geographic_location': \n",
    "      return mycompare_geographic_location( row1[column_name], row2[column_name] )\n",
    "  elif column_name=='tectonic_settings':\n",
    "      return mycompare_tectonic_settings( row1[column_name], row2[column_name] )\n",
    "  elif column_name=='expedition_num': \n",
    "      return mycompare_expedition_num( row1[column_name], row2[column_name] )\n",
    "  elif column_name=='expedition_code':\n",
    "      return mycompare_expedition_code( row1[column_name], row2[column_name] )\n",
    "  else:\n",
    "      return False\n",
    "      \n",
    "#mycompare(new_df_final1.loc[0], new_df_final1.loc[1], 'specimen_num')\n",
    "#print(len(new_df_final1))"
   ]
  },
  {
   "cell_type": "code",
   "execution_count": 10,
   "metadata": {},
   "outputs": [],
   "source": [
    "#columns = ['citation_num', 'specimen_code', 'taxon_rock_type', 'taxon_rock_class','rock_class_details','specimen_name','points_latitude','points_longitude','station_num', 'station_code','elevation_min','elevation_max','geographic_location','tectonic_settings','expedition_num','expedition_code']\n",
    "def count_similar_columns(row1, row2):\n",
    "    columns = ['citation_num','taxon_rock_type', 'taxon_rock_class','rock_class_details','specimen_name','points_latitude','points_longitude','elevation_min','elevation_max','geographic_location','tectonic_settings','expedition_num']\n",
    "    count = 0\n",
    "    for column in columns:\n",
    "      result = mycompare(row1, row2, column)\n",
    "      if result:\n",
    "        count+=1\n",
    "    return count\n",
    "\n",
    "def compare_two_rows(row1, row2):\n",
    "    rv = False\n",
    "    row1_specimen_num = row1['specimen_num'] \n",
    "    row2_specimen_num = row2['specimen_num']\n",
    "    if row1_specimen_num != row2_specimen_num:\n",
    "      return False\n",
    "    \n",
    "# count the number of similar attributes between these two rows\n",
    "    \n",
    "    threshold = 0.50\n",
    "    count = count_similar_columns(row1, row2)\n",
    "    if float( count/len(columns)) >= threshold:\n",
    "      rv = True\n",
    "    return rv\n",
    "\n",
    "\n",
    "def get_similarities_2(df):\n",
    "  i = 0\n",
    "  results = []\n",
    "  while i < len(df)-1:\n",
    "    row1 = df.loc[i]\n",
    "    j = i\n",
    "    while j < len(df):\n",
    "      row2 = df.loc[j]\n",
    "      result = compare_two_rows(row1, row2)\n",
    "      result_list = [ i, j, result ]\n",
    "      if i != j:\n",
    "         results.append(result_list)\n",
    "      j+=1\n",
    "    i+=1\n",
    "  return results\n",
    "\n",
    "\n",
    "columns = ['specimen_num', 'citation_num', 'specimen_code', 'taxon_rock_type', 'taxon_rock_class','rock_class_details','specimen_name','points_latitude','points_longitude','station_num', 'station_code','elevation_min','elevation_max','geographic_location','tectonic_settings','expedition_num','expedition_code']\n",
    "columns2 = ['row1','row2','result']\n",
    "\n",
    "similarities_list = get_similarities_2( new_df_final1 )\n",
    "\n",
    "similar_df = pd.DataFrame(data = None, index=None, columns = columns2)\n",
    "\n",
    "for sublist in similarities_list:\n",
    "  aseries = pd.Series(sublist, index=similar_df.columns)\n",
    "  similar_df = similar_df.append(aseries, ignore_index=True)\n",
    "  \n",
    "#similar_df\n",
    "\n"
   ]
  },
  {
   "cell_type": "code",
   "execution_count": 11,
   "metadata": {},
   "outputs": [
    {
     "name": "stdout",
     "output_type": "stream",
     "text": [
      "84.5 ns ± 3.02 ns per loop (mean ± std. dev. of 7 runs, 10000000 loops each)\n"
     ]
    }
   ],
   "source": [
    "%timeit similar_df"
   ]
  },
  {
   "cell_type": "code",
   "execution_count": 12,
   "metadata": {},
   "outputs": [],
   "source": [
    "\n",
    "columns = ['specimen_num', 'citation_num', 'taxon_rock_type', 'taxon_rock_class','rock_class_details','specimen_name','points_latitude','points_longitude','elevation_min','elevation_max','geographic_location','tectonic_settings','expedition_num']\n",
    "double_columns = []\n",
    "\n",
    "j = 0\n",
    "while j < 2:\n",
    "    i = 0\n",
    "    while i < len(columns):\n",
    "        double_columns.append(columns[i]) \n",
    "        i += 1\n",
    "    j += 1    \n",
    "double_columns.append(\"results\")\n",
    "doubledf = pd.DataFrame(data = None, index=None, columns = double_columns)\n"
   ]
  },
  {
   "cell_type": "code",
   "execution_count": 13,
   "metadata": {},
   "outputs": [],
   "source": [
    "\n",
    "\n",
    "for index,row in similar_df.iterrows():\n",
    "  \n",
    "  # given the values of row1 and row2\n",
    "  row1index = row['row1']\n",
    "  row2index = row['row2']\n",
    "  val = row['result']\n",
    "  \n",
    "  # get the row in new_final_df corresponding to each index\n",
    "  row1 = new_df_final1.iloc[row1index]\n",
    "  row2 = new_df_final1.iloc[row2index]\n",
    "  \n",
    "  # construct a list of values for each row\n",
    "  row_list = []\n",
    "  for key in columns:\n",
    "      row_list.append( row1[key] )\n",
    "  for key in columns:\n",
    "      row_list.append( row2[key])\n",
    "  row_list.append( val )\n",
    "    \n",
    "  # insert row_list into the new dataframe\n",
    "  aSeries = pd.Series(row_list, index=doubledf.columns)\n",
    "  doubledf = doubledf.append( aSeries, ignore_index=True )\n",
    "\n",
    "#doubledf.head(5)\n"
   ]
  },
  {
   "cell_type": "markdown",
   "metadata": {},
   "source": [
    "\n",
    "\n",
    "I converted the similar_df into a \"double_df\" which represents each row compared to each other row of our initial dataframe (new_df_final1) in a single row.\n",
    "The similar_df was constructed as a high-level visual of each row comparison and result.\n",
    "The double_df is an expanded-version of similar_df with all of the columns aggregated.\n",
    "Each row of new_df_final1 is compared with each other row (unique comparisons, no duplicates).\n",
    "\n"
   ]
  },
  {
   "cell_type": "code",
   "execution_count": 14,
   "metadata": {},
   "outputs": [
    {
     "data": {
      "text/html": [
       "<div>\n",
       "<style scoped>\n",
       "    .dataframe tbody tr th:only-of-type {\n",
       "        vertical-align: middle;\n",
       "    }\n",
       "\n",
       "    .dataframe tbody tr th {\n",
       "        vertical-align: top;\n",
       "    }\n",
       "\n",
       "    .dataframe thead th {\n",
       "        text-align: right;\n",
       "    }\n",
       "</style>\n",
       "<table border=\"1\" class=\"dataframe\">\n",
       "  <thead>\n",
       "    <tr style=\"text-align: right;\">\n",
       "      <th></th>\n",
       "      <th>citation_num_0</th>\n",
       "      <th>taxon_rock_type_0</th>\n",
       "      <th>taxon_rock_class_0</th>\n",
       "      <th>rock_class_details_0</th>\n",
       "      <th>specimen_name_0</th>\n",
       "      <th>points_latitude_0</th>\n",
       "      <th>points_longitude_0</th>\n",
       "      <th>elevation_min_0</th>\n",
       "      <th>elevation_max_0</th>\n",
       "      <th>geographic_location_0</th>\n",
       "      <th>tectonic_settings_0</th>\n",
       "      <th>expedition_num_0</th>\n",
       "      <th>citation_num_1</th>\n",
       "      <th>taxon_rock_type_1</th>\n",
       "      <th>taxon_rock_class_1</th>\n",
       "      <th>rock_class_details_1</th>\n",
       "      <th>specimen_name_1</th>\n",
       "      <th>points_latitude_1</th>\n",
       "      <th>points_longitude_1</th>\n",
       "      <th>elevation_min_1</th>\n",
       "      <th>elevation_max_1</th>\n",
       "      <th>geographic_location_1</th>\n",
       "      <th>tectonic_settings_1</th>\n",
       "      <th>expedition_num_1</th>\n",
       "      <th>results</th>\n",
       "    </tr>\n",
       "  </thead>\n",
       "  <tbody>\n",
       "    <tr>\n",
       "      <th>0</th>\n",
       "      <td>2129</td>\n",
       "      <td>igneous:volcanic:mafic</td>\n",
       "      <td>BASALT</td>\n",
       "      <td>None</td>\n",
       "      <td>2p D19-2</td>\n",
       "      <td>-14.17</td>\n",
       "      <td>-13.94</td>\n",
       "      <td>-2940</td>\n",
       "      <td>-3620</td>\n",
       "      <td>OCEAN|ATLANTIC, SPREADING_CENTER|MID-ATLANTIC RIDGE</td>\n",
       "      <td>SPREADING_CENTER</td>\n",
       "      <td>789</td>\n",
       "      <td>1086</td>\n",
       "      <td>igneous:volcanic:mafic</td>\n",
       "      <td>BASALT</td>\n",
       "      <td>None</td>\n",
       "      <td>VG8463</td>\n",
       "      <td>-14.17</td>\n",
       "      <td>-13.94</td>\n",
       "      <td>-2940</td>\n",
       "      <td>-3620</td>\n",
       "      <td>OCEAN|ATLANTIC, SPREADING_CENTER|MID-ATLANTIC RIDGE</td>\n",
       "      <td>SPREADING_CENTER</td>\n",
       "      <td>789</td>\n",
       "      <td>True</td>\n",
       "    </tr>\n",
       "    <tr>\n",
       "      <th>1</th>\n",
       "      <td>2129</td>\n",
       "      <td>igneous:volcanic:mafic</td>\n",
       "      <td>BASALT</td>\n",
       "      <td>None</td>\n",
       "      <td>2p D19-2</td>\n",
       "      <td>-14.17</td>\n",
       "      <td>-13.94</td>\n",
       "      <td>-2940</td>\n",
       "      <td>-3620</td>\n",
       "      <td>OCEAN|ATLANTIC, SPREADING_CENTER|MID-ATLANTIC RIDGE</td>\n",
       "      <td>SPREADING_CENTER</td>\n",
       "      <td>789</td>\n",
       "      <td>1086</td>\n",
       "      <td>igneous:volcanic:mafic</td>\n",
       "      <td>BASALT</td>\n",
       "      <td>None</td>\n",
       "      <td>VG8464</td>\n",
       "      <td>-22.01</td>\n",
       "      <td>-23.26</td>\n",
       "      <td>-4770</td>\n",
       "      <td>-4900</td>\n",
       "      <td>SPREADING_CENTER|MID-ATLANTIC RIDGE, OCEAN|ATLANTIC</td>\n",
       "      <td>SPREADING_CENTER</td>\n",
       "      <td>789</td>\n",
       "      <td>False</td>\n",
       "    </tr>\n",
       "    <tr>\n",
       "      <th>2</th>\n",
       "      <td>2129</td>\n",
       "      <td>igneous:volcanic:mafic</td>\n",
       "      <td>BASALT</td>\n",
       "      <td>None</td>\n",
       "      <td>2p D19-2</td>\n",
       "      <td>-14.17</td>\n",
       "      <td>-13.94</td>\n",
       "      <td>-2940</td>\n",
       "      <td>-3620</td>\n",
       "      <td>OCEAN|ATLANTIC, SPREADING_CENTER|MID-ATLANTIC RIDGE</td>\n",
       "      <td>SPREADING_CENTER</td>\n",
       "      <td>789</td>\n",
       "      <td>1086</td>\n",
       "      <td>igneous:volcanic:mafic</td>\n",
       "      <td>BASALT</td>\n",
       "      <td>None</td>\n",
       "      <td>VG8465</td>\n",
       "      <td>-22.01</td>\n",
       "      <td>-23.26</td>\n",
       "      <td>-4770</td>\n",
       "      <td>-4900</td>\n",
       "      <td>SPREADING_CENTER|MID-ATLANTIC RIDGE, OCEAN|ATLANTIC</td>\n",
       "      <td>SPREADING_CENTER</td>\n",
       "      <td>789</td>\n",
       "      <td>False</td>\n",
       "    </tr>\n",
       "    <tr>\n",
       "      <th>3</th>\n",
       "      <td>2129</td>\n",
       "      <td>igneous:volcanic:mafic</td>\n",
       "      <td>BASALT</td>\n",
       "      <td>None</td>\n",
       "      <td>2p D19-2</td>\n",
       "      <td>-14.17</td>\n",
       "      <td>-13.94</td>\n",
       "      <td>-2940</td>\n",
       "      <td>-3620</td>\n",
       "      <td>OCEAN|ATLANTIC, SPREADING_CENTER|MID-ATLANTIC RIDGE</td>\n",
       "      <td>SPREADING_CENTER</td>\n",
       "      <td>789</td>\n",
       "      <td>1086</td>\n",
       "      <td>igneous:volcanic:mafic</td>\n",
       "      <td>BASALT</td>\n",
       "      <td>None</td>\n",
       "      <td>VG8466</td>\n",
       "      <td>-22.01</td>\n",
       "      <td>-23.26</td>\n",
       "      <td>-4770</td>\n",
       "      <td>-4900</td>\n",
       "      <td>SPREADING_CENTER|MID-ATLANTIC RIDGE, OCEAN|ATLANTIC</td>\n",
       "      <td>SPREADING_CENTER</td>\n",
       "      <td>789</td>\n",
       "      <td>False</td>\n",
       "    </tr>\n",
       "    <tr>\n",
       "      <th>4</th>\n",
       "      <td>2129</td>\n",
       "      <td>igneous:volcanic:mafic</td>\n",
       "      <td>BASALT</td>\n",
       "      <td>None</td>\n",
       "      <td>2p D19-2</td>\n",
       "      <td>-14.17</td>\n",
       "      <td>-13.94</td>\n",
       "      <td>-2940</td>\n",
       "      <td>-3620</td>\n",
       "      <td>OCEAN|ATLANTIC, SPREADING_CENTER|MID-ATLANTIC RIDGE</td>\n",
       "      <td>SPREADING_CENTER</td>\n",
       "      <td>789</td>\n",
       "      <td>1086</td>\n",
       "      <td>igneous:volcanic:mafic</td>\n",
       "      <td>BASALT</td>\n",
       "      <td>None</td>\n",
       "      <td>VG8467</td>\n",
       "      <td>-22.01</td>\n",
       "      <td>-23.26</td>\n",
       "      <td>-4770</td>\n",
       "      <td>-4900</td>\n",
       "      <td>SPREADING_CENTER|MID-ATLANTIC RIDGE, OCEAN|ATLANTIC</td>\n",
       "      <td>SPREADING_CENTER</td>\n",
       "      <td>789</td>\n",
       "      <td>False</td>\n",
       "    </tr>\n",
       "  </tbody>\n",
       "</table>\n",
       "</div>"
      ],
      "text/plain": [
       "  citation_num_0       taxon_rock_type_0 taxon_rock_class_0  \\\n",
       "0           2129  igneous:volcanic:mafic             BASALT   \n",
       "1           2129  igneous:volcanic:mafic             BASALT   \n",
       "2           2129  igneous:volcanic:mafic             BASALT   \n",
       "3           2129  igneous:volcanic:mafic             BASALT   \n",
       "4           2129  igneous:volcanic:mafic             BASALT   \n",
       "\n",
       "  rock_class_details_0 specimen_name_0  points_latitude_0  points_longitude_0  \\\n",
       "0                 None        2p D19-2             -14.17              -13.94   \n",
       "1                 None        2p D19-2             -14.17              -13.94   \n",
       "2                 None        2p D19-2             -14.17              -13.94   \n",
       "3                 None        2p D19-2             -14.17              -13.94   \n",
       "4                 None        2p D19-2             -14.17              -13.94   \n",
       "\n",
       "  elevation_min_0 elevation_max_0  \\\n",
       "0           -2940           -3620   \n",
       "1           -2940           -3620   \n",
       "2           -2940           -3620   \n",
       "3           -2940           -3620   \n",
       "4           -2940           -3620   \n",
       "\n",
       "                                 geographic_location_0 tectonic_settings_0  \\\n",
       "0  OCEAN|ATLANTIC, SPREADING_CENTER|MID-ATLANTIC RIDGE    SPREADING_CENTER   \n",
       "1  OCEAN|ATLANTIC, SPREADING_CENTER|MID-ATLANTIC RIDGE    SPREADING_CENTER   \n",
       "2  OCEAN|ATLANTIC, SPREADING_CENTER|MID-ATLANTIC RIDGE    SPREADING_CENTER   \n",
       "3  OCEAN|ATLANTIC, SPREADING_CENTER|MID-ATLANTIC RIDGE    SPREADING_CENTER   \n",
       "4  OCEAN|ATLANTIC, SPREADING_CENTER|MID-ATLANTIC RIDGE    SPREADING_CENTER   \n",
       "\n",
       "  expedition_num_0 citation_num_1       taxon_rock_type_1 taxon_rock_class_1  \\\n",
       "0              789           1086  igneous:volcanic:mafic             BASALT   \n",
       "1              789           1086  igneous:volcanic:mafic             BASALT   \n",
       "2              789           1086  igneous:volcanic:mafic             BASALT   \n",
       "3              789           1086  igneous:volcanic:mafic             BASALT   \n",
       "4              789           1086  igneous:volcanic:mafic             BASALT   \n",
       "\n",
       "  rock_class_details_1 specimen_name_1  points_latitude_1  points_longitude_1  \\\n",
       "0                 None          VG8463             -14.17              -13.94   \n",
       "1                 None          VG8464             -22.01              -23.26   \n",
       "2                 None          VG8465             -22.01              -23.26   \n",
       "3                 None          VG8466             -22.01              -23.26   \n",
       "4                 None          VG8467             -22.01              -23.26   \n",
       "\n",
       "  elevation_min_1 elevation_max_1  \\\n",
       "0           -2940           -3620   \n",
       "1           -4770           -4900   \n",
       "2           -4770           -4900   \n",
       "3           -4770           -4900   \n",
       "4           -4770           -4900   \n",
       "\n",
       "                                 geographic_location_1 tectonic_settings_1  \\\n",
       "0  OCEAN|ATLANTIC, SPREADING_CENTER|MID-ATLANTIC RIDGE    SPREADING_CENTER   \n",
       "1  SPREADING_CENTER|MID-ATLANTIC RIDGE, OCEAN|ATLANTIC    SPREADING_CENTER   \n",
       "2  SPREADING_CENTER|MID-ATLANTIC RIDGE, OCEAN|ATLANTIC    SPREADING_CENTER   \n",
       "3  SPREADING_CENTER|MID-ATLANTIC RIDGE, OCEAN|ATLANTIC    SPREADING_CENTER   \n",
       "4  SPREADING_CENTER|MID-ATLANTIC RIDGE, OCEAN|ATLANTIC    SPREADING_CENTER   \n",
       "\n",
       "  expedition_num_1 results  \n",
       "0              789    True  \n",
       "1              789   False  \n",
       "2              789   False  \n",
       "3              789   False  \n",
       "4              789   False  "
      ]
     },
     "execution_count": 14,
     "metadata": {},
     "output_type": "execute_result"
    }
   ],
   "source": [
    "#doubledf.shape\n",
    "\n",
    "doubledf.drop('specimen_num',axis=1,inplace=True)\n",
    "doubledf.columns = ['citation_num_0','taxon_rock_type_0', 'taxon_rock_class_0', 'rock_class_details_0', 'specimen_name_0', 'points_latitude_0', 'points_longitude_0', 'elevation_min_0', 'elevation_max_0', 'geographic_location_0','tectonic_settings_0', 'expedition_num_0', 'citation_num_1', 'taxon_rock_type_1','taxon_rock_class_1', 'rock_class_details_1','specimen_name_1','points_latitude_1', 'points_longitude_1', 'elevation_min_1', 'elevation_max_1', 'geographic_location_1','tectonic_settings_1', 'expedition_num_1','results']\n",
    "\n",
    "doubledf.head()"
   ]
  },
  {
   "cell_type": "code",
   "execution_count": 15,
   "metadata": {},
   "outputs": [
    {
     "data": {
      "text/plain": [
       "False    7472\n",
       "True       31\n",
       "Name: results, dtype: int64"
      ]
     },
     "execution_count": 15,
     "metadata": {},
     "output_type": "execute_result"
    }
   ],
   "source": [
    "uni1 = doubledf['results'].value_counts()\n",
    "uni1"
   ]
  },
  {
   "cell_type": "code",
   "execution_count": 16,
   "metadata": {
    "scrolled": false
   },
   "outputs": [],
   "source": [
    "\n",
    "doubledf1 = pd.get_dummies(doubledf)"
   ]
  },
  {
   "cell_type": "code",
   "execution_count": 17,
   "metadata": {},
   "outputs": [
    {
     "data": {
      "text/plain": [
       "1    31\n",
       "0    31\n",
       "Name: results_True, dtype: int64"
      ]
     },
     "execution_count": 17,
     "metadata": {},
     "output_type": "execute_result"
    }
   ],
   "source": [
    "from sklearn.utils import resample\n",
    "# Separate majority and minority classes\n",
    "df_majority = doubledf1[doubledf1.results_True==0]\n",
    "df_minority = doubledf1[doubledf1.results_True==1]\n",
    " \n",
    "# Downsample majority class\n",
    "df_majority_downsampled = resample(df_majority, \n",
    "                                 replace=False,    # sample without replacement\n",
    "                                 n_samples=len(df_minority), # to match minority class\n",
    "                                 random_state=123) # reproducible results\n",
    " \n",
    "# Combine minority class with downsampled majority class\n",
    "df_downsampled = pd.concat([df_majority_downsampled, df_minority])\n",
    " \n",
    "# Display new class counts\n",
    "df_downsampled.results_True.value_counts()"
   ]
  },
  {
   "cell_type": "code",
   "execution_count": 18,
   "metadata": {},
   "outputs": [],
   "source": [
    "#petDB_final = under_sample_indices.values\n",
    "\n",
    "petDB_final = df_downsampled.values\n",
    "X = petDB_final[:,:-2]\n",
    "Y = petDB_final[:,-1]\n"
   ]
  },
  {
   "cell_type": "code",
   "execution_count": 19,
   "metadata": {},
   "outputs": [],
   "source": [
    "from sklearn.linear_model import LinearRegression\n",
    "from sklearn.metrics import mean_absolute_error\n",
    "from sklearn.metrics import accuracy_score\n",
    "from sklearn.model_selection import cross_val_score, GridSearchCV, train_test_split\n",
    "from sklearn.linear_model import LogisticRegressionCV\n",
    "from sklearn.metrics import f1_score, make_scorer\n",
    "from sklearn import svm\n"
   ]
  },
  {
   "cell_type": "code",
   "execution_count": 20,
   "metadata": {},
   "outputs": [
    {
     "data": {
      "text/plain": [
       "((43, 452), (43,), (19, 452), (19,))"
      ]
     },
     "execution_count": 20,
     "metadata": {},
     "output_type": "execute_result"
    }
   ],
   "source": [
    "X_train, X_test, Y_train, Y_test = train_test_split(X, Y , test_size=0.3, random_state=0, stratify = Y)\n",
    "\n",
    "X_train.shape, Y_train.shape, X_test.shape, Y_test.shape\n"
   ]
  },
  {
   "cell_type": "code",
   "execution_count": 21,
   "metadata": {},
   "outputs": [
    {
     "name": "stdout",
     "output_type": "stream",
     "text": [
      "The accuracy_score for KNN model is 0.842\n",
      "\n",
      "              precision    recall  f1-score   support\n",
      "\n",
      "         0.0       0.77      1.00      0.87        10\n",
      "         1.0       1.00      0.67      0.80         9\n",
      "\n",
      "    accuracy                           0.84        19\n",
      "   macro avg       0.88      0.83      0.83        19\n",
      "weighted avg       0.88      0.84      0.84        19\n",
      "\n"
     ]
    }
   ],
   "source": [
    "from sklearn.neighbors import KNeighborsClassifier\n",
    "from sklearn.metrics import classification_report\n",
    "\n",
    "knn = KNeighborsClassifier()\n",
    "knn.fit(X_train, Y_train)\n",
    "knn_pred = knn.predict(X_test)\n",
    "knn_accuracy = accuracy_score(Y_test, knn_pred)\n",
    "#score_knn = knn.score(X_test,Y_test)\n",
    "#print('The accuracy of the KNN Model is %0.3f)' % score_knn)\n",
    "print('The accuracy_score for KNN model is %0.3f\\n' % knn_accuracy)\n",
    "print(classification_report(Y_test, knn_pred))\n"
   ]
  },
  {
   "cell_type": "code",
   "execution_count": 22,
   "metadata": {},
   "outputs": [
    {
     "name": "stdout",
     "output_type": "stream",
     "text": [
      "The Cross_validation_score for KNN model is 0.711\n"
     ]
    }
   ],
   "source": [
    "# cross_validation method\n",
    "scores_knn = cross_val_score(knn, X_train, Y_train, cv=5)\n",
    "mean_knn = scores_knn.mean()\n",
    "print('The Cross_validation_score for KNN model is %0.3f' % mean_knn)"
   ]
  },
  {
   "cell_type": "code",
   "execution_count": 23,
   "metadata": {},
   "outputs": [
    {
     "data": {
      "image/png": "[encoded data removed]",
      "text/plain": [
       "<Figure size 432x432 with 2 Axes>"
      ]
     },
     "metadata": {
      "needs_background": "light"
     },
     "output_type": "display_data"
    }
   ],
   "source": [
    "from sklearn.metrics import plot_confusion_matrix\n",
    "\n",
    "matrix_knn = plot_confusion_matrix(knn, X_test, Y_test, cmap=plt.cm.Blues)\n",
    "matrix_knn.ax_.set_title('Confusion Matrix', color='blue')\n",
    "plt.xlabel('predicted Label', color ='blue')\n",
    "plt.ylabel('true label', color ='blue')\n",
    "plt.gcf().axes[0].tick_params(colors='blue')\n",
    "plt.gcf().axes[1].tick_params(colors='blue')\n",
    "plt.gcf().set_size_inches(6,6)\n",
    "plt.show()"
   ]
  },
  {
   "cell_type": "code",
   "execution_count": 24,
   "metadata": {
    "scrolled": true
   },
   "outputs": [
    {
     "name": "stdout",
     "output_type": "stream",
     "text": [
      "The accuracy_score of the Logistic Regression model is 0.842\n",
      "\n",
      "              precision    recall  f1-score   support\n",
      "\n",
      "         0.0       0.77      1.00      0.87        10\n",
      "         1.0       1.00      0.67      0.80         9\n",
      "\n",
      "    accuracy                           0.84        19\n",
      "   macro avg       0.88      0.83      0.83        19\n",
      "weighted avg       0.88      0.84      0.84        19\n",
      "\n"
     ]
    },
    {
     "name": "stderr",
     "output_type": "stream",
     "text": [
      "C:\\Users\\natasha\\anaconda3\\lib\\site-packages\\sklearn\\linear_model\\_logistic.py:762: ConvergenceWarning: lbfgs failed to converge (status=1):\n",
      "STOP: TOTAL NO. of ITERATIONS REACHED LIMIT.\n",
      "\n",
      "Increase the number of iterations (max_iter) or scale the data as shown in:\n",
      "    https://scikit-learn.org/stable/modules/preprocessing.html\n",
      "Please also refer to the documentation for alternative solver options:\n",
      "    https://scikit-learn.org/stable/modules/linear_model.html#logistic-regression\n",
      "  n_iter_i = _check_optimize_result(\n"
     ]
    }
   ],
   "source": [
    "from sklearn.linear_model import LogisticRegression\n",
    "\n",
    "log_reg = LogisticRegression()\n",
    "log_reg.fit(X_train, Y_train)\n",
    "log_pred = log_reg.predict(X_test)\n",
    "log_accuracy = accuracy_score(Y_test, log_pred)\n",
    "print('The accuracy_score of the Logistic Regression model is %0.3f\\n' % log_accuracy)\n",
    "print(classification_report(Y_test, log_pred))"
   ]
  },
  {
   "cell_type": "code",
   "execution_count": 25,
   "metadata": {},
   "outputs": [
    {
     "name": "stdout",
     "output_type": "stream",
     "text": [
      "[0. 1.]\n"
     ]
    }
   ],
   "source": [
    "print(np.unique(log_pred))"
   ]
  },
  {
   "cell_type": "code",
   "execution_count": 26,
   "metadata": {},
   "outputs": [
    {
     "name": "stderr",
     "output_type": "stream",
     "text": [
      "C:\\Users\\natasha\\anaconda3\\lib\\site-packages\\sklearn\\linear_model\\_logistic.py:762: ConvergenceWarning: lbfgs failed to converge (status=1):\n",
      "STOP: TOTAL NO. of ITERATIONS REACHED LIMIT.\n",
      "\n",
      "Increase the number of iterations (max_iter) or scale the data as shown in:\n",
      "    https://scikit-learn.org/stable/modules/preprocessing.html\n",
      "Please also refer to the documentation for alternative solver options:\n",
      "    https://scikit-learn.org/stable/modules/linear_model.html#logistic-regression\n",
      "  n_iter_i = _check_optimize_result(\n",
      "C:\\Users\\natasha\\anaconda3\\lib\\site-packages\\sklearn\\linear_model\\_logistic.py:762: ConvergenceWarning: lbfgs failed to converge (status=1):\n",
      "STOP: TOTAL NO. of ITERATIONS REACHED LIMIT.\n",
      "\n",
      "Increase the number of iterations (max_iter) or scale the data as shown in:\n",
      "    https://scikit-learn.org/stable/modules/preprocessing.html\n",
      "Please also refer to the documentation for alternative solver options:\n",
      "    https://scikit-learn.org/stable/modules/linear_model.html#logistic-regression\n",
      "  n_iter_i = _check_optimize_result(\n",
      "C:\\Users\\natasha\\anaconda3\\lib\\site-packages\\sklearn\\linear_model\\_logistic.py:762: ConvergenceWarning: lbfgs failed to converge (status=1):\n",
      "STOP: TOTAL NO. of ITERATIONS REACHED LIMIT.\n",
      "\n",
      "Increase the number of iterations (max_iter) or scale the data as shown in:\n",
      "    https://scikit-learn.org/stable/modules/preprocessing.html\n",
      "Please also refer to the documentation for alternative solver options:\n",
      "    https://scikit-learn.org/stable/modules/linear_model.html#logistic-regression\n",
      "  n_iter_i = _check_optimize_result(\n"
     ]
    },
    {
     "name": "stdout",
     "output_type": "stream",
     "text": [
      "The Cross_validation score is 0.886\n"
     ]
    },
    {
     "name": "stderr",
     "output_type": "stream",
     "text": [
      "C:\\Users\\natasha\\anaconda3\\lib\\site-packages\\sklearn\\linear_model\\_logistic.py:762: ConvergenceWarning: lbfgs failed to converge (status=1):\n",
      "STOP: TOTAL NO. of ITERATIONS REACHED LIMIT.\n",
      "\n",
      "Increase the number of iterations (max_iter) or scale the data as shown in:\n",
      "    https://scikit-learn.org/stable/modules/preprocessing.html\n",
      "Please also refer to the documentation for alternative solver options:\n",
      "    https://scikit-learn.org/stable/modules/linear_model.html#logistic-regression\n",
      "  n_iter_i = _check_optimize_result(\n",
      "C:\\Users\\natasha\\anaconda3\\lib\\site-packages\\sklearn\\linear_model\\_logistic.py:762: ConvergenceWarning: lbfgs failed to converge (status=1):\n",
      "STOP: TOTAL NO. of ITERATIONS REACHED LIMIT.\n",
      "\n",
      "Increase the number of iterations (max_iter) or scale the data as shown in:\n",
      "    https://scikit-learn.org/stable/modules/preprocessing.html\n",
      "Please also refer to the documentation for alternative solver options:\n",
      "    https://scikit-learn.org/stable/modules/linear_model.html#logistic-regression\n",
      "  n_iter_i = _check_optimize_result(\n"
     ]
    }
   ],
   "source": [
    "#cross_validation method\n",
    "\n",
    "scores_logreg = cross_val_score(log_reg, X_train, Y_train, cv=5)\n",
    "mean_logreg = scores_logreg.mean()\n",
    "print('The Cross_validation score is %0.3f'% mean_logreg)"
   ]
  },
  {
   "cell_type": "code",
   "execution_count": 27,
   "metadata": {},
   "outputs": [
    {
     "data": {
      "image/png": "[encoded data removed]",
      "text/plain": [
       "<Figure size 432x432 with 2 Axes>"
      ]
     },
     "metadata": {
      "needs_background": "light"
     },
     "output_type": "display_data"
    }
   ],
   "source": [
    "from sklearn.metrics import plot_confusion_matrix\n",
    "matrix_logreg = plot_confusion_matrix(log_reg, X_test, Y_test, cmap=plt.cm.Blues)\n",
    "matrix_logreg.ax_.set_title('Confusion Matrix', color='blue')\n",
    "plt.xlabel('predicted Label', color ='blue')\n",
    "plt.ylabel('true label', color ='blue')\n",
    "plt.gcf().axes[0].tick_params(colors='blue')\n",
    "plt.gcf().axes[1].tick_params(colors='blue')\n",
    "plt.gcf().set_size_inches(6,6)\n",
    "plt.show()"
   ]
  },
  {
   "cell_type": "code",
   "execution_count": 28,
   "metadata": {},
   "outputs": [
    {
     "name": "stdout",
     "output_type": "stream",
     "text": [
      "The accuracy_score for the Decision Tree model is 0.947\n",
      "\n",
      "              precision    recall  f1-score   support\n",
      "\n",
      "         0.0       0.91      1.00      0.95        10\n",
      "         1.0       1.00      0.89      0.94         9\n",
      "\n",
      "    accuracy                           0.95        19\n",
      "   macro avg       0.95      0.94      0.95        19\n",
      "weighted avg       0.95      0.95      0.95        19\n",
      "\n"
     ]
    }
   ],
   "source": [
    "from sklearn.tree import DecisionTreeClassifier\n",
    "\n",
    "DTC = DecisionTreeClassifier()\n",
    "DTC.fit(X_train, Y_train)\n",
    "DTC_pred = DTC.predict(X_test)\n",
    "#score_DTC = DTC.score(X_test, Y_test)\n",
    "#print('The accuracy of the DTC Model is',score_DTC)\n",
    "DTC_accuracy = accuracy_score(Y_test, DTC_pred)\n",
    "print('The accuracy_score for the Decision Tree model is %0.3f\\n' % DTC_accuracy)\n",
    "print(classification_report(Y_test, DTC_pred))"
   ]
  },
  {
   "cell_type": "code",
   "execution_count": 29,
   "metadata": {},
   "outputs": [
    {
     "name": "stdout",
     "output_type": "stream",
     "text": [
      "The cross_validation_score for the Decision tree model is 0.811\n"
     ]
    }
   ],
   "source": [
    "#cross_validation method\n",
    "scores_DTC = cross_val_score(DTC, X_train, Y_train, cv=5)\n",
    "mean_DTC = scores_DTC.mean()\n",
    "print('The cross_validation_score for the Decision tree model is %0.3f' % mean_DTC)\n"
   ]
  },
  {
   "cell_type": "code",
   "execution_count": 30,
   "metadata": {},
   "outputs": [
    {
     "data": {
      "image/png": "[encoded data removed]",
      "text/plain": [
       "<Figure size 432x432 with 2 Axes>"
      ]
     },
     "metadata": {
      "needs_background": "light"
     },
     "output_type": "display_data"
    }
   ],
   "source": [
    "matrix_dtc = plot_confusion_matrix(DTC, X_test, Y_test, cmap=plt.cm.Blues)\n",
    "matrix_dtc.ax_.set_title('Confusion Matrix', color='blue')\n",
    "plt.xlabel('predicted Label', color ='blue')\n",
    "plt.ylabel('true label', color ='blue')\n",
    "plt.gcf().axes[0].tick_params(colors='blue')\n",
    "plt.gcf().axes[1].tick_params(colors='blue')\n",
    "plt.gcf().set_size_inches(6,6)\n",
    "plt.show()"
   ]
  },
  {
   "cell_type": "code",
   "execution_count": 31,
   "metadata": {},
   "outputs": [
    {
     "name": "stdout",
     "output_type": "stream",
     "text": [
      "The accuracy_score of the SVC model is 0.842\n",
      "\n",
      "              precision    recall  f1-score   support\n",
      "\n",
      "         0.0       0.82      0.90      0.86        10\n",
      "         1.0       0.88      0.78      0.82         9\n",
      "\n",
      "    accuracy                           0.84        19\n",
      "   macro avg       0.85      0.84      0.84        19\n",
      "weighted avg       0.85      0.84      0.84        19\n",
      "\n"
     ]
    }
   ],
   "source": [
    "from sklearn.svm import SVC\n",
    "\n",
    "svc = SVC()\n",
    "svc.fit(X_train, Y_train)\n",
    "svc_pred = svc.predict(X_test)\n",
    "#score_svc = svc.score(X_test, Y_test)\n",
    "#print('The accuracy of the SVC Model is %0.3f)' % score_svc)\n",
    "svc_accuracy = accuracy_score(Y_test, svc_pred)\n",
    "print('The accuracy_score of the SVC model is %0.3f\\n' % svc_accuracy )\n",
    "print(classification_report(Y_test, svc_pred))"
   ]
  },
  {
   "cell_type": "code",
   "execution_count": 32,
   "metadata": {},
   "outputs": [
    {
     "name": "stdout",
     "output_type": "stream",
     "text": [
      "The Cross_validation_score for the SVC model is 0.647\n"
     ]
    }
   ],
   "source": [
    "#cross_validation method\n",
    "\n",
    "scores_svc = cross_val_score(svc, X_train, Y_train, cv=5)\n",
    "mean_svc = scores_svc.mean()\n",
    "print('The Cross_validation_score for the SVC model is %0.3f' % mean_svc)"
   ]
  },
  {
   "cell_type": "code",
   "execution_count": 33,
   "metadata": {},
   "outputs": [
    {
     "name": "stdout",
     "output_type": "stream",
     "text": [
      "The accuracy of the Random Forest model is 0.657\n"
     ]
    }
   ],
   "source": [
    "from sklearn.ensemble import RandomForestRegressor\n",
    "\n",
    "rfr = RandomForestRegressor()\n",
    "rfr.fit(X_train, Y_train)\n",
    "rfr_pred = rfr.predict(X_test)\n",
    "score_rfr = rfr.score(X_test, Y_test)\n",
    "print('The accuracy of the Random Forest model is %0.3f' % score_rfr)\n",
    "#print('The accuracy_score of the Random Forest model is %0.3f' % accuracy_score(Y_test, rfr_pred))"
   ]
  },
  {
   "cell_type": "code",
   "execution_count": 34,
   "metadata": {},
   "outputs": [
    {
     "name": "stdout",
     "output_type": "stream",
     "text": [
      "The Cross_validation_score is 0.342\n"
     ]
    }
   ],
   "source": [
    "scores_rfr = cross_val_score(rfr, X_train, Y_train, cv=5)\n",
    "mean_rfr = scores_rfr.mean()\n",
    "print('The Cross_validation_score is %0.3f' % mean_rfr)"
   ]
  },
  {
   "cell_type": "code",
   "execution_count": 35,
   "metadata": {},
   "outputs": [
    {
     "name": "stdout",
     "output_type": "stream",
     "text": [
      "              precision    recall  f1-score   support\n",
      "\n",
      "         0.0       0.82      0.90      0.86        10\n",
      "         1.0       0.88      0.78      0.82         9\n",
      "\n",
      "    accuracy                           0.84        19\n",
      "   macro avg       0.85      0.84      0.84        19\n",
      "weighted avg       0.85      0.84      0.84        19\n",
      "\n"
     ]
    }
   ],
   "source": [
    "from sklearn.naive_bayes import GaussianNB\n",
    "\n",
    "gnb = GaussianNB()\n",
    "gnb.fit(X_train, Y_train)\n",
    "gnb_pred = gnb.predict(X_test)\n",
    "gnb_accuracy = accuracy_score(Y_test, gnb_pred)\n",
    "#score_gnb = gnb.score(X_test, Y_test)\n",
    "#print('The accuracy of the GNB Model is %0.3f)' % score_gnb)\n",
    "#print('The accuracy_score of the Naive Bayes model is %0.3f\\n' % gnb_accuracy)\n",
    "print(classification_report(Y_test, gnb_pred))"
   ]
  },
  {
   "cell_type": "code",
   "execution_count": 36,
   "metadata": {},
   "outputs": [
    {
     "name": "stdout",
     "output_type": "stream",
     "text": [
      "The Cross_validation_score for the Guassian Naive Bayes is 0.836\n"
     ]
    }
   ],
   "source": [
    "scores_gnb = cross_val_score(gnb, X_train, Y_train, cv=5)\n",
    "mean_gnb = scores_gnb.mean()\n",
    "print('The Cross_validation_score for the Guassian Naive Bayes is %0.3f' % mean_gnb)"
   ]
  },
  {
   "cell_type": "code",
   "execution_count": 37,
   "metadata": {},
   "outputs": [
    {
     "data": {
      "image/png": "[encoded data removed]",
      "text/plain": [
       "<Figure size 432x432 with 2 Axes>"
      ]
     },
     "metadata": {
      "needs_background": "light"
     },
     "output_type": "display_data"
    }
   ],
   "source": [
    "matrix_knn = plot_confusion_matrix(gnb, X_test, Y_test, cmap=plt.cm.Blues)\n",
    "matrix_knn.ax_.set_title('Confusion Matrix', color='blue')\n",
    "plt.xlabel('predicted Label', color ='blue')\n",
    "plt.ylabel('true label', color ='blue')\n",
    "plt.gcf().axes[0].tick_params(colors='blue')\n",
    "plt.gcf().axes[1].tick_params(colors='blue')\n",
    "plt.gcf().set_size_inches(6,6)\n",
    "plt.show()"
   ]
  },
  {
   "cell_type": "code",
   "execution_count": 38,
   "metadata": {},
   "outputs": [
    {
     "name": "stdout",
     "output_type": "stream",
     "text": [
      "0.842 0.842 0.947 0.842 0.657 0.842\n"
     ]
    }
   ],
   "source": [
    "print('%0.3f' % log_accuracy, '%0.3f' % knn_accuracy, '%0.3f' % DTC_accuracy, '%0.3f' % svc_accuracy, '%0.3f' % score_rfr, '%0.3f' % gnb_accuracy)"
   ]
  },
  {
   "cell_type": "code",
   "execution_count": 39,
   "metadata": {},
   "outputs": [
    {
     "name": "stdout",
     "output_type": "stream",
     "text": [
      "0.886 0.711 0.811 0.647 0.342 0.836\n"
     ]
    }
   ],
   "source": [
    "print('%0.3f' % mean_logreg, '%0.3f' % mean_knn, '%0.3f' % mean_DTC, '%0.3f' % mean_svc, '%0.3f' % mean_rfr, '%0.3f' % mean_gnb)"
   ]
  },
  {
   "cell_type": "code",
   "execution_count": 40,
   "metadata": {},
   "outputs": [],
   "source": [
    "#prediction probabilities(predict_proba)\n",
    "\n",
    "r_probs = [0 for _ in range(len(Y_test))] # 0 - worse case scenario\n",
    "log_reg_probs = log_reg.predict_proba(X_test)\n",
    "knn_probs = knn.predict_proba(X_test)\n",
    "DTC_probs = DTC.predict_proba(X_test)\n",
    "gnb_probs =gnb.predict_proba(X_test)\n"
   ]
  },
  {
   "cell_type": "code",
   "execution_count": 41,
   "metadata": {},
   "outputs": [],
   "source": [
    "#probabilities for positive outcomes\n",
    "log_reg_probs = log_reg_probs[:, 1]\n",
    "knn_probs = knn_probs[:,1]\n",
    "DTC_probs = DTC_probs[:,1]\n",
    "gnb_probs = gnb_probs[:,1]"
   ]
  },
  {
   "cell_type": "code",
   "execution_count": 42,
   "metadata": {},
   "outputs": [],
   "source": [
    "#computing AUROC (area under the roc curve) and ROC values\n",
    "from sklearn.metrics import roc_curve, roc_auc_score\n",
    "\n",
    "r_auc = roc_auc_score(Y_test, r_probs)\n",
    "log_reg_auc = roc_auc_score(Y_test, log_reg_probs)\n",
    "knn_auc = roc_auc_score(Y_test, knn_probs)\n",
    "DTC_auc = roc_auc_score(Y_test, DTC_probs)\n",
    "gnb_auc = roc_auc_score(Y_test, gnb_probs)"
   ]
  },
  {
   "cell_type": "code",
   "execution_count": 43,
   "metadata": {},
   "outputs": [
    {
     "name": "stdout",
     "output_type": "stream",
     "text": [
      "random (chance) Prediction: AUROC = 0.500\n",
      "LogisticRegression:AUROC = 0.956\n",
      "KNN :AUROC = 0.978\n",
      "DecisionTree :AUROC = 0.944\n",
      "Naive Bayes :AUROC = 0.839\n"
     ]
    }
   ],
   "source": [
    "#print AUROC (area under the roc curve) score for all the models\n",
    "\n",
    "\n",
    "print('random (chance) Prediction: AUROC = %.3f' %(r_auc)) #worst case scenario\n",
    "print('LogisticRegression:AUROC = %.3f' %(log_reg_auc))\n",
    "print('KNN :AUROC = %.3f' %(knn_auc))\n",
    "print('DecisionTree :AUROC = %.3f' %(DTC_auc))\n",
    "print('Naive Bayes :AUROC = %.3f' %(gnb_auc))"
   ]
  },
  {
   "cell_type": "code",
   "execution_count": 44,
   "metadata": {},
   "outputs": [],
   "source": [
    "#calculate ROC curve (fpr-false positive rate, tpr-true positive rate) for all the models\n",
    "\n",
    "r_fpr, r_tpr, _ = roc_curve(Y_test, r_probs)\n",
    "log_reg_fpr, log_reg_tpr, _ = roc_curve(Y_test, log_reg_probs)\n",
    "knn_fpr, knn_tpr, _ = roc_curve(Y_test, knn_probs)\n",
    "DTC_fpr, DTC_tpr, _ = roc_curve(Y_test, DTC_probs)\n",
    "gnb_fpr, gnb_tpr, _ = roc_curve(Y_test, gnb_probs)\n"
   ]
  },
  {
   "cell_type": "code",
   "execution_count": 45,
   "metadata": {},
   "outputs": [
    {
     "data": {
      "image/png": "[encoded data removed]",
      "text/plain": [
       "<Figure size 720x432 with 1 Axes>"
      ]
     },
     "metadata": {
      "needs_background": "light"
     },
     "output_type": "display_data"
    }
   ],
   "source": [
    "#plot roc curve\n",
    "\n",
    "plt.plot(r_fpr, r_tpr, linestyle='--', label ='Random prediction (AUROC = %0.2f)' % r_auc)\n",
    "plt.plot(log_reg_fpr, log_reg_tpr, marker ='.', label ='logistic Regression prediction (AUROC = %0.2f)' % log_reg_auc)\n",
    "plt.plot(knn_fpr, knn_tpr, marker='.', label ='KNN prediction (AUROC = %0.2f)' % knn_auc)\n",
    "plt.plot(DTC_fpr, DTC_tpr, marker='.', label ='Decision Tree prediction (AUROC = %0.2f)' % DTC_auc)\n",
    "plt.plot(gnb_fpr, gnb_tpr, marker='.', label ='Naive Bayes prediction (AUROC = %0.2f)' % gnb_auc)\n",
    "\n",
    "plt.title('ROC PLOT', fontsize = 16, color = 'blue')\n",
    "plt.xlabel('false positive rate', fontsize = 14, color = 'blue')\n",
    "plt.ylabel('true positive rate', fontsize = 14, color = 'blue')\n",
    "plt.legend(fontsize = 12)\n",
    "plt.gcf().set_size_inches(10,6)\n",
    "plt.show()\n",
    "\n",
    "\n"
   ]
  },
  {
   "cell_type": "code",
   "execution_count": null,
   "metadata": {},
   "outputs": [],
   "source": []
  },
  {
   "cell_type": "code",
   "execution_count": null,
   "metadata": {},
   "outputs": [],
   "source": [
    "\n"
   ]
  },
  {
   "cell_type": "code",
   "execution_count": null,
   "metadata": {},
   "outputs": [],
   "source": []
  },
  {
   "cell_type": "code",
   "execution_count": null,
   "metadata": {},
   "outputs": [],
   "source": []
  },
  {
   "cell_type": "code",
   "execution_count": null,
   "metadata": {},
   "outputs": [],
   "source": []
  },
  {
   "cell_type": "code",
   "execution_count": null,
   "metadata": {},
   "outputs": [],
   "source": []
  },
  {
   "cell_type": "code",
   "execution_count": null,
   "metadata": {},
   "outputs": [],
   "source": []
  },
  {
   "cell_type": "code",
   "execution_count": null,
   "metadata": {},
   "outputs": [],
   "source": []
  },
  {
   "cell_type": "code",
   "execution_count": null,
   "metadata": {},
   "outputs": [],
   "source": []
  },
  {
   "cell_type": "code",
   "execution_count": null,
   "metadata": {},
   "outputs": [],
   "source": []
  },
  {
   "cell_type": "code",
   "execution_count": null,
   "metadata": {},
   "outputs": [],
   "source": []
  }
 ],
 "metadata": {
  "kernelspec": {
   "display_name": "Python 3",
   "language": "python",
   "name": "python3"
  },
  "language_info": {
   "codemirror_mode": {
    "name": "ipython",
    "version": 3
   },
   "file_extension": ".py",
   "mimetype": "text/x-python",
   "name": "python",
   "nbconvert_exporter": "python",
   "pygments_lexer": "ipython3",
   "version": "3.8.3"
  }
 },
 "nbformat": 4,
 "nbformat_minor": 4
}
