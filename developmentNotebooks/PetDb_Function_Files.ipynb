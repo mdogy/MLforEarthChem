{
 "cells": [
  {
   "cell_type": "code",
   "execution_count": 1,
   "metadata": {},
   "outputs": [],
   "source": [
    "import numpy as np\n",
    "import pandas as pd\n",
    "import requests as reqs\n",
    "import matplotlib.pyplot as plt\n",
    "%matplotlib inline\n",
    "import json\n",
    "from pandas.io.json import json_normalize  \n"
   ]
  },
  {
   "cell_type": "code",
   "execution_count": 2,
   "metadata": {},
   "outputs": [],
   "source": [
    "Specimen_URL = r\"C:\\Users\\natasha\\Downloads\\specimen_summary_marine_only (2).csv\"\n",
    "petdb_url = 'https://ecapi.earthchem.org/specimen'\n",
    "example_sample = '26639'\n"
   ]
  },
  {
   "cell_type": "code",
   "execution_count": 3,
   "metadata": {},
   "outputs": [
    {
     "name": "stderr",
     "output_type": "stream",
     "text": [
      "C:\\Users\\natasha\\anaconda3\\lib\\site-packages\\urllib3\\connectionpool.py:1004: InsecureRequestWarning: Unverified HTTPS request is being made to host 'ecapi.earthchem.org'. Adding certificate verification is strongly advised. See: https://urllib3.readthedocs.io/en/latest/advanced-usage.html#ssl-warnings\n",
      "  InsecureRequestWarning,\n"
     ]
    }
   ],
   "source": [
    "rq = reqs.get(petdb_url+'/'+example_sample,verify=False)"
   ]
  },
  {
   "cell_type": "code",
   "execution_count": 4,
   "metadata": {},
   "outputs": [
    {
     "name": "stdout",
     "output_type": "stream",
     "text": [
      "{'count': 1, 'data': {'specimen_num': 26639, 'specimen_code': 'ABP0002-019-001', 'igsn': 'N/A', 'archive_institution': None, 'specimen_material': 'ROCK', 'taxon': [{'rock_type': 'igneous:volcanic:mafic', 'rock_class': 'BASALT', 'source': [{'citation_num': '1086', 'citation_code': 'MELSON,2003'}]}], 'rock_class_details': [], 'specimen_names': [{'specimen_name': 'VG8462', 'source': [{'citation_num': '1086', 'citation_code': 'MELSON, 2003'}]}], 'specimen_comments': [], 'alterations': [], 'rock_textures': [], 'geological_ages': [{'prefix': '', 'age': '', 'age_min': '', 'age_max': '1', 'source': [{'citation_num': '1086', 'citation_code': 'MELSON, 2003'}]}], 'station_num': 6585, 'station_code': 'ABP0002-019', 'lat_label': '14.17°S', 'long_label': '13.94°W', 'points': [{'latitude': -14.17, 'longitude': -13.94, 'text': '14.17°S/13.94°W'}], 'centerLat': -14.17, 'centerLong': -13.94, 'elevation_min': -2940, 'elevation_max': -3620, 'location_precisions': ['0.01'], 'geographic_location': ['OCEAN|ATLANTIC', 'SPREADING_CENTER|MID-ATLANTIC RIDGE'], 'tectonic_settings': ['SPREADING_CENTER'], 'expedition_num': 789, 'expedition_code': 'ABP0002', 'sampling_technique_code': None, 'sampling_technique_name': None, 'analyzed_samples': ['ABP0002-019-001-117895']}}\n"
     ]
    }
   ],
   "source": [
    "response_data = rq.json()\n",
    "print(response_data)"
   ]
  },
  {
   "cell_type": "code",
   "execution_count": 9,
   "metadata": {},
   "outputs": [
    {
     "data": {
      "text/plain": [
       "dict"
      ]
     },
     "execution_count": 9,
     "metadata": {},
     "output_type": "execute_result"
    }
   ],
   "source": [
    "type(response_data)"
   ]
  },
  {
   "cell_type": "code",
   "execution_count": 11,
   "metadata": {},
   "outputs": [
    {
     "data": {
      "text/plain": [
       "{'specimen_num': 26639,\n",
       " 'specimen_code': 'ABP0002-019-001',\n",
       " 'igsn': 'N/A',\n",
       " 'archive_institution': None,\n",
       " 'specimen_material': 'ROCK',\n",
       " 'taxon': [{'rock_type': 'igneous:volcanic:mafic',\n",
       "   'rock_class': 'BASALT',\n",
       "   'source': [{'citation_num': '1086', 'citation_code': 'MELSON,2003'}]}],\n",
       " 'rock_class_details': [],\n",
       " 'specimen_names': [{'specimen_name': 'VG8462',\n",
       "   'source': [{'citation_num': '1086', 'citation_code': 'MELSON, 2003'}]}],\n",
       " 'specimen_comments': [],\n",
       " 'alterations': [],\n",
       " 'rock_textures': [],\n",
       " 'geological_ages': [{'prefix': '',\n",
       "   'age': '',\n",
       "   'age_min': '',\n",
       "   'age_max': '1',\n",
       "   'source': [{'citation_num': '1086', 'citation_code': 'MELSON, 2003'}]}],\n",
       " 'station_num': 6585,\n",
       " 'station_code': 'ABP0002-019',\n",
       " 'lat_label': '14.17°S',\n",
       " 'long_label': '13.94°W',\n",
       " 'points': [{'latitude': -14.17,\n",
       "   'longitude': -13.94,\n",
       "   'text': '14.17°S/13.94°W'}],\n",
       " 'centerLat': -14.17,\n",
       " 'centerLong': -13.94,\n",
       " 'elevation_min': -2940,\n",
       " 'elevation_max': -3620,\n",
       " 'location_precisions': ['0.01'],\n",
       " 'geographic_location': ['OCEAN|ATLANTIC',\n",
       "  'SPREADING_CENTER|MID-ATLANTIC RIDGE'],\n",
       " 'tectonic_settings': ['SPREADING_CENTER'],\n",
       " 'expedition_num': 789,\n",
       " 'expedition_code': 'ABP0002',\n",
       " 'sampling_technique_code': None,\n",
       " 'sampling_technique_name': None,\n",
       " 'analyzed_samples': ['ABP0002-019-001-117895']}"
      ]
     },
     "execution_count": 11,
     "metadata": {},
     "output_type": "execute_result"
    }
   ],
   "source": [
    "response_data['data']"
   ]
  },
  {
   "cell_type": "code",
   "execution_count": 13,
   "metadata": {},
   "outputs": [
    {
     "data": {
      "text/plain": [
       "list"
      ]
     },
     "execution_count": 13,
     "metadata": {},
     "output_type": "execute_result"
    }
   ],
   "source": [
    "data_access = response_data['data']['taxon']\n",
    "type(data_access)"
   ]
  },
  {
   "cell_type": "code",
   "execution_count": 14,
   "metadata": {},
   "outputs": [
    {
     "data": {
      "text/plain": [
       "[{'rock_type': 'igneous:volcanic:mafic',\n",
       "  'rock_class': 'BASALT',\n",
       "  'source': [{'citation_num': '1086', 'citation_code': 'MELSON,2003'}]}]"
      ]
     },
     "execution_count": 14,
     "metadata": {},
     "output_type": "execute_result"
    }
   ],
   "source": [
    "data_access"
   ]
  },
  {
   "cell_type": "code",
   "execution_count": 16,
   "metadata": {},
   "outputs": [
    {
     "data": {
      "text/plain": [
       "{'rock_type': 'igneous:volcanic:mafic',\n",
       " 'rock_class': 'BASALT',\n",
       " 'source': [{'citation_num': '1086', 'citation_code': 'MELSON,2003'}]}"
      ]
     },
     "execution_count": 16,
     "metadata": {},
     "output_type": "execute_result"
    }
   ],
   "source": [
    "data_access[0]"
   ]
  },
  {
   "cell_type": "code",
   "execution_count": 18,
   "metadata": {},
   "outputs": [
    {
     "name": "stdout",
     "output_type": "stream",
     "text": [
      "{'rock_type': 'igneous:volcanic:mafic', 'rock_class': 'BASALT', 'source': [{'citation_num': '1086', 'citation_code': 'MELSON,2003'}]}\n"
     ]
    }
   ],
   "source": [
    "for citation in data_access:\n",
    "    print(citation)"
   ]
  },
  {
   "cell_type": "code",
   "execution_count": 19,
   "metadata": {},
   "outputs": [
    {
     "data": {
      "text/plain": [
       "dict"
      ]
     },
     "execution_count": 19,
     "metadata": {},
     "output_type": "execute_result"
    }
   ],
   "source": [
    "type(citation)"
   ]
  },
  {
   "cell_type": "code",
   "execution_count": 22,
   "metadata": {},
   "outputs": [
    {
     "data": {
      "text/plain": [
       "[{'citation_num': '1086', 'citation_code': 'MELSON,2003'}]"
      ]
     },
     "execution_count": 22,
     "metadata": {},
     "output_type": "execute_result"
    }
   ],
   "source": [
    "citation_access = citation['source']\n",
    "citation_access"
   ]
  },
  {
   "cell_type": "code",
   "execution_count": 23,
   "metadata": {},
   "outputs": [
    {
     "data": {
      "text/plain": [
       "list"
      ]
     },
     "execution_count": 23,
     "metadata": {},
     "output_type": "execute_result"
    }
   ],
   "source": [
    "type(citation_access)"
   ]
  },
  {
   "cell_type": "code",
   "execution_count": 24,
   "metadata": {},
   "outputs": [
    {
     "name": "stdout",
     "output_type": "stream",
     "text": [
      "{'citation_num': '1086', 'citation_code': 'MELSON,2003'}\n"
     ]
    }
   ],
   "source": [
    "for citation_num_access in citation_access:\n",
    "    print(citation_num_access)"
   ]
  },
  {
   "cell_type": "code",
   "execution_count": 25,
   "metadata": {},
   "outputs": [
    {
     "data": {
      "text/plain": [
       "dict"
      ]
     },
     "execution_count": 25,
     "metadata": {},
     "output_type": "execute_result"
    }
   ],
   "source": [
    "type(citation_num_access)"
   ]
  },
  {
   "cell_type": "code",
   "execution_count": 28,
   "metadata": {},
   "outputs": [
    {
     "data": {
      "text/plain": [
       "'1086'"
      ]
     },
     "execution_count": 28,
     "metadata": {},
     "output_type": "execute_result"
    }
   ],
   "source": [
    "citation_numbers = citation_num_access['citation_num']\n",
    "citation_numbers"
   ]
  },
  {
   "cell_type": "code",
   "execution_count": 31,
   "metadata": {},
   "outputs": [
    {
     "data": {
      "text/plain": [
       "'MELSON,2003'"
      ]
     },
     "execution_count": 31,
     "metadata": {},
     "output_type": "execute_result"
    }
   ],
   "source": [
    "citation_codes = citation_num_access['citation_code']\n",
    "citation_codes"
   ]
  },
  {
   "cell_type": "code",
   "execution_count": 33,
   "metadata": {},
   "outputs": [],
   "source": [
    "#function to get all the citation numbers\n",
    "\n",
    "def get_citation_numbers():\n",
    "    data_access = response_data['data']['taxon']\n",
    "    for citation in data_access:\n",
    "        citation_access = citation['source']\n",
    "        for citation_num_access in citation_access:\n",
    "            citation_numbers = citation_num_access['citation_num']\n",
    "            print(citation_numbers)\n",
    "            "
   ]
  },
  {
   "cell_type": "code",
   "execution_count": 34,
   "metadata": {},
   "outputs": [
    {
     "name": "stdout",
     "output_type": "stream",
     "text": [
      "1086\n"
     ]
    }
   ],
   "source": [
    "get_citation_numbers()"
   ]
  },
  {
   "cell_type": "code",
   "execution_count": 35,
   "metadata": {},
   "outputs": [],
   "source": [
    "#function to get all citation codes\n",
    "\n",
    "def get_citation_codes():\n",
    "    data_access = response_data['data']['taxon']\n",
    "    for citation in data_access:\n",
    "        citation_access = citation['source']\n",
    "        for citation_num_access in citation_access:\n",
    "            citation_codes = citation_num_access['citation_code']\n",
    "            print(citation_codes)\n",
    "            "
   ]
  },
  {
   "cell_type": "code",
   "execution_count": 36,
   "metadata": {},
   "outputs": [
    {
     "name": "stdout",
     "output_type": "stream",
     "text": [
      "MELSON,2003\n"
     ]
    }
   ],
   "source": [
    "get_citation_codes()"
   ]
  },
  {
   "cell_type": "code",
   "execution_count": 39,
   "metadata": {},
   "outputs": [
    {
     "data": {
      "text/plain": [
       "26639"
      ]
     },
     "execution_count": 39,
     "metadata": {},
     "output_type": "execute_result"
    }
   ],
   "source": [
    "specimen_numbers = response_data['data']['specimen_num']\n",
    "specimen_numbers"
   ]
  },
  {
   "cell_type": "code",
   "execution_count": 40,
   "metadata": {},
   "outputs": [
    {
     "ename": "TypeError",
     "evalue": "'int' object is not iterable",
     "output_type": "error",
     "traceback": [
      "\u001b[1;31m---------------------------------------------------------------------------\u001b[0m",
      "\u001b[1;31mTypeError\u001b[0m                                 Traceback (most recent call last)",
      "\u001b[1;32m<ipython-input-40-d60470deaefe>\u001b[0m in \u001b[0;36m<module>\u001b[1;34m\u001b[0m\n\u001b[1;32m----> 1\u001b[1;33m \u001b[1;32mfor\u001b[0m \u001b[0mspecimen_nums\u001b[0m \u001b[1;32min\u001b[0m \u001b[0mspecimen_numbers\u001b[0m\u001b[1;33m:\u001b[0m\u001b[1;33m\u001b[0m\u001b[1;33m\u001b[0m\u001b[0m\n\u001b[0m\u001b[0;32m      2\u001b[0m     \u001b[0mprint\u001b[0m\u001b[1;33m(\u001b[0m\u001b[0mspecimen_nums\u001b[0m\u001b[1;33m)\u001b[0m\u001b[1;33m\u001b[0m\u001b[1;33m\u001b[0m\u001b[0m\n",
      "\u001b[1;31mTypeError\u001b[0m: 'int' object is not iterable"
     ]
    }
   ],
   "source": [
    "for specimen_nums in specimen_numbers:\n",
    "    print(specimen_nums)"
   ]
  },
  {
   "cell_type": "code",
   "execution_count": null,
   "metadata": {},
   "outputs": [],
   "source": [
    "def get_specimen_numbers():"
   ]
  }
 ],
 "metadata": {
  "kernelspec": {
   "display_name": "Python 3",
   "language": "python",
   "name": "python3"
  },
  "language_info": {
   "codemirror_mode": {
    "name": "ipython",
    "version": 3
   },
   "file_extension": ".py",
   "mimetype": "text/x-python",
   "name": "python",
   "nbconvert_exporter": "python",
   "pygments_lexer": "ipython3",
   "version": "3.7.6"
  }
 },
 "nbformat": 4,
 "nbformat_minor": 4
}
