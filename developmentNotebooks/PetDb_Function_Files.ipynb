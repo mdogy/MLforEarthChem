{
 "cells": [
  {
   "cell_type": "code",
   "execution_count": 1,
   "metadata": {},
   "outputs": [],
   "source": [
    "import numpy as np\n",
    "import pandas as pd\n",
    "import requests as reqs\n",
    "import matplotlib.pyplot as plt\n",
    "%matplotlib inline\n",
    "import json\n",
    "from pandas.io.json import json_normalize  \n"
   ]
  },
  {
   "cell_type": "code",
   "execution_count": 2,
   "metadata": {},
   "outputs": [],
   "source": [
    "Specimen_URL = r\"C:\\Users\\natasha\\Downloads\\specimen_summary_marine_only (2).csv\"\n",
    "petdb_url = 'https://ecapi.earthchem.org/specimen'\n",
    "example_sample = '33513'\n"
   ]
  },
  {
   "cell_type": "code",
   "execution_count": 3,
   "metadata": {},
   "outputs": [
    {
     "name": "stderr",
     "output_type": "stream",
     "text": [
      "C:\\Users\\natasha\\anaconda3\\lib\\site-packages\\urllib3\\connectionpool.py:1004: InsecureRequestWarning: Unverified HTTPS request is being made to host 'ecapi.earthchem.org'. Adding certificate verification is strongly advised. See: https://urllib3.readthedocs.io/en/latest/advanced-usage.html#ssl-warnings\n",
      "  InsecureRequestWarning,\n"
     ]
    }
   ],
   "source": [
    "rq = reqs.get(petdb_url+'/'+example_sample,verify=False)"
   ]
  },
  {
   "cell_type": "code",
   "execution_count": 4,
   "metadata": {},
   "outputs": [
    {
     "name": "stdout",
     "output_type": "stream",
     "text": [
      "{'count': 1, 'data': {'specimen_num': 33513, 'specimen_code': 'ARGAMPH-001', 'igsn': 'N/A', 'archive_institution': None, 'specimen_material': 'ROCK', 'taxon': [{'rock_type': 'igneous:volcanic:mafic', 'rock_class': 'BASALT', 'source': [{'citation_num': '215', 'citation_code': 'ENGEL,1964'}, {'citation_num': '126', 'citation_code': 'ENGEL,1965'}, {'citation_num': '350', 'citation_code': 'HART,1969'}, {'citation_num': '371', 'citation_code': 'HART,1971'}, {'citation_num': '348', 'citation_code': 'HEDGE,1970'}, {'citation_num': '185', 'citation_code': 'KAY,1970'}, {'citation_num': '388', 'citation_code': 'MACDOUGALL,1986'}, {'citation_num': '385', 'citation_code': 'PINEAU,1976'}, {'citation_num': '157', 'citation_code': 'PINEAU,1983'}]}, {'rock_type': 'igneous:volcanic:mafic', 'rock_class': 'THOLEIITE', 'source': [{'citation_num': '346', 'citation_code': 'SUBBARAO,1972'}, {'citation_num': '201', 'citation_code': 'SUN,1980'}, {'citation_num': '748', 'citation_code': 'TATSUMOTO,1966'}]}], 'rock_class_details': [{'rock_class_detail': 'HIGH-AL THOLEIITE', 'source': [{'citation_num': '385', 'citation_code': 'PINEAU, 1976'}]}], 'specimen_names': [{'specimen_name': 'AMPH1D', 'source': [{'citation_num': '385', 'citation_code': 'PINEAU, 1976'}]}, {'specimen_name': 'AMPH-1D', 'source': [{'citation_num': '157', 'citation_code': 'PINEAU, 1983'}]}, {'specimen_name': 'AMPH 1-PDIP', 'source': [{'citation_num': '371', 'citation_code': 'HART, 1971'}]}, {'specimen_name': 'AMPH D1', 'source': [{'citation_num': '185', 'citation_code': 'KAY, 1970'}]}, {'specimen_name': 'AMPH-D1', 'source': [{'citation_num': '388', 'citation_code': 'MACDOUGALL, 1986'}]}, {'specimen_name': 'AMPH D-1', 'source': [{'citation_num': '201', 'citation_code': 'SUN, 1980'}]}, {'specimen_name': 'AMPH PD1-P', 'source': [{'citation_num': '350', 'citation_code': 'HART, 1969'}]}, {'specimen_name': 'D1', 'source': [{'citation_num': '215', 'citation_code': 'ENGEL, 1964'}]}, {'specimen_name': 'PD-1', 'source': [{'citation_num': '348', 'citation_code': 'HEDGE, 1970'}]}, {'specimen_name': 'PD1', 'source': [{'citation_num': '748', 'citation_code': 'TATSUMOTO, 1966'}]}, {'specimen_name': 'PV D-1', 'source': [{'citation_num': '126', 'citation_code': 'ENGEL, 1965'}]}, {'specimen_name': 'S-9', 'source': [{'citation_num': '346', 'citation_code': 'SUBBARAO, 1972'}]}], 'specimen_comments': [], 'alterations': [{'alteration': 'FRESH', 'source': [{'citation_num': '388', 'citation_code': 'MACDOUGALL, 1986'}, {'citation_num': '350', 'citation_code': 'HART, 1969'}]}], 'rock_textures': [{'rock_texture': 'FINE-GRAINED PORPHYRITIC BASALT; CA. 30% PLAG PC (AN80)', 'source': [{'citation_num': '201', 'citation_code': 'SUN, 1980'}]}, {'rock_texture': 'FINE-GRAINED, PORPHYRITIC; CA. 30% PLAG PC (AN80)', 'source': [{'citation_num': '185', 'citation_code': 'KAY, 1970'}]}, {'rock_texture': 'GLASSY BASALT WITH CA. 25% PLAG PC UP TO 0.7CM', 'source': [{'citation_num': '350', 'citation_code': 'HART, 1969'}]}, {'rock_texture': 'PORPHYRITIC WITH GLASSY TO MICROCRYSTALLINE GM', 'source': [{'citation_num': '215', 'citation_code': 'ENGEL, 1964'}]}], 'geological_ages': [], 'station_num': 2537, 'station_code': 'ARGAMPH-001', 'lat_label': '7.83°S', 'long_label': '108.13°W', 'points': [{'latitude': -7.83, 'longitude': -108.13, 'text': '7.83°S/108.13°W'}], 'centerLat': -7.83, 'centerLong': -108.13, 'elevation_min': -2952, 'elevation_max': -2952, 'location_precisions': ['0.01'], 'geographic_location': ['SPREADING_CENTER|EAST PACIFIC RISE', 'OCEAN|PACIFIC'], 'tectonic_settings': ['SPREADING_CENTER'], 'expedition_num': 321, 'expedition_code': 'ARGAMPH', 'sampling_technique_code': None, 'sampling_technique_name': None, 'analyzed_samples': ['ARGAMPH-001-27579', 'ARGAMPH-001-27773', 'ARGAMPH-001-29056', 'ARGAMPH-001-29057', 'ARGAMPH-001-29100', 'ARGAMPH-001-32604', 'ARGAMPH-001-32605', 'ARGAMPH-001-32941', 'ARGAMPH-001-32942', 'ARGAMPH-001-42816', 'ARGAMPH-001-42817', 'ARGAMPH-001-42845', 'ARGAMPH-001-42864', 'ARGAMPH-001-630956', 'ARGAMPH-001-63749', 'ARGAMPH-001-63750', 'ARGAMPH-001-63751', 'ARGAMPH-001-63752', 'ARGAMPH-001-65797', 'ARGAMPH-001-67732', 'ARGAMPH-001-69456', 'ARGAMPH-001-69457', 'ARGAMPH-001-83542', 'ARGAMPH-001-95110']}}\n"
     ]
    }
   ],
   "source": [
    "response_data = rq.json()\n",
    "print(response_data)"
   ]
  },
  {
   "cell_type": "code",
   "execution_count": 5,
   "metadata": {},
   "outputs": [
    {
     "data": {
      "text/plain": [
       "dict"
      ]
     },
     "execution_count": 5,
     "metadata": {},
     "output_type": "execute_result"
    }
   ],
   "source": [
    "type(response_data)"
   ]
  },
  {
   "cell_type": "code",
   "execution_count": 6,
   "metadata": {},
   "outputs": [
    {
     "data": {
      "text/plain": [
       "{'specimen_num': 33513,\n",
       " 'specimen_code': 'ARGAMPH-001',\n",
       " 'igsn': 'N/A',\n",
       " 'archive_institution': None,\n",
       " 'specimen_material': 'ROCK',\n",
       " 'taxon': [{'rock_type': 'igneous:volcanic:mafic',\n",
       "   'rock_class': 'BASALT',\n",
       "   'source': [{'citation_num': '215', 'citation_code': 'ENGEL,1964'},\n",
       "    {'citation_num': '126', 'citation_code': 'ENGEL,1965'},\n",
       "    {'citation_num': '350', 'citation_code': 'HART,1969'},\n",
       "    {'citation_num': '371', 'citation_code': 'HART,1971'},\n",
       "    {'citation_num': '348', 'citation_code': 'HEDGE,1970'},\n",
       "    {'citation_num': '185', 'citation_code': 'KAY,1970'},\n",
       "    {'citation_num': '388', 'citation_code': 'MACDOUGALL,1986'},\n",
       "    {'citation_num': '385', 'citation_code': 'PINEAU,1976'},\n",
       "    {'citation_num': '157', 'citation_code': 'PINEAU,1983'}]},\n",
       "  {'rock_type': 'igneous:volcanic:mafic',\n",
       "   'rock_class': 'THOLEIITE',\n",
       "   'source': [{'citation_num': '346', 'citation_code': 'SUBBARAO,1972'},\n",
       "    {'citation_num': '201', 'citation_code': 'SUN,1980'},\n",
       "    {'citation_num': '748', 'citation_code': 'TATSUMOTO,1966'}]}],\n",
       " 'rock_class_details': [{'rock_class_detail': 'HIGH-AL THOLEIITE',\n",
       "   'source': [{'citation_num': '385', 'citation_code': 'PINEAU, 1976'}]}],\n",
       " 'specimen_names': [{'specimen_name': 'AMPH1D',\n",
       "   'source': [{'citation_num': '385', 'citation_code': 'PINEAU, 1976'}]},\n",
       "  {'specimen_name': 'AMPH-1D',\n",
       "   'source': [{'citation_num': '157', 'citation_code': 'PINEAU, 1983'}]},\n",
       "  {'specimen_name': 'AMPH 1-PDIP',\n",
       "   'source': [{'citation_num': '371', 'citation_code': 'HART, 1971'}]},\n",
       "  {'specimen_name': 'AMPH D1',\n",
       "   'source': [{'citation_num': '185', 'citation_code': 'KAY, 1970'}]},\n",
       "  {'specimen_name': 'AMPH-D1',\n",
       "   'source': [{'citation_num': '388', 'citation_code': 'MACDOUGALL, 1986'}]},\n",
       "  {'specimen_name': 'AMPH D-1',\n",
       "   'source': [{'citation_num': '201', 'citation_code': 'SUN, 1980'}]},\n",
       "  {'specimen_name': 'AMPH PD1-P',\n",
       "   'source': [{'citation_num': '350', 'citation_code': 'HART, 1969'}]},\n",
       "  {'specimen_name': 'D1',\n",
       "   'source': [{'citation_num': '215', 'citation_code': 'ENGEL, 1964'}]},\n",
       "  {'specimen_name': 'PD-1',\n",
       "   'source': [{'citation_num': '348', 'citation_code': 'HEDGE, 1970'}]},\n",
       "  {'specimen_name': 'PD1',\n",
       "   'source': [{'citation_num': '748', 'citation_code': 'TATSUMOTO, 1966'}]},\n",
       "  {'specimen_name': 'PV D-1',\n",
       "   'source': [{'citation_num': '126', 'citation_code': 'ENGEL, 1965'}]},\n",
       "  {'specimen_name': 'S-9',\n",
       "   'source': [{'citation_num': '346', 'citation_code': 'SUBBARAO, 1972'}]}],\n",
       " 'specimen_comments': [],\n",
       " 'alterations': [{'alteration': 'FRESH',\n",
       "   'source': [{'citation_num': '388', 'citation_code': 'MACDOUGALL, 1986'},\n",
       "    {'citation_num': '350', 'citation_code': 'HART, 1969'}]}],\n",
       " 'rock_textures': [{'rock_texture': 'FINE-GRAINED PORPHYRITIC BASALT; CA. 30% PLAG PC (AN80)',\n",
       "   'source': [{'citation_num': '201', 'citation_code': 'SUN, 1980'}]},\n",
       "  {'rock_texture': 'FINE-GRAINED, PORPHYRITIC; CA. 30% PLAG PC (AN80)',\n",
       "   'source': [{'citation_num': '185', 'citation_code': 'KAY, 1970'}]},\n",
       "  {'rock_texture': 'GLASSY BASALT WITH CA. 25% PLAG PC UP TO 0.7CM',\n",
       "   'source': [{'citation_num': '350', 'citation_code': 'HART, 1969'}]},\n",
       "  {'rock_texture': 'PORPHYRITIC WITH GLASSY TO MICROCRYSTALLINE GM',\n",
       "   'source': [{'citation_num': '215', 'citation_code': 'ENGEL, 1964'}]}],\n",
       " 'geological_ages': [],\n",
       " 'station_num': 2537,\n",
       " 'station_code': 'ARGAMPH-001',\n",
       " 'lat_label': '7.83°S',\n",
       " 'long_label': '108.13°W',\n",
       " 'points': [{'latitude': -7.83,\n",
       "   'longitude': -108.13,\n",
       "   'text': '7.83°S/108.13°W'}],\n",
       " 'centerLat': -7.83,\n",
       " 'centerLong': -108.13,\n",
       " 'elevation_min': -2952,\n",
       " 'elevation_max': -2952,\n",
       " 'location_precisions': ['0.01'],\n",
       " 'geographic_location': ['SPREADING_CENTER|EAST PACIFIC RISE',\n",
       "  'OCEAN|PACIFIC'],\n",
       " 'tectonic_settings': ['SPREADING_CENTER'],\n",
       " 'expedition_num': 321,\n",
       " 'expedition_code': 'ARGAMPH',\n",
       " 'sampling_technique_code': None,\n",
       " 'sampling_technique_name': None,\n",
       " 'analyzed_samples': ['ARGAMPH-001-27579',\n",
       "  'ARGAMPH-001-27773',\n",
       "  'ARGAMPH-001-29056',\n",
       "  'ARGAMPH-001-29057',\n",
       "  'ARGAMPH-001-29100',\n",
       "  'ARGAMPH-001-32604',\n",
       "  'ARGAMPH-001-32605',\n",
       "  'ARGAMPH-001-32941',\n",
       "  'ARGAMPH-001-32942',\n",
       "  'ARGAMPH-001-42816',\n",
       "  'ARGAMPH-001-42817',\n",
       "  'ARGAMPH-001-42845',\n",
       "  'ARGAMPH-001-42864',\n",
       "  'ARGAMPH-001-630956',\n",
       "  'ARGAMPH-001-63749',\n",
       "  'ARGAMPH-001-63750',\n",
       "  'ARGAMPH-001-63751',\n",
       "  'ARGAMPH-001-63752',\n",
       "  'ARGAMPH-001-65797',\n",
       "  'ARGAMPH-001-67732',\n",
       "  'ARGAMPH-001-69456',\n",
       "  'ARGAMPH-001-69457',\n",
       "  'ARGAMPH-001-83542',\n",
       "  'ARGAMPH-001-95110']}"
      ]
     },
     "execution_count": 6,
     "metadata": {},
     "output_type": "execute_result"
    }
   ],
   "source": [
    "response_data['data']"
   ]
  },
  {
   "cell_type": "code",
   "execution_count": 7,
   "metadata": {},
   "outputs": [
    {
     "data": {
      "text/plain": [
       "list"
      ]
     },
     "execution_count": 7,
     "metadata": {},
     "output_type": "execute_result"
    }
   ],
   "source": [
    "data_access = response_data['data']['taxon']\n",
    "type(data_access)"
   ]
  },
  {
   "cell_type": "code",
   "execution_count": 8,
   "metadata": {},
   "outputs": [
    {
     "data": {
      "text/plain": [
       "[{'rock_type': 'igneous:volcanic:mafic',\n",
       "  'rock_class': 'BASALT',\n",
       "  'source': [{'citation_num': '215', 'citation_code': 'ENGEL,1964'},\n",
       "   {'citation_num': '126', 'citation_code': 'ENGEL,1965'},\n",
       "   {'citation_num': '350', 'citation_code': 'HART,1969'},\n",
       "   {'citation_num': '371', 'citation_code': 'HART,1971'},\n",
       "   {'citation_num': '348', 'citation_code': 'HEDGE,1970'},\n",
       "   {'citation_num': '185', 'citation_code': 'KAY,1970'},\n",
       "   {'citation_num': '388', 'citation_code': 'MACDOUGALL,1986'},\n",
       "   {'citation_num': '385', 'citation_code': 'PINEAU,1976'},\n",
       "   {'citation_num': '157', 'citation_code': 'PINEAU,1983'}]},\n",
       " {'rock_type': 'igneous:volcanic:mafic',\n",
       "  'rock_class': 'THOLEIITE',\n",
       "  'source': [{'citation_num': '346', 'citation_code': 'SUBBARAO,1972'},\n",
       "   {'citation_num': '201', 'citation_code': 'SUN,1980'},\n",
       "   {'citation_num': '748', 'citation_code': 'TATSUMOTO,1966'}]}]"
      ]
     },
     "execution_count": 8,
     "metadata": {},
     "output_type": "execute_result"
    }
   ],
   "source": [
    "data_access"
   ]
  },
  {
   "cell_type": "code",
   "execution_count": 9,
   "metadata": {},
   "outputs": [
    {
     "data": {
      "text/plain": [
       "{'rock_type': 'igneous:volcanic:mafic',\n",
       " 'rock_class': 'BASALT',\n",
       " 'source': [{'citation_num': '215', 'citation_code': 'ENGEL,1964'},\n",
       "  {'citation_num': '126', 'citation_code': 'ENGEL,1965'},\n",
       "  {'citation_num': '350', 'citation_code': 'HART,1969'},\n",
       "  {'citation_num': '371', 'citation_code': 'HART,1971'},\n",
       "  {'citation_num': '348', 'citation_code': 'HEDGE,1970'},\n",
       "  {'citation_num': '185', 'citation_code': 'KAY,1970'},\n",
       "  {'citation_num': '388', 'citation_code': 'MACDOUGALL,1986'},\n",
       "  {'citation_num': '385', 'citation_code': 'PINEAU,1976'},\n",
       "  {'citation_num': '157', 'citation_code': 'PINEAU,1983'}]}"
      ]
     },
     "execution_count": 9,
     "metadata": {},
     "output_type": "execute_result"
    }
   ],
   "source": [
    "data_access[0]"
   ]
  },
  {
   "cell_type": "code",
   "execution_count": 10,
   "metadata": {},
   "outputs": [
    {
     "name": "stdout",
     "output_type": "stream",
     "text": [
      "{'rock_type': 'igneous:volcanic:mafic', 'rock_class': 'BASALT', 'source': [{'citation_num': '215', 'citation_code': 'ENGEL,1964'}, {'citation_num': '126', 'citation_code': 'ENGEL,1965'}, {'citation_num': '350', 'citation_code': 'HART,1969'}, {'citation_num': '371', 'citation_code': 'HART,1971'}, {'citation_num': '348', 'citation_code': 'HEDGE,1970'}, {'citation_num': '185', 'citation_code': 'KAY,1970'}, {'citation_num': '388', 'citation_code': 'MACDOUGALL,1986'}, {'citation_num': '385', 'citation_code': 'PINEAU,1976'}, {'citation_num': '157', 'citation_code': 'PINEAU,1983'}]}\n",
      "{'rock_type': 'igneous:volcanic:mafic', 'rock_class': 'THOLEIITE', 'source': [{'citation_num': '346', 'citation_code': 'SUBBARAO,1972'}, {'citation_num': '201', 'citation_code': 'SUN,1980'}, {'citation_num': '748', 'citation_code': 'TATSUMOTO,1966'}]}\n"
     ]
    }
   ],
   "source": [
    "#loopimg through dictionary to access all keys, values of Taxon\n",
    "\n",
    "for citation in data_access:\n",
    "    print(citation)"
   ]
  },
  {
   "cell_type": "code",
   "execution_count": 11,
   "metadata": {},
   "outputs": [
    {
     "data": {
      "text/plain": [
       "dict"
      ]
     },
     "execution_count": 11,
     "metadata": {},
     "output_type": "execute_result"
    }
   ],
   "source": [
    "type(citation)"
   ]
  },
  {
   "cell_type": "code",
   "execution_count": 12,
   "metadata": {},
   "outputs": [
    {
     "data": {
      "text/plain": [
       "[{'citation_num': '346', 'citation_code': 'SUBBARAO,1972'},\n",
       " {'citation_num': '201', 'citation_code': 'SUN,1980'},\n",
       " {'citation_num': '748', 'citation_code': 'TATSUMOTO,1966'}]"
      ]
     },
     "execution_count": 12,
     "metadata": {},
     "output_type": "execute_result"
    }
   ],
   "source": [
    "citation_access = citation['source']\n",
    "citation_access"
   ]
  },
  {
   "cell_type": "code",
   "execution_count": 13,
   "metadata": {},
   "outputs": [
    {
     "data": {
      "text/plain": [
       "list"
      ]
     },
     "execution_count": 13,
     "metadata": {},
     "output_type": "execute_result"
    }
   ],
   "source": [
    "type(citation_access)"
   ]
  },
  {
   "cell_type": "code",
   "execution_count": 14,
   "metadata": {},
   "outputs": [
    {
     "name": "stdout",
     "output_type": "stream",
     "text": [
      "{'citation_num': '346', 'citation_code': 'SUBBARAO,1972'}\n",
      "{'citation_num': '201', 'citation_code': 'SUN,1980'}\n",
      "{'citation_num': '748', 'citation_code': 'TATSUMOTO,1966'}\n"
     ]
    }
   ],
   "source": [
    "#loop to access all citation numbers and codes\n",
    "\n",
    "for citation_num_access in citation_access:\n",
    "    print(citation_num_access)"
   ]
  },
  {
   "cell_type": "code",
   "execution_count": 15,
   "metadata": {},
   "outputs": [
    {
     "data": {
      "text/plain": [
       "dict"
      ]
     },
     "execution_count": 15,
     "metadata": {},
     "output_type": "execute_result"
    }
   ],
   "source": [
    "type(citation_num_access)"
   ]
  },
  {
   "cell_type": "code",
   "execution_count": 16,
   "metadata": {},
   "outputs": [
    {
     "data": {
      "text/plain": [
       "'748'"
      ]
     },
     "execution_count": 16,
     "metadata": {},
     "output_type": "execute_result"
    }
   ],
   "source": [
    "citation_numbers = citation_num_access['citation_num']\n",
    "citation_numbers"
   ]
  },
  {
   "cell_type": "code",
   "execution_count": 17,
   "metadata": {},
   "outputs": [
    {
     "data": {
      "text/plain": [
       "'TATSUMOTO,1966'"
      ]
     },
     "execution_count": 17,
     "metadata": {},
     "output_type": "execute_result"
    }
   ],
   "source": [
    "citation_codes = citation_num_access['citation_code']\n",
    "citation_codes"
   ]
  },
  {
   "cell_type": "code",
   "execution_count": 62,
   "metadata": {},
   "outputs": [],
   "source": [
    "#function to get all citation numbers and append new records. All citation numbers are unique \n",
    "\n",
    "def get_citation_numbers():\n",
    "    global save_citation_numbers\n",
    "    data_access = response_data['data']['taxon']\n",
    "    for citation in data_access:\n",
    "        citation_access = citation['source']\n",
    "        for citation_num_access in citation_access:\n",
    "            citation_numbers = citation_num_access['citation_num']\n",
    "            save_citation_numbers.append(citation_numbers)\n",
    "        save_citation_numbers = list(set(save_citation_numbers))\n",
    "    \n",
    "            "
   ]
  },
  {
   "cell_type": "code",
   "execution_count": 63,
   "metadata": {},
   "outputs": [],
   "source": [
    "save_citation_numbers = []"
   ]
  },
  {
   "cell_type": "code",
   "execution_count": 64,
   "metadata": {},
   "outputs": [],
   "source": [
    "get_citation_numbers()\n"
   ]
  },
  {
   "cell_type": "code",
   "execution_count": 66,
   "metadata": {},
   "outputs": [
    {
     "name": "stdout",
     "output_type": "stream",
     "text": [
      "['385', '346', '348', '371', '388', '126', '157', '201', '215', '185', '350', '748']\n"
     ]
    }
   ],
   "source": [
    "print(save_citation_numbers)\n"
   ]
  },
  {
   "cell_type": "code",
   "execution_count": 92,
   "metadata": {},
   "outputs": [],
   "source": [
    "#function to get all citation codes and to append new records. All citations codes are unique\n",
    "\n",
    "def get_citation_codes():\n",
    "    global save_citation_codes\n",
    "    data_access = response_data['data']['taxon']\n",
    "    for citation in data_access:\n",
    "        citation_access = citation['source']\n",
    "        for citation_num_access in citation_access:\n",
    "            citation_codes = citation_num_access['citation_code']\n",
    "            save_citation_codes.append(citation_codes)\n",
    "        save_citation_codes = list(set(save_citation_codes))\n",
    "            "
   ]
  },
  {
   "cell_type": "code",
   "execution_count": 93,
   "metadata": {},
   "outputs": [],
   "source": [
    "save_citation_codes = []"
   ]
  },
  {
   "cell_type": "code",
   "execution_count": 94,
   "metadata": {},
   "outputs": [],
   "source": [
    "get_citation_codes()"
   ]
  },
  {
   "cell_type": "code",
   "execution_count": 95,
   "metadata": {},
   "outputs": [
    {
     "name": "stdout",
     "output_type": "stream",
     "text": [
      "['HART,1969', 'ENGEL,1965', 'TATSUMOTO,1966', 'PINEAU,1983', 'ENGEL,1964', 'KAY,1970', 'SUBBARAO,1972', 'PINEAU,1976', 'SUN,1980', 'HEDGE,1970', 'HART,1971', 'MACDOUGALL,1986']\n"
     ]
    }
   ],
   "source": [
    "print(save_citation_codes)"
   ]
  },
  {
   "cell_type": "code",
   "execution_count": 107,
   "metadata": {},
   "outputs": [],
   "source": [
    "#function to extract data for specimen_numbers and append any new record. All specimen numbers will be unique\n",
    "def get_specimen_numbers():\n",
    "    global save_specimen_numbers\n",
    "    specimen_numbers = response_data['data']['specimen_num']\n",
    "    save_specimen_numbers.append(specimen_numbers)\n",
    "    #save_specimen_numbers = list(set(specimen_numbers))\n",
    "    "
   ]
  },
  {
   "cell_type": "code",
   "execution_count": 108,
   "metadata": {},
   "outputs": [],
   "source": [
    "save_specimen_numbers = []"
   ]
  },
  {
   "cell_type": "code",
   "execution_count": 109,
   "metadata": {},
   "outputs": [],
   "source": [
    "get_specimen_numbers()"
   ]
  },
  {
   "cell_type": "code",
   "execution_count": 110,
   "metadata": {},
   "outputs": [
    {
     "name": "stdout",
     "output_type": "stream",
     "text": [
      "[33513]\n"
     ]
    }
   ],
   "source": [
    "print(save_specimen_numbers)"
   ]
  },
  {
   "cell_type": "code",
   "execution_count": null,
   "metadata": {},
   "outputs": [],
   "source": []
  },
  {
   "cell_type": "code",
   "execution_count": null,
   "metadata": {},
   "outputs": [],
   "source": []
  }
 ],
 "metadata": {
  "kernelspec": {
   "display_name": "Python 3",
   "language": "python",
   "name": "python3"
  },
  "language_info": {
   "codemirror_mode": {
    "name": "ipython",
    "version": 3
   },
   "file_extension": ".py",
   "mimetype": "text/x-python",
   "name": "python",
   "nbconvert_exporter": "python",
   "pygments_lexer": "ipython3",
   "version": "3.7.6"
  }
 },
 "nbformat": 4,
 "nbformat_minor": 4
}
