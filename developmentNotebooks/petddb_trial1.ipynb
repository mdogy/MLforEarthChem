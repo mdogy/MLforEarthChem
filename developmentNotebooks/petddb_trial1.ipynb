{
 "cells": [
  {
   "cell_type": "code",
   "execution_count": 1,
   "metadata": {},
   "outputs": [],
   "source": [
    "import numpy as np\n",
    "import pandas as pd\n",
    "import requests as reqs\n",
    "import matplotlib.pyplot as plt\n",
    "%matplotlib inline\n",
    "import json\n",
    "from pandas.io.json import json_normalize  \n"
   ]
  },
  {
   "cell_type": "code",
   "execution_count": 2,
   "metadata": {},
   "outputs": [],
   "source": [
    "Specimen_URL = r\"C:\\Users\\Tabahani\\Downloads\\datascience\\Housingdocuments\\specimen_summary_marine_only.csv\"\n",
    "petdb_url = 'https://ecapi.earthchem.org/specimen'\n",
    "example_sample = '33513'\n"
   ]
  },
  {
   "cell_type": "code",
   "execution_count": 3,
   "metadata": {},
   "outputs": [],
   "source": [
    "Specimen_id = pd.read_csv(Specimen_URL, low_memory=False)"
   ]
  },
  {
   "cell_type": "code",
   "execution_count": 4,
   "metadata": {},
   "outputs": [
    {
     "output_type": "execute_result",
     "data": {
      "text/plain": [
       "  specimen_num    specimen_code       igsn station_num station_code  \\\n",
       "0      26639.0  ABP0002-019-001        NaN        6585  ABP0002-019   \n",
       "1      26640.0  ABP0002-019-002  URI900886        6585  ABP0002-019   \n",
       "2      26641.0  ABP0002-021-001        NaN        6586  ABP0002-021   \n",
       "3      26642.0  ABP0002-021-010        NaN        6586  ABP0002-021   \n",
       "4      26643.0  ABP0002-021-012        NaN        6586  ABP0002-021   \n",
       "\n",
       "          geometry_text elevation_min elevation_max location_precisions  \\\n",
       "0  POINT(-13.94 -14.17)         -2940         -3620              {0.01}   \n",
       "1  POINT(-13.94 -14.17)         -2940         -3620              {0.01}   \n",
       "2  POINT(-23.26 -22.01)         -4770         -4900              {0.01}   \n",
       "3  POINT(-23.26 -22.01)         -4770         -4900              {0.01}   \n",
       "4  POINT(-23.26 -22.01)         -4770         -4900              {0.01}   \n",
       "\n",
       "                                 geographic_location  ... Unnamed: 388  \\\n",
       "0  {SPREADING_CENTER|MID-ATLANTIC RIDGE,OCEAN|ATL...  ...          NaN   \n",
       "1  {SPREADING_CENTER|MID-ATLANTIC RIDGE,OCEAN|ATL...  ...          NaN   \n",
       "2  {OCEAN|ATLANTIC,SPREADING_CENTER|MID-ATLANTIC ...  ...          NaN   \n",
       "3  {OCEAN|ATLANTIC,SPREADING_CENTER|MID-ATLANTIC ...  ...          NaN   \n",
       "4  {OCEAN|ATLANTIC,SPREADING_CENTER|MID-ATLANTIC ...  ...          NaN   \n",
       "\n",
       "  Unnamed: 389 Unnamed: 390 Unnamed: 391 Unnamed: 392 Unnamed: 393  \\\n",
       "0          NaN          NaN          NaN          NaN          NaN   \n",
       "1          NaN          NaN          NaN          NaN          NaN   \n",
       "2          NaN          NaN          NaN          NaN          NaN   \n",
       "3          NaN          NaN          NaN          NaN          NaN   \n",
       "4          NaN          NaN          NaN          NaN          NaN   \n",
       "\n",
       "  Unnamed: 394 Unnamed: 395 Unnamed: 396 Unnamed: 397  \n",
       "0          NaN          NaN          NaN          NaN  \n",
       "1          NaN          NaN          NaN          NaN  \n",
       "2          NaN          NaN          NaN          NaN  \n",
       "3          NaN          NaN          NaN          NaN  \n",
       "4          NaN          NaN          NaN          NaN  \n",
       "\n",
       "[5 rows x 398 columns]"
      ],
      "text/html": "<div>\n<style scoped>\n    .dataframe tbody tr th:only-of-type {\n        vertical-align: middle;\n    }\n\n    .dataframe tbody tr th {\n        vertical-align: top;\n    }\n\n    .dataframe thead th {\n        text-align: right;\n    }\n</style>\n<table border=\"1\" class=\"dataframe\">\n  <thead>\n    <tr style=\"text-align: right;\">\n      <th></th>\n      <th>specimen_num</th>\n      <th>specimen_code</th>\n      <th>igsn</th>\n      <th>station_num</th>\n      <th>station_code</th>\n      <th>geometry_text</th>\n      <th>elevation_min</th>\n      <th>elevation_max</th>\n      <th>location_precisions</th>\n      <th>geographic_location</th>\n      <th>...</th>\n      <th>Unnamed: 388</th>\n      <th>Unnamed: 389</th>\n      <th>Unnamed: 390</th>\n      <th>Unnamed: 391</th>\n      <th>Unnamed: 392</th>\n      <th>Unnamed: 393</th>\n      <th>Unnamed: 394</th>\n      <th>Unnamed: 395</th>\n      <th>Unnamed: 396</th>\n      <th>Unnamed: 397</th>\n    </tr>\n  </thead>\n  <tbody>\n    <tr>\n      <th>0</th>\n      <td>26639.0</td>\n      <td>ABP0002-019-001</td>\n      <td>NaN</td>\n      <td>6585</td>\n      <td>ABP0002-019</td>\n      <td>POINT(-13.94 -14.17)</td>\n      <td>-2940</td>\n      <td>-3620</td>\n      <td>{0.01}</td>\n      <td>{SPREADING_CENTER|MID-ATLANTIC RIDGE,OCEAN|ATL...</td>\n      <td>...</td>\n      <td>NaN</td>\n      <td>NaN</td>\n      <td>NaN</td>\n      <td>NaN</td>\n      <td>NaN</td>\n      <td>NaN</td>\n      <td>NaN</td>\n      <td>NaN</td>\n      <td>NaN</td>\n      <td>NaN</td>\n    </tr>\n    <tr>\n      <th>1</th>\n      <td>26640.0</td>\n      <td>ABP0002-019-002</td>\n      <td>URI900886</td>\n      <td>6585</td>\n      <td>ABP0002-019</td>\n      <td>POINT(-13.94 -14.17)</td>\n      <td>-2940</td>\n      <td>-3620</td>\n      <td>{0.01}</td>\n      <td>{SPREADING_CENTER|MID-ATLANTIC RIDGE,OCEAN|ATL...</td>\n      <td>...</td>\n      <td>NaN</td>\n      <td>NaN</td>\n      <td>NaN</td>\n      <td>NaN</td>\n      <td>NaN</td>\n      <td>NaN</td>\n      <td>NaN</td>\n      <td>NaN</td>\n      <td>NaN</td>\n      <td>NaN</td>\n    </tr>\n    <tr>\n      <th>2</th>\n      <td>26641.0</td>\n      <td>ABP0002-021-001</td>\n      <td>NaN</td>\n      <td>6586</td>\n      <td>ABP0002-021</td>\n      <td>POINT(-23.26 -22.01)</td>\n      <td>-4770</td>\n      <td>-4900</td>\n      <td>{0.01}</td>\n      <td>{OCEAN|ATLANTIC,SPREADING_CENTER|MID-ATLANTIC ...</td>\n      <td>...</td>\n      <td>NaN</td>\n      <td>NaN</td>\n      <td>NaN</td>\n      <td>NaN</td>\n      <td>NaN</td>\n      <td>NaN</td>\n      <td>NaN</td>\n      <td>NaN</td>\n      <td>NaN</td>\n      <td>NaN</td>\n    </tr>\n    <tr>\n      <th>3</th>\n      <td>26642.0</td>\n      <td>ABP0002-021-010</td>\n      <td>NaN</td>\n      <td>6586</td>\n      <td>ABP0002-021</td>\n      <td>POINT(-23.26 -22.01)</td>\n      <td>-4770</td>\n      <td>-4900</td>\n      <td>{0.01}</td>\n      <td>{OCEAN|ATLANTIC,SPREADING_CENTER|MID-ATLANTIC ...</td>\n      <td>...</td>\n      <td>NaN</td>\n      <td>NaN</td>\n      <td>NaN</td>\n      <td>NaN</td>\n      <td>NaN</td>\n      <td>NaN</td>\n      <td>NaN</td>\n      <td>NaN</td>\n      <td>NaN</td>\n      <td>NaN</td>\n    </tr>\n    <tr>\n      <th>4</th>\n      <td>26643.0</td>\n      <td>ABP0002-021-012</td>\n      <td>NaN</td>\n      <td>6586</td>\n      <td>ABP0002-021</td>\n      <td>POINT(-23.26 -22.01)</td>\n      <td>-4770</td>\n      <td>-4900</td>\n      <td>{0.01}</td>\n      <td>{OCEAN|ATLANTIC,SPREADING_CENTER|MID-ATLANTIC ...</td>\n      <td>...</td>\n      <td>NaN</td>\n      <td>NaN</td>\n      <td>NaN</td>\n      <td>NaN</td>\n      <td>NaN</td>\n      <td>NaN</td>\n      <td>NaN</td>\n      <td>NaN</td>\n      <td>NaN</td>\n      <td>NaN</td>\n    </tr>\n  </tbody>\n</table>\n<p>5 rows × 398 columns</p>\n</div>"
     },
     "metadata": {},
     "execution_count": 4
    }
   ],
   "source": [
    "Specimen_id['specimen_num'] = Specimen_id['specimen_num'].astype(str)\n",
    "Specimen_id.head()"
   ]
  },
  {
   "cell_type": "code",
   "execution_count": 5,
   "metadata": {},
   "outputs": [],
   "source": [
    "rq = reqs.get(petdb_url+'/'+example_sample,verify=False)"
   ]
  },
  {
   "cell_type": "code",
   "execution_count": 6,
   "metadata": {},
   "outputs": [
    {
     "output_type": "stream",
     "name": "stdout",
     "text": [
      "{'count': 1, 'data': {'specimen_num': 33513, 'specimen_code': 'ARGAMPH-001', 'igsn': 'N/A', 'archive_institution': None, 'specimen_material': 'ROCK', 'taxon': [{'rock_type': 'igneous:volcanic:mafic', 'rock_class': 'BASALT', 'source': [{'citation_num': '215', 'citation_code': 'ENGEL,1964'}, {'citation_num': '126', 'citation_code': 'ENGEL,1965'}, {'citation_num': '350', 'citation_code': 'HART,1969'}, {'citation_num': '371', 'citation_code': 'HART,1971'}, {'citation_num': '348', 'citation_code': 'HEDGE,1970'}, {'citation_num': '185', 'citation_code': 'KAY,1970'}, {'citation_num': '388', 'citation_code': 'MACDOUGALL,1986'}, {'citation_num': '385', 'citation_code': 'PINEAU,1976'}, {'citation_num': '157', 'citation_code': 'PINEAU,1983'}]}, {'rock_type': 'igneous:volcanic:mafic', 'rock_class': 'THOLEIITE', 'source': [{'citation_num': '346', 'citation_code': 'SUBBARAO,1972'}, {'citation_num': '201', 'citation_code': 'SUN,1980'}, {'citation_num': '748', 'citation_code': 'TATSUMOTO,1966'}]}], 'rock_class_details': [{'rock_class_detail': 'HIGH-AL THOLEIITE', 'source': [{'citation_num': '385', 'citation_code': 'PINEAU, 1976'}]}], 'specimen_names': [{'specimen_name': 'AMPH1D', 'source': [{'citation_num': '385', 'citation_code': 'PINEAU, 1976'}]}, {'specimen_name': 'AMPH-1D', 'source': [{'citation_num': '157', 'citation_code': 'PINEAU, 1983'}]}, {'specimen_name': 'AMPH 1-PDIP', 'source': [{'citation_num': '371', 'citation_code': 'HART, 1971'}]}, {'specimen_name': 'AMPH D1', 'source': [{'citation_num': '185', 'citation_code': 'KAY, 1970'}]}, {'specimen_name': 'AMPH-D1', 'source': [{'citation_num': '388', 'citation_code': 'MACDOUGALL, 1986'}]}, {'specimen_name': 'AMPH D-1', 'source': [{'citation_num': '201', 'citation_code': 'SUN, 1980'}]}, {'specimen_name': 'AMPH PD1-P', 'source': [{'citation_num': '350', 'citation_code': 'HART, 1969'}]}, {'specimen_name': 'D1', 'source': [{'citation_num': '215', 'citation_code': 'ENGEL, 1964'}]}, {'specimen_name': 'PD-1', 'source': [{'citation_num': '348', 'citation_code': 'HEDGE, 1970'}]}, {'specimen_name': 'PD1', 'source': [{'citation_num': '748', 'citation_code': 'TATSUMOTO, 1966'}]}, {'specimen_name': 'PV D-1', 'source': [{'citation_num': '126', 'citation_code': 'ENGEL, 1965'}]}, {'specimen_name': 'S-9', 'source': [{'citation_num': '346', 'citation_code': 'SUBBARAO, 1972'}]}], 'specimen_comments': [], 'alterations': [{'alteration': 'FRESH', 'source': [{'citation_num': '350', 'citation_code': 'HART, 1969'}, {'citation_num': '388', 'citation_code': 'MACDOUGALL, 1986'}]}], 'rock_textures': [{'rock_texture': 'FINE-GRAINED PORPHYRITIC BASALT; CA. 30% PLAG PC (AN80)', 'source': [{'citation_num': '201', 'citation_code': 'SUN, 1980'}]}, {'rock_texture': 'FINE-GRAINED, PORPHYRITIC; CA. 30% PLAG PC (AN80)', 'source': [{'citation_num': '185', 'citation_code': 'KAY, 1970'}]}, {'rock_texture': 'GLASSY BASALT WITH CA. 25% PLAG PC UP TO 0.7CM', 'source': [{'citation_num': '350', 'citation_code': 'HART, 1969'}]}, {'rock_texture': 'PORPHYRITIC WITH GLASSY TO MICROCRYSTALLINE GM', 'source': [{'citation_num': '215', 'citation_code': 'ENGEL, 1964'}]}], 'geological_ages': [], 'station_num': 2537, 'station_code': 'ARGAMPH-001', 'lat_label': '7.83°S', 'long_label': '108.13°W', 'points': [{'latitude': -7.83, 'longitude': -108.13, 'text': '7.83°S/108.13°W'}], 'centerLat': -7.83, 'centerLong': -108.13, 'elevation_min': -2952, 'elevation_max': -2952, 'location_precisions': ['0.01'], 'geographic_location': ['OCEAN|PACIFIC', 'SPREADING_CENTER|EAST PACIFIC RISE'], 'tectonic_settings': ['SPREADING_CENTER'], 'expedition_num': 321, 'expedition_code': 'ARGAMPH', 'sampling_technique_code': None, 'sampling_technique_name': None, 'analyzed_samples': ['ARGAMPH-001-27579', 'ARGAMPH-001-27773', 'ARGAMPH-001-29056', 'ARGAMPH-001-29057', 'ARGAMPH-001-29100', 'ARGAMPH-001-32604', 'ARGAMPH-001-32605', 'ARGAMPH-001-32941', 'ARGAMPH-001-32942', 'ARGAMPH-001-42816', 'ARGAMPH-001-42817', 'ARGAMPH-001-42845', 'ARGAMPH-001-42864', 'ARGAMPH-001-630956', 'ARGAMPH-001-63749', 'ARGAMPH-001-63750', 'ARGAMPH-001-63751', 'ARGAMPH-001-63752', 'ARGAMPH-001-65797', 'ARGAMPH-001-67732', 'ARGAMPH-001-69456', 'ARGAMPH-001-69457', 'ARGAMPH-001-83542', 'ARGAMPH-001-95110']}}\n"
     ]
    }
   ],
   "source": [
    "response_data = rq.json()\n",
    "print(response_data)"
   ]
  },
  {
   "cell_type": "code",
   "execution_count": 7,
   "metadata": {},
   "outputs": [
    {
     "output_type": "execute_result",
     "data": {
      "text/plain": [
       "(33513,\n",
       " [{'rock_type': 'igneous:volcanic:mafic',\n",
       "   'rock_class': 'BASALT',\n",
       "   'source': [{'citation_num': '215', 'citation_code': 'ENGEL,1964'},\n",
       "    {'citation_num': '126', 'citation_code': 'ENGEL,1965'},\n",
       "    {'citation_num': '350', 'citation_code': 'HART,1969'},\n",
       "    {'citation_num': '371', 'citation_code': 'HART,1971'},\n",
       "    {'citation_num': '348', 'citation_code': 'HEDGE,1970'},\n",
       "    {'citation_num': '185', 'citation_code': 'KAY,1970'},\n",
       "    {'citation_num': '388', 'citation_code': 'MACDOUGALL,1986'},\n",
       "    {'citation_num': '385', 'citation_code': 'PINEAU,1976'},\n",
       "    {'citation_num': '157', 'citation_code': 'PINEAU,1983'}]},\n",
       "  {'rock_type': 'igneous:volcanic:mafic',\n",
       "   'rock_class': 'THOLEIITE',\n",
       "   'source': [{'citation_num': '346', 'citation_code': 'SUBBARAO,1972'},\n",
       "    {'citation_num': '201', 'citation_code': 'SUN,1980'},\n",
       "    {'citation_num': '748', 'citation_code': 'TATSUMOTO,1966'}]}])"
      ]
     },
     "metadata": {},
     "execution_count": 7
    }
   ],
   "source": [
    "#specimen_numbers = []\n",
    "\n",
    "results = response_data['data']['specimen_num'], response_data['data']['taxon']\n",
    "results\n",
    "# results_dataFrame = pd.DataFrame.from_dict(json_normalize(results))\n"
   ]
  },
  {
   "cell_type": "code",
   "execution_count": 8,
   "metadata": {},
   "outputs": [
    {
     "output_type": "stream",
     "name": "stdout",
     "text": [
      "33513 [{'rock_type': 'igneous:volcanic:mafic', 'rock_class': 'BASALT', 'source': [{'citation_num': '215', 'citation_code': 'ENGEL,1964'}, {'citation_num': '126', 'citation_code': 'ENGEL,1965'}, {'citation_num': '350', 'citation_code': 'HART,1969'}, {'citation_num': '371', 'citation_code': 'HART,1971'}, {'citation_num': '348', 'citation_code': 'HEDGE,1970'}, {'citation_num': '185', 'citation_code': 'KAY,1970'}, {'citation_num': '388', 'citation_code': 'MACDOUGALL,1986'}, {'citation_num': '385', 'citation_code': 'PINEAU,1976'}, {'citation_num': '157', 'citation_code': 'PINEAU,1983'}]}, {'rock_type': 'igneous:volcanic:mafic', 'rock_class': 'THOLEIITE', 'source': [{'citation_num': '346', 'citation_code': 'SUBBARAO,1972'}, {'citation_num': '201', 'citation_code': 'SUN,1980'}, {'citation_num': '748', 'citation_code': 'TATSUMOTO,1966'}]}]\n"
     ]
    }
   ],
   "source": [
    "results = response_data['data']['specimen_num']\n",
    "results1 = response_data['data']['taxon']\n",
    "print(results, results1)\n",
    "\n",
    "#con = pd.concat(results, results1)"
   ]
  },
  {
   "cell_type": "code",
   "execution_count": 32,
   "metadata": {},
   "outputs": [
    {
     "output_type": "stream",
     "name": "stdout",
     "text": [
      "[0]\n"
     ]
    }
   ],
   "source": [
    "df1= pd.DataFrame.from_dict(json_normalize(response_data['data']), orient='columns')\n",
    "df1\n"
   ]
  },
  {
   "cell_type": "code",
   "execution_count": 10,
   "metadata": {},
   "outputs": [],
   "source": [
    "#df = pd.DataFrame.from_dict(json_normalize(response_data['data']['taxon']), orient='columns')\n",
    "#df\n",
    "#df_1=pd.DataFrame(dict([(k,pd.Series(v)) for k,v in response_data['data'].items()]))\n",
    "#pd.json_normalize(json.loads(df_1.to_json(orient=\"records\")))\n"
   ]
  },
  {
   "cell_type": "code",
   "execution_count": 11,
   "metadata": {},
   "outputs": [],
   "source": [
    "#df1.explode('taxon')"
   ]
  },
  {
   "cell_type": "code",
   "execution_count": 12,
   "metadata": {},
   "outputs": [
    {
     "output_type": "execute_result",
     "data": {
      "text/plain": [
       "              0.rock_type 0.rock_class  \\\n",
       "0  igneous:volcanic:mafic       BASALT   \n",
       "\n",
       "                                            0.source             1.rock_type  \\\n",
       "0  [{'citation_num': '215', 'citation_code': 'ENG...  igneous:volcanic:mafic   \n",
       "\n",
       "  1.rock_class                                           1.source  \n",
       "0    THOLEIITE  [{'citation_num': '346', 'citation_code': 'SUB...  "
      ],
      "text/html": "<div>\n<style scoped>\n    .dataframe tbody tr th:only-of-type {\n        vertical-align: middle;\n    }\n\n    .dataframe tbody tr th {\n        vertical-align: top;\n    }\n\n    .dataframe thead th {\n        text-align: right;\n    }\n</style>\n<table border=\"1\" class=\"dataframe\">\n  <thead>\n    <tr style=\"text-align: right;\">\n      <th></th>\n      <th>0.rock_type</th>\n      <th>0.rock_class</th>\n      <th>0.source</th>\n      <th>1.rock_type</th>\n      <th>1.rock_class</th>\n      <th>1.source</th>\n    </tr>\n  </thead>\n  <tbody>\n    <tr>\n      <th>0</th>\n      <td>igneous:volcanic:mafic</td>\n      <td>BASALT</td>\n      <td>[{'citation_num': '215', 'citation_code': 'ENG...</td>\n      <td>igneous:volcanic:mafic</td>\n      <td>THOLEIITE</td>\n      <td>[{'citation_num': '346', 'citation_code': 'SUB...</td>\n    </tr>\n  </tbody>\n</table>\n</div>"
     },
     "metadata": {},
     "execution_count": 12
    }
   ],
   "source": [
    "nn = df1['taxon'].apply(pd.Series)\n",
    "json_stru=json.loads(nn.to_json(orient='records'))\n",
    "new_df = pd.json_normalize(json_stru)\n",
    "new_df"
   ]
  },
  {
   "cell_type": "code",
   "execution_count": 13,
   "metadata": {},
   "outputs": [
    {
     "output_type": "execute_result",
     "data": {
      "text/plain": [
       "                rock_type rock_class  \\\n",
       "0  igneous:volcanic:mafic     BASALT   \n",
       "0  igneous:volcanic:mafic     BASALT   \n",
       "0  igneous:volcanic:mafic     BASALT   \n",
       "0  igneous:volcanic:mafic     BASALT   \n",
       "0  igneous:volcanic:mafic     BASALT   \n",
       "0  igneous:volcanic:mafic     BASALT   \n",
       "0  igneous:volcanic:mafic     BASALT   \n",
       "0  igneous:volcanic:mafic     BASALT   \n",
       "0  igneous:volcanic:mafic     BASALT   \n",
       "1  igneous:volcanic:mafic  THOLEIITE   \n",
       "1  igneous:volcanic:mafic  THOLEIITE   \n",
       "1  igneous:volcanic:mafic  THOLEIITE   \n",
       "\n",
       "                                              source  \n",
       "0  {'citation_num': '215', 'citation_code': 'ENGE...  \n",
       "0  {'citation_num': '126', 'citation_code': 'ENGE...  \n",
       "0  {'citation_num': '350', 'citation_code': 'HART...  \n",
       "0  {'citation_num': '371', 'citation_code': 'HART...  \n",
       "0  {'citation_num': '348', 'citation_code': 'HEDG...  \n",
       "0  {'citation_num': '185', 'citation_code': 'KAY,...  \n",
       "0  {'citation_num': '388', 'citation_code': 'MACD...  \n",
       "0  {'citation_num': '385', 'citation_code': 'PINE...  \n",
       "0  {'citation_num': '157', 'citation_code': 'PINE...  \n",
       "1  {'citation_num': '346', 'citation_code': 'SUBB...  \n",
       "1  {'citation_num': '201', 'citation_code': 'SUN,...  \n",
       "1  {'citation_num': '748', 'citation_code': 'TATS...  "
      ],
      "text/html": "<div>\n<style scoped>\n    .dataframe tbody tr th:only-of-type {\n        vertical-align: middle;\n    }\n\n    .dataframe tbody tr th {\n        vertical-align: top;\n    }\n\n    .dataframe thead th {\n        text-align: right;\n    }\n</style>\n<table border=\"1\" class=\"dataframe\">\n  <thead>\n    <tr style=\"text-align: right;\">\n      <th></th>\n      <th>rock_type</th>\n      <th>rock_class</th>\n      <th>source</th>\n    </tr>\n  </thead>\n  <tbody>\n    <tr>\n      <th>0</th>\n      <td>igneous:volcanic:mafic</td>\n      <td>BASALT</td>\n      <td>{'citation_num': '215', 'citation_code': 'ENGE...</td>\n    </tr>\n    <tr>\n      <th>0</th>\n      <td>igneous:volcanic:mafic</td>\n      <td>BASALT</td>\n      <td>{'citation_num': '126', 'citation_code': 'ENGE...</td>\n    </tr>\n    <tr>\n      <th>0</th>\n      <td>igneous:volcanic:mafic</td>\n      <td>BASALT</td>\n      <td>{'citation_num': '350', 'citation_code': 'HART...</td>\n    </tr>\n    <tr>\n      <th>0</th>\n      <td>igneous:volcanic:mafic</td>\n      <td>BASALT</td>\n      <td>{'citation_num': '371', 'citation_code': 'HART...</td>\n    </tr>\n    <tr>\n      <th>0</th>\n      <td>igneous:volcanic:mafic</td>\n      <td>BASALT</td>\n      <td>{'citation_num': '348', 'citation_code': 'HEDG...</td>\n    </tr>\n    <tr>\n      <th>0</th>\n      <td>igneous:volcanic:mafic</td>\n      <td>BASALT</td>\n      <td>{'citation_num': '185', 'citation_code': 'KAY,...</td>\n    </tr>\n    <tr>\n      <th>0</th>\n      <td>igneous:volcanic:mafic</td>\n      <td>BASALT</td>\n      <td>{'citation_num': '388', 'citation_code': 'MACD...</td>\n    </tr>\n    <tr>\n      <th>0</th>\n      <td>igneous:volcanic:mafic</td>\n      <td>BASALT</td>\n      <td>{'citation_num': '385', 'citation_code': 'PINE...</td>\n    </tr>\n    <tr>\n      <th>0</th>\n      <td>igneous:volcanic:mafic</td>\n      <td>BASALT</td>\n      <td>{'citation_num': '157', 'citation_code': 'PINE...</td>\n    </tr>\n    <tr>\n      <th>1</th>\n      <td>igneous:volcanic:mafic</td>\n      <td>THOLEIITE</td>\n      <td>{'citation_num': '346', 'citation_code': 'SUBB...</td>\n    </tr>\n    <tr>\n      <th>1</th>\n      <td>igneous:volcanic:mafic</td>\n      <td>THOLEIITE</td>\n      <td>{'citation_num': '201', 'citation_code': 'SUN,...</td>\n    </tr>\n    <tr>\n      <th>1</th>\n      <td>igneous:volcanic:mafic</td>\n      <td>THOLEIITE</td>\n      <td>{'citation_num': '748', 'citation_code': 'TATS...</td>\n    </tr>\n  </tbody>\n</table>\n</div>"
     },
     "metadata": {},
     "execution_count": 13
    }
   ],
   "source": [
    "df = pd.DataFrame.from_dict(json_normalize(response_data['data']['taxon']), orient='columns')\n",
    "pd.json_normalize(json.loads(df.to_json(orient=\"records\")))\n",
    "df_explode = df.explode('source')\n",
    "df_explode"
   ]
  },
  {
   "cell_type": "code",
   "execution_count": 14,
   "metadata": {},
   "outputs": [
    {
     "output_type": "execute_result",
     "data": {
      "text/plain": [
       "   citation_num    citation_code\n",
       "0           215       ENGEL,1964\n",
       "1           126       ENGEL,1965\n",
       "2           350        HART,1969\n",
       "3           371        HART,1971\n",
       "4           348       HEDGE,1970\n",
       "5           185         KAY,1970\n",
       "6           388  MACDOUGALL,1986\n",
       "7           385      PINEAU,1976\n",
       "8           157      PINEAU,1983\n",
       "9           346    SUBBARAO,1972\n",
       "10          201         SUN,1980\n",
       "11          748   TATSUMOTO,1966"
      ],
      "text/html": "<div>\n<style scoped>\n    .dataframe tbody tr th:only-of-type {\n        vertical-align: middle;\n    }\n\n    .dataframe tbody tr th {\n        vertical-align: top;\n    }\n\n    .dataframe thead th {\n        text-align: right;\n    }\n</style>\n<table border=\"1\" class=\"dataframe\">\n  <thead>\n    <tr style=\"text-align: right;\">\n      <th></th>\n      <th>citation_num</th>\n      <th>citation_code</th>\n    </tr>\n  </thead>\n  <tbody>\n    <tr>\n      <th>0</th>\n      <td>215</td>\n      <td>ENGEL,1964</td>\n    </tr>\n    <tr>\n      <th>1</th>\n      <td>126</td>\n      <td>ENGEL,1965</td>\n    </tr>\n    <tr>\n      <th>2</th>\n      <td>350</td>\n      <td>HART,1969</td>\n    </tr>\n    <tr>\n      <th>3</th>\n      <td>371</td>\n      <td>HART,1971</td>\n    </tr>\n    <tr>\n      <th>4</th>\n      <td>348</td>\n      <td>HEDGE,1970</td>\n    </tr>\n    <tr>\n      <th>5</th>\n      <td>185</td>\n      <td>KAY,1970</td>\n    </tr>\n    <tr>\n      <th>6</th>\n      <td>388</td>\n      <td>MACDOUGALL,1986</td>\n    </tr>\n    <tr>\n      <th>7</th>\n      <td>385</td>\n      <td>PINEAU,1976</td>\n    </tr>\n    <tr>\n      <th>8</th>\n      <td>157</td>\n      <td>PINEAU,1983</td>\n    </tr>\n    <tr>\n      <th>9</th>\n      <td>346</td>\n      <td>SUBBARAO,1972</td>\n    </tr>\n    <tr>\n      <th>10</th>\n      <td>201</td>\n      <td>SUN,1980</td>\n    </tr>\n    <tr>\n      <th>11</th>\n      <td>748</td>\n      <td>TATSUMOTO,1966</td>\n    </tr>\n  </tbody>\n</table>\n</div>"
     },
     "metadata": {},
     "execution_count": 14
    }
   ],
   "source": [
    "pd.json_normalize(df_explode['source'])\n",
    "\n",
    "\n",
    "#df_1=pd.DataFrame(dict([ (k,pd.Series(v)) for k,v in response_data['data'].items() ]))\n",
    "\n",
    "#pd.json_normalize(json.loads(df_1.to_json(orient=\"records\")))"
   ]
  },
  {
   "cell_type": "code",
   "execution_count": null,
   "metadata": {},
   "outputs": [],
   "source": []
  },
  {
   "cell_type": "markdown",
   "metadata": {},
   "source": [
    "Data Wrangling Progress\n",
    "\n",
    "I have worked on and am still working on parsing the data so that i have two columns(specimen_num, Citation_num), each row would have a unique specimen_num. I managed to get a dataframe with the citation_number column separated from the other columns. I tried concatinating that with the specimen_num column, but keep getting a type_error message (i will continue working on fixing that issue). I will also try to get all the data(citation numbers) for the specific specimen_num to fit in one row, compared to 11 rows as shown above. \n",
    "\n",
    "I also rather suspect that i may have to eventually write functions to normalize and explode (pandas) for all the dictionaries and lists in every column, not just taxon ???\n"
   ]
  },
  {
   "cell_type": "code",
   "execution_count": null,
   "metadata": {},
   "outputs": [],
   "source": []
  },
  {
   "cell_type": "code",
   "execution_count": 50,
   "metadata": {},
   "outputs": [
    {
     "output_type": "stream",
     "name": "stdout",
     "text": [
      "0\n{'rock_type': 'igneous:volcanic:mafic', 'rock_class': 'BASALT', 'source': [{'citation_num': '215', 'citation_code': 'ENGEL,1964'}, {'citation_num': '126', 'citation_code': 'ENGEL,1965'}, {'citation_num': '350', 'citation_code': 'HART,1969'}, {'citation_num': '371', 'citation_code': 'HART,1971'}, {'citation_num': '348', 'citation_code': 'HEDGE,1970'}, {'citation_num': '185', 'citation_code': 'KAY,1970'}, {'citation_num': '388', 'citation_code': 'MACDOUGALL,1986'}, {'citation_num': '385', 'citation_code': 'PINEAU,1976'}, {'citation_num': '157', 'citation_code': 'PINEAU,1983'}]}\n\n\n{'rock_type': 'igneous:volcanic:mafic', 'rock_class': 'THOLEIITE', 'source': [{'citation_num': '346', 'citation_code': 'SUBBARAO,1972'}, {'citation_num': '201', 'citation_code': 'SUN,1980'}, {'citation_num': '748', 'citation_code': 'TATSUMOTO,1966'}]}\n\n\n[{'specimen_name': 'AMPH1D', 'source': [{'citation_num': '385', 'citation_code': 'PINEAU, 1976'}]}, {'specimen_name': 'AMPH-1D', 'source': [{'citation_num': '157', 'citation_code': 'PINEAU, 1983'}]}, {'specimen_name': 'AMPH 1-PDIP', 'source': [{'citation_num': '371', 'citation_code': 'HART, 1971'}]}, {'specimen_name': 'AMPH D1', 'source': [{'citation_num': '185', 'citation_code': 'KAY, 1970'}]}, {'specimen_name': 'AMPH-D1', 'source': [{'citation_num': '388', 'citation_code': 'MACDOUGALL, 1986'}]}, {'specimen_name': 'AMPH D-1', 'source': [{'citation_num': '201', 'citation_code': 'SUN, 1980'}]}, {'specimen_name': 'AMPH PD1-P', 'source': [{'citation_num': '350', 'citation_code': 'HART, 1969'}]}, {'specimen_name': 'D1', 'source': [{'citation_num': '215', 'citation_code': 'ENGEL, 1964'}]}, {'specimen_name': 'PD-1', 'source': [{'citation_num': '348', 'citation_code': 'HEDGE, 1970'}]}, {'specimen_name': 'PD1', 'source': [{'citation_num': '748', 'citation_code': 'TATSUMOTO, 1966'}]}, {'specimen_name': 'PV D-1', 'source': [{'citation_num': '126', 'citation_code': 'ENGEL, 1965'}]}, {'specimen_name': 'S-9', 'source': [{'citation_num': '346', 'citation_code': 'SUBBARAO, 1972'}]}]\n"
     ]
    }
   ],
   "source": [
    "columns = ['specimen_num','citation_num', 'citation_code','specimen_code','igsn','archive_institution','specimen_material','taxon','taxon_rock_type', 'taxon_rock_class','rock_class_detail','rock_class_details','specimen_names','specimen_name','specimen_comments','specimen_comment','alteration','alterations','rock_textures','rock_texture','geological_ages','geological_ages__prefix','geological_ages__age','geological_ages__min','geological_ages__max','points_latitude','points_longitude','points_text','station_num', 'station_code','lat_label', 'long_label','points','centerLat','centerLong', 'elevation_min','elevation_max','location_precisions','geographic_location','tectonic_settings','expedition_num','expedition_code','sampling_technique_code','sampling_technique_name','analyzed_samples']\n",
    "dataFrameDict = {}\n",
    "\n",
    "#ini dict for pandas \n",
    "for key in columns:\n",
    "    dataFrameDict[key] = []\n",
    "\n",
    "for index, row in df1.iterrows():\n",
    "    print(index)\n",
    "    for column in columns:\n",
    "        if column not in df1.columns:\n",
    "            # print(column)\n",
    "            pass\n",
    "        elif column == 'rock_class_details' or column == 'alterations' or column == 'specimen_comments':\n",
    "            if len(row[column]) != 0:\n",
    "                if column == 'rock_class_details':\n",
    "                    dataFrameDict['rock_class_detail'].append(row[column][0]['rock_class_detail'])\n",
    "                elif column == 'alterations':\n",
    "                    dataFrameDict['alteration'].append(row[column][0]['alteration'])\n",
    "                elif column == 'specimen_comments':\n",
    "                    dataFrameDict['specimen_comment'].append(row[column][0]['comment'])\n",
    "            else:\n",
    "                if column == 'rock_class_details':\n",
    "                    dataFrameDict['rock_class_detail'].append('None')\n",
    "                elif column == 'alterations':\n",
    "                    dataFrameDict['alteration'].append('None')\n",
    "                elif column == 'specimen_comments':\n",
    "                    dataFrameDict['specimen_comment'].append('None')\n",
    "        elif column == 'points':\n",
    "            if len(row[column]) > 0 :\n",
    "                dataFrameDict['points_latitude'].append(row[column][0]['latitude'])\n",
    "                dataFrameDict['points_longitude'].append(row[column][0]['longitude'])\n",
    "                dataFrameDict['points_text'].append(row[column][0]['text'])\n",
    "        elif column == 'geological_ages':\n",
    "            if len(row[column])>0:\n",
    "                dataFrameDict['geological_ages__prefix'].append(row[column][0]['prefix'])\n",
    "                dataFrameDict['geological_ages__age'].append(row[column][0]['age'])\n",
    "                dataFrameDict['geological_ages__min'].append(row[column][0]['age_min'])\n",
    "                dataFrameDict['geological_ages__max'].append(row[column][0]['age_max'])\n",
    "        elif column == 'specimen_names':\n",
    "         \n",
    "            print(row[column])\n",
    "            # print(len(row[column]))\n",
    "            # dataFrameDict['specimen_name'].append(row[column]['specimen_name'])\n",
    "            # dataFrameDict[column].append(row[column])\n",
    "        elif column == 'taxon':\n",
    "    \n",
    "            for item in row[column]:\n",
    "                print(item)\n",
    "                print('\\n')\n",
    "            # print(len(row[column]))\n",
    "            # dataFrameDict['citation_num'].append(row[column]['source']['citation_num'])\n",
    "            # dataFrameDict['citation_code'].append(row[column]['source']['citation_code'])\n",
    "            # dataFrameDict['taxon_rock_class'].append(row[column][0]['rock_class'])\n",
    "            # dataFrameDict['taxon_rock_type'].append(row[column][0]['rock_type'])\n",
    "        else:\n",
    "            dataFrameDict[column].append(row[column])\n",
    "\n",
    "# print(dataFrameDict)\n",
    "# df_from_stuff = pd.DataFrame(data=dataFrameDict)\n",
    "# df_from_stuff"
   ]
  },
  {
   "cell_type": "code",
   "execution_count": null,
   "metadata": {},
   "outputs": [],
   "source": []
  }
 ],
 "metadata": {
  "kernelspec": {
   "name": "python3",
   "display_name": "Python 3.8.1 64-bit",
   "metadata": {
    "interpreter": {
     "hash": "1baa965d5efe3ac65b79dfc60c0d706280b1da80fedb7760faf2759126c4f253"
    }
   }
  },
  "language_info": {
   "codemirror_mode": {
    "name": "ipython",
    "version": 3
   },
   "file_extension": ".py",
   "mimetype": "text/x-python",
   "name": "python",
   "nbconvert_exporter": "python",
   "pygments_lexer": "ipython3",
   "version": "3.8.1-final"
  }
 },
 "nbformat": 4,
 "nbformat_minor": 4
}