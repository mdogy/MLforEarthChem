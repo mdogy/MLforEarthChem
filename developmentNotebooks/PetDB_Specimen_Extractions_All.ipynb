{
 "cells": [
  {
   "cell_type": "code",
   "execution_count": 1,
   "metadata": {},
   "outputs": [],
   "source": [
    "import numpy as np\n",
    "import pandas as pd\n",
    "import requests as reqs\n",
    "import matplotlib.pyplot as plt\n",
    "%matplotlib inline\n",
    "import json\n",
    "from pandas.io.json import json_normalize  \n"
   ]
  },
  {
   "cell_type": "code",
   "execution_count": 2,
   "metadata": {},
   "outputs": [],
   "source": [
    "Specimen_URL = r\"C:\\Users\\natasha\\Downloads\\specimen_summary_marine_only (2).csv\"\n",
    "petdb_url = 'https://ecapi.earthchem.org/specimen'\n",
    "example_sample = '26840'\n"
   ]
  },
  {
   "cell_type": "code",
   "execution_count": 3,
   "metadata": {},
   "outputs": [],
   "source": [
    "Specimen_id = pd.read_csv(Specimen_URL, low_memory=False)\n"
   ]
  },
  {
   "cell_type": "code",
   "execution_count": 4,
   "metadata": {},
   "outputs": [
    {
     "data": {
      "text/html": [
       "<div>\n",
       "<style scoped>\n",
       "    .dataframe tbody tr th:only-of-type {\n",
       "        vertical-align: middle;\n",
       "    }\n",
       "\n",
       "    .dataframe tbody tr th {\n",
       "        vertical-align: top;\n",
       "    }\n",
       "\n",
       "    .dataframe thead th {\n",
       "        text-align: right;\n",
       "    }\n",
       "</style>\n",
       "<table border=\"1\" class=\"dataframe\">\n",
       "  <thead>\n",
       "    <tr style=\"text-align: right;\">\n",
       "      <th></th>\n",
       "      <th>specimen_num</th>\n",
       "      <th>specimen_code</th>\n",
       "      <th>igsn</th>\n",
       "      <th>station_num</th>\n",
       "      <th>station_code</th>\n",
       "      <th>geometry_text</th>\n",
       "      <th>elevation_min</th>\n",
       "      <th>elevation_max</th>\n",
       "      <th>location_precisions</th>\n",
       "      <th>geographic_location</th>\n",
       "      <th>...</th>\n",
       "      <th>Unnamed: 388</th>\n",
       "      <th>Unnamed: 389</th>\n",
       "      <th>Unnamed: 390</th>\n",
       "      <th>Unnamed: 391</th>\n",
       "      <th>Unnamed: 392</th>\n",
       "      <th>Unnamed: 393</th>\n",
       "      <th>Unnamed: 394</th>\n",
       "      <th>Unnamed: 395</th>\n",
       "      <th>Unnamed: 396</th>\n",
       "      <th>Unnamed: 397</th>\n",
       "    </tr>\n",
       "  </thead>\n",
       "  <tbody>\n",
       "    <tr>\n",
       "      <th>0</th>\n",
       "      <td>26639.0</td>\n",
       "      <td>ABP0002-019-001</td>\n",
       "      <td>NaN</td>\n",
       "      <td>6585</td>\n",
       "      <td>ABP0002-019</td>\n",
       "      <td>POINT(-13.94 -14.17)</td>\n",
       "      <td>-2940</td>\n",
       "      <td>-3620</td>\n",
       "      <td>{0.01}</td>\n",
       "      <td>{SPREADING_CENTER|MID-ATLANTIC RIDGE,OCEAN|ATL...</td>\n",
       "      <td>...</td>\n",
       "      <td>NaN</td>\n",
       "      <td>NaN</td>\n",
       "      <td>NaN</td>\n",
       "      <td>NaN</td>\n",
       "      <td>NaN</td>\n",
       "      <td>NaN</td>\n",
       "      <td>NaN</td>\n",
       "      <td>NaN</td>\n",
       "      <td>NaN</td>\n",
       "      <td>NaN</td>\n",
       "    </tr>\n",
       "    <tr>\n",
       "      <th>1</th>\n",
       "      <td>26640.0</td>\n",
       "      <td>ABP0002-019-002</td>\n",
       "      <td>URI900886</td>\n",
       "      <td>6585</td>\n",
       "      <td>ABP0002-019</td>\n",
       "      <td>POINT(-13.94 -14.17)</td>\n",
       "      <td>-2940</td>\n",
       "      <td>-3620</td>\n",
       "      <td>{0.01}</td>\n",
       "      <td>{SPREADING_CENTER|MID-ATLANTIC RIDGE,OCEAN|ATL...</td>\n",
       "      <td>...</td>\n",
       "      <td>NaN</td>\n",
       "      <td>NaN</td>\n",
       "      <td>NaN</td>\n",
       "      <td>NaN</td>\n",
       "      <td>NaN</td>\n",
       "      <td>NaN</td>\n",
       "      <td>NaN</td>\n",
       "      <td>NaN</td>\n",
       "      <td>NaN</td>\n",
       "      <td>NaN</td>\n",
       "    </tr>\n",
       "    <tr>\n",
       "      <th>2</th>\n",
       "      <td>26641.0</td>\n",
       "      <td>ABP0002-021-001</td>\n",
       "      <td>NaN</td>\n",
       "      <td>6586</td>\n",
       "      <td>ABP0002-021</td>\n",
       "      <td>POINT(-23.26 -22.01)</td>\n",
       "      <td>-4770</td>\n",
       "      <td>-4900</td>\n",
       "      <td>{0.01}</td>\n",
       "      <td>{OCEAN|ATLANTIC,SPREADING_CENTER|MID-ATLANTIC ...</td>\n",
       "      <td>...</td>\n",
       "      <td>NaN</td>\n",
       "      <td>NaN</td>\n",
       "      <td>NaN</td>\n",
       "      <td>NaN</td>\n",
       "      <td>NaN</td>\n",
       "      <td>NaN</td>\n",
       "      <td>NaN</td>\n",
       "      <td>NaN</td>\n",
       "      <td>NaN</td>\n",
       "      <td>NaN</td>\n",
       "    </tr>\n",
       "    <tr>\n",
       "      <th>3</th>\n",
       "      <td>26642.0</td>\n",
       "      <td>ABP0002-021-010</td>\n",
       "      <td>NaN</td>\n",
       "      <td>6586</td>\n",
       "      <td>ABP0002-021</td>\n",
       "      <td>POINT(-23.26 -22.01)</td>\n",
       "      <td>-4770</td>\n",
       "      <td>-4900</td>\n",
       "      <td>{0.01}</td>\n",
       "      <td>{OCEAN|ATLANTIC,SPREADING_CENTER|MID-ATLANTIC ...</td>\n",
       "      <td>...</td>\n",
       "      <td>NaN</td>\n",
       "      <td>NaN</td>\n",
       "      <td>NaN</td>\n",
       "      <td>NaN</td>\n",
       "      <td>NaN</td>\n",
       "      <td>NaN</td>\n",
       "      <td>NaN</td>\n",
       "      <td>NaN</td>\n",
       "      <td>NaN</td>\n",
       "      <td>NaN</td>\n",
       "    </tr>\n",
       "    <tr>\n",
       "      <th>4</th>\n",
       "      <td>26643.0</td>\n",
       "      <td>ABP0002-021-012</td>\n",
       "      <td>NaN</td>\n",
       "      <td>6586</td>\n",
       "      <td>ABP0002-021</td>\n",
       "      <td>POINT(-23.26 -22.01)</td>\n",
       "      <td>-4770</td>\n",
       "      <td>-4900</td>\n",
       "      <td>{0.01}</td>\n",
       "      <td>{OCEAN|ATLANTIC,SPREADING_CENTER|MID-ATLANTIC ...</td>\n",
       "      <td>...</td>\n",
       "      <td>NaN</td>\n",
       "      <td>NaN</td>\n",
       "      <td>NaN</td>\n",
       "      <td>NaN</td>\n",
       "      <td>NaN</td>\n",
       "      <td>NaN</td>\n",
       "      <td>NaN</td>\n",
       "      <td>NaN</td>\n",
       "      <td>NaN</td>\n",
       "      <td>NaN</td>\n",
       "    </tr>\n",
       "  </tbody>\n",
       "</table>\n",
       "<p>5 rows × 398 columns</p>\n",
       "</div>"
      ],
      "text/plain": [
       "  specimen_num    specimen_code       igsn station_num station_code  \\\n",
       "0      26639.0  ABP0002-019-001        NaN        6585  ABP0002-019   \n",
       "1      26640.0  ABP0002-019-002  URI900886        6585  ABP0002-019   \n",
       "2      26641.0  ABP0002-021-001        NaN        6586  ABP0002-021   \n",
       "3      26642.0  ABP0002-021-010        NaN        6586  ABP0002-021   \n",
       "4      26643.0  ABP0002-021-012        NaN        6586  ABP0002-021   \n",
       "\n",
       "          geometry_text elevation_min elevation_max location_precisions  \\\n",
       "0  POINT(-13.94 -14.17)         -2940         -3620              {0.01}   \n",
       "1  POINT(-13.94 -14.17)         -2940         -3620              {0.01}   \n",
       "2  POINT(-23.26 -22.01)         -4770         -4900              {0.01}   \n",
       "3  POINT(-23.26 -22.01)         -4770         -4900              {0.01}   \n",
       "4  POINT(-23.26 -22.01)         -4770         -4900              {0.01}   \n",
       "\n",
       "                                 geographic_location  ... Unnamed: 388  \\\n",
       "0  {SPREADING_CENTER|MID-ATLANTIC RIDGE,OCEAN|ATL...  ...          NaN   \n",
       "1  {SPREADING_CENTER|MID-ATLANTIC RIDGE,OCEAN|ATL...  ...          NaN   \n",
       "2  {OCEAN|ATLANTIC,SPREADING_CENTER|MID-ATLANTIC ...  ...          NaN   \n",
       "3  {OCEAN|ATLANTIC,SPREADING_CENTER|MID-ATLANTIC ...  ...          NaN   \n",
       "4  {OCEAN|ATLANTIC,SPREADING_CENTER|MID-ATLANTIC ...  ...          NaN   \n",
       "\n",
       "  Unnamed: 389 Unnamed: 390 Unnamed: 391 Unnamed: 392 Unnamed: 393  \\\n",
       "0          NaN          NaN          NaN          NaN          NaN   \n",
       "1          NaN          NaN          NaN          NaN          NaN   \n",
       "2          NaN          NaN          NaN          NaN          NaN   \n",
       "3          NaN          NaN          NaN          NaN          NaN   \n",
       "4          NaN          NaN          NaN          NaN          NaN   \n",
       "\n",
       "  Unnamed: 394 Unnamed: 395 Unnamed: 396 Unnamed: 397  \n",
       "0          NaN          NaN          NaN          NaN  \n",
       "1          NaN          NaN          NaN          NaN  \n",
       "2          NaN          NaN          NaN          NaN  \n",
       "3          NaN          NaN          NaN          NaN  \n",
       "4          NaN          NaN          NaN          NaN  \n",
       "\n",
       "[5 rows x 398 columns]"
      ]
     },
     "execution_count": 4,
     "metadata": {},
     "output_type": "execute_result"
    }
   ],
   "source": [
    "Specimen_id['specimen_num'] = Specimen_id['specimen_num'].astype(str)\n",
    "Specimen_id.head()"
   ]
  },
  {
   "cell_type": "code",
   "execution_count": 5,
   "metadata": {},
   "outputs": [
    {
     "name": "stderr",
     "output_type": "stream",
     "text": [
      "C:\\Users\\natasha\\anaconda3\\lib\\site-packages\\urllib3\\connectionpool.py:1004: InsecureRequestWarning: Unverified HTTPS request is being made to host 'ecapi.earthchem.org'. Adding certificate verification is strongly advised. See: https://urllib3.readthedocs.io/en/latest/advanced-usage.html#ssl-warnings\n",
      "  InsecureRequestWarning,\n"
     ]
    }
   ],
   "source": [
    "rq = reqs.get(petdb_url+'/'+example_sample,verify=False)"
   ]
  },
  {
   "cell_type": "code",
   "execution_count": 6,
   "metadata": {
    "scrolled": true
   },
   "outputs": [
    {
     "name": "stdout",
     "output_type": "stream",
     "text": [
      "{'count': 1, 'data': {'specimen_num': 26840, 'specimen_code': 'ABP0016-028-052', 'igsn': 'N/A', 'archive_institution': None, 'specimen_material': 'ROCK', 'taxon': [{'rock_type': 'igneous:volcanic:mafic', 'rock_class': 'BASALT', 'source': [{'citation_num': '1086', 'citation_code': 'MELSON,2003'}, {'citation_num': '1076', 'citation_code': 'SMITH,1998'}]}], 'rock_class_details': [], 'specimen_names': [{'specimen_name': '28-52', 'source': [{'citation_num': '1076', 'citation_code': 'SMITH, 1998'}]}, {'specimen_name': 'VG10189', 'source': [{'citation_num': '1086', 'citation_code': 'MELSON, 2003'}]}], 'specimen_comments': [], 'alterations': [], 'rock_textures': [{'rock_texture': 'INTERSERTAL', 'source': [{'citation_num': '1076', 'citation_code': 'SMITH, 1998'}]}], 'geological_ages': [{'prefix': '', 'age': '', 'age_min': '', 'age_max': '1', 'source': [{'citation_num': '1086', 'citation_code': 'MELSON, 2003'}]}], 'station_num': 6339, 'station_code': 'ABP0016-028', 'lat_label': '33.8°N(start) | 33.82°N(end)', 'long_label': '37.76°W(start) | 37.69°W(end)', 'points': [{'latitude': 33.8, 'longitude': -37.76, 'text': '33.8°N/37.76°W'}, {'latitude': 33.82, 'longitude': -37.69, 'text': '33.82°N/37.69°W'}], 'centerLat': 33.8, 'centerLong': -37.76, 'elevation_min': -2844, 'elevation_max': -3414, 'location_precisions': ['0.01'], 'geographic_location': ['SPREADING_CENTER|MID-ATLANTIC RIDGE', 'OCEAN|ATLANTIC'], 'tectonic_settings': ['SPREADING_CENTER'], 'expedition_num': 2, 'expedition_code': 'ABP0016', 'sampling_technique_code': None, 'sampling_technique_name': None, 'analyzed_samples': ['ABP0016-028-052-112247', 'ABP0016-028-052-112340', 'ABP0016-028-052-112341', 'ABP0016-028-052-112423', 'ABP0016-028-052-118041']}}\n"
     ]
    }
   ],
   "source": [
    "response_data = rq.json()\n",
    "print(response_data)"
   ]
  },
  {
   "cell_type": "code",
   "execution_count": 7,
   "metadata": {},
   "outputs": [
    {
     "data": {
      "text/plain": [
       "dict_keys(['count', 'data'])"
      ]
     },
     "execution_count": 7,
     "metadata": {},
     "output_type": "execute_result"
    }
   ],
   "source": [
    "response_data.keys()"
   ]
  },
  {
   "cell_type": "code",
   "execution_count": 8,
   "metadata": {},
   "outputs": [
    {
     "data": {
      "text/plain": [
       "1"
      ]
     },
     "execution_count": 8,
     "metadata": {},
     "output_type": "execute_result"
    }
   ],
   "source": [
    "response_data['count']"
   ]
  },
  {
   "cell_type": "code",
   "execution_count": 9,
   "metadata": {},
   "outputs": [
    {
     "data": {
      "text/plain": [
       "dict_keys(['specimen_num', 'specimen_code', 'igsn', 'archive_institution', 'specimen_material', 'taxon', 'rock_class_details', 'specimen_names', 'specimen_comments', 'alterations', 'rock_textures', 'geological_ages', 'station_num', 'station_code', 'lat_label', 'long_label', 'points', 'centerLat', 'centerLong', 'elevation_min', 'elevation_max', 'location_precisions', 'geographic_location', 'tectonic_settings', 'expedition_num', 'expedition_code', 'sampling_technique_code', 'sampling_technique_name', 'analyzed_samples'])"
      ]
     },
     "execution_count": 9,
     "metadata": {},
     "output_type": "execute_result"
    }
   ],
   "source": [
    "response_data['data'].keys()"
   ]
  },
  {
   "cell_type": "code",
   "execution_count": 10,
   "metadata": {},
   "outputs": [
    {
     "name": "stdout",
     "output_type": "stream",
     "text": [
      "specimen_num 26840\n",
      "specimen_code ABP0016-028-052\n",
      "igsn N/A\n",
      "archive_institution None\n",
      "specimen_material ROCK\n",
      "taxon [{'rock_type': 'igneous:volcanic:mafic', 'rock_class': 'BASALT', 'source': [{'citation_num': '1086', 'citation_code': 'MELSON,2003'}, {'citation_num': '1076', 'citation_code': 'SMITH,1998'}]}]\n",
      "rock_class_details []\n",
      "specimen_names [{'specimen_name': '28-52', 'source': [{'citation_num': '1076', 'citation_code': 'SMITH, 1998'}]}, {'specimen_name': 'VG10189', 'source': [{'citation_num': '1086', 'citation_code': 'MELSON, 2003'}]}]\n",
      "specimen_comments []\n",
      "alterations []\n",
      "rock_textures [{'rock_texture': 'INTERSERTAL', 'source': [{'citation_num': '1076', 'citation_code': 'SMITH, 1998'}]}]\n",
      "geological_ages [{'prefix': '', 'age': '', 'age_min': '', 'age_max': '1', 'source': [{'citation_num': '1086', 'citation_code': 'MELSON, 2003'}]}]\n",
      "station_num 6339\n",
      "station_code ABP0016-028\n",
      "lat_label 33.8°N(start) | 33.82°N(end)\n",
      "long_label 37.76°W(start) | 37.69°W(end)\n",
      "points [{'latitude': 33.8, 'longitude': -37.76, 'text': '33.8°N/37.76°W'}, {'latitude': 33.82, 'longitude': -37.69, 'text': '33.82°N/37.69°W'}]\n",
      "centerLat 33.8\n",
      "centerLong -37.76\n",
      "elevation_min -2844\n",
      "elevation_max -3414\n",
      "location_precisions ['0.01']\n",
      "geographic_location ['SPREADING_CENTER|MID-ATLANTIC RIDGE', 'OCEAN|ATLANTIC']\n",
      "tectonic_settings ['SPREADING_CENTER']\n",
      "expedition_num 2\n",
      "expedition_code ABP0016\n",
      "sampling_technique_code None\n",
      "sampling_technique_name None\n",
      "analyzed_samples ['ABP0016-028-052-112247', 'ABP0016-028-052-112340', 'ABP0016-028-052-112341', 'ABP0016-028-052-112423', 'ABP0016-028-052-118041']\n"
     ]
    }
   ],
   "source": [
    "for key, value in response_data['data'].items():\n",
    "    print(key, value)"
   ]
  },
  {
   "cell_type": "code",
   "execution_count": 11,
   "metadata": {},
   "outputs": [
    {
     "name": "stdout",
     "output_type": "stream",
     "text": [
      "26840\n"
     ]
    }
   ],
   "source": [
    "response_data['specimen_numbers'] = []\n",
    "print(response_data['data']['specimen_num'])\n",
    "\n"
   ]
  },
  {
   "cell_type": "code",
   "execution_count": 12,
   "metadata": {},
   "outputs": [
    {
     "name": "stdout",
     "output_type": "stream",
     "text": [
      "ABP0016-028-052\n"
     ]
    }
   ],
   "source": [
    "specimen_codes = []\n",
    "print(response_data['data']['specimen_code'])\n",
    "\n"
   ]
  },
  {
   "cell_type": "code",
   "execution_count": 13,
   "metadata": {},
   "outputs": [
    {
     "name": "stdout",
     "output_type": "stream",
     "text": [
      "N/A\n"
     ]
    }
   ],
   "source": [
    "igsn = []\n",
    "print(response_data['data']['igsn'])\n"
   ]
  },
  {
   "cell_type": "code",
   "execution_count": 14,
   "metadata": {},
   "outputs": [
    {
     "name": "stdout",
     "output_type": "stream",
     "text": [
      "None\n"
     ]
    }
   ],
   "source": [
    "archive_institution = []\n",
    "print(response_data['data']['archive_institution'])"
   ]
  },
  {
   "cell_type": "code",
   "execution_count": 15,
   "metadata": {},
   "outputs": [
    {
     "name": "stdout",
     "output_type": "stream",
     "text": [
      "ROCK\n"
     ]
    }
   ],
   "source": [
    "specimen_material = []\n",
    "print(response_data['data']['specimen_material'])"
   ]
  },
  {
   "cell_type": "code",
   "execution_count": 16,
   "metadata": {},
   "outputs": [
    {
     "name": "stdout",
     "output_type": "stream",
     "text": [
      "{'citation_num': '1086', 'citation_code': 'MELSON,2003'}\n",
      "{'citation_num': '1076', 'citation_code': 'SMITH,1998'}\n"
     ]
    }
   ],
   "source": [
    "for entry in response_data['data']['taxon']:\n",
    "    for item in entry['source']:\n",
    "        \n",
    "        print(item)\n"
   ]
  },
  {
   "cell_type": "code",
   "execution_count": null,
   "metadata": {},
   "outputs": [],
   "source": []
  },
  {
   "cell_type": "code",
   "execution_count": 17,
   "metadata": {},
   "outputs": [
    {
     "name": "stdout",
     "output_type": "stream",
     "text": [
      "[]\n"
     ]
    }
   ],
   "source": [
    "rock_class_details = []\n",
    "print(response_data['data']['rock_class_details'])"
   ]
  },
  {
   "cell_type": "code",
   "execution_count": 18,
   "metadata": {},
   "outputs": [
    {
     "name": "stdout",
     "output_type": "stream",
     "text": [
      "['1086', '1076']\n"
     ]
    }
   ],
   "source": [
    "taxon_citation_numbers = []\n",
    "for entry in response_data['data']['taxon']: \n",
    "    for item in entry['source']:\n",
    "        taxon_citation_numbers.append(item['citation_num'])\n",
    "taxon_citation_numbers = list(set(taxon_citation_numbers))\n",
    "print(taxon_citation_numbers)"
   ]
  },
  {
   "cell_type": "code",
   "execution_count": 19,
   "metadata": {},
   "outputs": [
    {
     "name": "stdout",
     "output_type": "stream",
     "text": [
      "['MELSON,2003', 'SMITH,1998']\n"
     ]
    }
   ],
   "source": [
    "taxon_citation_codes = []\n",
    "for entry in response_data['data']['taxon']: \n",
    "    for item in entry['source']:\n",
    "        taxon_citation_codes.append(item['citation_code'])\n",
    "taxon_citation_codes = list(set(taxon_citation_codes))\n",
    "print(taxon_citation_codes)"
   ]
  },
  {
   "cell_type": "code",
   "execution_count": 20,
   "metadata": {},
   "outputs": [
    {
     "name": "stdout",
     "output_type": "stream",
     "text": [
      "igneous:volcanic:mafic\n"
     ]
    }
   ],
   "source": [
    "taxon_rock_types =[]\n",
    "for entry in response_data['data']['taxon']:\n",
    "        print(entry['rock_type'])\n"
   ]
  },
  {
   "cell_type": "code",
   "execution_count": 21,
   "metadata": {},
   "outputs": [
    {
     "name": "stdout",
     "output_type": "stream",
     "text": [
      "BASALT\n"
     ]
    }
   ],
   "source": [
    "taxon_rock_class =[]\n",
    "for entry in response_data['data']['taxon']:\n",
    "        print(entry['rock_class'])"
   ]
  },
  {
   "cell_type": "code",
   "execution_count": 22,
   "metadata": {},
   "outputs": [
    {
     "name": "stdout",
     "output_type": "stream",
     "text": [
      "['VG10189', '28-52']\n"
     ]
    }
   ],
   "source": [
    "specimen_names = []\n",
    "for entry in response_data['data']['specimen_names']:\n",
    "    specimen_names.append(entry['specimen_name'])\n",
    "specimen_names = list(set(specimen_names))\n",
    "print(specimen_names)"
   ]
  },
  {
   "cell_type": "code",
   "execution_count": 23,
   "metadata": {},
   "outputs": [
    {
     "name": "stdout",
     "output_type": "stream",
     "text": [
      "[]\n"
     ]
    }
   ],
   "source": [
    "specimen_comments =  []\n",
    "print(response_data['data']['specimen_comments'])\n",
    "    "
   ]
  },
  {
   "cell_type": "code",
   "execution_count": 24,
   "metadata": {},
   "outputs": [
    {
     "name": "stdout",
     "output_type": "stream",
     "text": [
      "[]\n"
     ]
    }
   ],
   "source": [
    "alterations = []\n",
    "print(response_data['data']['alterations'])"
   ]
  },
  {
   "cell_type": "code",
   "execution_count": 25,
   "metadata": {},
   "outputs": [
    {
     "name": "stdout",
     "output_type": "stream",
     "text": [
      "[{'rock_texture': 'INTERSERTAL', 'source': [{'citation_num': '1076', 'citation_code': 'SMITH, 1998'}]}]\n"
     ]
    }
   ],
   "source": [
    "rock_textures = []\n",
    "print(response_data['data']['rock_textures'])"
   ]
  },
  {
   "cell_type": "code",
   "execution_count": 26,
   "metadata": {},
   "outputs": [
    {
     "name": "stdout",
     "output_type": "stream",
     "text": [
      "[{'prefix': '', 'age': '', 'age_min': '', 'age_max': '1', 'source': [{'citation_num': '1086', 'citation_code': 'MELSON, 2003'}]}]\n"
     ]
    }
   ],
   "source": [
    "geological_ages = []\n",
    "print(response_data['data']['geological_ages'])\n"
   ]
  },
  {
   "cell_type": "code",
   "execution_count": 27,
   "metadata": {},
   "outputs": [
    {
     "name": "stdout",
     "output_type": "stream",
     "text": [
      "6339\n"
     ]
    }
   ],
   "source": [
    "station_number = []\n",
    "print(response_data['data']['station_num'])\n"
   ]
  },
  {
   "cell_type": "code",
   "execution_count": 28,
   "metadata": {},
   "outputs": [
    {
     "name": "stdout",
     "output_type": "stream",
     "text": [
      "ABP0016-028\n"
     ]
    }
   ],
   "source": [
    "station_code = []\n",
    "print(response_data['data']['station_code'])\n"
   ]
  },
  {
   "cell_type": "code",
   "execution_count": 29,
   "metadata": {},
   "outputs": [
    {
     "name": "stdout",
     "output_type": "stream",
     "text": [
      "33.8°N(start) | 33.82°N(end)\n"
     ]
    }
   ],
   "source": [
    "lat_label = []\n",
    "print(response_data['data']['lat_label'])\n"
   ]
  },
  {
   "cell_type": "code",
   "execution_count": 30,
   "metadata": {},
   "outputs": [
    {
     "name": "stdout",
     "output_type": "stream",
     "text": [
      "37.76°W(start) | 37.69°W(end)\n"
     ]
    }
   ],
   "source": [
    "long_label = []\n",
    "print(response_data['data']['long_label'])\n"
   ]
  },
  {
   "cell_type": "code",
   "execution_count": 31,
   "metadata": {},
   "outputs": [
    {
     "name": "stdout",
     "output_type": "stream",
     "text": [
      "[{'latitude': 33.8, 'longitude': -37.76, 'text': '33.8°N/37.76°W'}, {'latitude': 33.82, 'longitude': -37.69, 'text': '33.82°N/37.69°W'}]\n"
     ]
    }
   ],
   "source": [
    "points = []\n",
    "print(response_data['data']['points'])\n"
   ]
  },
  {
   "cell_type": "code",
   "execution_count": 32,
   "metadata": {},
   "outputs": [
    {
     "name": "stdout",
     "output_type": "stream",
     "text": [
      "-2844\n"
     ]
    }
   ],
   "source": [
    "elevation_min = []\n",
    "print(response_data['data']['elevation_min'])\n"
   ]
  },
  {
   "cell_type": "code",
   "execution_count": 33,
   "metadata": {},
   "outputs": [
    {
     "name": "stdout",
     "output_type": "stream",
     "text": [
      "-3414\n"
     ]
    }
   ],
   "source": [
    "elevation_max = []\n",
    "print(response_data['data']['elevation_max'])\n"
   ]
  },
  {
   "cell_type": "code",
   "execution_count": 34,
   "metadata": {},
   "outputs": [
    {
     "name": "stdout",
     "output_type": "stream",
     "text": [
      "['0.01']\n"
     ]
    }
   ],
   "source": [
    "location_precisions = []\n",
    "print(response_data['data']['location_precisions'])\n"
   ]
  },
  {
   "cell_type": "code",
   "execution_count": 35,
   "metadata": {},
   "outputs": [
    {
     "name": "stdout",
     "output_type": "stream",
     "text": [
      "['SPREADING_CENTER|MID-ATLANTIC RIDGE', 'OCEAN|ATLANTIC']\n"
     ]
    }
   ],
   "source": [
    "geographic_location = []\n",
    "print(response_data['data']['geographic_location'])\n"
   ]
  },
  {
   "cell_type": "code",
   "execution_count": 36,
   "metadata": {},
   "outputs": [
    {
     "name": "stdout",
     "output_type": "stream",
     "text": [
      "['SPREADING_CENTER']\n"
     ]
    }
   ],
   "source": [
    "tectonic_settings = []\n",
    "print(response_data['data']['tectonic_settings'])\n"
   ]
  },
  {
   "cell_type": "code",
   "execution_count": 37,
   "metadata": {},
   "outputs": [
    {
     "name": "stdout",
     "output_type": "stream",
     "text": [
      "2\n"
     ]
    }
   ],
   "source": [
    "expedition_number = []\n",
    "print(response_data['data']['expedition_num'])\n"
   ]
  },
  {
   "cell_type": "code",
   "execution_count": 38,
   "metadata": {},
   "outputs": [
    {
     "name": "stdout",
     "output_type": "stream",
     "text": [
      "ABP0016\n"
     ]
    }
   ],
   "source": [
    "expedition_code = []\n",
    "print(response_data['data']['expedition_code'])\n"
   ]
  },
  {
   "cell_type": "code",
   "execution_count": 39,
   "metadata": {},
   "outputs": [
    {
     "name": "stdout",
     "output_type": "stream",
     "text": [
      "None\n"
     ]
    }
   ],
   "source": [
    "sampling_technique_code = []\n",
    "print(response_data['data']['sampling_technique_code'])\n"
   ]
  },
  {
   "cell_type": "code",
   "execution_count": 40,
   "metadata": {},
   "outputs": [
    {
     "name": "stdout",
     "output_type": "stream",
     "text": [
      "None\n"
     ]
    }
   ],
   "source": [
    "sampling_technique_name = []\n",
    "print(response_data['data']['sampling_technique_name'])\n"
   ]
  },
  {
   "cell_type": "code",
   "execution_count": 41,
   "metadata": {},
   "outputs": [
    {
     "name": "stdout",
     "output_type": "stream",
     "text": [
      "['ABP0016-028-052-112247', 'ABP0016-028-052-112340', 'ABP0016-028-052-112341', 'ABP0016-028-052-112423', 'ABP0016-028-052-118041']\n"
     ]
    }
   ],
   "source": [
    "analyzed_samples = []\n",
    "print(response_data['data']['analyzed_samples'])"
   ]
  }
 ],
 "metadata": {
  "kernelspec": {
   "display_name": "Python 3",
   "language": "python",
   "name": "python3"
  },
  "language_info": {
   "codemirror_mode": {
    "name": "ipython",
    "version": 3
   },
   "file_extension": ".py",
   "mimetype": "text/x-python",
   "name": "python",
   "nbconvert_exporter": "python",
   "pygments_lexer": "ipython3",
   "version": "3.7.6"
  }
 },
 "nbformat": 4,
 "nbformat_minor": 4
}
